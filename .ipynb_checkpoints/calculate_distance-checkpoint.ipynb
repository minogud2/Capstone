{
 "cells": [
  {
   "cell_type": "code",
   "execution_count": 26,
   "metadata": {},
   "outputs": [],
   "source": [
    "import pandas as pd\n",
    "import numpy as np\n",
    "from haversine import haversine, haversine_vector, Unit"
   ]
  },
  {
   "cell_type": "code",
   "execution_count": 45,
   "metadata": {},
   "outputs": [],
   "source": [
    "df = pd.read_csv('data/gis_correct_admin.csv')\n",
    "# df1 = pd.read_csv('merged_dataset.csv')"
   ]
  },
  {
   "cell_type": "raw",
   "metadata": {},
   "source": [
    "df.head()"
   ]
  },
  {
   "cell_type": "code",
   "execution_count": 46,
   "metadata": {},
   "outputs": [
    {
     "data": {
      "text/plain": [
       "(26227, 33)"
      ]
     },
     "execution_count": 46,
     "metadata": {},
     "output_type": "execute_result"
    }
   ],
   "source": [
    "df.shape"
   ]
  },
  {
   "cell_type": "code",
   "execution_count": 47,
   "metadata": {},
   "outputs": [],
   "source": [
    "# produces a tuple of coordinates for use in haversine function.\n",
    "df['point'] = [(i,j) for i,j in zip(df.lat,df.lon)]"
   ]
  },
  {
   "cell_type": "code",
   "execution_count": 48,
   "metadata": {},
   "outputs": [
    {
     "data": {
      "text/plain": [
       "(11.05947, 37.69205)"
      ]
     },
     "execution_count": 48,
     "metadata": {},
     "output_type": "execute_result"
    }
   ],
   "source": [
    "df['point'][1]"
   ]
  },
  {
   "cell_type": "code",
   "execution_count": 49,
   "metadata": {},
   "outputs": [],
   "source": [
    "# Reduce complexity of calculations by reducing size of dataset\n",
    "dfx = df[['school_code', 'point', 'gr_offer']]\n",
    "dfx = dfx.assign(nearest_dist='',nearest_school = '')\n",
    "dfx = dfx.sort_values(['point'])"
   ]
  },
  {
   "cell_type": "code",
   "execution_count": 50,
   "metadata": {},
   "outputs": [],
   "source": [
    "# split into levels and vectorise\n",
    "df_lwr_prim = dfx.loc[dfx[\"gr_offer\"].isin(['G.1-4'])].to_numpy() # lower primary only\n",
    "df_up_prim = dfx.loc[dfx[\"gr_offer\"].isin(['G.1-8','G.5-8'])].to_numpy() # primary and upper primary only\n",
    "df_lwr_sec = dfx.loc[dfx[\"gr_offer\"].isin(['G. 9-10', 'G. 9-12'])].to_numpy() # lower secondary only and secondary\n",
    "df_up_sec = dfx.loc[dfx[\"gr_offer\"].isin(['G. 11-12', 'G. 9-12'])].to_numpy() # upper secondary only and secondary"
   ]
  },
  {
   "cell_type": "code",
   "execution_count": 51,
   "metadata": {},
   "outputs": [
    {
     "data": {
      "text/plain": [
       "array([['S0404110412', (3.5453330000000003, 39.048621999999995), 'G.1-4',\n",
       "        '', ''],\n",
       "       ['S0404110152', (3.5511968, 39.04677), 'G.1-4', '', ''],\n",
       "       ['S0404110292', (3.5563872, 39.045596999999994), 'G.1-4', '', ''],\n",
       "       ...,\n",
       "       ['S0104020402', (14.594949, 39.533885999999995), 'G.1-4', '', ''],\n",
       "       ['S0104020552', (14.644032500000002, 39.516804), 'G.1-4', '', ''],\n",
       "       ['S0103040532', (14.6949, 37.831542999999996), 'G.1-4', '', '']],\n",
       "      dtype=object)"
      ]
     },
     "execution_count": 51,
     "metadata": {},
     "output_type": "execute_result"
    }
   ],
   "source": [
    "df_lwr_prim"
   ]
  },
  {
   "cell_type": "code",
   "execution_count": 52,
   "metadata": {},
   "outputs": [
    {
     "data": {
      "text/plain": [
       "array(['S0404110152', (3.5511968, 39.04677), 'G.1-4', '', ''],\n",
       "      dtype=object)"
      ]
     },
     "execution_count": 52,
     "metadata": {},
     "output_type": "execute_result"
    }
   ],
   "source": [
    "df_lwr_prim[1]"
   ]
  },
  {
   "cell_type": "code",
   "execution_count": 53,
   "metadata": {},
   "outputs": [],
   "source": [
    "# two variables for iteration. \n",
    "\n",
    "import time\n",
    "\n",
    "def calculate_distance(df1,df2):\n",
    "\n",
    "    startTime = time.time()\n",
    "    \n",
    "    for i in df1:\n",
    "        distance = []\n",
    "        for j in range(len(df2)):\n",
    "            distance.append(haversine(i[1], df2[:,1][j], Unit.KILOMETERS))\n",
    "        min_distance = np.min(distance)\n",
    "        min_school_code = df2[np.argmin(distance)][0]\n",
    "        i[-2] = min_distance\n",
    "        i[-1] = min_school_code\n",
    "        distance = []\n",
    "        \n",
    "    executionTime = (time.time() - startTime)\n",
    "    print('Execution time in seconds: ' + str(executionTime))\n",
    "    \n",
    "    return df1"
   ]
  },
  {
   "cell_type": "code",
   "execution_count": 54,
   "metadata": {},
   "outputs": [
    {
     "name": "stdout",
     "output_type": "stream",
     "text": [
      "Execution time in seconds: 252.65227842330933\n"
     ]
    }
   ],
   "source": [
    "df_lwr_prim2 = calculate_distance(df_lwr_prim, df_up_prim)"
   ]
  },
  {
   "cell_type": "code",
   "execution_count": 55,
   "metadata": {},
   "outputs": [
    {
     "name": "stdout",
     "output_type": "stream",
     "text": [
      "Execution time in seconds: 72.24513626098633\n"
     ]
    }
   ],
   "source": [
    "df_up_prim2 = calculate_distance(df_up_prim, df_lwr_sec)"
   ]
  },
  {
   "cell_type": "code",
   "execution_count": 56,
   "metadata": {},
   "outputs": [
    {
     "name": "stdout",
     "output_type": "stream",
     "text": [
      "Execution time in seconds: 2.6494922637939453\n"
     ]
    }
   ],
   "source": [
    "df_lwr_sec2 = calculate_distance(df_lwr_sec, df_up_sec)"
   ]
  },
  {
   "cell_type": "code",
   "execution_count": 57,
   "metadata": {},
   "outputs": [],
   "source": [
    "df_lwr_prim = pd.DataFrame(df_lwr_prim2, columns = ['school_code', 'point', 'gr_offer',\\\n",
    "                                                   'nearest_up_prim', 'nearest_sch_code'])\n",
    "df_up_prim = pd.DataFrame(df_up_prim2, columns = ['school_code', 'point', 'gr_offer',\\\n",
    "                                                   'nearest_lwr_sec', 'nearest_sch_code'])\n",
    "df_lwr_sec = pd.DataFrame(df_lwr_sec2, columns = ['school_code', 'point', 'gr_offer',\\\n",
    "                                                   'nearest_up_sec', 'nearest_sch_code'])"
   ]
  },
  {
   "cell_type": "code",
   "execution_count": 59,
   "metadata": {},
   "outputs": [],
   "source": [
    "x = df_lwr_prim.merge(df_up_prim, how='outer')\n",
    "x = x.merge(df_lwr_sec, how='outer')"
   ]
  },
  {
   "cell_type": "code",
   "execution_count": 60,
   "metadata": {},
   "outputs": [],
   "source": [
    "df = df.merge(x, how='outer')"
   ]
  },
  {
   "cell_type": "code",
   "execution_count": 79,
   "metadata": {},
   "outputs": [],
   "source": [
    "df['point'] = [list(i) for i in df.point]"
   ]
  },
  {
   "cell_type": "code",
   "execution_count": 82,
   "metadata": {},
   "outputs": [],
   "source": [
    "df.to_csv('data/clean_dataset.csv', index=False, encoding = 'utf-8')"
   ]
  },
  {
   "cell_type": "code",
   "execution_count": null,
   "metadata": {},
   "outputs": [],
   "source": []
  }
 ],
 "metadata": {
  "kernelspec": {
   "display_name": "Python 3",
   "language": "python",
   "name": "python3"
  },
  "language_info": {
   "codemirror_mode": {
    "name": "ipython",
    "version": 3
   },
   "file_extension": ".py",
   "mimetype": "text/x-python",
   "name": "python",
   "nbconvert_exporter": "python",
   "pygments_lexer": "ipython3",
   "version": "3.8.5"
  }
 },
 "nbformat": 4,
 "nbformat_minor": 4
}
