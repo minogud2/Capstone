{
 "cells": [
  {
   "cell_type": "code",
   "execution_count": 1,
   "metadata": {},
   "outputs": [],
   "source": [
    "import pandas as pd\n",
    "import numpy as np\n",
    "from haversine import haversine, haversine_vector, Unit\n",
    "import geopandas as gpd\n",
    "import matplotlib.pyplot as plt\n",
    "import cma\n",
    "import time\n"
   ]
  },
  {
   "cell_type": "code",
   "execution_count": 2,
   "metadata": {},
   "outputs": [],
   "source": [
    "# To supress the scientific notation for easier reading.\n",
    "np.set_printoptions(suppress=True)"
   ]
  },
  {
   "cell_type": "markdown",
   "metadata": {},
   "source": [
    "# Test Development\n",
    "\n",
    "In developing the code, three main tests have been completed within one region: Amhara. The first at a very micro level with a custom dummy dataset with only two primary schools and 2 proposed secondary schools. The second is for one woreda/district with 21 primary schools and two secondary schools, whereby 5 secondary schools are proposed. The final test was a region wide test with 1765 primary schools and 1658 secondary schools, with 5 new secondary schools proposed."
   ]
  },
  {
   "cell_type": "code",
   "execution_count": 3,
   "metadata": {},
   "outputs": [],
   "source": [
    "# Specify which test to perform\n",
    "declare_test =2 # micro test"
   ]
  },
  {
   "cell_type": "code",
   "execution_count": 4,
   "metadata": {},
   "outputs": [],
   "source": [
    "# Declare key variables according to the test being performed.\n",
    "region = 'Amhara' # Test Amhara region\n",
    "woreda = 'ET030908'\n",
    "\n",
    "if declare_test == 1: # for micro test\n",
    "    # read in the prepared dataset. Evaluate point data to make it readible by geopandas\n",
    "    df = pd.read_csv('data/test_dataset2.csv', converters={'point': pd.eval})\n",
    "    proposed_schools= 2\n",
    "    gdf_woreda = gpd.read_file('eth_shape_files/json/eth_admin3v2.json')\n",
    "    gdf_woreda_shp = gdf_woreda.loc[gdf_woreda['ADM3_PCODE']==woreda]['geometry'].reset_index(drop=True)\n",
    "    df = df.loc[df['ADM3_PCODE'] == woreda]\n",
    "    bounds = gdf_woreda_shp.bounds\n",
    "elif declare_test == 2:\n",
    "    df = pd.read_csv('data/test_dataset.csv', converters={'point': pd.eval})\n",
    "    proposed_schools= 5\n",
    "    gdf_woreda = gpd.read_file('eth_shape_files/json/eth_admin3v2.json')\n",
    "    gdf_woreda_shp = gdf_woreda.loc[gdf_woreda['ADM3_PCODE']==woreda]['geometry'].reset_index(drop=True)\n",
    "    df = df.loc[df['ADM3_PCODE'] == woreda]\n",
    "    bounds = gdf_woreda_shp.bounds\n",
    "else:\n",
    "    proposed_schools= 5\n",
    "    df = pd.read_csv('data/clean_dataset.csv', converters={'point': pd.eval})\n",
    "    # limit geojson to only selected region\n",
    "    # limit clean dataset to only selected region\n",
    "    gdf_region = gpd.read_file('eth_shape_files/json//eth_admin1v2.json') # read in geojson\n",
    "    gdf_region_shp = gdf_region.loc[gdf_region['ADM1_EN']==region]['geometry'].reset_index(drop=True)\n",
    "    df = df.loc[df['region'] == region]\n",
    "    bounds = gdf_region_shp.bounds "
   ]
  },
  {
   "cell_type": "markdown",
   "metadata": {},
   "source": [
    "## Data Preparation"
   ]
  },
  {
   "cell_type": "code",
   "execution_count": 5,
   "metadata": {},
   "outputs": [
    {
     "data": {
      "text/plain": [
       "[array([10.71371939, 36.68932805, 10.71371939, 36.68932805, 10.71371939,\n",
       "        36.68932805, 10.71371939, 36.68932805, 10.71371939, 36.68932805]),\n",
       " array([10.96477258, 36.96973029, 10.96477258, 36.96973029, 10.96477258,\n",
       "        36.96973029, 10.96477258, 36.96973029, 10.96477258, 36.96973029])]"
      ]
     },
     "execution_count": 5,
     "metadata": {},
     "output_type": "execute_result"
    }
   ],
   "source": [
    "# Establish boundaries based on the bounds of region or woreda.\n",
    "# Latitude is the Y axis, longitude is the X axis.\n",
    "\n",
    "lat_bounds = bounds[['miny','maxy']].to_numpy(dtype=float)[0]\n",
    "lon_bounds = bounds[['minx','maxx']].to_numpy(dtype=float)[0]\n",
    "bounds = np.array([[lat_bounds[0], lon_bounds[0]], [lat_bounds[1], lon_bounds[1]]])\n",
    "# array - [[lower lat bounds, lower lon bounds],[upper lat bounds, upper lon bounds]]\n",
    "# CMA expects a list of size 2 for bounds\n",
    "x1y1 = np.repeat([bounds[0,:]],proposed_schools, axis=0).flatten()\n",
    "x2y2 = np.repeat([bounds[1,:]],proposed_schools, axis=0).flatten()\n",
    "boundsxy = [x1y1,x2y2]\n",
    "boundsxy"
   ]
  },
  {
   "cell_type": "code",
   "execution_count": 6,
   "metadata": {},
   "outputs": [],
   "source": [
    "# Create subset arrays required as input for enrollment function.\n",
    "# 1. Primary school enrollment data\n",
    "# 2. Primary school location data: lat lon point data. \n",
    "# 3. Secondary schoool location data: lat lon point data. \n",
    "# 4. Secondary school enrollment data. Potentially required for calibration function.\n",
    "\n",
    "df_prim = df.loc[ (df['gr_offer'] == 'G.1-8') | (df['gr_offer'] == 'G.5-8')]\n",
    "df_prim_enroll = df_prim['grade5_8'].reset_index(drop=True).to_numpy(dtype=float)\n",
    "df_prim_loc = df_prim['point'].reset_index(drop=True).to_numpy()\n",
    "df_prim_loc = np.array([np.array(i) for i in df_prim_loc], dtype=float)\n",
    "\n",
    "df_sec = df.loc[ (df['gr_offer'] == 'G. 9-10') | (df['gr_offer'] == 'G. 9-12')]\n",
    "df_sec_loc = df_sec['point'].reset_index(drop=True).to_numpy()\n",
    "df_sec_enroll = df_sec['grade9_10'].reset_index(drop=True).to_numpy(dtype=float)\n",
    "df_sec_loc = np.array([np.array(i) for i in df_sec_loc], dtype=float)"
   ]
  },
  {
   "cell_type": "code",
   "execution_count": 7,
   "metadata": {},
   "outputs": [
    {
     "data": {
      "text/plain": [
       "7"
      ]
     },
     "execution_count": 7,
     "metadata": {},
     "output_type": "execute_result"
    }
   ],
   "source": [
    "total_sec = len(df_sec_enroll)+ proposed_schools\n",
    "total_sec"
   ]
  },
  {
   "cell_type": "markdown",
   "metadata": {},
   "source": [
    "## Key functions"
   ]
  },
  {
   "cell_type": "code",
   "execution_count": 8,
   "metadata": {},
   "outputs": [],
   "source": [
    "def check_woreda(vec):\n",
    "    # lat = y, x=lon\n",
    "    vec = gpd.points_from_xy(vec[:, 1], vec[:, 0])\n",
    "    return vec.within(gdf_woreda_shp[0]).all()\n",
    "            \n",
    "def check_region(vec):\n",
    "    # lat = y, x=lon\n",
    "    vec = gpd.points_from_xy(vec[:, 1], vec[:, 0])\n",
    "    return vec.within(gdf_region_shp[0]).all()"
   ]
  },
  {
   "cell_type": "code",
   "execution_count": 9,
   "metadata": {},
   "outputs": [],
   "source": [
    "def shape(distance, enrollment):\n",
    "    min_walk = 2 # distance not a factor issuing enrollment until 2km\n",
    "    max_walk = 5 # distance greater than 5km assumes zero enrollment\n",
    "    answer = np.where(distance<min_walk, enrollment,\n",
    "             np.where(distance>max_walk, 0,\n",
    "                     enrollment*(1-(distance-min_walk)/(max_walk-min_walk)))\n",
    "            )\n",
    "    return answer"
   ]
  },
  {
   "cell_type": "code",
   "execution_count": 10,
   "metadata": {},
   "outputs": [],
   "source": [
    "# OLD FITNESS FUNCTION\n",
    "# def expected_enroll(prim_loc, x, prim_enroll):\n",
    "#     distance = haversine_vector(prim_loc, x, Unit.KILOMETERS, comb=True)\n",
    "#     min_d = np.min(distance, axis=0) # array with minimum distance from each primacy school to every secondary.\n",
    "#     shaped_enroll = shape(min_d, prim_enroll)\n",
    "#     return np.sum(shaped_enroll)"
   ]
  },
  {
   "cell_type": "code",
   "execution_count": 11,
   "metadata": {},
   "outputs": [],
   "source": [
    "# OLD OBJECTIVE FUNCTION\n",
    "# # The Objective Function with the shape function included.\n",
    "# def f(x):\n",
    "#     x = np.append(df_sec_loc, x).reshape(total_sec,2) #  add new schools to existing and reshape\n",
    "#     test_case = expected_enroll(df_prim_loc, x, df_prim_enroll)\n",
    "#     return test_case"
   ]
  },
  {
   "cell_type": "code",
   "execution_count": 12,
   "metadata": {},
   "outputs": [],
   "source": [
    "# Create random points within regional or district boundaries boundaries.\n",
    "\n",
    "def create_random_sp(sp_type):\n",
    "    if sp_type == 'region':\n",
    "        shape_file = gdf_region_shp[0]\n",
    "    else:\n",
    "        shape_file = gdf_woreda_shp[0]\n",
    "    sp_in_bounds = False\n",
    "    while sp_in_bounds == False:\n",
    "        sp1 = np.random.uniform(low=lat_bounds[0], high=lat_bounds[1], size=proposed_schools)\n",
    "        sp2 = np.random.uniform(low=lon_bounds[0], high=lon_bounds[1], size=proposed_schools)\n",
    "        sp = np.vstack((sp1, sp2)).T\n",
    "        sp_points = gpd.points_from_xy(sp[:, 1], sp[:, 0])\n",
    "        if sp_points.within(shape_file).all():\n",
    "            sp_in_bounds = True\n",
    "            return sp.flatten()"
   ]
  },
  {
   "cell_type": "code",
   "execution_count": 13,
   "metadata": {},
   "outputs": [],
   "source": [
    "def generate_random_sp():\n",
    "    sp1 = np.random.uniform(low=lat_bounds[0], high=lat_bounds[1], size=proposed_schools)\n",
    "    sp2 = np.random.uniform(low=lon_bounds[0], high=lon_bounds[1], size=proposed_schools)\n",
    "    sp = np.vstack((sp1, sp2)).T\n",
    "    return sp"
   ]
  },
  {
   "cell_type": "code",
   "execution_count": 442,
   "metadata": {},
   "outputs": [],
   "source": [
    "ee_old_constant = np.sum(df_sec_enroll)\n",
    "current_ps_distance = df_prim['nearest_lwr_sec'].to_numpy() # existing distance to secondary school\n",
    "def expected_enrollment2(prim_loc, x, prim_enroll, current_dist):\n",
    "    ee_old  = ee_old_constant\n",
    "    feeder = {} # empty dictionary for list of ps, closest ss and distance in km.\n",
    "    eei = 0 # expected enrollment increase\n",
    "    d = haversine_vector(prim_loc, x, Unit.KILOMETERS, comb=True) # primary schools distance to secondary schools\n",
    "    \n",
    "    for ss in range(0, proposed_schools): # for each secondary school\n",
    "        for ps in range(0, len(d[ss])): # for each distance from a secondary school to a primary school                         \n",
    "            # Case 0\n",
    "            # if the distance is less than 5km & the distance is less than the current distance to old secondary school\n",
    "            if (d[ss][ps] < 5) & (d[ss][ps] <= current_dist[ps]):\n",
    "                if ps not in feeder: # if primary school not in feeder dict, add.\n",
    "                    feeder[ps] = [int(ss), d[ss][ps], float(shape(d[ss][ps], prim_enroll[ps]))] # dict = {primary school: [feeder secondary school, distance of ps to ss]}\n",
    "                else: # if ps already a key in feeder, replace with min [feeder secondary school, distance of ps to ss]\n",
    "                    if feeder[ps][1] < d[ss][ps]:\n",
    "                        feeder[ps] = [int(ss), d[ss][ps], float(shape(d[ss][ps], prim_enroll[ps]))]\n",
    "                                       \n",
    "                # Current estimated enrollment feeding into current SS\n",
    "                enroll_current = shape(current_dist[ps], prim_enroll[ps])            \n",
    "                ee_old -= enroll_current\n",
    "                \n",
    "    # eei is only the final min schools being added.\n",
    "    eei = sum([feeder[i][2] for i in feeder])\n",
    "    return eei + ee_old # for overall expected enrollment. "
   ]
  },
  {
   "cell_type": "code",
   "execution_count": 446,
   "metadata": {},
   "outputs": [
    {
     "data": {
      "text/plain": [
       "5700.910207888402"
      ]
     },
     "execution_count": 446,
     "metadata": {},
     "output_type": "execute_result"
    }
   ],
   "source": []
  },
  {
   "cell_type": "code",
   "execution_count": 443,
   "metadata": {},
   "outputs": [],
   "source": [
    "# The Objective Function with the shape function included.\n",
    "def f2(x):\n",
    "    x = x.reshape(proposed_schools,2) #  add new schools to existing and reshape\n",
    "    test_case = expected_enrollment2(df_prim_loc, x, df_prim_enroll, current_ps_distance)\n",
    "    return test_case*-1"
   ]
  },
  {
   "cell_type": "markdown",
   "metadata": {},
   "source": [
    "## Random Search"
   ]
  },
  {
   "cell_type": "code",
   "execution_count": 17,
   "metadata": {},
   "outputs": [],
   "source": [
    "def random_search(f, n):\n",
    "    x = [generate_random_sp() for _ in range(n)]\n",
    "    fx = [[f(xi), xi] for xi in x]\n",
    "    best_f, best_solution = min(fx, key=lambda x:x[0])\n",
    "    return best_f, best_solution"
   ]
  },
  {
   "cell_type": "code",
   "execution_count": 445,
   "metadata": {},
   "outputs": [
    {
     "ename": "KeyboardInterrupt",
     "evalue": "",
     "output_type": "error",
     "traceback": [
      "\u001b[1;31m---------------------------------------------------------------------------\u001b[0m",
      "\u001b[1;31mKeyboardInterrupt\u001b[0m                         Traceback (most recent call last)",
      "\u001b[1;32m<timed exec>\u001b[0m in \u001b[0;36m<module>\u001b[1;34m\u001b[0m\n",
      "\u001b[1;32m<ipython-input-17-68f5ae2535ad>\u001b[0m in \u001b[0;36mrandom_search\u001b[1;34m(f, n)\u001b[0m\n\u001b[0;32m      1\u001b[0m \u001b[1;32mdef\u001b[0m \u001b[0mrandom_search\u001b[0m\u001b[1;33m(\u001b[0m\u001b[0mf\u001b[0m\u001b[1;33m,\u001b[0m \u001b[0mn\u001b[0m\u001b[1;33m)\u001b[0m\u001b[1;33m:\u001b[0m\u001b[1;33m\u001b[0m\u001b[1;33m\u001b[0m\u001b[0m\n\u001b[0;32m      2\u001b[0m     \u001b[0mx\u001b[0m \u001b[1;33m=\u001b[0m \u001b[1;33m[\u001b[0m\u001b[0mgenerate_random_sp\u001b[0m\u001b[1;33m(\u001b[0m\u001b[1;33m)\u001b[0m \u001b[1;32mfor\u001b[0m \u001b[0m_\u001b[0m \u001b[1;32min\u001b[0m \u001b[0mrange\u001b[0m\u001b[1;33m(\u001b[0m\u001b[0mn\u001b[0m\u001b[1;33m)\u001b[0m\u001b[1;33m]\u001b[0m\u001b[1;33m\u001b[0m\u001b[1;33m\u001b[0m\u001b[0m\n\u001b[1;32m----> 3\u001b[1;33m     \u001b[0mfx\u001b[0m \u001b[1;33m=\u001b[0m \u001b[1;33m[\u001b[0m\u001b[1;33m[\u001b[0m\u001b[0mf\u001b[0m\u001b[1;33m(\u001b[0m\u001b[0mxi\u001b[0m\u001b[1;33m)\u001b[0m\u001b[1;33m,\u001b[0m \u001b[0mxi\u001b[0m\u001b[1;33m]\u001b[0m \u001b[1;32mfor\u001b[0m \u001b[0mxi\u001b[0m \u001b[1;32min\u001b[0m \u001b[0mx\u001b[0m\u001b[1;33m]\u001b[0m\u001b[1;33m\u001b[0m\u001b[1;33m\u001b[0m\u001b[0m\n\u001b[0m\u001b[0;32m      4\u001b[0m     \u001b[0mbest_f\u001b[0m\u001b[1;33m,\u001b[0m \u001b[0mbest_solution\u001b[0m \u001b[1;33m=\u001b[0m \u001b[0mmin\u001b[0m\u001b[1;33m(\u001b[0m\u001b[0mfx\u001b[0m\u001b[1;33m,\u001b[0m \u001b[0mkey\u001b[0m\u001b[1;33m=\u001b[0m\u001b[1;32mlambda\u001b[0m \u001b[0mx\u001b[0m\u001b[1;33m:\u001b[0m\u001b[0mx\u001b[0m\u001b[1;33m[\u001b[0m\u001b[1;36m0\u001b[0m\u001b[1;33m]\u001b[0m\u001b[1;33m)\u001b[0m\u001b[1;33m\u001b[0m\u001b[1;33m\u001b[0m\u001b[0m\n\u001b[0;32m      5\u001b[0m     \u001b[1;32mreturn\u001b[0m \u001b[0mbest_f\u001b[0m\u001b[1;33m,\u001b[0m \u001b[0mbest_solution\u001b[0m\u001b[1;33m\u001b[0m\u001b[1;33m\u001b[0m\u001b[0m\n",
      "\u001b[1;32m<ipython-input-17-68f5ae2535ad>\u001b[0m in \u001b[0;36m<listcomp>\u001b[1;34m(.0)\u001b[0m\n\u001b[0;32m      1\u001b[0m \u001b[1;32mdef\u001b[0m \u001b[0mrandom_search\u001b[0m\u001b[1;33m(\u001b[0m\u001b[0mf\u001b[0m\u001b[1;33m,\u001b[0m \u001b[0mn\u001b[0m\u001b[1;33m)\u001b[0m\u001b[1;33m:\u001b[0m\u001b[1;33m\u001b[0m\u001b[1;33m\u001b[0m\u001b[0m\n\u001b[0;32m      2\u001b[0m     \u001b[0mx\u001b[0m \u001b[1;33m=\u001b[0m \u001b[1;33m[\u001b[0m\u001b[0mgenerate_random_sp\u001b[0m\u001b[1;33m(\u001b[0m\u001b[1;33m)\u001b[0m \u001b[1;32mfor\u001b[0m \u001b[0m_\u001b[0m \u001b[1;32min\u001b[0m \u001b[0mrange\u001b[0m\u001b[1;33m(\u001b[0m\u001b[0mn\u001b[0m\u001b[1;33m)\u001b[0m\u001b[1;33m]\u001b[0m\u001b[1;33m\u001b[0m\u001b[1;33m\u001b[0m\u001b[0m\n\u001b[1;32m----> 3\u001b[1;33m     \u001b[0mfx\u001b[0m \u001b[1;33m=\u001b[0m \u001b[1;33m[\u001b[0m\u001b[1;33m[\u001b[0m\u001b[0mf\u001b[0m\u001b[1;33m(\u001b[0m\u001b[0mxi\u001b[0m\u001b[1;33m)\u001b[0m\u001b[1;33m,\u001b[0m \u001b[0mxi\u001b[0m\u001b[1;33m]\u001b[0m \u001b[1;32mfor\u001b[0m \u001b[0mxi\u001b[0m \u001b[1;32min\u001b[0m \u001b[0mx\u001b[0m\u001b[1;33m]\u001b[0m\u001b[1;33m\u001b[0m\u001b[1;33m\u001b[0m\u001b[0m\n\u001b[0m\u001b[0;32m      4\u001b[0m     \u001b[0mbest_f\u001b[0m\u001b[1;33m,\u001b[0m \u001b[0mbest_solution\u001b[0m \u001b[1;33m=\u001b[0m \u001b[0mmin\u001b[0m\u001b[1;33m(\u001b[0m\u001b[0mfx\u001b[0m\u001b[1;33m,\u001b[0m \u001b[0mkey\u001b[0m\u001b[1;33m=\u001b[0m\u001b[1;32mlambda\u001b[0m \u001b[0mx\u001b[0m\u001b[1;33m:\u001b[0m\u001b[0mx\u001b[0m\u001b[1;33m[\u001b[0m\u001b[1;36m0\u001b[0m\u001b[1;33m]\u001b[0m\u001b[1;33m)\u001b[0m\u001b[1;33m\u001b[0m\u001b[1;33m\u001b[0m\u001b[0m\n\u001b[0;32m      5\u001b[0m     \u001b[1;32mreturn\u001b[0m \u001b[0mbest_f\u001b[0m\u001b[1;33m,\u001b[0m \u001b[0mbest_solution\u001b[0m\u001b[1;33m\u001b[0m\u001b[1;33m\u001b[0m\u001b[0m\n",
      "\u001b[1;32m<ipython-input-443-fa49311ec1b5>\u001b[0m in \u001b[0;36mf2\u001b[1;34m(x)\u001b[0m\n\u001b[0;32m      2\u001b[0m \u001b[1;32mdef\u001b[0m \u001b[0mf2\u001b[0m\u001b[1;33m(\u001b[0m\u001b[0mx\u001b[0m\u001b[1;33m)\u001b[0m\u001b[1;33m:\u001b[0m\u001b[1;33m\u001b[0m\u001b[1;33m\u001b[0m\u001b[0m\n\u001b[0;32m      3\u001b[0m     \u001b[0mx\u001b[0m \u001b[1;33m=\u001b[0m \u001b[0mx\u001b[0m\u001b[1;33m.\u001b[0m\u001b[0mreshape\u001b[0m\u001b[1;33m(\u001b[0m\u001b[0mproposed_schools\u001b[0m\u001b[1;33m,\u001b[0m\u001b[1;36m2\u001b[0m\u001b[1;33m)\u001b[0m \u001b[1;31m#  add new schools to existing and reshape\u001b[0m\u001b[1;33m\u001b[0m\u001b[1;33m\u001b[0m\u001b[0m\n\u001b[1;32m----> 4\u001b[1;33m     \u001b[0mtest_case\u001b[0m \u001b[1;33m=\u001b[0m \u001b[0mexpected_enrollment2\u001b[0m\u001b[1;33m(\u001b[0m\u001b[0mdf_prim_loc\u001b[0m\u001b[1;33m,\u001b[0m \u001b[0mx\u001b[0m\u001b[1;33m,\u001b[0m \u001b[0mdf_prim_enroll\u001b[0m\u001b[1;33m,\u001b[0m \u001b[0mcurrent_ps_distance\u001b[0m\u001b[1;33m)\u001b[0m\u001b[1;33m\u001b[0m\u001b[1;33m\u001b[0m\u001b[0m\n\u001b[0m\u001b[0;32m      5\u001b[0m     \u001b[1;32mreturn\u001b[0m \u001b[0mtest_case\u001b[0m\u001b[1;33m*\u001b[0m\u001b[1;33m-\u001b[0m\u001b[1;36m1\u001b[0m\u001b[1;33m\u001b[0m\u001b[1;33m\u001b[0m\u001b[0m\n",
      "\u001b[1;32m<ipython-input-442-1ea3e9cdaf35>\u001b[0m in \u001b[0;36mexpected_enrollment2\u001b[1;34m(prim_loc, x, prim_enroll, current_dist)\u001b[0m\n\u001b[0;32m      5\u001b[0m     \u001b[0mfeeder\u001b[0m \u001b[1;33m=\u001b[0m \u001b[1;33m{\u001b[0m\u001b[1;33m}\u001b[0m \u001b[1;31m# empty dictionary for list of ps, closest ss and distance in km.\u001b[0m\u001b[1;33m\u001b[0m\u001b[1;33m\u001b[0m\u001b[0m\n\u001b[0;32m      6\u001b[0m     \u001b[0meei\u001b[0m \u001b[1;33m=\u001b[0m \u001b[1;36m0\u001b[0m \u001b[1;31m# expected enrollment increase\u001b[0m\u001b[1;33m\u001b[0m\u001b[1;33m\u001b[0m\u001b[0m\n\u001b[1;32m----> 7\u001b[1;33m     \u001b[0md\u001b[0m \u001b[1;33m=\u001b[0m \u001b[0mhaversine_vector\u001b[0m\u001b[1;33m(\u001b[0m\u001b[0mprim_loc\u001b[0m\u001b[1;33m,\u001b[0m \u001b[0mx\u001b[0m\u001b[1;33m,\u001b[0m \u001b[0mUnit\u001b[0m\u001b[1;33m.\u001b[0m\u001b[0mKILOMETERS\u001b[0m\u001b[1;33m,\u001b[0m \u001b[0mcomb\u001b[0m\u001b[1;33m=\u001b[0m\u001b[1;32mTrue\u001b[0m\u001b[1;33m)\u001b[0m \u001b[1;31m# primary schools distance to secondary schools\u001b[0m\u001b[1;33m\u001b[0m\u001b[1;33m\u001b[0m\u001b[0m\n\u001b[0m\u001b[0;32m      8\u001b[0m \u001b[1;33m\u001b[0m\u001b[0m\n\u001b[0;32m      9\u001b[0m     \u001b[1;32mfor\u001b[0m \u001b[0mss\u001b[0m \u001b[1;32min\u001b[0m \u001b[0mrange\u001b[0m\u001b[1;33m(\u001b[0m\u001b[1;36m0\u001b[0m\u001b[1;33m,\u001b[0m \u001b[0mproposed_schools\u001b[0m\u001b[1;33m)\u001b[0m\u001b[1;33m:\u001b[0m \u001b[1;31m# for each secondary school\u001b[0m\u001b[1;33m\u001b[0m\u001b[1;33m\u001b[0m\u001b[0m\n",
      "\u001b[1;32mc:\\users\\darra\\appdata\\local\\programs\\python\\python38\\lib\\site-packages\\haversine\\haversine.py\u001b[0m in \u001b[0;36mhaversine_vector\u001b[1;34m(array1, array2, unit, comb)\u001b[0m\n\u001b[0;32m    149\u001b[0m         \u001b[0mlng1\u001b[0m \u001b[1;33m=\u001b[0m \u001b[0mnumpy\u001b[0m\u001b[1;33m.\u001b[0m\u001b[0mexpand_dims\u001b[0m\u001b[1;33m(\u001b[0m\u001b[0mlng1\u001b[0m\u001b[1;33m,\u001b[0m \u001b[0maxis\u001b[0m\u001b[1;33m=\u001b[0m\u001b[1;36m0\u001b[0m\u001b[1;33m)\u001b[0m\u001b[1;33m\u001b[0m\u001b[1;33m\u001b[0m\u001b[0m\n\u001b[0;32m    150\u001b[0m         \u001b[0mlat2\u001b[0m \u001b[1;33m=\u001b[0m \u001b[0mnumpy\u001b[0m\u001b[1;33m.\u001b[0m\u001b[0mexpand_dims\u001b[0m\u001b[1;33m(\u001b[0m\u001b[0mlat2\u001b[0m\u001b[1;33m,\u001b[0m \u001b[0maxis\u001b[0m\u001b[1;33m=\u001b[0m\u001b[1;36m1\u001b[0m\u001b[1;33m)\u001b[0m\u001b[1;33m\u001b[0m\u001b[1;33m\u001b[0m\u001b[0m\n\u001b[1;32m--> 151\u001b[1;33m         \u001b[0mlng2\u001b[0m \u001b[1;33m=\u001b[0m \u001b[0mnumpy\u001b[0m\u001b[1;33m.\u001b[0m\u001b[0mexpand_dims\u001b[0m\u001b[1;33m(\u001b[0m\u001b[0mlng2\u001b[0m\u001b[1;33m,\u001b[0m \u001b[0maxis\u001b[0m\u001b[1;33m=\u001b[0m\u001b[1;36m1\u001b[0m\u001b[1;33m)\u001b[0m\u001b[1;33m\u001b[0m\u001b[1;33m\u001b[0m\u001b[0m\n\u001b[0m\u001b[0;32m    152\u001b[0m \u001b[1;33m\u001b[0m\u001b[0m\n\u001b[0;32m    153\u001b[0m     \u001b[1;31m# calculate haversine\u001b[0m\u001b[1;33m\u001b[0m\u001b[1;33m\u001b[0m\u001b[1;33m\u001b[0m\u001b[0m\n",
      "\u001b[1;32mc:\\users\\darra\\appdata\\local\\programs\\python\\python38\\lib\\site-packages\\numpy\\core\\overrides.py\u001b[0m in \u001b[0;36mexpand_dims\u001b[1;34m(*args, **kwargs)\u001b[0m\n",
      "\u001b[1;32mc:\\users\\darra\\appdata\\local\\programs\\python\\python38\\lib\\site-packages\\numpy\\lib\\shape_base.py\u001b[0m in \u001b[0;36mexpand_dims\u001b[1;34m(a, axis)\u001b[0m\n\u001b[0;32m    595\u001b[0m \u001b[1;33m\u001b[0m\u001b[0m\n\u001b[0;32m    596\u001b[0m     \u001b[0mout_ndim\u001b[0m \u001b[1;33m=\u001b[0m \u001b[0mlen\u001b[0m\u001b[1;33m(\u001b[0m\u001b[0maxis\u001b[0m\u001b[1;33m)\u001b[0m \u001b[1;33m+\u001b[0m \u001b[0ma\u001b[0m\u001b[1;33m.\u001b[0m\u001b[0mndim\u001b[0m\u001b[1;33m\u001b[0m\u001b[1;33m\u001b[0m\u001b[0m\n\u001b[1;32m--> 597\u001b[1;33m     \u001b[0maxis\u001b[0m \u001b[1;33m=\u001b[0m \u001b[0mnormalize_axis_tuple\u001b[0m\u001b[1;33m(\u001b[0m\u001b[0maxis\u001b[0m\u001b[1;33m,\u001b[0m \u001b[0mout_ndim\u001b[0m\u001b[1;33m)\u001b[0m\u001b[1;33m\u001b[0m\u001b[1;33m\u001b[0m\u001b[0m\n\u001b[0m\u001b[0;32m    598\u001b[0m \u001b[1;33m\u001b[0m\u001b[0m\n\u001b[0;32m    599\u001b[0m     \u001b[0mshape_it\u001b[0m \u001b[1;33m=\u001b[0m \u001b[0miter\u001b[0m\u001b[1;33m(\u001b[0m\u001b[0ma\u001b[0m\u001b[1;33m.\u001b[0m\u001b[0mshape\u001b[0m\u001b[1;33m)\u001b[0m\u001b[1;33m\u001b[0m\u001b[1;33m\u001b[0m\u001b[0m\n",
      "\u001b[1;32mc:\\users\\darra\\appdata\\local\\programs\\python\\python38\\lib\\site-packages\\numpy\\core\\numeric.py\u001b[0m in \u001b[0;36mnormalize_axis_tuple\u001b[1;34m(axis, ndim, argname, allow_duplicate)\u001b[0m\n\u001b[0;32m   1389\u001b[0m             \u001b[1;32mpass\u001b[0m\u001b[1;33m\u001b[0m\u001b[1;33m\u001b[0m\u001b[0m\n\u001b[0;32m   1390\u001b[0m     \u001b[1;31m# Going via an iterator directly is slower than via list comprehension.\u001b[0m\u001b[1;33m\u001b[0m\u001b[1;33m\u001b[0m\u001b[1;33m\u001b[0m\u001b[0m\n\u001b[1;32m-> 1391\u001b[1;33m     \u001b[0maxis\u001b[0m \u001b[1;33m=\u001b[0m \u001b[0mtuple\u001b[0m\u001b[1;33m(\u001b[0m\u001b[1;33m[\u001b[0m\u001b[0mnormalize_axis_index\u001b[0m\u001b[1;33m(\u001b[0m\u001b[0max\u001b[0m\u001b[1;33m,\u001b[0m \u001b[0mndim\u001b[0m\u001b[1;33m,\u001b[0m \u001b[0margname\u001b[0m\u001b[1;33m)\u001b[0m \u001b[1;32mfor\u001b[0m \u001b[0max\u001b[0m \u001b[1;32min\u001b[0m \u001b[0maxis\u001b[0m\u001b[1;33m]\u001b[0m\u001b[1;33m)\u001b[0m\u001b[1;33m\u001b[0m\u001b[1;33m\u001b[0m\u001b[0m\n\u001b[0m\u001b[0;32m   1392\u001b[0m     \u001b[1;32mif\u001b[0m \u001b[1;32mnot\u001b[0m \u001b[0mallow_duplicate\u001b[0m \u001b[1;32mand\u001b[0m \u001b[0mlen\u001b[0m\u001b[1;33m(\u001b[0m\u001b[0mset\u001b[0m\u001b[1;33m(\u001b[0m\u001b[0maxis\u001b[0m\u001b[1;33m)\u001b[0m\u001b[1;33m)\u001b[0m \u001b[1;33m!=\u001b[0m \u001b[0mlen\u001b[0m\u001b[1;33m(\u001b[0m\u001b[0maxis\u001b[0m\u001b[1;33m)\u001b[0m\u001b[1;33m:\u001b[0m\u001b[1;33m\u001b[0m\u001b[1;33m\u001b[0m\u001b[0m\n\u001b[0;32m   1393\u001b[0m         \u001b[1;32mif\u001b[0m \u001b[0margname\u001b[0m\u001b[1;33m:\u001b[0m\u001b[1;33m\u001b[0m\u001b[1;33m\u001b[0m\u001b[0m\n",
      "\u001b[1;32mc:\\users\\darra\\appdata\\local\\programs\\python\\python38\\lib\\site-packages\\numpy\\core\\numeric.py\u001b[0m in \u001b[0;36m<listcomp>\u001b[1;34m(.0)\u001b[0m\n\u001b[0;32m   1389\u001b[0m             \u001b[1;32mpass\u001b[0m\u001b[1;33m\u001b[0m\u001b[1;33m\u001b[0m\u001b[0m\n\u001b[0;32m   1390\u001b[0m     \u001b[1;31m# Going via an iterator directly is slower than via list comprehension.\u001b[0m\u001b[1;33m\u001b[0m\u001b[1;33m\u001b[0m\u001b[1;33m\u001b[0m\u001b[0m\n\u001b[1;32m-> 1391\u001b[1;33m     \u001b[0maxis\u001b[0m \u001b[1;33m=\u001b[0m \u001b[0mtuple\u001b[0m\u001b[1;33m(\u001b[0m\u001b[1;33m[\u001b[0m\u001b[0mnormalize_axis_index\u001b[0m\u001b[1;33m(\u001b[0m\u001b[0max\u001b[0m\u001b[1;33m,\u001b[0m \u001b[0mndim\u001b[0m\u001b[1;33m,\u001b[0m \u001b[0margname\u001b[0m\u001b[1;33m)\u001b[0m \u001b[1;32mfor\u001b[0m \u001b[0max\u001b[0m \u001b[1;32min\u001b[0m \u001b[0maxis\u001b[0m\u001b[1;33m]\u001b[0m\u001b[1;33m)\u001b[0m\u001b[1;33m\u001b[0m\u001b[1;33m\u001b[0m\u001b[0m\n\u001b[0m\u001b[0;32m   1392\u001b[0m     \u001b[1;32mif\u001b[0m \u001b[1;32mnot\u001b[0m \u001b[0mallow_duplicate\u001b[0m \u001b[1;32mand\u001b[0m \u001b[0mlen\u001b[0m\u001b[1;33m(\u001b[0m\u001b[0mset\u001b[0m\u001b[1;33m(\u001b[0m\u001b[0maxis\u001b[0m\u001b[1;33m)\u001b[0m\u001b[1;33m)\u001b[0m \u001b[1;33m!=\u001b[0m \u001b[0mlen\u001b[0m\u001b[1;33m(\u001b[0m\u001b[0maxis\u001b[0m\u001b[1;33m)\u001b[0m\u001b[1;33m:\u001b[0m\u001b[1;33m\u001b[0m\u001b[1;33m\u001b[0m\u001b[0m\n\u001b[0;32m   1393\u001b[0m         \u001b[1;32mif\u001b[0m \u001b[0margname\u001b[0m\u001b[1;33m:\u001b[0m\u001b[1;33m\u001b[0m\u001b[1;33m\u001b[0m\u001b[0m\n",
      "\u001b[1;31mKeyboardInterrupt\u001b[0m: "
     ]
    }
   ],
   "source": [
    "%%time\n",
    "n_starting_points = 30\n",
    "maxits = 10000\n",
    "fx = []\n",
    "for _ in range(n_starting_points):\n",
    "    start_time = time.time()\n",
    "    fx.append([random_search(f2, maxits), time.time() - start_time])"
   ]
  },
  {
   "cell_type": "code",
   "execution_count": null,
   "metadata": {},
   "outputs": [],
   "source": [
    "# %time fx = [random_search(f2, 100, 'region') for _ in range(4)] # OLD"
   ]
  },
  {
   "cell_type": "code",
   "execution_count": 19,
   "metadata": {},
   "outputs": [],
   "source": [
    "results = pd.DataFrame(columns=['random_starting_point', 'algorithm', 'ee', 'eei', 'proposed_locations', 'time', 'sigma'])"
   ]
  },
  {
   "cell_type": "code",
   "execution_count": 20,
   "metadata": {},
   "outputs": [],
   "source": [
    "for i in range(0, len(fx)):\n",
    "    row = (pd.Series({'random_starting_point':i, 'algorithm':'Random Search', 'ee':round(abs(fx[i][0][0]),0),\n",
    "                                'eei':round(abs(np.sum(df_sec_enroll) - abs(fx[i][0][0])),0), \n",
    "                                'nproposed_locations': fx[i][0][1], 'time':fx[i][1], 'sigma':'NA'}))\n",
    "    results = results.append(row, ignore_index=True)"
   ]
  },
  {
   "cell_type": "markdown",
   "metadata": {},
   "source": [
    "## CMA"
   ]
  },
  {
   "cell_type": "code",
   "execution_count": 22,
   "metadata": {},
   "outputs": [],
   "source": [
    "results = results.reset_index(drop=True)"
   ]
  },
  {
   "cell_type": "code",
   "execution_count": 23,
   "metadata": {},
   "outputs": [],
   "source": [
    "sigmas = (0.12, 0.14, 0.16, 0.18, 0.2)"
   ]
  },
  {
   "cell_type": "code",
   "execution_count": 26,
   "metadata": {},
   "outputs": [
    {
     "data": {
      "text/plain": [
       "array([[10.93448199, 36.86014511],\n",
       "       [10.90377415, 36.81134441],\n",
       "       [10.95202218, 36.89905575],\n",
       "       [10.96254782, 36.91923542],\n",
       "       [10.80308049, 36.72229669]])"
      ]
     },
     "execution_count": 26,
     "metadata": {},
     "output_type": "execute_result"
    }
   ],
   "source": [
    "generate_random_sp()"
   ]
  },
  {
   "cell_type": "code",
   "execution_count": 27,
   "metadata": {},
   "outputs": [
    {
     "name": "stdout",
     "output_type": "stream",
     "text": [
      "(5_w,10)-aCMA-ES (mu_w=3.2,w_1=45%) in dimension 10 (seed=1234, Thu Jul  7 12:21:50 2022)\n",
      "Iterat #Fevals   function value  axis ratio  sigma  min&max std  t[m:s]\n",
      "    1     10 -3.236665854179715e+04 1.0e+00 1.11e-01  1e-01  1e-01 0:00.0\n",
      "    2     20 -1.866920882342162e+04 1.2e+00 1.09e-01  1e-01  1e-01 0:00.0\n",
      "    3     30 -2.043458857883523e+04 1.3e+00 1.06e-01  1e-01  1e-01 0:00.0\n",
      "  100   1000 -3.497000747978350e+04 6.5e+00 9.21e-03  2e-03  1e-02 0:00.3\n",
      "(5_w,10)-aCMA-ES (mu_w=3.2,w_1=45%) in dimension 10 (seed=1234, Thu Jul  7 12:21:50 2022)\n",
      "Iterat #Fevals   function value  axis ratio  sigma  min&max std  t[m:s]\n",
      "    1     10 -2.912462783498660e+04 1.0e+00 1.38e-01  1e-01  1e-01 0:00.0\n",
      "    2     20 -3.470059013501550e+04 1.3e+00 1.32e-01  1e-01  1e-01 0:00.0\n",
      "    3     30 -4.876579151271848e+03 1.3e+00 1.22e-01  1e-01  1e-01 0:00.0\n",
      "  100   1000 -2.839780952715653e+04 5.3e+00 1.61e-01  6e-02  2e-01 0:00.3\n",
      "(5_w,10)-aCMA-ES (mu_w=3.2,w_1=45%) in dimension 10 (seed=1234, Thu Jul  7 12:21:50 2022)\n",
      "Iterat #Fevals   function value  axis ratio  sigma  min&max std  t[m:s]\n",
      "    1     10 -2.992499774047030e+04 1.0e+00 1.64e-01  2e-01  2e-01 0:00.0\n",
      "    2     20 -2.098041081325628e+04 1.3e+00 1.63e-01  2e-01  2e-01 0:00.0\n",
      "    3     30 -1.834904650276549e+04 1.3e+00 1.64e-01  2e-01  2e-01 0:00.0\n",
      "  100   1000 -3.332675228360581e+04 4.6e+00 7.71e-02  4e-02  9e-02 0:00.3\n",
      "(5_w,10)-aCMA-ES (mu_w=3.2,w_1=45%) in dimension 10 (seed=1234, Thu Jul  7 12:21:51 2022)\n",
      "Iterat #Fevals   function value  axis ratio  sigma  min&max std  t[m:s]\n",
      "    1     10 -3.399798259601594e+04 1.0e+00 1.78e-01  2e-01  2e-01 0:00.0\n",
      "    2     20 -1.996417766977699e+04 1.3e+00 1.74e-01  2e-01  2e-01 0:00.0\n",
      "    3     30 -2.343975255083832e+04 1.3e+00 1.63e-01  2e-01  2e-01 0:00.0\n",
      "  100   1000 -3.622063385961905e+04 6.4e+00 3.90e-03  8e-04  4e-03 0:00.3\n",
      "(5_w,10)-aCMA-ES (mu_w=3.2,w_1=45%) in dimension 10 (seed=1234, Thu Jul  7 12:21:51 2022)\n",
      "Iterat #Fevals   function value  axis ratio  sigma  min&max std  t[m:s]\n",
      "    1     10 -3.305851956120266e+04 1.0e+00 2.01e-01  2e-01  2e-01 0:00.0\n",
      "    2     20 -2.159481895455652e+04 1.2e+00 2.04e-01  2e-01  2e-01 0:00.0\n",
      "    3     30 -2.661226607383270e+04 1.3e+00 2.10e-01  2e-01  2e-01 0:00.0\n",
      "  100   1000 -1.707156944646807e+04 4.3e+00 1.77e-01  1e-01  2e-01 0:00.3\n",
      "(5_w,10)-aCMA-ES (mu_w=3.2,w_1=45%) in dimension 10 (seed=1234, Thu Jul  7 12:21:52 2022)\n",
      "Iterat #Fevals   function value  axis ratio  sigma  min&max std  t[m:s]\n",
      "    1     10 -2.319786046937811e+04 1.0e+00 1.17e-01  1e-01  1e-01 0:00.0\n",
      "    2     20 -2.867739170902771e+04 1.2e+00 1.16e-01  1e-01  1e-01 0:00.0\n",
      "    3     30 -3.268080391225294e+04 1.3e+00 1.11e-01  1e-01  1e-01 0:00.0\n",
      "  100   1000 -3.725608119980501e+04 6.6e+00 6.50e-03  2e-03  7e-03 0:00.3\n",
      "(5_w,10)-aCMA-ES (mu_w=3.2,w_1=45%) in dimension 10 (seed=1234, Thu Jul  7 12:21:52 2022)\n",
      "Iterat #Fevals   function value  axis ratio  sigma  min&max std  t[m:s]\n",
      "    1     10 -2.912462783498660e+04 1.0e+00 1.38e-01  1e-01  1e-01 0:00.0\n",
      "    2     20 -3.470059013501550e+04 1.3e+00 1.32e-01  1e-01  1e-01 0:00.0\n",
      "    3     30 -4.876579151271848e+03 1.3e+00 1.22e-01  1e-01  1e-01 0:00.0\n",
      "  100   1000 -2.839780952715653e+04 5.3e+00 1.61e-01  6e-02  2e-01 0:00.3\n",
      "(5_w,10)-aCMA-ES (mu_w=3.2,w_1=45%) in dimension 10 (seed=1234, Thu Jul  7 12:21:53 2022)\n",
      "Iterat #Fevals   function value  axis ratio  sigma  min&max std  t[m:s]\n",
      "    1     10 -2.992499774047030e+04 1.0e+00 1.64e-01  2e-01  2e-01 0:00.0\n",
      "    2     20 -2.098041081325628e+04 1.3e+00 1.63e-01  2e-01  2e-01 0:00.0\n",
      "    3     30 -1.834904650276549e+04 1.3e+00 1.64e-01  2e-01  2e-01 0:00.0\n",
      "  100   1000 -3.332675228360581e+04 4.6e+00 7.71e-02  4e-02  9e-02 0:00.3\n",
      "(5_w,10)-aCMA-ES (mu_w=3.2,w_1=45%) in dimension 10 (seed=1234, Thu Jul  7 12:21:53 2022)\n",
      "Iterat #Fevals   function value  axis ratio  sigma  min&max std  t[m:s]\n",
      "    1     10 -3.399798259601594e+04 1.0e+00 1.78e-01  2e-01  2e-01 0:00.0\n",
      "    2     20 -1.996417766977699e+04 1.3e+00 1.74e-01  2e-01  2e-01 0:00.0\n",
      "    3     30 -2.343975255083832e+04 1.3e+00 1.63e-01  2e-01  2e-01 0:00.0\n",
      "  100   1000 -3.622063385961905e+04 6.4e+00 3.90e-03  8e-04  4e-03 0:00.3\n",
      "(5_w,10)-aCMA-ES (mu_w=3.2,w_1=45%) in dimension 10 (seed=1234, Thu Jul  7 12:21:54 2022)\n",
      "Iterat #Fevals   function value  axis ratio  sigma  min&max std  t[m:s]\n",
      "    1     10 -3.305851956120266e+04 1.0e+00 2.01e-01  2e-01  2e-01 0:00.0\n",
      "    2     20 -2.159481895455652e+04 1.2e+00 2.04e-01  2e-01  2e-01 0:00.0\n",
      "    3     30 -2.661226607383270e+04 1.3e+00 2.10e-01  2e-01  2e-01 0:00.0\n",
      "  100   1000 -1.707156944646807e+04 4.3e+00 1.77e-01  1e-01  2e-01 0:00.3\n",
      "(5_w,10)-aCMA-ES (mu_w=3.2,w_1=45%) in dimension 10 (seed=1234, Thu Jul  7 12:21:54 2022)\n",
      "Iterat #Fevals   function value  axis ratio  sigma  min&max std  t[m:s]\n",
      "    1     10 -2.319786046937811e+04 1.0e+00 1.17e-01  1e-01  1e-01 0:00.0\n",
      "    2     20 -2.867739170902771e+04 1.2e+00 1.16e-01  1e-01  1e-01 0:00.0\n",
      "    3     30 -3.268080391225294e+04 1.3e+00 1.11e-01  1e-01  1e-01 0:00.0\n",
      "  100   1000 -3.725608119980501e+04 6.6e+00 6.50e-03  2e-03  7e-03 0:00.3\n",
      "(5_w,10)-aCMA-ES (mu_w=3.2,w_1=45%) in dimension 10 (seed=1234, Thu Jul  7 12:21:55 2022)\n",
      "Iterat #Fevals   function value  axis ratio  sigma  min&max std  t[m:s]\n",
      "    1     10 -2.912462783498660e+04 1.0e+00 1.38e-01  1e-01  1e-01 0:00.0\n",
      "    2     20 -3.470059013501550e+04 1.3e+00 1.32e-01  1e-01  1e-01 0:00.0\n",
      "    3     30 -4.876579151271848e+03 1.3e+00 1.22e-01  1e-01  1e-01 0:00.0\n",
      "  100   1000 -2.839780952715653e+04 5.3e+00 1.61e-01  6e-02  2e-01 0:00.3\n",
      "(5_w,10)-aCMA-ES (mu_w=3.2,w_1=45%) in dimension 10 (seed=1234, Thu Jul  7 12:21:55 2022)\n",
      "Iterat #Fevals   function value  axis ratio  sigma  min&max std  t[m:s]\n",
      "    1     10 -2.992499774047030e+04 1.0e+00 1.64e-01  2e-01  2e-01 0:00.0\n",
      "    2     20 -2.098041081325628e+04 1.3e+00 1.63e-01  2e-01  2e-01 0:00.0\n",
      "    3     30 -1.834904650276549e+04 1.3e+00 1.64e-01  2e-01  2e-01 0:00.0\n",
      "  100   1000 -3.332675228360581e+04 4.6e+00 7.71e-02  4e-02  9e-02 0:00.3\n",
      "(5_w,10)-aCMA-ES (mu_w=3.2,w_1=45%) in dimension 10 (seed=1234, Thu Jul  7 12:21:56 2022)\n",
      "Iterat #Fevals   function value  axis ratio  sigma  min&max std  t[m:s]\n",
      "    1     10 -3.399798259601594e+04 1.0e+00 1.78e-01  2e-01  2e-01 0:00.0\n",
      "    2     20 -1.996417766977699e+04 1.3e+00 1.74e-01  2e-01  2e-01 0:00.0\n",
      "    3     30 -2.343975255083832e+04 1.3e+00 1.63e-01  2e-01  2e-01 0:00.0\n",
      "  100   1000 -3.622063385961905e+04 6.4e+00 3.90e-03  8e-04  4e-03 0:00.3\n",
      "(5_w,10)-aCMA-ES (mu_w=3.2,w_1=45%) in dimension 10 (seed=1234, Thu Jul  7 12:21:56 2022)\n",
      "Iterat #Fevals   function value  axis ratio  sigma  min&max std  t[m:s]\n",
      "    1     10 -3.305851956120266e+04 1.0e+00 2.01e-01  2e-01  2e-01 0:00.0\n",
      "    2     20 -2.159481895455652e+04 1.2e+00 2.04e-01  2e-01  2e-01 0:00.0\n",
      "    3     30 -2.661226607383270e+04 1.3e+00 2.10e-01  2e-01  2e-01 0:00.0\n",
      "  100   1000 -1.707156944646807e+04 4.3e+00 1.77e-01  1e-01  2e-01 0:00.3\n",
      "(5_w,10)-aCMA-ES (mu_w=3.2,w_1=45%) in dimension 10 (seed=1234, Thu Jul  7 12:21:56 2022)\n",
      "Iterat #Fevals   function value  axis ratio  sigma  min&max std  t[m:s]\n",
      "    1     10 -2.319786046937811e+04 1.0e+00 1.17e-01  1e-01  1e-01 0:00.0\n",
      "    2     20 -2.867739170902771e+04 1.2e+00 1.16e-01  1e-01  1e-01 0:00.0\n",
      "    3     30 -3.268080391225294e+04 1.3e+00 1.11e-01  1e-01  1e-01 0:00.0\n",
      "  100   1000 -3.725608119980501e+04 6.6e+00 6.50e-03  2e-03  7e-03 0:00.3\n",
      "(5_w,10)-aCMA-ES (mu_w=3.2,w_1=45%) in dimension 10 (seed=1234, Thu Jul  7 12:21:57 2022)\n",
      "Iterat #Fevals   function value  axis ratio  sigma  min&max std  t[m:s]\n",
      "    1     10 -2.912462783498660e+04 1.0e+00 1.38e-01  1e-01  1e-01 0:00.0\n",
      "    2     20 -3.470059013501550e+04 1.3e+00 1.32e-01  1e-01  1e-01 0:00.0\n",
      "    3     30 -4.876579151271848e+03 1.3e+00 1.22e-01  1e-01  1e-01 0:00.0\n",
      "  100   1000 -2.839780952715653e+04 5.3e+00 1.61e-01  6e-02  2e-01 0:00.3\n",
      "(5_w,10)-aCMA-ES (mu_w=3.2,w_1=45%) in dimension 10 (seed=1234, Thu Jul  7 12:21:57 2022)\n",
      "Iterat #Fevals   function value  axis ratio  sigma  min&max std  t[m:s]\n",
      "    1     10 -2.992499774047030e+04 1.0e+00 1.64e-01  2e-01  2e-01 0:00.0\n",
      "    2     20 -2.098041081325628e+04 1.3e+00 1.63e-01  2e-01  2e-01 0:00.0\n",
      "    3     30 -1.834904650276549e+04 1.3e+00 1.64e-01  2e-01  2e-01 0:00.0\n",
      "  100   1000 -3.332675228360581e+04 4.6e+00 7.71e-02  4e-02  9e-02 0:00.3\n"
     ]
    },
    {
     "name": "stdout",
     "output_type": "stream",
     "text": [
      "(5_w,10)-aCMA-ES (mu_w=3.2,w_1=45%) in dimension 10 (seed=1234, Thu Jul  7 12:21:58 2022)\n",
      "Iterat #Fevals   function value  axis ratio  sigma  min&max std  t[m:s]\n",
      "    1     10 -3.399798259601594e+04 1.0e+00 1.78e-01  2e-01  2e-01 0:00.0\n",
      "    2     20 -1.996417766977699e+04 1.3e+00 1.74e-01  2e-01  2e-01 0:00.0\n",
      "    3     30 -2.343975255083832e+04 1.3e+00 1.63e-01  2e-01  2e-01 0:00.0\n",
      "  100   1000 -3.622063385961905e+04 6.4e+00 3.90e-03  8e-04  4e-03 0:00.3\n",
      "(5_w,10)-aCMA-ES (mu_w=3.2,w_1=45%) in dimension 10 (seed=1234, Thu Jul  7 12:21:58 2022)\n",
      "Iterat #Fevals   function value  axis ratio  sigma  min&max std  t[m:s]\n",
      "    1     10 -3.305851956120266e+04 1.0e+00 2.01e-01  2e-01  2e-01 0:00.0\n",
      "    2     20 -2.159481895455652e+04 1.2e+00 2.04e-01  2e-01  2e-01 0:00.0\n",
      "    3     30 -2.661226607383270e+04 1.3e+00 2.10e-01  2e-01  2e-01 0:00.0\n",
      "  100   1000 -1.707156944646807e+04 4.3e+00 1.77e-01  1e-01  2e-01 0:00.3\n",
      "(5_w,10)-aCMA-ES (mu_w=3.2,w_1=45%) in dimension 10 (seed=1234, Thu Jul  7 12:21:59 2022)\n",
      "Iterat #Fevals   function value  axis ratio  sigma  min&max std  t[m:s]\n",
      "    1     10 -2.319786046937811e+04 1.0e+00 1.17e-01  1e-01  1e-01 0:00.0\n",
      "    2     20 -2.867739170902771e+04 1.2e+00 1.16e-01  1e-01  1e-01 0:00.0\n",
      "    3     30 -3.268080391225294e+04 1.3e+00 1.11e-01  1e-01  1e-01 0:00.0\n",
      "  100   1000 -3.725608119980501e+04 6.6e+00 6.50e-03  2e-03  7e-03 0:00.3\n",
      "(5_w,10)-aCMA-ES (mu_w=3.2,w_1=45%) in dimension 10 (seed=1234, Thu Jul  7 12:21:59 2022)\n",
      "Iterat #Fevals   function value  axis ratio  sigma  min&max std  t[m:s]\n",
      "    1     10 -2.912462783498660e+04 1.0e+00 1.38e-01  1e-01  1e-01 0:00.0\n",
      "    2     20 -3.470059013501550e+04 1.3e+00 1.32e-01  1e-01  1e-01 0:00.0\n",
      "    3     30 -4.876579151271848e+03 1.3e+00 1.22e-01  1e-01  1e-01 0:00.0\n",
      "  100   1000 -2.839780952715653e+04 5.3e+00 1.61e-01  6e-02  2e-01 0:00.3\n",
      "(5_w,10)-aCMA-ES (mu_w=3.2,w_1=45%) in dimension 10 (seed=1234, Thu Jul  7 12:22:00 2022)\n",
      "Iterat #Fevals   function value  axis ratio  sigma  min&max std  t[m:s]\n",
      "    1     10 -2.992499774047030e+04 1.0e+00 1.64e-01  2e-01  2e-01 0:00.0\n",
      "    2     20 -2.098041081325628e+04 1.3e+00 1.63e-01  2e-01  2e-01 0:00.0\n",
      "    3     30 -1.834904650276549e+04 1.3e+00 1.64e-01  2e-01  2e-01 0:00.0\n",
      "  100   1000 -3.332675228360581e+04 4.6e+00 7.71e-02  4e-02  9e-02 0:00.3\n",
      "(5_w,10)-aCMA-ES (mu_w=3.2,w_1=45%) in dimension 10 (seed=1234, Thu Jul  7 12:22:00 2022)\n",
      "Iterat #Fevals   function value  axis ratio  sigma  min&max std  t[m:s]\n",
      "    1     10 -3.399798259601594e+04 1.0e+00 1.78e-01  2e-01  2e-01 0:00.0\n",
      "    2     20 -1.996417766977699e+04 1.3e+00 1.74e-01  2e-01  2e-01 0:00.0\n",
      "    3     30 -2.343975255083832e+04 1.3e+00 1.63e-01  2e-01  2e-01 0:00.0\n",
      "  100   1000 -3.622063385961905e+04 6.4e+00 3.90e-03  8e-04  4e-03 0:00.3\n",
      "(5_w,10)-aCMA-ES (mu_w=3.2,w_1=45%) in dimension 10 (seed=1234, Thu Jul  7 12:22:01 2022)\n",
      "Iterat #Fevals   function value  axis ratio  sigma  min&max std  t[m:s]\n",
      "    1     10 -3.305851956120266e+04 1.0e+00 2.01e-01  2e-01  2e-01 0:00.0\n",
      "    2     20 -2.159481895455652e+04 1.2e+00 2.04e-01  2e-01  2e-01 0:00.0\n",
      "    3     30 -2.661226607383270e+04 1.3e+00 2.10e-01  2e-01  2e-01 0:00.0\n",
      "  100   1000 -1.707156944646807e+04 4.3e+00 1.77e-01  1e-01  2e-01 0:00.3\n",
      "(5_w,10)-aCMA-ES (mu_w=3.2,w_1=45%) in dimension 10 (seed=1234, Thu Jul  7 12:22:01 2022)\n",
      "Iterat #Fevals   function value  axis ratio  sigma  min&max std  t[m:s]\n",
      "    1     10 -2.319786046937811e+04 1.0e+00 1.17e-01  1e-01  1e-01 0:00.0\n",
      "    2     20 -2.867739170902771e+04 1.2e+00 1.16e-01  1e-01  1e-01 0:00.0\n",
      "    3     30 -3.268080391225294e+04 1.3e+00 1.11e-01  1e-01  1e-01 0:00.0\n",
      "  100   1000 -3.725608119980501e+04 6.6e+00 6.50e-03  2e-03  7e-03 0:00.3\n",
      "(5_w,10)-aCMA-ES (mu_w=3.2,w_1=45%) in dimension 10 (seed=1234, Thu Jul  7 12:22:01 2022)\n",
      "Iterat #Fevals   function value  axis ratio  sigma  min&max std  t[m:s]\n",
      "    1     10 -2.912462783498660e+04 1.0e+00 1.38e-01  1e-01  1e-01 0:00.0\n",
      "    2     20 -3.470059013501550e+04 1.3e+00 1.32e-01  1e-01  1e-01 0:00.0\n",
      "    3     30 -4.876579151271848e+03 1.3e+00 1.22e-01  1e-01  1e-01 0:00.0\n",
      "  100   1000 -2.839780952715653e+04 5.3e+00 1.61e-01  6e-02  2e-01 0:00.3\n",
      "(5_w,10)-aCMA-ES (mu_w=3.2,w_1=45%) in dimension 10 (seed=1234, Thu Jul  7 12:22:02 2022)\n",
      "Iterat #Fevals   function value  axis ratio  sigma  min&max std  t[m:s]\n",
      "    1     10 -2.992499774047030e+04 1.0e+00 1.64e-01  2e-01  2e-01 0:00.0\n",
      "    2     20 -2.098041081325628e+04 1.3e+00 1.63e-01  2e-01  2e-01 0:00.0\n",
      "    3     30 -1.834904650276549e+04 1.3e+00 1.64e-01  2e-01  2e-01 0:00.0\n",
      "  100   1000 -3.332675228360581e+04 4.6e+00 7.71e-02  4e-02  9e-02 0:00.3\n",
      "(5_w,10)-aCMA-ES (mu_w=3.2,w_1=45%) in dimension 10 (seed=1234, Thu Jul  7 12:22:02 2022)\n",
      "Iterat #Fevals   function value  axis ratio  sigma  min&max std  t[m:s]\n",
      "    1     10 -3.399798259601594e+04 1.0e+00 1.78e-01  2e-01  2e-01 0:00.0\n",
      "    2     20 -1.996417766977699e+04 1.3e+00 1.74e-01  2e-01  2e-01 0:00.0\n",
      "    3     30 -2.343975255083832e+04 1.3e+00 1.63e-01  2e-01  2e-01 0:00.0\n",
      "  100   1000 -3.622063385961905e+04 6.4e+00 3.90e-03  8e-04  4e-03 0:00.3\n",
      "(5_w,10)-aCMA-ES (mu_w=3.2,w_1=45%) in dimension 10 (seed=1234, Thu Jul  7 12:22:03 2022)\n",
      "Iterat #Fevals   function value  axis ratio  sigma  min&max std  t[m:s]\n",
      "    1     10 -3.305851956120266e+04 1.0e+00 2.01e-01  2e-01  2e-01 0:00.0\n",
      "    2     20 -2.159481895455652e+04 1.2e+00 2.04e-01  2e-01  2e-01 0:00.0\n",
      "    3     30 -2.661226607383270e+04 1.3e+00 2.10e-01  2e-01  2e-01 0:00.0\n",
      "  100   1000 -1.707156944646807e+04 4.3e+00 1.77e-01  1e-01  2e-01 0:00.3\n",
      "(5_w,10)-aCMA-ES (mu_w=3.2,w_1=45%) in dimension 10 (seed=1234, Thu Jul  7 12:22:03 2022)\n",
      "Iterat #Fevals   function value  axis ratio  sigma  min&max std  t[m:s]\n",
      "    1     10 -2.319786046937811e+04 1.0e+00 1.17e-01  1e-01  1e-01 0:00.0\n",
      "    2     20 -2.867739170902771e+04 1.2e+00 1.16e-01  1e-01  1e-01 0:00.0\n",
      "    3     30 -3.268080391225294e+04 1.3e+00 1.11e-01  1e-01  1e-01 0:00.0\n",
      "  100   1000 -3.725608119980501e+04 6.6e+00 6.50e-03  2e-03  7e-03 0:00.3\n",
      "(5_w,10)-aCMA-ES (mu_w=3.2,w_1=45%) in dimension 10 (seed=1234, Thu Jul  7 12:22:04 2022)\n",
      "Iterat #Fevals   function value  axis ratio  sigma  min&max std  t[m:s]\n",
      "    1     10 -2.912462783498660e+04 1.0e+00 1.38e-01  1e-01  1e-01 0:00.0\n",
      "    2     20 -3.470059013501550e+04 1.3e+00 1.32e-01  1e-01  1e-01 0:00.0\n",
      "    3     30 -4.876579151271848e+03 1.3e+00 1.22e-01  1e-01  1e-01 0:00.0\n",
      "  100   1000 -2.839780952715653e+04 5.3e+00 1.61e-01  6e-02  2e-01 0:00.3\n",
      "(5_w,10)-aCMA-ES (mu_w=3.2,w_1=45%) in dimension 10 (seed=1234, Thu Jul  7 12:22:04 2022)\n",
      "Iterat #Fevals   function value  axis ratio  sigma  min&max std  t[m:s]\n",
      "    1     10 -2.992499774047030e+04 1.0e+00 1.64e-01  2e-01  2e-01 0:00.0\n",
      "    2     20 -2.098041081325628e+04 1.3e+00 1.63e-01  2e-01  2e-01 0:00.0\n",
      "    3     30 -1.834904650276549e+04 1.3e+00 1.64e-01  2e-01  2e-01 0:00.0\n",
      "  100   1000 -3.332675228360581e+04 4.6e+00 7.71e-02  4e-02  9e-02 0:00.3\n",
      "(5_w,10)-aCMA-ES (mu_w=3.2,w_1=45%) in dimension 10 (seed=1234, Thu Jul  7 12:22:05 2022)\n",
      "Iterat #Fevals   function value  axis ratio  sigma  min&max std  t[m:s]\n",
      "    1     10 -3.399798259601594e+04 1.0e+00 1.78e-01  2e-01  2e-01 0:00.0\n",
      "    2     20 -1.996417766977699e+04 1.3e+00 1.74e-01  2e-01  2e-01 0:00.0\n",
      "    3     30 -2.343975255083832e+04 1.3e+00 1.63e-01  2e-01  2e-01 0:00.0\n",
      "  100   1000 -3.622063385961905e+04 6.4e+00 3.90e-03  8e-04  4e-03 0:00.3\n",
      "(5_w,10)-aCMA-ES (mu_w=3.2,w_1=45%) in dimension 10 (seed=1234, Thu Jul  7 12:22:05 2022)\n",
      "Iterat #Fevals   function value  axis ratio  sigma  min&max std  t[m:s]\n",
      "    1     10 -3.305851956120266e+04 1.0e+00 2.01e-01  2e-01  2e-01 0:00.0\n",
      "    2     20 -2.159481895455652e+04 1.2e+00 2.04e-01  2e-01  2e-01 0:00.0\n",
      "    3     30 -2.661226607383270e+04 1.3e+00 2.10e-01  2e-01  2e-01 0:00.0\n",
      "  100   1000 -1.707156944646807e+04 4.3e+00 1.77e-01  1e-01  2e-01 0:00.3\n",
      "(5_w,10)-aCMA-ES (mu_w=3.2,w_1=45%) in dimension 10 (seed=1234, Thu Jul  7 12:22:06 2022)\n",
      "Iterat #Fevals   function value  axis ratio  sigma  min&max std  t[m:s]\n",
      "    1     10 -2.319786046937811e+04 1.0e+00 1.17e-01  1e-01  1e-01 0:00.0\n",
      "    2     20 -2.867739170902771e+04 1.2e+00 1.16e-01  1e-01  1e-01 0:00.0\n",
      "    3     30 -3.268080391225294e+04 1.3e+00 1.11e-01  1e-01  1e-01 0:00.0\n",
      "  100   1000 -3.725608119980501e+04 6.6e+00 6.50e-03  2e-03  7e-03 0:00.3\n"
     ]
    },
    {
     "name": "stdout",
     "output_type": "stream",
     "text": [
      "(5_w,10)-aCMA-ES (mu_w=3.2,w_1=45%) in dimension 10 (seed=1234, Thu Jul  7 12:22:06 2022)\n",
      "Iterat #Fevals   function value  axis ratio  sigma  min&max std  t[m:s]\n",
      "    1     10 -2.912462783498660e+04 1.0e+00 1.38e-01  1e-01  1e-01 0:00.0\n",
      "    2     20 -3.470059013501550e+04 1.3e+00 1.32e-01  1e-01  1e-01 0:00.0\n",
      "    3     30 -4.876579151271848e+03 1.3e+00 1.22e-01  1e-01  1e-01 0:00.0\n",
      "  100   1000 -2.839780952715653e+04 5.3e+00 1.61e-01  6e-02  2e-01 0:00.3\n",
      "(5_w,10)-aCMA-ES (mu_w=3.2,w_1=45%) in dimension 10 (seed=1234, Thu Jul  7 12:22:07 2022)\n",
      "Iterat #Fevals   function value  axis ratio  sigma  min&max std  t[m:s]\n",
      "    1     10 -2.992499774047030e+04 1.0e+00 1.64e-01  2e-01  2e-01 0:00.0\n",
      "    2     20 -2.098041081325628e+04 1.3e+00 1.63e-01  2e-01  2e-01 0:00.0\n",
      "    3     30 -1.834904650276549e+04 1.3e+00 1.64e-01  2e-01  2e-01 0:00.0\n",
      "  100   1000 -3.332675228360581e+04 4.6e+00 7.71e-02  4e-02  9e-02 0:00.3\n",
      "(5_w,10)-aCMA-ES (mu_w=3.2,w_1=45%) in dimension 10 (seed=1234, Thu Jul  7 12:22:07 2022)\n",
      "Iterat #Fevals   function value  axis ratio  sigma  min&max std  t[m:s]\n",
      "    1     10 -3.399798259601594e+04 1.0e+00 1.78e-01  2e-01  2e-01 0:00.0\n",
      "    2     20 -1.996417766977699e+04 1.3e+00 1.74e-01  2e-01  2e-01 0:00.0\n",
      "    3     30 -2.343975255083832e+04 1.3e+00 1.63e-01  2e-01  2e-01 0:00.0\n",
      "  100   1000 -3.622063385961905e+04 6.4e+00 3.90e-03  8e-04  4e-03 0:00.3\n",
      "(5_w,10)-aCMA-ES (mu_w=3.2,w_1=45%) in dimension 10 (seed=1234, Thu Jul  7 12:22:07 2022)\n",
      "Iterat #Fevals   function value  axis ratio  sigma  min&max std  t[m:s]\n",
      "    1     10 -3.305851956120266e+04 1.0e+00 2.01e-01  2e-01  2e-01 0:00.0\n",
      "    2     20 -2.159481895455652e+04 1.2e+00 2.04e-01  2e-01  2e-01 0:00.0\n",
      "    3     30 -2.661226607383270e+04 1.3e+00 2.10e-01  2e-01  2e-01 0:00.0\n",
      "  100   1000 -1.707156944646807e+04 4.3e+00 1.77e-01  1e-01  2e-01 0:00.3\n",
      "(5_w,10)-aCMA-ES (mu_w=3.2,w_1=45%) in dimension 10 (seed=1234, Thu Jul  7 12:22:08 2022)\n",
      "Iterat #Fevals   function value  axis ratio  sigma  min&max std  t[m:s]\n",
      "    1     10 -2.319786046937811e+04 1.0e+00 1.17e-01  1e-01  1e-01 0:00.0\n",
      "    2     20 -2.867739170902771e+04 1.2e+00 1.16e-01  1e-01  1e-01 0:00.0\n",
      "    3     30 -3.268080391225294e+04 1.3e+00 1.11e-01  1e-01  1e-01 0:00.0\n",
      "  100   1000 -3.725608119980501e+04 6.6e+00 6.50e-03  2e-03  7e-03 0:00.3\n",
      "(5_w,10)-aCMA-ES (mu_w=3.2,w_1=45%) in dimension 10 (seed=1234, Thu Jul  7 12:22:08 2022)\n",
      "Iterat #Fevals   function value  axis ratio  sigma  min&max std  t[m:s]\n",
      "    1     10 -2.912462783498660e+04 1.0e+00 1.38e-01  1e-01  1e-01 0:00.0\n",
      "    2     20 -3.470059013501550e+04 1.3e+00 1.32e-01  1e-01  1e-01 0:00.0\n",
      "    3     30 -4.876579151271848e+03 1.3e+00 1.22e-01  1e-01  1e-01 0:00.0\n",
      "  100   1000 -2.839780952715653e+04 5.3e+00 1.61e-01  6e-02  2e-01 0:00.3\n",
      "(5_w,10)-aCMA-ES (mu_w=3.2,w_1=45%) in dimension 10 (seed=1234, Thu Jul  7 12:22:09 2022)\n",
      "Iterat #Fevals   function value  axis ratio  sigma  min&max std  t[m:s]\n",
      "    1     10 -2.992499774047030e+04 1.0e+00 1.64e-01  2e-01  2e-01 0:00.0\n",
      "    2     20 -2.098041081325628e+04 1.3e+00 1.63e-01  2e-01  2e-01 0:00.0\n",
      "    3     30 -1.834904650276549e+04 1.3e+00 1.64e-01  2e-01  2e-01 0:00.0\n",
      "  100   1000 -3.332675228360581e+04 4.6e+00 7.71e-02  4e-02  9e-02 0:00.3\n",
      "(5_w,10)-aCMA-ES (mu_w=3.2,w_1=45%) in dimension 10 (seed=1234, Thu Jul  7 12:22:09 2022)\n",
      "Iterat #Fevals   function value  axis ratio  sigma  min&max std  t[m:s]\n",
      "    1     10 -3.399798259601594e+04 1.0e+00 1.78e-01  2e-01  2e-01 0:00.0\n",
      "    2     20 -1.996417766977699e+04 1.3e+00 1.74e-01  2e-01  2e-01 0:00.0\n",
      "    3     30 -2.343975255083832e+04 1.3e+00 1.63e-01  2e-01  2e-01 0:00.0\n",
      "  100   1000 -3.622063385961905e+04 6.4e+00 3.90e-03  8e-04  4e-03 0:00.3\n",
      "(5_w,10)-aCMA-ES (mu_w=3.2,w_1=45%) in dimension 10 (seed=1234, Thu Jul  7 12:22:10 2022)\n",
      "Iterat #Fevals   function value  axis ratio  sigma  min&max std  t[m:s]\n",
      "    1     10 -3.305851956120266e+04 1.0e+00 2.01e-01  2e-01  2e-01 0:00.0\n",
      "    2     20 -2.159481895455652e+04 1.2e+00 2.04e-01  2e-01  2e-01 0:00.0\n",
      "    3     30 -2.661226607383270e+04 1.3e+00 2.10e-01  2e-01  2e-01 0:00.0\n",
      "  100   1000 -1.707156944646807e+04 4.3e+00 1.77e-01  1e-01  2e-01 0:00.3\n",
      "(5_w,10)-aCMA-ES (mu_w=3.2,w_1=45%) in dimension 10 (seed=1234, Thu Jul  7 12:22:10 2022)\n",
      "Iterat #Fevals   function value  axis ratio  sigma  min&max std  t[m:s]\n",
      "    1     10 -2.319786046937811e+04 1.0e+00 1.17e-01  1e-01  1e-01 0:00.0\n",
      "    2     20 -2.867739170902771e+04 1.2e+00 1.16e-01  1e-01  1e-01 0:00.0\n",
      "    3     30 -3.268080391225294e+04 1.3e+00 1.11e-01  1e-01  1e-01 0:00.0\n",
      "  100   1000 -3.725608119980501e+04 6.6e+00 6.50e-03  2e-03  7e-03 0:00.3\n",
      "(5_w,10)-aCMA-ES (mu_w=3.2,w_1=45%) in dimension 10 (seed=1234, Thu Jul  7 12:22:11 2022)\n",
      "Iterat #Fevals   function value  axis ratio  sigma  min&max std  t[m:s]\n",
      "    1     10 -2.912462783498660e+04 1.0e+00 1.38e-01  1e-01  1e-01 0:00.0\n",
      "    2     20 -3.470059013501550e+04 1.3e+00 1.32e-01  1e-01  1e-01 0:00.0\n",
      "    3     30 -4.876579151271848e+03 1.3e+00 1.22e-01  1e-01  1e-01 0:00.0\n",
      "  100   1000 -2.839780952715653e+04 5.3e+00 1.61e-01  6e-02  2e-01 0:00.3\n",
      "(5_w,10)-aCMA-ES (mu_w=3.2,w_1=45%) in dimension 10 (seed=1234, Thu Jul  7 12:22:11 2022)\n",
      "Iterat #Fevals   function value  axis ratio  sigma  min&max std  t[m:s]\n",
      "    1     10 -2.992499774047030e+04 1.0e+00 1.64e-01  2e-01  2e-01 0:00.0\n",
      "    2     20 -2.098041081325628e+04 1.3e+00 1.63e-01  2e-01  2e-01 0:00.0\n",
      "    3     30 -1.834904650276549e+04 1.3e+00 1.64e-01  2e-01  2e-01 0:00.0\n",
      "  100   1000 -3.332675228360581e+04 4.6e+00 7.71e-02  4e-02  9e-02 0:00.3\n",
      "(5_w,10)-aCMA-ES (mu_w=3.2,w_1=45%) in dimension 10 (seed=1234, Thu Jul  7 12:22:12 2022)\n",
      "Iterat #Fevals   function value  axis ratio  sigma  min&max std  t[m:s]\n",
      "    1     10 -3.399798259601594e+04 1.0e+00 1.78e-01  2e-01  2e-01 0:00.0\n",
      "    2     20 -1.996417766977699e+04 1.3e+00 1.74e-01  2e-01  2e-01 0:00.0\n",
      "    3     30 -2.343975255083832e+04 1.3e+00 1.63e-01  2e-01  2e-01 0:00.0\n",
      "  100   1000 -3.622063385961905e+04 6.4e+00 3.90e-03  8e-04  4e-03 0:00.4\n",
      "(5_w,10)-aCMA-ES (mu_w=3.2,w_1=45%) in dimension 10 (seed=1234, Thu Jul  7 12:22:12 2022)\n",
      "Iterat #Fevals   function value  axis ratio  sigma  min&max std  t[m:s]\n",
      "    1     10 -3.305851956120266e+04 1.0e+00 2.01e-01  2e-01  2e-01 0:00.0\n",
      "    2     20 -2.159481895455652e+04 1.2e+00 2.04e-01  2e-01  2e-01 0:00.0\n",
      "    3     30 -2.661226607383270e+04 1.3e+00 2.10e-01  2e-01  2e-01 0:00.0\n",
      "  100   1000 -1.707156944646807e+04 4.3e+00 1.77e-01  1e-01  2e-01 0:00.3\n",
      "(5_w,10)-aCMA-ES (mu_w=3.2,w_1=45%) in dimension 10 (seed=1234, Thu Jul  7 12:22:13 2022)\n",
      "Iterat #Fevals   function value  axis ratio  sigma  min&max std  t[m:s]\n",
      "    1     10 -2.319786046937811e+04 1.0e+00 1.17e-01  1e-01  1e-01 0:00.0\n",
      "    2     20 -2.867739170902771e+04 1.2e+00 1.16e-01  1e-01  1e-01 0:00.0\n",
      "    3     30 -3.268080391225294e+04 1.3e+00 1.11e-01  1e-01  1e-01 0:00.0\n",
      "  100   1000 -3.725608119980501e+04 6.6e+00 6.50e-03  2e-03  7e-03 0:00.4\n",
      "(5_w,10)-aCMA-ES (mu_w=3.2,w_1=45%) in dimension 10 (seed=1234, Thu Jul  7 12:22:13 2022)\n",
      "Iterat #Fevals   function value  axis ratio  sigma  min&max std  t[m:s]\n",
      "    1     10 -2.912462783498660e+04 1.0e+00 1.38e-01  1e-01  1e-01 0:00.0\n",
      "    2     20 -3.470059013501550e+04 1.3e+00 1.32e-01  1e-01  1e-01 0:00.0\n",
      "    3     30 -4.876579151271848e+03 1.3e+00 1.22e-01  1e-01  1e-01 0:00.0\n",
      "  100   1000 -2.839780952715653e+04 5.3e+00 1.61e-01  6e-02  2e-01 0:00.3\n",
      "(5_w,10)-aCMA-ES (mu_w=3.2,w_1=45%) in dimension 10 (seed=1234, Thu Jul  7 12:22:14 2022)\n",
      "Iterat #Fevals   function value  axis ratio  sigma  min&max std  t[m:s]\n",
      "    1     10 -2.992499774047030e+04 1.0e+00 1.64e-01  2e-01  2e-01 0:00.0\n",
      "    2     20 -2.098041081325628e+04 1.3e+00 1.63e-01  2e-01  2e-01 0:00.0\n",
      "    3     30 -1.834904650276549e+04 1.3e+00 1.64e-01  2e-01  2e-01 0:00.0\n",
      "  100   1000 -3.332675228360581e+04 4.6e+00 7.71e-02  4e-02  9e-02 0:00.3\n",
      "(5_w,10)-aCMA-ES (mu_w=3.2,w_1=45%) in dimension 10 (seed=1234, Thu Jul  7 12:22:14 2022)\n",
      "Iterat #Fevals   function value  axis ratio  sigma  min&max std  t[m:s]\n",
      "    1     10 -3.399798259601594e+04 1.0e+00 1.78e-01  2e-01  2e-01 0:00.0\n",
      "    2     20 -1.996417766977699e+04 1.3e+00 1.74e-01  2e-01  2e-01 0:00.0\n",
      "    3     30 -2.343975255083832e+04 1.3e+00 1.63e-01  2e-01  2e-01 0:00.0\n",
      "  100   1000 -3.622063385961905e+04 6.4e+00 3.90e-03  8e-04  4e-03 0:00.4\n"
     ]
    },
    {
     "name": "stdout",
     "output_type": "stream",
     "text": [
      "(5_w,10)-aCMA-ES (mu_w=3.2,w_1=45%) in dimension 10 (seed=1234, Thu Jul  7 12:22:15 2022)\n",
      "Iterat #Fevals   function value  axis ratio  sigma  min&max std  t[m:s]\n",
      "    1     10 -3.305851956120266e+04 1.0e+00 2.01e-01  2e-01  2e-01 0:00.0\n",
      "    2     20 -2.159481895455652e+04 1.2e+00 2.04e-01  2e-01  2e-01 0:00.0\n",
      "    3     30 -2.661226607383270e+04 1.3e+00 2.10e-01  2e-01  2e-01 0:00.0\n",
      "  100   1000 -1.707156944646807e+04 4.3e+00 1.77e-01  1e-01  2e-01 0:00.3\n",
      "(5_w,10)-aCMA-ES (mu_w=3.2,w_1=45%) in dimension 10 (seed=1234, Thu Jul  7 12:22:15 2022)\n",
      "Iterat #Fevals   function value  axis ratio  sigma  min&max std  t[m:s]\n",
      "    1     10 -2.319786046937811e+04 1.0e+00 1.17e-01  1e-01  1e-01 0:00.0\n",
      "    2     20 -2.867739170902771e+04 1.2e+00 1.16e-01  1e-01  1e-01 0:00.0\n",
      "    3     30 -3.268080391225294e+04 1.3e+00 1.11e-01  1e-01  1e-01 0:00.0\n",
      "  100   1000 -3.725608119980501e+04 6.6e+00 6.50e-03  2e-03  7e-03 0:00.3\n",
      "(5_w,10)-aCMA-ES (mu_w=3.2,w_1=45%) in dimension 10 (seed=1234, Thu Jul  7 12:22:16 2022)\n",
      "Iterat #Fevals   function value  axis ratio  sigma  min&max std  t[m:s]\n",
      "    1     10 -2.912462783498660e+04 1.0e+00 1.38e-01  1e-01  1e-01 0:00.0\n",
      "    2     20 -3.470059013501550e+04 1.3e+00 1.32e-01  1e-01  1e-01 0:00.0\n",
      "    3     30 -4.876579151271848e+03 1.3e+00 1.22e-01  1e-01  1e-01 0:00.0\n",
      "  100   1000 -2.839780952715653e+04 5.3e+00 1.61e-01  6e-02  2e-01 0:00.3\n",
      "(5_w,10)-aCMA-ES (mu_w=3.2,w_1=45%) in dimension 10 (seed=1234, Thu Jul  7 12:22:16 2022)\n",
      "Iterat #Fevals   function value  axis ratio  sigma  min&max std  t[m:s]\n",
      "    1     10 -2.992499774047030e+04 1.0e+00 1.64e-01  2e-01  2e-01 0:00.0\n",
      "    2     20 -2.098041081325628e+04 1.3e+00 1.63e-01  2e-01  2e-01 0:00.0\n",
      "    3     30 -1.834904650276549e+04 1.3e+00 1.64e-01  2e-01  2e-01 0:00.0\n",
      "  100   1000 -3.332675228360581e+04 4.6e+00 7.71e-02  4e-02  9e-02 0:00.3\n",
      "(5_w,10)-aCMA-ES (mu_w=3.2,w_1=45%) in dimension 10 (seed=1234, Thu Jul  7 12:22:16 2022)\n",
      "Iterat #Fevals   function value  axis ratio  sigma  min&max std  t[m:s]\n",
      "    1     10 -3.399798259601594e+04 1.0e+00 1.78e-01  2e-01  2e-01 0:00.0\n",
      "    2     20 -1.996417766977699e+04 1.3e+00 1.74e-01  2e-01  2e-01 0:00.0\n",
      "    3     30 -2.343975255083832e+04 1.3e+00 1.63e-01  2e-01  2e-01 0:00.0\n",
      "  100   1000 -3.622063385961905e+04 6.4e+00 3.90e-03  8e-04  4e-03 0:00.3\n",
      "(5_w,10)-aCMA-ES (mu_w=3.2,w_1=45%) in dimension 10 (seed=1234, Thu Jul  7 12:22:17 2022)\n",
      "Iterat #Fevals   function value  axis ratio  sigma  min&max std  t[m:s]\n",
      "    1     10 -3.305851956120266e+04 1.0e+00 2.01e-01  2e-01  2e-01 0:00.0\n",
      "    2     20 -2.159481895455652e+04 1.2e+00 2.04e-01  2e-01  2e-01 0:00.0\n",
      "    3     30 -2.661226607383270e+04 1.3e+00 2.10e-01  2e-01  2e-01 0:00.0\n",
      "  100   1000 -1.707156944646807e+04 4.3e+00 1.77e-01  1e-01  2e-01 0:00.3\n",
      "(5_w,10)-aCMA-ES (mu_w=3.2,w_1=45%) in dimension 10 (seed=1234, Thu Jul  7 12:22:17 2022)\n",
      "Iterat #Fevals   function value  axis ratio  sigma  min&max std  t[m:s]\n",
      "    1     10 -2.319786046937811e+04 1.0e+00 1.17e-01  1e-01  1e-01 0:00.0\n",
      "    2     20 -2.867739170902771e+04 1.2e+00 1.16e-01  1e-01  1e-01 0:00.0\n",
      "    3     30 -3.268080391225294e+04 1.3e+00 1.11e-01  1e-01  1e-01 0:00.0\n",
      "  100   1000 -3.725608119980501e+04 6.6e+00 6.50e-03  2e-03  7e-03 0:00.4\n",
      "(5_w,10)-aCMA-ES (mu_w=3.2,w_1=45%) in dimension 10 (seed=1234, Thu Jul  7 12:22:18 2022)\n",
      "Iterat #Fevals   function value  axis ratio  sigma  min&max std  t[m:s]\n",
      "    1     10 -2.912462783498660e+04 1.0e+00 1.38e-01  1e-01  1e-01 0:00.0\n",
      "    2     20 -3.470059013501550e+04 1.3e+00 1.32e-01  1e-01  1e-01 0:00.0\n",
      "    3     30 -4.876579151271848e+03 1.3e+00 1.22e-01  1e-01  1e-01 0:00.0\n",
      "  100   1000 -2.839780952715653e+04 5.3e+00 1.61e-01  6e-02  2e-01 0:00.3\n",
      "(5_w,10)-aCMA-ES (mu_w=3.2,w_1=45%) in dimension 10 (seed=1234, Thu Jul  7 12:22:18 2022)\n",
      "Iterat #Fevals   function value  axis ratio  sigma  min&max std  t[m:s]\n",
      "    1     10 -2.992499774047030e+04 1.0e+00 1.64e-01  2e-01  2e-01 0:00.0\n",
      "    2     20 -2.098041081325628e+04 1.3e+00 1.63e-01  2e-01  2e-01 0:00.0\n",
      "    3     30 -1.834904650276549e+04 1.3e+00 1.64e-01  2e-01  2e-01 0:00.0\n",
      "  100   1000 -3.332675228360581e+04 4.6e+00 7.71e-02  4e-02  9e-02 0:00.4\n",
      "(5_w,10)-aCMA-ES (mu_w=3.2,w_1=45%) in dimension 10 (seed=1234, Thu Jul  7 12:22:19 2022)\n",
      "Iterat #Fevals   function value  axis ratio  sigma  min&max std  t[m:s]\n",
      "    1     10 -3.399798259601594e+04 1.0e+00 1.78e-01  2e-01  2e-01 0:00.0\n",
      "    2     20 -1.996417766977699e+04 1.3e+00 1.74e-01  2e-01  2e-01 0:00.0\n",
      "    3     30 -2.343975255083832e+04 1.3e+00 1.63e-01  2e-01  2e-01 0:00.0\n",
      "  100   1000 -3.622063385961905e+04 6.4e+00 3.90e-03  8e-04  4e-03 0:00.4\n",
      "(5_w,10)-aCMA-ES (mu_w=3.2,w_1=45%) in dimension 10 (seed=1234, Thu Jul  7 12:22:19 2022)\n",
      "Iterat #Fevals   function value  axis ratio  sigma  min&max std  t[m:s]\n",
      "    1     10 -3.305851956120266e+04 1.0e+00 2.01e-01  2e-01  2e-01 0:00.0\n",
      "    2     20 -2.159481895455652e+04 1.2e+00 2.04e-01  2e-01  2e-01 0:00.0\n",
      "    3     30 -2.661226607383270e+04 1.3e+00 2.10e-01  2e-01  2e-01 0:00.0\n",
      "  100   1000 -1.707156944646807e+04 4.3e+00 1.77e-01  1e-01  2e-01 0:00.3\n",
      "(5_w,10)-aCMA-ES (mu_w=3.2,w_1=45%) in dimension 10 (seed=1234, Thu Jul  7 12:22:20 2022)\n",
      "Iterat #Fevals   function value  axis ratio  sigma  min&max std  t[m:s]\n",
      "    1     10 -2.319786046937811e+04 1.0e+00 1.17e-01  1e-01  1e-01 0:00.0\n",
      "    2     20 -2.867739170902771e+04 1.2e+00 1.16e-01  1e-01  1e-01 0:00.0\n",
      "    3     30 -3.268080391225294e+04 1.3e+00 1.11e-01  1e-01  1e-01 0:00.0\n",
      "  100   1000 -3.725608119980501e+04 6.6e+00 6.50e-03  2e-03  7e-03 0:00.3\n",
      "(5_w,10)-aCMA-ES (mu_w=3.2,w_1=45%) in dimension 10 (seed=1234, Thu Jul  7 12:22:20 2022)\n",
      "Iterat #Fevals   function value  axis ratio  sigma  min&max std  t[m:s]\n",
      "    1     10 -2.912462783498660e+04 1.0e+00 1.38e-01  1e-01  1e-01 0:00.0\n",
      "    2     20 -3.470059013501550e+04 1.3e+00 1.32e-01  1e-01  1e-01 0:00.0\n",
      "    3     30 -4.876579151271848e+03 1.3e+00 1.22e-01  1e-01  1e-01 0:00.0\n",
      "  100   1000 -2.839780952715653e+04 5.3e+00 1.61e-01  6e-02  2e-01 0:00.3\n",
      "(5_w,10)-aCMA-ES (mu_w=3.2,w_1=45%) in dimension 10 (seed=1234, Thu Jul  7 12:22:21 2022)\n",
      "Iterat #Fevals   function value  axis ratio  sigma  min&max std  t[m:s]\n",
      "    1     10 -2.992499774047030e+04 1.0e+00 1.64e-01  2e-01  2e-01 0:00.0\n",
      "    2     20 -2.098041081325628e+04 1.3e+00 1.63e-01  2e-01  2e-01 0:00.0\n",
      "    3     30 -1.834904650276549e+04 1.3e+00 1.64e-01  2e-01  2e-01 0:00.0\n",
      "  100   1000 -3.332675228360581e+04 4.6e+00 7.71e-02  4e-02  9e-02 0:00.3\n",
      "(5_w,10)-aCMA-ES (mu_w=3.2,w_1=45%) in dimension 10 (seed=1234, Thu Jul  7 12:22:21 2022)\n",
      "Iterat #Fevals   function value  axis ratio  sigma  min&max std  t[m:s]\n",
      "    1     10 -3.399798259601594e+04 1.0e+00 1.78e-01  2e-01  2e-01 0:00.0\n",
      "    2     20 -1.996417766977699e+04 1.3e+00 1.74e-01  2e-01  2e-01 0:00.0\n",
      "    3     30 -2.343975255083832e+04 1.3e+00 1.63e-01  2e-01  2e-01 0:00.0\n",
      "  100   1000 -3.622063385961905e+04 6.4e+00 3.90e-03  8e-04  4e-03 0:00.4\n",
      "(5_w,10)-aCMA-ES (mu_w=3.2,w_1=45%) in dimension 10 (seed=1234, Thu Jul  7 12:22:22 2022)\n",
      "Iterat #Fevals   function value  axis ratio  sigma  min&max std  t[m:s]\n",
      "    1     10 -3.305851956120266e+04 1.0e+00 2.01e-01  2e-01  2e-01 0:00.0\n",
      "    2     20 -2.159481895455652e+04 1.2e+00 2.04e-01  2e-01  2e-01 0:00.0\n",
      "    3     30 -2.661226607383270e+04 1.3e+00 2.10e-01  2e-01  2e-01 0:00.0\n",
      "  100   1000 -1.707156944646807e+04 4.3e+00 1.77e-01  1e-01  2e-01 0:00.3\n",
      "(5_w,10)-aCMA-ES (mu_w=3.2,w_1=45%) in dimension 10 (seed=1234, Thu Jul  7 12:22:22 2022)\n",
      "Iterat #Fevals   function value  axis ratio  sigma  min&max std  t[m:s]\n",
      "    1     10 -2.319786046937811e+04 1.0e+00 1.17e-01  1e-01  1e-01 0:00.0\n",
      "    2     20 -2.867739170902771e+04 1.2e+00 1.16e-01  1e-01  1e-01 0:00.0\n",
      "    3     30 -3.268080391225294e+04 1.3e+00 1.11e-01  1e-01  1e-01 0:00.0\n",
      "  100   1000 -3.725608119980501e+04 6.6e+00 6.50e-03  2e-03  7e-03 0:00.3\n",
      "(5_w,10)-aCMA-ES (mu_w=3.2,w_1=45%) in dimension 10 (seed=1234, Thu Jul  7 12:22:23 2022)\n",
      "Iterat #Fevals   function value  axis ratio  sigma  min&max std  t[m:s]\n",
      "    1     10 -2.912462783498660e+04 1.0e+00 1.38e-01  1e-01  1e-01 0:00.0\n",
      "    2     20 -3.470059013501550e+04 1.3e+00 1.32e-01  1e-01  1e-01 0:00.0\n",
      "    3     30 -4.876579151271848e+03 1.3e+00 1.22e-01  1e-01  1e-01 0:00.0\n",
      "  100   1000 -2.839780952715653e+04 5.3e+00 1.61e-01  6e-02  2e-01 0:00.3\n"
     ]
    },
    {
     "name": "stdout",
     "output_type": "stream",
     "text": [
      "(5_w,10)-aCMA-ES (mu_w=3.2,w_1=45%) in dimension 10 (seed=1234, Thu Jul  7 12:22:23 2022)\n",
      "Iterat #Fevals   function value  axis ratio  sigma  min&max std  t[m:s]\n",
      "    1     10 -2.992499774047030e+04 1.0e+00 1.64e-01  2e-01  2e-01 0:00.0\n",
      "    2     20 -2.098041081325628e+04 1.3e+00 1.63e-01  2e-01  2e-01 0:00.0\n",
      "    3     30 -1.834904650276549e+04 1.3e+00 1.64e-01  2e-01  2e-01 0:00.0\n",
      "  100   1000 -3.332675228360581e+04 4.6e+00 7.71e-02  4e-02  9e-02 0:00.3\n",
      "(5_w,10)-aCMA-ES (mu_w=3.2,w_1=45%) in dimension 10 (seed=1234, Thu Jul  7 12:22:24 2022)\n",
      "Iterat #Fevals   function value  axis ratio  sigma  min&max std  t[m:s]\n",
      "    1     10 -3.399798259601594e+04 1.0e+00 1.78e-01  2e-01  2e-01 0:00.0\n",
      "    2     20 -1.996417766977699e+04 1.3e+00 1.74e-01  2e-01  2e-01 0:00.0\n",
      "    3     30 -2.343975255083832e+04 1.3e+00 1.63e-01  2e-01  2e-01 0:00.0\n",
      "  100   1000 -3.622063385961905e+04 6.4e+00 3.90e-03  8e-04  4e-03 0:00.4\n",
      "(5_w,10)-aCMA-ES (mu_w=3.2,w_1=45%) in dimension 10 (seed=1234, Thu Jul  7 12:22:24 2022)\n",
      "Iterat #Fevals   function value  axis ratio  sigma  min&max std  t[m:s]\n",
      "    1     10 -3.305851956120266e+04 1.0e+00 2.01e-01  2e-01  2e-01 0:00.0\n",
      "    2     20 -2.159481895455652e+04 1.2e+00 2.04e-01  2e-01  2e-01 0:00.0\n",
      "    3     30 -2.661226607383270e+04 1.3e+00 2.10e-01  2e-01  2e-01 0:00.0\n",
      "  100   1000 -1.707156944646807e+04 4.3e+00 1.77e-01  1e-01  2e-01 0:00.3\n",
      "(5_w,10)-aCMA-ES (mu_w=3.2,w_1=45%) in dimension 10 (seed=1234, Thu Jul  7 12:22:25 2022)\n",
      "Iterat #Fevals   function value  axis ratio  sigma  min&max std  t[m:s]\n",
      "    1     10 -2.319786046937811e+04 1.0e+00 1.17e-01  1e-01  1e-01 0:00.0\n",
      "    2     20 -2.867739170902771e+04 1.2e+00 1.16e-01  1e-01  1e-01 0:00.0\n",
      "    3     30 -3.268080391225294e+04 1.3e+00 1.11e-01  1e-01  1e-01 0:00.0\n",
      "  100   1000 -3.725608119980501e+04 6.6e+00 6.50e-03  2e-03  7e-03 0:00.5\n",
      "(5_w,10)-aCMA-ES (mu_w=3.2,w_1=45%) in dimension 10 (seed=1234, Thu Jul  7 12:22:25 2022)\n",
      "Iterat #Fevals   function value  axis ratio  sigma  min&max std  t[m:s]\n",
      "    1     10 -2.912462783498660e+04 1.0e+00 1.38e-01  1e-01  1e-01 0:00.0\n",
      "    2     20 -3.470059013501550e+04 1.3e+00 1.32e-01  1e-01  1e-01 0:00.0\n",
      "    3     30 -4.876579151271848e+03 1.3e+00 1.22e-01  1e-01  1e-01 0:00.0\n",
      "  100   1000 -2.839780952715653e+04 5.3e+00 1.61e-01  6e-02  2e-01 0:00.3\n",
      "(5_w,10)-aCMA-ES (mu_w=3.2,w_1=45%) in dimension 10 (seed=1234, Thu Jul  7 12:22:26 2022)\n",
      "Iterat #Fevals   function value  axis ratio  sigma  min&max std  t[m:s]\n",
      "    1     10 -2.992499774047030e+04 1.0e+00 1.64e-01  2e-01  2e-01 0:00.0\n",
      "    2     20 -2.098041081325628e+04 1.3e+00 1.63e-01  2e-01  2e-01 0:00.0\n",
      "    3     30 -1.834904650276549e+04 1.3e+00 1.64e-01  2e-01  2e-01 0:00.0\n",
      "  100   1000 -3.332675228360581e+04 4.6e+00 7.71e-02  4e-02  9e-02 0:00.3\n",
      "(5_w,10)-aCMA-ES (mu_w=3.2,w_1=45%) in dimension 10 (seed=1234, Thu Jul  7 12:22:26 2022)\n",
      "Iterat #Fevals   function value  axis ratio  sigma  min&max std  t[m:s]\n",
      "    1     10 -3.399798259601594e+04 1.0e+00 1.78e-01  2e-01  2e-01 0:00.0\n",
      "    2     20 -1.996417766977699e+04 1.3e+00 1.74e-01  2e-01  2e-01 0:00.0\n",
      "    3     30 -2.343975255083832e+04 1.3e+00 1.63e-01  2e-01  2e-01 0:00.0\n",
      "  100   1000 -3.622063385961905e+04 6.4e+00 3.90e-03  8e-04  4e-03 0:00.4\n",
      "(5_w,10)-aCMA-ES (mu_w=3.2,w_1=45%) in dimension 10 (seed=1234, Thu Jul  7 12:22:27 2022)\n",
      "Iterat #Fevals   function value  axis ratio  sigma  min&max std  t[m:s]\n",
      "    1     10 -3.305851956120266e+04 1.0e+00 2.01e-01  2e-01  2e-01 0:00.0\n",
      "    2     20 -2.159481895455652e+04 1.2e+00 2.04e-01  2e-01  2e-01 0:00.0\n",
      "    3     30 -2.661226607383270e+04 1.3e+00 2.10e-01  2e-01  2e-01 0:00.0\n",
      "  100   1000 -1.707156944646807e+04 4.3e+00 1.77e-01  1e-01  2e-01 0:00.3\n",
      "(5_w,10)-aCMA-ES (mu_w=3.2,w_1=45%) in dimension 10 (seed=1234, Thu Jul  7 12:22:27 2022)\n",
      "Iterat #Fevals   function value  axis ratio  sigma  min&max std  t[m:s]\n",
      "    1     10 -2.319786046937811e+04 1.0e+00 1.17e-01  1e-01  1e-01 0:00.0\n",
      "    2     20 -2.867739170902771e+04 1.2e+00 1.16e-01  1e-01  1e-01 0:00.0\n",
      "    3     30 -3.268080391225294e+04 1.3e+00 1.11e-01  1e-01  1e-01 0:00.0\n",
      "  100   1000 -3.725608119980501e+04 6.6e+00 6.50e-03  2e-03  7e-03 0:00.3\n",
      "(5_w,10)-aCMA-ES (mu_w=3.2,w_1=45%) in dimension 10 (seed=1234, Thu Jul  7 12:22:28 2022)\n",
      "Iterat #Fevals   function value  axis ratio  sigma  min&max std  t[m:s]\n",
      "    1     10 -2.912462783498660e+04 1.0e+00 1.38e-01  1e-01  1e-01 0:00.0\n",
      "    2     20 -3.470059013501550e+04 1.3e+00 1.32e-01  1e-01  1e-01 0:00.0\n",
      "    3     30 -4.876579151271848e+03 1.3e+00 1.22e-01  1e-01  1e-01 0:00.0\n",
      "  100   1000 -2.839780952715653e+04 5.3e+00 1.61e-01  6e-02  2e-01 0:00.4\n",
      "(5_w,10)-aCMA-ES (mu_w=3.2,w_1=45%) in dimension 10 (seed=1234, Thu Jul  7 12:22:29 2022)\n",
      "Iterat #Fevals   function value  axis ratio  sigma  min&max std  t[m:s]\n",
      "    1     10 -2.992499774047030e+04 1.0e+00 1.64e-01  2e-01  2e-01 0:00.0\n",
      "    2     20 -2.098041081325628e+04 1.3e+00 1.63e-01  2e-01  2e-01 0:00.0\n",
      "    3     30 -1.834904650276549e+04 1.3e+00 1.64e-01  2e-01  2e-01 0:00.0\n",
      "  100   1000 -3.332675228360581e+04 4.6e+00 7.71e-02  4e-02  9e-02 0:00.3\n",
      "(5_w,10)-aCMA-ES (mu_w=3.2,w_1=45%) in dimension 10 (seed=1234, Thu Jul  7 12:22:29 2022)\n",
      "Iterat #Fevals   function value  axis ratio  sigma  min&max std  t[m:s]\n",
      "    1     10 -3.399798259601594e+04 1.0e+00 1.78e-01  2e-01  2e-01 0:00.0\n",
      "    2     20 -1.996417766977699e+04 1.3e+00 1.74e-01  2e-01  2e-01 0:00.0\n",
      "    3     30 -2.343975255083832e+04 1.3e+00 1.63e-01  2e-01  2e-01 0:00.0\n",
      "  100   1000 -3.622063385961905e+04 6.4e+00 3.90e-03  8e-04  4e-03 0:00.4\n",
      "(5_w,10)-aCMA-ES (mu_w=3.2,w_1=45%) in dimension 10 (seed=1234, Thu Jul  7 12:22:30 2022)\n",
      "Iterat #Fevals   function value  axis ratio  sigma  min&max std  t[m:s]\n",
      "    1     10 -3.305851956120266e+04 1.0e+00 2.01e-01  2e-01  2e-01 0:00.0\n",
      "    2     20 -2.159481895455652e+04 1.2e+00 2.04e-01  2e-01  2e-01 0:00.0\n",
      "    3     30 -2.661226607383270e+04 1.3e+00 2.10e-01  2e-01  2e-01 0:00.0\n",
      "  100   1000 -1.707156944646807e+04 4.3e+00 1.77e-01  1e-01  2e-01 0:00.3\n",
      "(5_w,10)-aCMA-ES (mu_w=3.2,w_1=45%) in dimension 10 (seed=1234, Thu Jul  7 12:22:30 2022)\n",
      "Iterat #Fevals   function value  axis ratio  sigma  min&max std  t[m:s]\n",
      "    1     10 -2.319786046937811e+04 1.0e+00 1.17e-01  1e-01  1e-01 0:00.0\n",
      "    2     20 -2.867739170902771e+04 1.2e+00 1.16e-01  1e-01  1e-01 0:00.0\n",
      "    3     30 -3.268080391225294e+04 1.3e+00 1.11e-01  1e-01  1e-01 0:00.0\n",
      "  100   1000 -3.725608119980501e+04 6.6e+00 6.50e-03  2e-03  7e-03 0:00.4\n",
      "(5_w,10)-aCMA-ES (mu_w=3.2,w_1=45%) in dimension 10 (seed=1234, Thu Jul  7 12:22:31 2022)\n",
      "Iterat #Fevals   function value  axis ratio  sigma  min&max std  t[m:s]\n",
      "    1     10 -2.912462783498660e+04 1.0e+00 1.38e-01  1e-01  1e-01 0:00.0\n",
      "    2     20 -3.470059013501550e+04 1.3e+00 1.32e-01  1e-01  1e-01 0:00.0\n",
      "    3     30 -4.876579151271848e+03 1.3e+00 1.22e-01  1e-01  1e-01 0:00.0\n",
      "  100   1000 -2.839780952715653e+04 5.3e+00 1.61e-01  6e-02  2e-01 0:00.3\n",
      "(5_w,10)-aCMA-ES (mu_w=3.2,w_1=45%) in dimension 10 (seed=1234, Thu Jul  7 12:22:31 2022)\n",
      "Iterat #Fevals   function value  axis ratio  sigma  min&max std  t[m:s]\n",
      "    1     10 -2.992499774047030e+04 1.0e+00 1.64e-01  2e-01  2e-01 0:00.0\n",
      "    2     20 -2.098041081325628e+04 1.3e+00 1.63e-01  2e-01  2e-01 0:00.0\n",
      "    3     30 -1.834904650276549e+04 1.3e+00 1.64e-01  2e-01  2e-01 0:00.0\n",
      "  100   1000 -3.332675228360581e+04 4.6e+00 7.71e-02  4e-02  9e-02 0:00.3\n",
      "(5_w,10)-aCMA-ES (mu_w=3.2,w_1=45%) in dimension 10 (seed=1234, Thu Jul  7 12:22:32 2022)\n",
      "Iterat #Fevals   function value  axis ratio  sigma  min&max std  t[m:s]\n",
      "    1     10 -3.399798259601594e+04 1.0e+00 1.78e-01  2e-01  2e-01 0:00.0\n",
      "    2     20 -1.996417766977699e+04 1.3e+00 1.74e-01  2e-01  2e-01 0:00.0\n",
      "    3     30 -2.343975255083832e+04 1.3e+00 1.63e-01  2e-01  2e-01 0:00.0\n",
      "  100   1000 -3.622063385961905e+04 6.4e+00 3.90e-03  8e-04  4e-03 0:00.4\n",
      "(5_w,10)-aCMA-ES (mu_w=3.2,w_1=45%) in dimension 10 (seed=1234, Thu Jul  7 12:22:32 2022)\n",
      "Iterat #Fevals   function value  axis ratio  sigma  min&max std  t[m:s]\n",
      "    1     10 -3.305851956120266e+04 1.0e+00 2.01e-01  2e-01  2e-01 0:00.0\n",
      "    2     20 -2.159481895455652e+04 1.2e+00 2.04e-01  2e-01  2e-01 0:00.0\n",
      "    3     30 -2.661226607383270e+04 1.3e+00 2.10e-01  2e-01  2e-01 0:00.0\n",
      "  100   1000 -1.707156944646807e+04 4.3e+00 1.77e-01  1e-01  2e-01 0:00.3\n"
     ]
    },
    {
     "name": "stdout",
     "output_type": "stream",
     "text": [
      "(5_w,10)-aCMA-ES (mu_w=3.2,w_1=45%) in dimension 10 (seed=1234, Thu Jul  7 12:22:32 2022)\n",
      "Iterat #Fevals   function value  axis ratio  sigma  min&max std  t[m:s]\n",
      "    1     10 -2.319786046937811e+04 1.0e+00 1.17e-01  1e-01  1e-01 0:00.0\n",
      "    2     20 -2.867739170902771e+04 1.2e+00 1.16e-01  1e-01  1e-01 0:00.0\n",
      "    3     30 -3.268080391225294e+04 1.3e+00 1.11e-01  1e-01  1e-01 0:00.0\n",
      "  100   1000 -3.725608119980501e+04 6.6e+00 6.50e-03  2e-03  7e-03 0:00.3\n",
      "(5_w,10)-aCMA-ES (mu_w=3.2,w_1=45%) in dimension 10 (seed=1234, Thu Jul  7 12:22:33 2022)\n",
      "Iterat #Fevals   function value  axis ratio  sigma  min&max std  t[m:s]\n",
      "    1     10 -2.912462783498660e+04 1.0e+00 1.38e-01  1e-01  1e-01 0:00.0\n",
      "    2     20 -3.470059013501550e+04 1.3e+00 1.32e-01  1e-01  1e-01 0:00.0\n",
      "    3     30 -4.876579151271848e+03 1.3e+00 1.22e-01  1e-01  1e-01 0:00.0\n",
      "  100   1000 -2.839780952715653e+04 5.3e+00 1.61e-01  6e-02  2e-01 0:00.3\n",
      "(5_w,10)-aCMA-ES (mu_w=3.2,w_1=45%) in dimension 10 (seed=1234, Thu Jul  7 12:22:33 2022)\n",
      "Iterat #Fevals   function value  axis ratio  sigma  min&max std  t[m:s]\n",
      "    1     10 -2.992499774047030e+04 1.0e+00 1.64e-01  2e-01  2e-01 0:00.0\n",
      "    2     20 -2.098041081325628e+04 1.3e+00 1.63e-01  2e-01  2e-01 0:00.0\n",
      "    3     30 -1.834904650276549e+04 1.3e+00 1.64e-01  2e-01  2e-01 0:00.0\n",
      "  100   1000 -3.332675228360581e+04 4.6e+00 7.71e-02  4e-02  9e-02 0:00.3\n",
      "(5_w,10)-aCMA-ES (mu_w=3.2,w_1=45%) in dimension 10 (seed=1234, Thu Jul  7 12:22:34 2022)\n",
      "Iterat #Fevals   function value  axis ratio  sigma  min&max std  t[m:s]\n",
      "    1     10 -3.399798259601594e+04 1.0e+00 1.78e-01  2e-01  2e-01 0:00.0\n",
      "    2     20 -1.996417766977699e+04 1.3e+00 1.74e-01  2e-01  2e-01 0:00.0\n",
      "    3     30 -2.343975255083832e+04 1.3e+00 1.63e-01  2e-01  2e-01 0:00.0\n",
      "  100   1000 -3.622063385961905e+04 6.4e+00 3.90e-03  8e-04  4e-03 0:00.4\n",
      "(5_w,10)-aCMA-ES (mu_w=3.2,w_1=45%) in dimension 10 (seed=1234, Thu Jul  7 12:22:34 2022)\n",
      "Iterat #Fevals   function value  axis ratio  sigma  min&max std  t[m:s]\n",
      "    1     10 -3.305851956120266e+04 1.0e+00 2.01e-01  2e-01  2e-01 0:00.0\n",
      "    2     20 -2.159481895455652e+04 1.2e+00 2.04e-01  2e-01  2e-01 0:00.0\n",
      "    3     30 -2.661226607383270e+04 1.3e+00 2.10e-01  2e-01  2e-01 0:00.0\n",
      "  100   1000 -1.707156944646807e+04 4.3e+00 1.77e-01  1e-01  2e-01 0:00.3\n",
      "(5_w,10)-aCMA-ES (mu_w=3.2,w_1=45%) in dimension 10 (seed=1234, Thu Jul  7 12:22:35 2022)\n",
      "Iterat #Fevals   function value  axis ratio  sigma  min&max std  t[m:s]\n",
      "    1     10 -2.319786046937811e+04 1.0e+00 1.17e-01  1e-01  1e-01 0:00.0\n",
      "    2     20 -2.867739170902771e+04 1.2e+00 1.16e-01  1e-01  1e-01 0:00.0\n",
      "    3     30 -3.268080391225294e+04 1.3e+00 1.11e-01  1e-01  1e-01 0:00.0\n",
      "  100   1000 -3.725608119980501e+04 6.6e+00 6.50e-03  2e-03  7e-03 0:00.3\n",
      "(5_w,10)-aCMA-ES (mu_w=3.2,w_1=45%) in dimension 10 (seed=1234, Thu Jul  7 12:22:35 2022)\n",
      "Iterat #Fevals   function value  axis ratio  sigma  min&max std  t[m:s]\n",
      "    1     10 -2.912462783498660e+04 1.0e+00 1.38e-01  1e-01  1e-01 0:00.0\n",
      "    2     20 -3.470059013501550e+04 1.3e+00 1.32e-01  1e-01  1e-01 0:00.0\n",
      "    3     30 -4.876579151271848e+03 1.3e+00 1.22e-01  1e-01  1e-01 0:00.0\n",
      "  100   1000 -2.839780952715653e+04 5.3e+00 1.61e-01  6e-02  2e-01 0:00.3\n",
      "(5_w,10)-aCMA-ES (mu_w=3.2,w_1=45%) in dimension 10 (seed=1234, Thu Jul  7 12:22:36 2022)\n",
      "Iterat #Fevals   function value  axis ratio  sigma  min&max std  t[m:s]\n",
      "    1     10 -2.992499774047030e+04 1.0e+00 1.64e-01  2e-01  2e-01 0:00.0\n",
      "    2     20 -2.098041081325628e+04 1.3e+00 1.63e-01  2e-01  2e-01 0:00.0\n",
      "    3     30 -1.834904650276549e+04 1.3e+00 1.64e-01  2e-01  2e-01 0:00.0\n",
      "  100   1000 -3.332675228360581e+04 4.6e+00 7.71e-02  4e-02  9e-02 0:00.3\n",
      "(5_w,10)-aCMA-ES (mu_w=3.2,w_1=45%) in dimension 10 (seed=1234, Thu Jul  7 12:22:36 2022)\n",
      "Iterat #Fevals   function value  axis ratio  sigma  min&max std  t[m:s]\n",
      "    1     10 -3.399798259601594e+04 1.0e+00 1.78e-01  2e-01  2e-01 0:00.0\n",
      "    2     20 -1.996417766977699e+04 1.3e+00 1.74e-01  2e-01  2e-01 0:00.0\n",
      "    3     30 -2.343975255083832e+04 1.3e+00 1.63e-01  2e-01  2e-01 0:00.0\n",
      "  100   1000 -3.622063385961905e+04 6.4e+00 3.90e-03  8e-04  4e-03 0:00.4\n",
      "(5_w,10)-aCMA-ES (mu_w=3.2,w_1=45%) in dimension 10 (seed=1234, Thu Jul  7 12:22:37 2022)\n",
      "Iterat #Fevals   function value  axis ratio  sigma  min&max std  t[m:s]\n",
      "    1     10 -3.305851956120266e+04 1.0e+00 2.01e-01  2e-01  2e-01 0:00.0\n",
      "    2     20 -2.159481895455652e+04 1.2e+00 2.04e-01  2e-01  2e-01 0:00.0\n",
      "    3     30 -2.661226607383270e+04 1.3e+00 2.10e-01  2e-01  2e-01 0:00.0\n",
      "  100   1000 -1.707156944646807e+04 4.3e+00 1.77e-01  1e-01  2e-01 0:00.3\n",
      "(5_w,10)-aCMA-ES (mu_w=3.2,w_1=45%) in dimension 10 (seed=1234, Thu Jul  7 12:22:37 2022)\n",
      "Iterat #Fevals   function value  axis ratio  sigma  min&max std  t[m:s]\n",
      "    1     10 -2.319786046937811e+04 1.0e+00 1.17e-01  1e-01  1e-01 0:00.0\n",
      "    2     20 -2.867739170902771e+04 1.2e+00 1.16e-01  1e-01  1e-01 0:00.0\n",
      "    3     30 -3.268080391225294e+04 1.3e+00 1.11e-01  1e-01  1e-01 0:00.0\n",
      "  100   1000 -3.725608119980501e+04 6.6e+00 6.50e-03  2e-03  7e-03 0:00.4\n",
      "(5_w,10)-aCMA-ES (mu_w=3.2,w_1=45%) in dimension 10 (seed=1234, Thu Jul  7 12:22:38 2022)\n",
      "Iterat #Fevals   function value  axis ratio  sigma  min&max std  t[m:s]\n",
      "    1     10 -2.912462783498660e+04 1.0e+00 1.38e-01  1e-01  1e-01 0:00.0\n",
      "    2     20 -3.470059013501550e+04 1.3e+00 1.32e-01  1e-01  1e-01 0:00.0\n",
      "    3     30 -4.876579151271848e+03 1.3e+00 1.22e-01  1e-01  1e-01 0:00.0\n",
      "  100   1000 -2.839780952715653e+04 5.3e+00 1.61e-01  6e-02  2e-01 0:00.3\n",
      "(5_w,10)-aCMA-ES (mu_w=3.2,w_1=45%) in dimension 10 (seed=1234, Thu Jul  7 12:22:38 2022)\n",
      "Iterat #Fevals   function value  axis ratio  sigma  min&max std  t[m:s]\n",
      "    1     10 -2.992499774047030e+04 1.0e+00 1.64e-01  2e-01  2e-01 0:00.0\n",
      "    2     20 -2.098041081325628e+04 1.3e+00 1.63e-01  2e-01  2e-01 0:00.0\n",
      "    3     30 -1.834904650276549e+04 1.3e+00 1.64e-01  2e-01  2e-01 0:00.0\n",
      "  100   1000 -3.332675228360581e+04 4.6e+00 7.71e-02  4e-02  9e-02 0:00.4\n",
      "(5_w,10)-aCMA-ES (mu_w=3.2,w_1=45%) in dimension 10 (seed=1234, Thu Jul  7 12:22:39 2022)\n",
      "Iterat #Fevals   function value  axis ratio  sigma  min&max std  t[m:s]\n",
      "    1     10 -3.399798259601594e+04 1.0e+00 1.78e-01  2e-01  2e-01 0:00.0\n",
      "    2     20 -1.996417766977699e+04 1.3e+00 1.74e-01  2e-01  2e-01 0:00.0\n",
      "    3     30 -2.343975255083832e+04 1.3e+00 1.63e-01  2e-01  2e-01 0:00.0\n",
      "  100   1000 -3.622063385961905e+04 6.4e+00 3.90e-03  8e-04  4e-03 0:00.4\n",
      "(5_w,10)-aCMA-ES (mu_w=3.2,w_1=45%) in dimension 10 (seed=1234, Thu Jul  7 12:22:39 2022)\n",
      "Iterat #Fevals   function value  axis ratio  sigma  min&max std  t[m:s]\n",
      "    1     10 -3.305851956120266e+04 1.0e+00 2.01e-01  2e-01  2e-01 0:00.0\n",
      "    2     20 -2.159481895455652e+04 1.2e+00 2.04e-01  2e-01  2e-01 0:00.0\n",
      "    3     30 -2.661226607383270e+04 1.3e+00 2.10e-01  2e-01  2e-01 0:00.0\n",
      "  100   1000 -1.707156944646807e+04 4.3e+00 1.77e-01  1e-01  2e-01 0:00.3\n",
      "(5_w,10)-aCMA-ES (mu_w=3.2,w_1=45%) in dimension 10 (seed=1234, Thu Jul  7 12:22:40 2022)\n",
      "Iterat #Fevals   function value  axis ratio  sigma  min&max std  t[m:s]\n",
      "    1     10 -2.319786046937811e+04 1.0e+00 1.17e-01  1e-01  1e-01 0:00.0\n",
      "    2     20 -2.867739170902771e+04 1.2e+00 1.16e-01  1e-01  1e-01 0:00.0\n",
      "    3     30 -3.268080391225294e+04 1.3e+00 1.11e-01  1e-01  1e-01 0:00.0\n",
      "  100   1000 -3.725608119980501e+04 6.6e+00 6.50e-03  2e-03  7e-03 0:00.4\n",
      "(5_w,10)-aCMA-ES (mu_w=3.2,w_1=45%) in dimension 10 (seed=1234, Thu Jul  7 12:22:40 2022)\n",
      "Iterat #Fevals   function value  axis ratio  sigma  min&max std  t[m:s]\n",
      "    1     10 -2.912462783498660e+04 1.0e+00 1.38e-01  1e-01  1e-01 0:00.0\n",
      "    2     20 -3.470059013501550e+04 1.3e+00 1.32e-01  1e-01  1e-01 0:00.0\n",
      "    3     30 -4.876579151271848e+03 1.3e+00 1.22e-01  1e-01  1e-01 0:00.0\n",
      "  100   1000 -2.839780952715653e+04 5.3e+00 1.61e-01  6e-02  2e-01 0:00.3\n",
      "(5_w,10)-aCMA-ES (mu_w=3.2,w_1=45%) in dimension 10 (seed=1234, Thu Jul  7 12:22:41 2022)\n",
      "Iterat #Fevals   function value  axis ratio  sigma  min&max std  t[m:s]\n",
      "    1     10 -2.992499774047030e+04 1.0e+00 1.64e-01  2e-01  2e-01 0:00.0\n",
      "    2     20 -2.098041081325628e+04 1.3e+00 1.63e-01  2e-01  2e-01 0:00.0\n",
      "    3     30 -1.834904650276549e+04 1.3e+00 1.64e-01  2e-01  2e-01 0:00.0\n",
      "  100   1000 -3.332675228360581e+04 4.6e+00 7.71e-02  4e-02  9e-02 0:00.4\n"
     ]
    },
    {
     "name": "stdout",
     "output_type": "stream",
     "text": [
      "(5_w,10)-aCMA-ES (mu_w=3.2,w_1=45%) in dimension 10 (seed=1234, Thu Jul  7 12:22:41 2022)\n",
      "Iterat #Fevals   function value  axis ratio  sigma  min&max std  t[m:s]\n",
      "    1     10 -3.399798259601594e+04 1.0e+00 1.78e-01  2e-01  2e-01 0:00.0\n",
      "    2     20 -1.996417766977699e+04 1.3e+00 1.74e-01  2e-01  2e-01 0:00.0\n",
      "    3     30 -2.343975255083832e+04 1.3e+00 1.63e-01  2e-01  2e-01 0:00.0\n",
      "  100   1000 -3.622063385961905e+04 6.4e+00 3.90e-03  8e-04  4e-03 0:00.4\n",
      "(5_w,10)-aCMA-ES (mu_w=3.2,w_1=45%) in dimension 10 (seed=1234, Thu Jul  7 12:22:42 2022)\n",
      "Iterat #Fevals   function value  axis ratio  sigma  min&max std  t[m:s]\n",
      "    1     10 -3.305851956120266e+04 1.0e+00 2.01e-01  2e-01  2e-01 0:00.0\n",
      "    2     20 -2.159481895455652e+04 1.2e+00 2.04e-01  2e-01  2e-01 0:00.0\n",
      "    3     30 -2.661226607383270e+04 1.3e+00 2.10e-01  2e-01  2e-01 0:00.0\n",
      "  100   1000 -1.707156944646807e+04 4.3e+00 1.77e-01  1e-01  2e-01 0:00.3\n",
      "(5_w,10)-aCMA-ES (mu_w=3.2,w_1=45%) in dimension 10 (seed=1234, Thu Jul  7 12:22:42 2022)\n",
      "Iterat #Fevals   function value  axis ratio  sigma  min&max std  t[m:s]\n",
      "    1     10 -2.319786046937811e+04 1.0e+00 1.17e-01  1e-01  1e-01 0:00.0\n",
      "    2     20 -2.867739170902771e+04 1.2e+00 1.16e-01  1e-01  1e-01 0:00.0\n",
      "    3     30 -3.268080391225294e+04 1.3e+00 1.11e-01  1e-01  1e-01 0:00.0\n",
      "  100   1000 -3.725608119980501e+04 6.6e+00 6.50e-03  2e-03  7e-03 0:00.4\n",
      "(5_w,10)-aCMA-ES (mu_w=3.2,w_1=45%) in dimension 10 (seed=1234, Thu Jul  7 12:22:43 2022)\n",
      "Iterat #Fevals   function value  axis ratio  sigma  min&max std  t[m:s]\n",
      "    1     10 -2.912462783498660e+04 1.0e+00 1.38e-01  1e-01  1e-01 0:00.0\n",
      "    2     20 -3.470059013501550e+04 1.3e+00 1.32e-01  1e-01  1e-01 0:00.0\n",
      "    3     30 -4.876579151271848e+03 1.3e+00 1.22e-01  1e-01  1e-01 0:00.0\n",
      "  100   1000 -2.839780952715653e+04 5.3e+00 1.61e-01  6e-02  2e-01 0:00.4\n",
      "(5_w,10)-aCMA-ES (mu_w=3.2,w_1=45%) in dimension 10 (seed=1234, Thu Jul  7 12:22:43 2022)\n",
      "Iterat #Fevals   function value  axis ratio  sigma  min&max std  t[m:s]\n",
      "    1     10 -2.992499774047030e+04 1.0e+00 1.64e-01  2e-01  2e-01 0:00.0\n",
      "    2     20 -2.098041081325628e+04 1.3e+00 1.63e-01  2e-01  2e-01 0:00.0\n",
      "    3     30 -1.834904650276549e+04 1.3e+00 1.64e-01  2e-01  2e-01 0:00.0\n",
      "  100   1000 -3.332675228360581e+04 4.6e+00 7.71e-02  4e-02  9e-02 0:00.4\n",
      "(5_w,10)-aCMA-ES (mu_w=3.2,w_1=45%) in dimension 10 (seed=1234, Thu Jul  7 12:22:44 2022)\n",
      "Iterat #Fevals   function value  axis ratio  sigma  min&max std  t[m:s]\n",
      "    1     10 -3.399798259601594e+04 1.0e+00 1.78e-01  2e-01  2e-01 0:00.0\n",
      "    2     20 -1.996417766977699e+04 1.3e+00 1.74e-01  2e-01  2e-01 0:00.0\n",
      "    3     30 -2.343975255083832e+04 1.3e+00 1.63e-01  2e-01  2e-01 0:00.0\n",
      "  100   1000 -3.622063385961905e+04 6.4e+00 3.90e-03  8e-04  4e-03 0:00.4\n",
      "(5_w,10)-aCMA-ES (mu_w=3.2,w_1=45%) in dimension 10 (seed=1234, Thu Jul  7 12:22:44 2022)\n",
      "Iterat #Fevals   function value  axis ratio  sigma  min&max std  t[m:s]\n",
      "    1     10 -3.305851956120266e+04 1.0e+00 2.01e-01  2e-01  2e-01 0:00.0\n",
      "    2     20 -2.159481895455652e+04 1.2e+00 2.04e-01  2e-01  2e-01 0:00.0\n",
      "    3     30 -2.661226607383270e+04 1.3e+00 2.10e-01  2e-01  2e-01 0:00.0\n",
      "  100   1000 -1.707156944646807e+04 4.3e+00 1.77e-01  1e-01  2e-01 0:00.4\n",
      "(5_w,10)-aCMA-ES (mu_w=3.2,w_1=45%) in dimension 10 (seed=1234, Thu Jul  7 12:22:45 2022)\n",
      "Iterat #Fevals   function value  axis ratio  sigma  min&max std  t[m:s]\n",
      "    1     10 -2.319786046937811e+04 1.0e+00 1.17e-01  1e-01  1e-01 0:00.0\n",
      "    2     20 -2.867739170902771e+04 1.2e+00 1.16e-01  1e-01  1e-01 0:00.0\n",
      "    3     30 -3.268080391225294e+04 1.3e+00 1.11e-01  1e-01  1e-01 0:00.0\n",
      "  100   1000 -3.725608119980501e+04 6.6e+00 6.50e-03  2e-03  7e-03 0:00.4\n",
      "(5_w,10)-aCMA-ES (mu_w=3.2,w_1=45%) in dimension 10 (seed=1234, Thu Jul  7 12:22:46 2022)\n",
      "Iterat #Fevals   function value  axis ratio  sigma  min&max std  t[m:s]\n",
      "    1     10 -2.912462783498660e+04 1.0e+00 1.38e-01  1e-01  1e-01 0:00.0\n",
      "    2     20 -3.470059013501550e+04 1.3e+00 1.32e-01  1e-01  1e-01 0:00.0\n",
      "    3     30 -4.876579151271848e+03 1.3e+00 1.22e-01  1e-01  1e-01 0:00.0\n",
      "  100   1000 -2.839780952715653e+04 5.3e+00 1.61e-01  6e-02  2e-01 0:00.4\n",
      "(5_w,10)-aCMA-ES (mu_w=3.2,w_1=45%) in dimension 10 (seed=1234, Thu Jul  7 12:22:46 2022)\n",
      "Iterat #Fevals   function value  axis ratio  sigma  min&max std  t[m:s]\n",
      "    1     10 -2.992499774047030e+04 1.0e+00 1.64e-01  2e-01  2e-01 0:00.0\n",
      "    2     20 -2.098041081325628e+04 1.3e+00 1.63e-01  2e-01  2e-01 0:00.0\n",
      "    3     30 -1.834904650276549e+04 1.3e+00 1.64e-01  2e-01  2e-01 0:00.0\n",
      "  100   1000 -3.332675228360581e+04 4.6e+00 7.71e-02  4e-02  9e-02 0:00.3\n",
      "(5_w,10)-aCMA-ES (mu_w=3.2,w_1=45%) in dimension 10 (seed=1234, Thu Jul  7 12:22:47 2022)\n",
      "Iterat #Fevals   function value  axis ratio  sigma  min&max std  t[m:s]\n",
      "    1     10 -3.399798259601594e+04 1.0e+00 1.78e-01  2e-01  2e-01 0:00.0\n",
      "    2     20 -1.996417766977699e+04 1.3e+00 1.74e-01  2e-01  2e-01 0:00.0\n",
      "    3     30 -2.343975255083832e+04 1.3e+00 1.63e-01  2e-01  2e-01 0:00.0\n",
      "  100   1000 -3.622063385961905e+04 6.4e+00 3.90e-03  8e-04  4e-03 0:00.4\n",
      "(5_w,10)-aCMA-ES (mu_w=3.2,w_1=45%) in dimension 10 (seed=1234, Thu Jul  7 12:22:47 2022)\n",
      "Iterat #Fevals   function value  axis ratio  sigma  min&max std  t[m:s]\n",
      "    1     10 -3.305851956120266e+04 1.0e+00 2.01e-01  2e-01  2e-01 0:00.0\n",
      "    2     20 -2.159481895455652e+04 1.2e+00 2.04e-01  2e-01  2e-01 0:00.0\n",
      "    3     30 -2.661226607383270e+04 1.3e+00 2.10e-01  2e-01  2e-01 0:00.0\n",
      "  100   1000 -1.707156944646807e+04 4.3e+00 1.77e-01  1e-01  2e-01 0:00.4\n",
      "(5_w,10)-aCMA-ES (mu_w=3.2,w_1=45%) in dimension 10 (seed=1234, Thu Jul  7 12:22:48 2022)\n",
      "Iterat #Fevals   function value  axis ratio  sigma  min&max std  t[m:s]\n",
      "    1     10 -2.319786046937811e+04 1.0e+00 1.17e-01  1e-01  1e-01 0:00.0\n",
      "    2     20 -2.867739170902771e+04 1.2e+00 1.16e-01  1e-01  1e-01 0:00.0\n",
      "    3     30 -3.268080391225294e+04 1.3e+00 1.11e-01  1e-01  1e-01 0:00.0\n",
      "  100   1000 -3.725608119980501e+04 6.6e+00 6.50e-03  2e-03  7e-03 0:00.4\n",
      "(5_w,10)-aCMA-ES (mu_w=3.2,w_1=45%) in dimension 10 (seed=1234, Thu Jul  7 12:22:48 2022)\n",
      "Iterat #Fevals   function value  axis ratio  sigma  min&max std  t[m:s]\n",
      "    1     10 -2.912462783498660e+04 1.0e+00 1.38e-01  1e-01  1e-01 0:00.0\n",
      "    2     20 -3.470059013501550e+04 1.3e+00 1.32e-01  1e-01  1e-01 0:00.0\n",
      "    3     30 -4.876579151271848e+03 1.3e+00 1.22e-01  1e-01  1e-01 0:00.0\n",
      "  100   1000 -2.839780952715653e+04 5.3e+00 1.61e-01  6e-02  2e-01 0:00.4\n",
      "(5_w,10)-aCMA-ES (mu_w=3.2,w_1=45%) in dimension 10 (seed=1234, Thu Jul  7 12:22:49 2022)\n",
      "Iterat #Fevals   function value  axis ratio  sigma  min&max std  t[m:s]\n",
      "    1     10 -2.992499774047030e+04 1.0e+00 1.64e-01  2e-01  2e-01 0:00.0\n",
      "    2     20 -2.098041081325628e+04 1.3e+00 1.63e-01  2e-01  2e-01 0:00.0\n",
      "    3     30 -1.834904650276549e+04 1.3e+00 1.64e-01  2e-01  2e-01 0:00.0\n",
      "  100   1000 -3.332675228360581e+04 4.6e+00 7.71e-02  4e-02  9e-02 0:00.4\n",
      "(5_w,10)-aCMA-ES (mu_w=3.2,w_1=45%) in dimension 10 (seed=1234, Thu Jul  7 12:22:49 2022)\n",
      "Iterat #Fevals   function value  axis ratio  sigma  min&max std  t[m:s]\n",
      "    1     10 -3.399798259601594e+04 1.0e+00 1.78e-01  2e-01  2e-01 0:00.0\n",
      "    2     20 -1.996417766977699e+04 1.3e+00 1.74e-01  2e-01  2e-01 0:00.0\n",
      "    3     30 -2.343975255083832e+04 1.3e+00 1.63e-01  2e-01  2e-01 0:00.0\n",
      "  100   1000 -3.622063385961905e+04 6.4e+00 3.90e-03  8e-04  4e-03 0:00.4\n",
      "(5_w,10)-aCMA-ES (mu_w=3.2,w_1=45%) in dimension 10 (seed=1234, Thu Jul  7 12:22:50 2022)\n",
      "Iterat #Fevals   function value  axis ratio  sigma  min&max std  t[m:s]\n",
      "    1     10 -3.305851956120266e+04 1.0e+00 2.01e-01  2e-01  2e-01 0:00.0\n",
      "    2     20 -2.159481895455652e+04 1.2e+00 2.04e-01  2e-01  2e-01 0:00.0\n",
      "    3     30 -2.661226607383270e+04 1.3e+00 2.10e-01  2e-01  2e-01 0:00.0\n",
      "  100   1000 -1.707156944646807e+04 4.3e+00 1.77e-01  1e-01  2e-01 0:00.4\n",
      "(5_w,10)-aCMA-ES (mu_w=3.2,w_1=45%) in dimension 10 (seed=1234, Thu Jul  7 12:22:50 2022)\n",
      "Iterat #Fevals   function value  axis ratio  sigma  min&max std  t[m:s]\n",
      "    1     10 -2.319786046937811e+04 1.0e+00 1.17e-01  1e-01  1e-01 0:00.0\n",
      "    2     20 -2.867739170902771e+04 1.2e+00 1.16e-01  1e-01  1e-01 0:00.0\n",
      "    3     30 -3.268080391225294e+04 1.3e+00 1.11e-01  1e-01  1e-01 0:00.0\n",
      "  100   1000 -3.725608119980501e+04 6.6e+00 6.50e-03  2e-03  7e-03 0:00.4\n"
     ]
    },
    {
     "name": "stdout",
     "output_type": "stream",
     "text": [
      "(5_w,10)-aCMA-ES (mu_w=3.2,w_1=45%) in dimension 10 (seed=1234, Thu Jul  7 12:22:51 2022)\n",
      "Iterat #Fevals   function value  axis ratio  sigma  min&max std  t[m:s]\n",
      "    1     10 -2.912462783498660e+04 1.0e+00 1.38e-01  1e-01  1e-01 0:00.0\n",
      "    2     20 -3.470059013501550e+04 1.3e+00 1.32e-01  1e-01  1e-01 0:00.0\n",
      "    3     30 -4.876579151271848e+03 1.3e+00 1.22e-01  1e-01  1e-01 0:00.0\n",
      "  100   1000 -2.839780952715653e+04 5.3e+00 1.61e-01  6e-02  2e-01 0:00.4\n",
      "(5_w,10)-aCMA-ES (mu_w=3.2,w_1=45%) in dimension 10 (seed=1234, Thu Jul  7 12:22:51 2022)\n",
      "Iterat #Fevals   function value  axis ratio  sigma  min&max std  t[m:s]\n",
      "    1     10 -2.992499774047030e+04 1.0e+00 1.64e-01  2e-01  2e-01 0:00.0\n",
      "    2     20 -2.098041081325628e+04 1.3e+00 1.63e-01  2e-01  2e-01 0:00.0\n",
      "    3     30 -1.834904650276549e+04 1.3e+00 1.64e-01  2e-01  2e-01 0:00.0\n",
      "  100   1000 -3.332675228360581e+04 4.6e+00 7.71e-02  4e-02  9e-02 0:00.4\n",
      "(5_w,10)-aCMA-ES (mu_w=3.2,w_1=45%) in dimension 10 (seed=1234, Thu Jul  7 12:22:52 2022)\n",
      "Iterat #Fevals   function value  axis ratio  sigma  min&max std  t[m:s]\n",
      "    1     10 -3.399798259601594e+04 1.0e+00 1.78e-01  2e-01  2e-01 0:00.0\n",
      "    2     20 -1.996417766977699e+04 1.3e+00 1.74e-01  2e-01  2e-01 0:00.0\n",
      "    3     30 -2.343975255083832e+04 1.3e+00 1.63e-01  2e-01  2e-01 0:00.0\n",
      "  100   1000 -3.622063385961905e+04 6.4e+00 3.90e-03  8e-04  4e-03 0:00.4\n",
      "(5_w,10)-aCMA-ES (mu_w=3.2,w_1=45%) in dimension 10 (seed=1234, Thu Jul  7 12:22:52 2022)\n",
      "Iterat #Fevals   function value  axis ratio  sigma  min&max std  t[m:s]\n",
      "    1     10 -3.305851956120266e+04 1.0e+00 2.01e-01  2e-01  2e-01 0:00.0\n",
      "    2     20 -2.159481895455652e+04 1.2e+00 2.04e-01  2e-01  2e-01 0:00.0\n",
      "    3     30 -2.661226607383270e+04 1.3e+00 2.10e-01  2e-01  2e-01 0:00.0\n",
      "  100   1000 -1.707156944646807e+04 4.3e+00 1.77e-01  1e-01  2e-01 0:00.4\n",
      "(5_w,10)-aCMA-ES (mu_w=3.2,w_1=45%) in dimension 10 (seed=1234, Thu Jul  7 12:22:53 2022)\n",
      "Iterat #Fevals   function value  axis ratio  sigma  min&max std  t[m:s]\n",
      "    1     10 -2.319786046937811e+04 1.0e+00 1.17e-01  1e-01  1e-01 0:00.0\n",
      "    2     20 -2.867739170902771e+04 1.2e+00 1.16e-01  1e-01  1e-01 0:00.0\n",
      "    3     30 -3.268080391225294e+04 1.3e+00 1.11e-01  1e-01  1e-01 0:00.0\n",
      "  100   1000 -3.725608119980501e+04 6.6e+00 6.50e-03  2e-03  7e-03 0:00.4\n",
      "(5_w,10)-aCMA-ES (mu_w=3.2,w_1=45%) in dimension 10 (seed=1234, Thu Jul  7 12:22:53 2022)\n",
      "Iterat #Fevals   function value  axis ratio  sigma  min&max std  t[m:s]\n",
      "    1     10 -2.912462783498660e+04 1.0e+00 1.38e-01  1e-01  1e-01 0:00.0\n",
      "    2     20 -3.470059013501550e+04 1.3e+00 1.32e-01  1e-01  1e-01 0:00.0\n",
      "    3     30 -4.876579151271848e+03 1.3e+00 1.22e-01  1e-01  1e-01 0:00.0\n",
      "  100   1000 -2.839780952715653e+04 5.3e+00 1.61e-01  6e-02  2e-01 0:00.4\n",
      "(5_w,10)-aCMA-ES (mu_w=3.2,w_1=45%) in dimension 10 (seed=1234, Thu Jul  7 12:22:54 2022)\n",
      "Iterat #Fevals   function value  axis ratio  sigma  min&max std  t[m:s]\n",
      "    1     10 -2.992499774047030e+04 1.0e+00 1.64e-01  2e-01  2e-01 0:00.0\n",
      "    2     20 -2.098041081325628e+04 1.3e+00 1.63e-01  2e-01  2e-01 0:00.0\n",
      "    3     30 -1.834904650276549e+04 1.3e+00 1.64e-01  2e-01  2e-01 0:00.0\n",
      "  100   1000 -3.332675228360581e+04 4.6e+00 7.71e-02  4e-02  9e-02 0:00.4\n",
      "(5_w,10)-aCMA-ES (mu_w=3.2,w_1=45%) in dimension 10 (seed=1234, Thu Jul  7 12:22:55 2022)\n",
      "Iterat #Fevals   function value  axis ratio  sigma  min&max std  t[m:s]\n",
      "    1     10 -3.399798259601594e+04 1.0e+00 1.78e-01  2e-01  2e-01 0:00.0\n",
      "    2     20 -1.996417766977699e+04 1.3e+00 1.74e-01  2e-01  2e-01 0:00.0\n",
      "    3     30 -2.343975255083832e+04 1.3e+00 1.63e-01  2e-01  2e-01 0:00.0\n",
      "  100   1000 -3.622063385961905e+04 6.4e+00 3.90e-03  8e-04  4e-03 0:00.4\n",
      "(5_w,10)-aCMA-ES (mu_w=3.2,w_1=45%) in dimension 10 (seed=1234, Thu Jul  7 12:22:55 2022)\n",
      "Iterat #Fevals   function value  axis ratio  sigma  min&max std  t[m:s]\n",
      "    1     10 -3.305851956120266e+04 1.0e+00 2.01e-01  2e-01  2e-01 0:00.0\n",
      "    2     20 -2.159481895455652e+04 1.2e+00 2.04e-01  2e-01  2e-01 0:00.0\n",
      "    3     30 -2.661226607383270e+04 1.3e+00 2.10e-01  2e-01  2e-01 0:00.0\n",
      "  100   1000 -1.707156944646807e+04 4.3e+00 1.77e-01  1e-01  2e-01 0:00.4\n",
      "(5_w,10)-aCMA-ES (mu_w=3.2,w_1=45%) in dimension 10 (seed=1234, Thu Jul  7 12:22:56 2022)\n",
      "Iterat #Fevals   function value  axis ratio  sigma  min&max std  t[m:s]\n",
      "    1     10 -2.319786046937811e+04 1.0e+00 1.17e-01  1e-01  1e-01 0:00.0\n",
      "    2     20 -2.867739170902771e+04 1.2e+00 1.16e-01  1e-01  1e-01 0:00.0\n",
      "    3     30 -3.268080391225294e+04 1.3e+00 1.11e-01  1e-01  1e-01 0:00.0\n",
      "  100   1000 -3.725608119980501e+04 6.6e+00 6.50e-03  2e-03  7e-03 0:00.4\n",
      "(5_w,10)-aCMA-ES (mu_w=3.2,w_1=45%) in dimension 10 (seed=1234, Thu Jul  7 12:22:56 2022)\n",
      "Iterat #Fevals   function value  axis ratio  sigma  min&max std  t[m:s]\n",
      "    1     10 -2.912462783498660e+04 1.0e+00 1.38e-01  1e-01  1e-01 0:00.0\n",
      "    2     20 -3.470059013501550e+04 1.3e+00 1.32e-01  1e-01  1e-01 0:00.0\n",
      "    3     30 -4.876579151271848e+03 1.3e+00 1.22e-01  1e-01  1e-01 0:00.0\n",
      "  100   1000 -2.839780952715653e+04 5.3e+00 1.61e-01  6e-02  2e-01 0:00.3\n",
      "(5_w,10)-aCMA-ES (mu_w=3.2,w_1=45%) in dimension 10 (seed=1234, Thu Jul  7 12:22:57 2022)\n",
      "Iterat #Fevals   function value  axis ratio  sigma  min&max std  t[m:s]\n",
      "    1     10 -2.992499774047030e+04 1.0e+00 1.64e-01  2e-01  2e-01 0:00.0\n",
      "    2     20 -2.098041081325628e+04 1.3e+00 1.63e-01  2e-01  2e-01 0:00.0\n",
      "    3     30 -1.834904650276549e+04 1.3e+00 1.64e-01  2e-01  2e-01 0:00.0\n",
      "  100   1000 -3.332675228360581e+04 4.6e+00 7.71e-02  4e-02  9e-02 0:00.4\n",
      "(5_w,10)-aCMA-ES (mu_w=3.2,w_1=45%) in dimension 10 (seed=1234, Thu Jul  7 12:22:57 2022)\n",
      "Iterat #Fevals   function value  axis ratio  sigma  min&max std  t[m:s]\n",
      "    1     10 -3.399798259601594e+04 1.0e+00 1.78e-01  2e-01  2e-01 0:00.0\n",
      "    2     20 -1.996417766977699e+04 1.3e+00 1.74e-01  2e-01  2e-01 0:00.0\n",
      "    3     30 -2.343975255083832e+04 1.3e+00 1.63e-01  2e-01  2e-01 0:00.0\n",
      "  100   1000 -3.622063385961905e+04 6.4e+00 3.90e-03  8e-04  4e-03 0:00.4\n",
      "(5_w,10)-aCMA-ES (mu_w=3.2,w_1=45%) in dimension 10 (seed=1234, Thu Jul  7 12:22:58 2022)\n",
      "Iterat #Fevals   function value  axis ratio  sigma  min&max std  t[m:s]\n",
      "    1     10 -3.305851956120266e+04 1.0e+00 2.01e-01  2e-01  2e-01 0:00.0\n",
      "    2     20 -2.159481895455652e+04 1.2e+00 2.04e-01  2e-01  2e-01 0:00.0\n",
      "    3     30 -2.661226607383270e+04 1.3e+00 2.10e-01  2e-01  2e-01 0:00.0\n",
      "  100   1000 -1.707156944646807e+04 4.3e+00 1.77e-01  1e-01  2e-01 0:00.4\n",
      "(5_w,10)-aCMA-ES (mu_w=3.2,w_1=45%) in dimension 10 (seed=1234, Thu Jul  7 12:22:58 2022)\n",
      "Iterat #Fevals   function value  axis ratio  sigma  min&max std  t[m:s]\n",
      "    1     10 -2.319786046937811e+04 1.0e+00 1.17e-01  1e-01  1e-01 0:00.0\n",
      "    2     20 -2.867739170902771e+04 1.2e+00 1.16e-01  1e-01  1e-01 0:00.0\n",
      "    3     30 -3.268080391225294e+04 1.3e+00 1.11e-01  1e-01  1e-01 0:00.0\n",
      "  100   1000 -3.725608119980501e+04 6.6e+00 6.50e-03  2e-03  7e-03 0:00.4\n",
      "(5_w,10)-aCMA-ES (mu_w=3.2,w_1=45%) in dimension 10 (seed=1234, Thu Jul  7 12:22:59 2022)\n",
      "Iterat #Fevals   function value  axis ratio  sigma  min&max std  t[m:s]\n",
      "    1     10 -2.912462783498660e+04 1.0e+00 1.38e-01  1e-01  1e-01 0:00.0\n",
      "    2     20 -3.470059013501550e+04 1.3e+00 1.32e-01  1e-01  1e-01 0:00.0\n",
      "    3     30 -4.876579151271848e+03 1.3e+00 1.22e-01  1e-01  1e-01 0:00.0\n",
      "  100   1000 -2.839780952715653e+04 5.3e+00 1.61e-01  6e-02  2e-01 0:00.4\n",
      "(5_w,10)-aCMA-ES (mu_w=3.2,w_1=45%) in dimension 10 (seed=1234, Thu Jul  7 12:22:59 2022)\n",
      "Iterat #Fevals   function value  axis ratio  sigma  min&max std  t[m:s]\n",
      "    1     10 -2.992499774047030e+04 1.0e+00 1.64e-01  2e-01  2e-01 0:00.0\n",
      "    2     20 -2.098041081325628e+04 1.3e+00 1.63e-01  2e-01  2e-01 0:00.0\n",
      "    3     30 -1.834904650276549e+04 1.3e+00 1.64e-01  2e-01  2e-01 0:00.0\n",
      "  100   1000 -3.332675228360581e+04 4.6e+00 7.71e-02  4e-02  9e-02 0:00.4\n",
      "(5_w,10)-aCMA-ES (mu_w=3.2,w_1=45%) in dimension 10 (seed=1234, Thu Jul  7 12:23:00 2022)\n",
      "Iterat #Fevals   function value  axis ratio  sigma  min&max std  t[m:s]\n",
      "    1     10 -3.399798259601594e+04 1.0e+00 1.78e-01  2e-01  2e-01 0:00.0\n",
      "    2     20 -1.996417766977699e+04 1.3e+00 1.74e-01  2e-01  2e-01 0:00.0\n",
      "    3     30 -2.343975255083832e+04 1.3e+00 1.63e-01  2e-01  2e-01 0:00.0\n",
      "  100   1000 -3.622063385961905e+04 6.4e+00 3.90e-03  8e-04  4e-03 0:00.4\n"
     ]
    },
    {
     "name": "stdout",
     "output_type": "stream",
     "text": [
      "(5_w,10)-aCMA-ES (mu_w=3.2,w_1=45%) in dimension 10 (seed=1234, Thu Jul  7 12:23:00 2022)\n",
      "Iterat #Fevals   function value  axis ratio  sigma  min&max std  t[m:s]\n",
      "    1     10 -3.305851956120266e+04 1.0e+00 2.01e-01  2e-01  2e-01 0:00.0\n",
      "    2     20 -2.159481895455652e+04 1.2e+00 2.04e-01  2e-01  2e-01 0:00.0\n",
      "    3     30 -2.661226607383270e+04 1.3e+00 2.10e-01  2e-01  2e-01 0:00.0\n",
      "  100   1000 -1.707156944646807e+04 4.3e+00 1.77e-01  1e-01  2e-01 0:00.4\n",
      "(5_w,10)-aCMA-ES (mu_w=3.2,w_1=45%) in dimension 10 (seed=1234, Thu Jul  7 12:23:01 2022)\n",
      "Iterat #Fevals   function value  axis ratio  sigma  min&max std  t[m:s]\n",
      "    1     10 -2.319786046937811e+04 1.0e+00 1.17e-01  1e-01  1e-01 0:00.0\n",
      "    2     20 -2.867739170902771e+04 1.2e+00 1.16e-01  1e-01  1e-01 0:00.0\n",
      "    3     30 -3.268080391225294e+04 1.3e+00 1.11e-01  1e-01  1e-01 0:00.0\n",
      "  100   1000 -3.725608119980501e+04 6.6e+00 6.50e-03  2e-03  7e-03 0:00.4\n",
      "(5_w,10)-aCMA-ES (mu_w=3.2,w_1=45%) in dimension 10 (seed=1234, Thu Jul  7 12:23:01 2022)\n",
      "Iterat #Fevals   function value  axis ratio  sigma  min&max std  t[m:s]\n",
      "    1     10 -2.912462783498660e+04 1.0e+00 1.38e-01  1e-01  1e-01 0:00.0\n",
      "    2     20 -3.470059013501550e+04 1.3e+00 1.32e-01  1e-01  1e-01 0:00.0\n",
      "    3     30 -4.876579151271848e+03 1.3e+00 1.22e-01  1e-01  1e-01 0:00.0\n",
      "  100   1000 -2.839780952715653e+04 5.3e+00 1.61e-01  6e-02  2e-01 0:00.4\n",
      "(5_w,10)-aCMA-ES (mu_w=3.2,w_1=45%) in dimension 10 (seed=1234, Thu Jul  7 12:23:02 2022)\n",
      "Iterat #Fevals   function value  axis ratio  sigma  min&max std  t[m:s]\n",
      "    1     10 -2.992499774047030e+04 1.0e+00 1.64e-01  2e-01  2e-01 0:00.0\n",
      "    2     20 -2.098041081325628e+04 1.3e+00 1.63e-01  2e-01  2e-01 0:00.0\n",
      "    3     30 -1.834904650276549e+04 1.3e+00 1.64e-01  2e-01  2e-01 0:00.0\n",
      "  100   1000 -3.332675228360581e+04 4.6e+00 7.71e-02  4e-02  9e-02 0:00.4\n",
      "(5_w,10)-aCMA-ES (mu_w=3.2,w_1=45%) in dimension 10 (seed=1234, Thu Jul  7 12:23:02 2022)\n",
      "Iterat #Fevals   function value  axis ratio  sigma  min&max std  t[m:s]\n",
      "    1     10 -3.399798259601594e+04 1.0e+00 1.78e-01  2e-01  2e-01 0:00.0\n",
      "    2     20 -1.996417766977699e+04 1.3e+00 1.74e-01  2e-01  2e-01 0:00.0\n",
      "    3     30 -2.343975255083832e+04 1.3e+00 1.63e-01  2e-01  2e-01 0:00.0\n",
      "  100   1000 -3.622063385961905e+04 6.4e+00 3.90e-03  8e-04  4e-03 0:00.4\n",
      "(5_w,10)-aCMA-ES (mu_w=3.2,w_1=45%) in dimension 10 (seed=1234, Thu Jul  7 12:23:03 2022)\n",
      "Iterat #Fevals   function value  axis ratio  sigma  min&max std  t[m:s]\n",
      "    1     10 -3.305851956120266e+04 1.0e+00 2.01e-01  2e-01  2e-01 0:00.0\n",
      "    2     20 -2.159481895455652e+04 1.2e+00 2.04e-01  2e-01  2e-01 0:00.0\n",
      "    3     30 -2.661226607383270e+04 1.3e+00 2.10e-01  2e-01  2e-01 0:00.0\n",
      "  100   1000 -1.707156944646807e+04 4.3e+00 1.77e-01  1e-01  2e-01 0:00.4\n",
      "Wall time: 1min 13s\n"
     ]
    }
   ],
   "source": [
    "%%time\n",
    "fcma = []\n",
    "\n",
    "for i in range(n_starting_points):\n",
    "    start_time = time.time()\n",
    "    for j in sigmas:\n",
    "        es = cma.CMAEvolutionStrategy(generate_random_sp().flatten(), sigma0=j,\n",
    "                                  inopts={'bounds': boundsxy,'seed':1234})\n",
    "        es.optimize(f2, iterations=maxits / es.popsize)\n",
    "        fcma.append((es.result[1], es.result[0], (time.time() - start_time), j))"
   ]
  },
  {
   "cell_type": "code",
   "execution_count": 28,
   "metadata": {},
   "outputs": [],
   "source": [
    "for i in range(0, len(fcma)):\n",
    "    row = (pd.Series({'random_starting_point':i, 'algorithm':'CMA', 'ee':round(abs(fcma[i][0]),0),\n",
    "                                'eei':round(abs(np.sum(df_sec_enroll) - abs(fcma[i][0])),0), \n",
    "                                'proposed_locations': fcma[i][1], 'time':fcma[i][2], 'sigma':fcma[i][3]}))\n",
    "    results = results.append(row, ignore_index=True)"
   ]
  },
  {
   "cell_type": "code",
   "execution_count": 29,
   "metadata": {},
   "outputs": [],
   "source": [
    "results = results.sort_values(['eei'], ascending=False).reset_index()"
   ]
  },
  {
   "cell_type": "code",
   "execution_count": 30,
   "metadata": {},
   "outputs": [
    {
     "data": {
      "text/html": [
       "<div>\n",
       "<style scoped>\n",
       "    .dataframe tbody tr th:only-of-type {\n",
       "        vertical-align: middle;\n",
       "    }\n",
       "\n",
       "    .dataframe tbody tr th {\n",
       "        vertical-align: top;\n",
       "    }\n",
       "\n",
       "    .dataframe thead th {\n",
       "        text-align: right;\n",
       "    }\n",
       "</style>\n",
       "<table border=\"1\" class=\"dataframe\">\n",
       "  <thead>\n",
       "    <tr style=\"text-align: right;\">\n",
       "      <th></th>\n",
       "      <th>index</th>\n",
       "      <th>random_starting_point</th>\n",
       "      <th>algorithm</th>\n",
       "      <th>ee</th>\n",
       "      <th>eei</th>\n",
       "      <th>proposed_locations</th>\n",
       "      <th>time</th>\n",
       "      <th>sigma</th>\n",
       "    </tr>\n",
       "  </thead>\n",
       "  <tbody>\n",
       "    <tr>\n",
       "      <th>0</th>\n",
       "      <td>90</td>\n",
       "      <td>60</td>\n",
       "      <td>CMA</td>\n",
       "      <td>37283.0</td>\n",
       "      <td>34028.0</td>\n",
       "      <td>[10.909922801277434, 36.73073869405669, 10.799...</td>\n",
       "      <td>0.516483</td>\n",
       "      <td>0.12</td>\n",
       "    </tr>\n",
       "    <tr>\n",
       "      <th>1</th>\n",
       "      <td>135</td>\n",
       "      <td>105</td>\n",
       "      <td>CMA</td>\n",
       "      <td>37283.0</td>\n",
       "      <td>34028.0</td>\n",
       "      <td>[10.909922801277434, 36.73073869405669, 10.799...</td>\n",
       "      <td>0.498307</td>\n",
       "      <td>0.12</td>\n",
       "    </tr>\n",
       "    <tr>\n",
       "      <th>2</th>\n",
       "      <td>125</td>\n",
       "      <td>95</td>\n",
       "      <td>CMA</td>\n",
       "      <td>37283.0</td>\n",
       "      <td>34028.0</td>\n",
       "      <td>[10.909922801277434, 36.73073869405669, 10.799...</td>\n",
       "      <td>0.477640</td>\n",
       "      <td>0.12</td>\n",
       "    </tr>\n",
       "    <tr>\n",
       "      <th>3</th>\n",
       "      <td>120</td>\n",
       "      <td>90</td>\n",
       "      <td>CMA</td>\n",
       "      <td>37283.0</td>\n",
       "      <td>34028.0</td>\n",
       "      <td>[10.909922801277434, 36.73073869405669, 10.799...</td>\n",
       "      <td>0.474844</td>\n",
       "      <td>0.12</td>\n",
       "    </tr>\n",
       "    <tr>\n",
       "      <th>4</th>\n",
       "      <td>115</td>\n",
       "      <td>85</td>\n",
       "      <td>CMA</td>\n",
       "      <td>37283.0</td>\n",
       "      <td>34028.0</td>\n",
       "      <td>[10.909922801277434, 36.73073869405669, 10.799...</td>\n",
       "      <td>0.504864</td>\n",
       "      <td>0.12</td>\n",
       "    </tr>\n",
       "    <tr>\n",
       "      <th>...</th>\n",
       "      <td>...</td>\n",
       "      <td>...</td>\n",
       "      <td>...</td>\n",
       "      <td>...</td>\n",
       "      <td>...</td>\n",
       "      <td>...</td>\n",
       "      <td>...</td>\n",
       "      <td>...</td>\n",
       "    </tr>\n",
       "    <tr>\n",
       "      <th>175</th>\n",
       "      <td>152</td>\n",
       "      <td>122</td>\n",
       "      <td>CMA</td>\n",
       "      <td>34925.0</td>\n",
       "      <td>31670.0</td>\n",
       "      <td>[10.776955237847924, 36.93723334449329, 10.829...</td>\n",
       "      <td>1.602514</td>\n",
       "      <td>0.16</td>\n",
       "    </tr>\n",
       "    <tr>\n",
       "      <th>176</th>\n",
       "      <td>32</td>\n",
       "      <td>2</td>\n",
       "      <td>CMA</td>\n",
       "      <td>34925.0</td>\n",
       "      <td>31670.0</td>\n",
       "      <td>[10.776955237847924, 36.93723334449329, 10.829...</td>\n",
       "      <td>1.329467</td>\n",
       "      <td>0.16</td>\n",
       "    </tr>\n",
       "    <tr>\n",
       "      <th>177</th>\n",
       "      <td>42</td>\n",
       "      <td>12</td>\n",
       "      <td>CMA</td>\n",
       "      <td>34925.0</td>\n",
       "      <td>31670.0</td>\n",
       "      <td>[10.776955237847924, 36.93723334449329, 10.829...</td>\n",
       "      <td>1.359440</td>\n",
       "      <td>0.16</td>\n",
       "    </tr>\n",
       "    <tr>\n",
       "      <th>178</th>\n",
       "      <td>62</td>\n",
       "      <td>32</td>\n",
       "      <td>CMA</td>\n",
       "      <td>34925.0</td>\n",
       "      <td>31670.0</td>\n",
       "      <td>[10.776955237847924, 36.93723334449329, 10.829...</td>\n",
       "      <td>1.375105</td>\n",
       "      <td>0.16</td>\n",
       "    </tr>\n",
       "    <tr>\n",
       "      <th>179</th>\n",
       "      <td>5</td>\n",
       "      <td>5</td>\n",
       "      <td>Random Search</td>\n",
       "      <td>34838.0</td>\n",
       "      <td>31583.0</td>\n",
       "      <td>[[10.912348158765251, 36.73207150995411], [10....</td>\n",
       "      <td>0.207021</td>\n",
       "      <td>NA</td>\n",
       "    </tr>\n",
       "  </tbody>\n",
       "</table>\n",
       "<p>180 rows × 8 columns</p>\n",
       "</div>"
      ],
      "text/plain": [
       "     index random_starting_point      algorithm       ee      eei  \\\n",
       "0       90                    60            CMA  37283.0  34028.0   \n",
       "1      135                   105            CMA  37283.0  34028.0   \n",
       "2      125                    95            CMA  37283.0  34028.0   \n",
       "3      120                    90            CMA  37283.0  34028.0   \n",
       "4      115                    85            CMA  37283.0  34028.0   \n",
       "..     ...                   ...            ...      ...      ...   \n",
       "175    152                   122            CMA  34925.0  31670.0   \n",
       "176     32                     2            CMA  34925.0  31670.0   \n",
       "177     42                    12            CMA  34925.0  31670.0   \n",
       "178     62                    32            CMA  34925.0  31670.0   \n",
       "179      5                     5  Random Search  34838.0  31583.0   \n",
       "\n",
       "                                    proposed_locations      time sigma  \n",
       "0    [10.909922801277434, 36.73073869405669, 10.799...  0.516483  0.12  \n",
       "1    [10.909922801277434, 36.73073869405669, 10.799...  0.498307  0.12  \n",
       "2    [10.909922801277434, 36.73073869405669, 10.799...  0.477640  0.12  \n",
       "3    [10.909922801277434, 36.73073869405669, 10.799...  0.474844  0.12  \n",
       "4    [10.909922801277434, 36.73073869405669, 10.799...  0.504864  0.12  \n",
       "..                                                 ...       ...   ...  \n",
       "175  [10.776955237847924, 36.93723334449329, 10.829...  1.602514  0.16  \n",
       "176  [10.776955237847924, 36.93723334449329, 10.829...  1.329467  0.16  \n",
       "177  [10.776955237847924, 36.93723334449329, 10.829...  1.359440  0.16  \n",
       "178  [10.776955237847924, 36.93723334449329, 10.829...  1.375105  0.16  \n",
       "179  [[10.912348158765251, 36.73207150995411], [10....  0.207021    NA  \n",
       "\n",
       "[180 rows x 8 columns]"
      ]
     },
     "execution_count": 30,
     "metadata": {},
     "output_type": "execute_result"
    }
   ],
   "source": [
    "results"
   ]
  },
  {
   "cell_type": "code",
   "execution_count": 31,
   "metadata": {},
   "outputs": [
    {
     "data": {
      "text/html": [
       "<div>\n",
       "<style scoped>\n",
       "    .dataframe tbody tr th:only-of-type {\n",
       "        vertical-align: middle;\n",
       "    }\n",
       "\n",
       "    .dataframe tbody tr th {\n",
       "        vertical-align: top;\n",
       "    }\n",
       "\n",
       "    .dataframe thead th {\n",
       "        text-align: right;\n",
       "    }\n",
       "</style>\n",
       "<table border=\"1\" class=\"dataframe\">\n",
       "  <thead>\n",
       "    <tr style=\"text-align: right;\">\n",
       "      <th></th>\n",
       "      <th>index</th>\n",
       "      <th>random_starting_point</th>\n",
       "      <th>algorithm</th>\n",
       "      <th>ee</th>\n",
       "      <th>eei</th>\n",
       "      <th>proposed_locations</th>\n",
       "      <th>time</th>\n",
       "      <th>sigma</th>\n",
       "    </tr>\n",
       "  </thead>\n",
       "  <tbody>\n",
       "    <tr>\n",
       "      <th>0</th>\n",
       "      <td>90</td>\n",
       "      <td>60</td>\n",
       "      <td>CMA</td>\n",
       "      <td>37283.0</td>\n",
       "      <td>34028.0</td>\n",
       "      <td>[10.909922801277434, 36.73073869405669, 10.799...</td>\n",
       "      <td>0.516483</td>\n",
       "      <td>0.12</td>\n",
       "    </tr>\n",
       "  </tbody>\n",
       "</table>\n",
       "</div>"
      ],
      "text/plain": [
       "   index random_starting_point algorithm       ee      eei  \\\n",
       "0     90                    60       CMA  37283.0  34028.0   \n",
       "\n",
       "                                  proposed_locations      time sigma  \n",
       "0  [10.909922801277434, 36.73073869405669, 10.799...  0.516483  0.12  "
      ]
     },
     "execution_count": 31,
     "metadata": {},
     "output_type": "execute_result"
    }
   ],
   "source": [
    "# results.to_csv('results.csv', encoding='utf-8')\n",
    "top_result = results.head(1)\n",
    "top_result\n",
    "# print('Best Algorithm: ', top_result['algorithm'], '\\n Total Expected Enrollment')"
   ]
  },
  {
   "cell_type": "code",
   "execution_count": 33,
   "metadata": {},
   "outputs": [
    {
     "data": {
      "image/png": "[encoded data removed]",
      "text/plain": [
       "<Figure size 1080x1080 with 4 Axes>"
      ]
     },
     "metadata": {
      "needs_background": "light"
     },
     "output_type": "display_data"
    }
   ],
   "source": [
    "# Show results of top 4.\n",
    "top_4 = results[:4]\n",
    "fig, ((ax0, ax1), (ax2, ax3)) = plt.subplots(2, 2, figsize=(15,15))\n",
    "fig.suptitle('Top 4 Results. maxits=10,000, random_sp=30')\n",
    "\n",
    "for i in range(4):\n",
    "    ax = 'ax'+str(i)\n",
    "    eval(ax).scatter(df_prim_loc[:, 1], df_prim_loc[:, 0], s=df_prim_enroll/100, label=\"Prim\") # s gives size\n",
    "    if(len(df_sec) != 0): eval(ax).scatter(df_sec_loc[:, 1], df_sec_loc[:, 0], s=df_sec_enroll/100, label=\"Secondary\") # s gives size\n",
    "    eval(ax).scatter(top_4['proposed_locations'][i][1::2], top_4['proposed_locations'][i][::2], s = 35, \\\n",
    "                     marker=\"o\", label=\"New Secondary\") # stars for supermarkets\n",
    "    eval(ax).set_title((str(top_4.loc[i]['algorithm']) + ', eei =  ' + str(top_4.loc[i]['eei'])\\\n",
    "                       + ', sigma: ' + str(top_4.loc[i]['sigma'])), fontstyle='italic')\n",
    "\n",
    "for ax in fig.get_axes():\n",
    "    ax.legend()\n",
    "    ax.label_outer()"
   ]
  },
  {
   "cell_type": "code",
   "execution_count": 34,
   "metadata": {},
   "outputs": [],
   "source": [
    "winner = top_4.head(1)"
   ]
  },
  {
   "cell_type": "code",
   "execution_count": 35,
   "metadata": {},
   "outputs": [
    {
     "data": {
      "text/html": [
       "<div>\n",
       "<style scoped>\n",
       "    .dataframe tbody tr th:only-of-type {\n",
       "        vertical-align: middle;\n",
       "    }\n",
       "\n",
       "    .dataframe tbody tr th {\n",
       "        vertical-align: top;\n",
       "    }\n",
       "\n",
       "    .dataframe thead th {\n",
       "        text-align: right;\n",
       "    }\n",
       "</style>\n",
       "<table border=\"1\" class=\"dataframe\">\n",
       "  <thead>\n",
       "    <tr style=\"text-align: right;\">\n",
       "      <th></th>\n",
       "      <th>index</th>\n",
       "      <th>random_starting_point</th>\n",
       "      <th>algorithm</th>\n",
       "      <th>ee</th>\n",
       "      <th>eei</th>\n",
       "      <th>proposed_locations</th>\n",
       "      <th>time</th>\n",
       "      <th>sigma</th>\n",
       "    </tr>\n",
       "  </thead>\n",
       "  <tbody>\n",
       "    <tr>\n",
       "      <th>0</th>\n",
       "      <td>90</td>\n",
       "      <td>60</td>\n",
       "      <td>CMA</td>\n",
       "      <td>37283.0</td>\n",
       "      <td>34028.0</td>\n",
       "      <td>[10.909922801277434, 36.73073869405669, 10.799...</td>\n",
       "      <td>0.516483</td>\n",
       "      <td>0.12</td>\n",
       "    </tr>\n",
       "  </tbody>\n",
       "</table>\n",
       "</div>"
      ],
      "text/plain": [
       "   index random_starting_point algorithm       ee      eei  \\\n",
       "0     90                    60       CMA  37283.0  34028.0   \n",
       "\n",
       "                                  proposed_locations      time sigma  \n",
       "0  [10.909922801277434, 36.73073869405669, 10.799...  0.516483  0.12  "
      ]
     },
     "execution_count": 35,
     "metadata": {},
     "output_type": "execute_result"
    }
   ],
   "source": [
    "winner"
   ]
  },
  {
   "cell_type": "code",
   "execution_count": 36,
   "metadata": {},
   "outputs": [
    {
     "data": {
      "text/plain": [
       "(21, 38)"
      ]
     },
     "execution_count": 36,
     "metadata": {},
     "output_type": "execute_result"
    }
   ],
   "source": [
    "df_prim.shape"
   ]
  },
  {
   "cell_type": "code",
   "execution_count": 37,
   "metadata": {},
   "outputs": [
    {
     "data": {
      "text/plain": [
       "(2, 38)"
      ]
     },
     "execution_count": 37,
     "metadata": {},
     "output_type": "execute_result"
    }
   ],
   "source": [
    "df_sec.shape"
   ]
  },
  {
   "cell_type": "code",
   "execution_count": null,
   "metadata": {},
   "outputs": [],
   "source": [
    "results.to_csv('results_test.csv')"
   ]
  },
  {
   "cell_type": "code",
   "execution_count": 50,
   "metadata": {},
   "outputs": [],
   "source": [
    "new_loc = winner['proposed_locations'].to_numpy()\n",
    "new_loc = new_loc[0].reshape(5,2)"
   ]
  },
  {
   "cell_type": "code",
   "execution_count": 43,
   "metadata": {},
   "outputs": [
    {
     "data": {
      "text/plain": [
       "array([[10.9263, 36.7197],\n",
       "       [10.8584, 36.8983]])"
      ]
     },
     "execution_count": 43,
     "metadata": {},
     "output_type": "execute_result"
    }
   ],
   "source": [
    "df_sec_loc"
   ]
  },
  {
   "cell_type": "code",
   "execution_count": 45,
   "metadata": {},
   "outputs": [],
   "source": [
    "df_sec_new = np.append(df_sec_loc, new_loc).reshape(7,2)"
   ]
  },
  {
   "cell_type": "code",
   "execution_count": 46,
   "metadata": {},
   "outputs": [
    {
     "data": {
      "text/plain": [
       "71.42726700729989"
      ]
     },
     "execution_count": 46,
     "metadata": {},
     "output_type": "execute_result"
    }
   ],
   "source": [
    "closest_ss_current = np.min(haversine_vector(df_sec_loc, df_prim_loc, Unit.KILOMETERS, comb=True), axis=1)\n",
    "closest_ss_current = np.sum(closest_ss_current) / len(df_sec_loc)\n",
    "closest_ss_current"
   ]
  },
  {
   "cell_type": "code",
   "execution_count": 47,
   "metadata": {},
   "outputs": [
    {
     "data": {
      "text/plain": [
       "36.32659151755487"
      ]
     },
     "execution_count": 47,
     "metadata": {},
     "output_type": "execute_result"
    }
   ],
   "source": [
    "closest_ss_new = np.min(haversine_vector(df_sec_new, df_prim_loc, Unit.KILOMETERS, comb=True), axis=1)\n",
    "closed_ss_new = np.sum(closest_ss_new) / len(df_sec_loc)\n",
    "closest_ss_current - closed_ss_new"
   ]
  },
  {
   "cell_type": "code",
   "execution_count": 49,
   "metadata": {},
   "outputs": [
    {
     "data": {
      "text/plain": [
       "array([10.9099228 , 36.73073869, 10.79991315, 36.84952347, 10.84723977,\n",
       "       36.68934285, 10.87609159, 36.84607618, 10.79651103, 36.94294447])"
      ]
     },
     "execution_count": 49,
     "metadata": {},
     "output_type": "execute_result"
    }
   ],
   "source": [
    "new_loc"
   ]
  },
  {
   "cell_type": "code",
   "execution_count": 51,
   "metadata": {},
   "outputs": [
    {
     "data": {
      "text/plain": [
       "array([[27.38104117, 10.55135954, 28.79446944, 15.07839018,  1.77372449],\n",
       "       [ 7.6949504 , 12.35994619, 13.48645946,  5.64743749, 19.35636245],\n",
       "       [22.73973928, 12.34469155, 27.01218111,  9.76411826,  8.44541145],\n",
       "       [13.84476163, 10.25444084, 18.88543003,  2.07653152, 14.22137426],\n",
       "       [16.12252853,  1.84410304, 16.43420991,  7.88454607, 11.95901177],\n",
       "       [11.06445743,  7.21982979, 13.83108266,  4.01803592, 15.37682386],\n",
       "       [18.37807618,  6.69622003, 21.55310663,  5.43845798,  8.38212834],\n",
       "       [ 1.92227637, 17.75556182,  6.39485658, 13.95972735, 26.76662754],\n",
       "       [14.30411331,  6.43761692, 17.6385157 ,  2.09051789, 12.18119645],\n",
       "       [ 7.75512903, 12.32104207,  6.11054426, 11.68526175, 22.19295428],\n",
       "       [12.09715619,  7.46806278, 15.64521776,  2.03422247, 14.33988718],\n",
       "       [18.28067851, 11.73698578, 23.31887582,  5.96438707, 11.96738184],\n",
       "       [19.50900168,  7.91290967, 22.9297895 ,  6.41181374,  7.76960938],\n",
       "       [21.36452812,  4.04909637, 22.30175239, 10.22193147,  6.24374534],\n",
       "       [ 3.39637586, 17.34850497, 11.49468174, 11.25010264, 24.94899761],\n",
       "       [25.36707618,  8.90187586, 27.02777481, 12.99770101,  1.35557393],\n",
       "       [29.24764764, 11.53432252, 29.52400338, 17.84058921,  5.90622877],\n",
       "       [13.24144234, 12.81084059, 19.28783752,  4.38390869, 16.51477649],\n",
       "       [23.3560431 ,  8.22302008, 25.70233007, 10.61883773,  3.19888666],\n",
       "       [ 5.28740753, 12.6658739 ,  9.85365477,  8.20283937, 21.11490071],\n",
       "       [11.15787039, 12.63903635, 17.26938548,  4.28600509, 17.62033035]])"
      ]
     },
     "execution_count": 51,
     "metadata": {},
     "output_type": "execute_result"
    }
   ],
   "source": [
    "d = haversine_vector(new_loc, df_prim_loc, Unit.KILOMETERS, comb=True)\n",
    "d"
   ]
  },
  {
   "cell_type": "code",
   "execution_count": 244,
   "metadata": {},
   "outputs": [
    {
     "data": {
      "text/plain": [
       "3255.0"
      ]
     },
     "execution_count": 244,
     "metadata": {},
     "output_type": "execute_result"
    }
   ],
   "source": [
    "df_sec_enroll_new = df_sec_enroll.copy()\n",
    "np.sum(df_sec_enroll_new)"
   ]
  },
  {
   "cell_type": "code",
   "execution_count": 245,
   "metadata": {},
   "outputs": [
    {
     "data": {
      "text/plain": [
       "21"
      ]
     },
     "execution_count": 245,
     "metadata": {},
     "output_type": "execute_result"
    }
   ],
   "source": [
    "# index of closest SS to PS\n",
    "closest_sec_index = np.argmin(haversine_vector(df_prim_loc, df_sec_loc, Unit.KILOMETERS, comb=True), axis=0)\n",
    "len(closest_sec_index)"
   ]
  },
  {
   "cell_type": "code",
   "execution_count": 397,
   "metadata": {},
   "outputs": [],
   "source": [
    "ee_old_constant = np.sum(df_sec_enroll)"
   ]
  },
  {
   "cell_type": "code",
   "execution_count": 426,
   "metadata": {},
   "outputs": [
    {
     "data": {
      "text/plain": [
       "array([1.92227637, 3.39637586, 1.84410304, 4.04909637, 2.07653152,\n",
       "       4.01803592, 2.09051789, 2.03422247, 4.38390869, 4.28600509,\n",
       "       1.77372449, 1.35557393, 3.19888666])"
      ]
     },
     "execution_count": 426,
     "metadata": {},
     "output_type": "execute_result"
    }
   ],
   "source": [
    "mask = (d <5) & (d<current_ps_distance)\n",
    "d[mask]"
   ]
  },
  {
   "cell_type": "code",
   "execution_count": 427,
   "metadata": {},
   "outputs": [],
   "source": [
    "e0 = np.amin(d, axis=0)\n",
    "e1 = np.argmin(d, axis=0)\n",
    "e2 = np.column_stack((e1,e0))"
   ]
  },
  {
   "cell_type": "code",
   "execution_count": 440,
   "metadata": {},
   "outputs": [
    {
     "data": {
      "text/plain": [
       "array([[4.        , 1.77372449],\n",
       "       [3.        , 5.64743749],\n",
       "       [4.        , 8.44541145],\n",
       "       [3.        , 2.07653152],\n",
       "       [1.        , 1.84410304],\n",
       "       [3.        , 4.01803592],\n",
       "       [3.        , 5.43845798],\n",
       "       [0.        , 1.92227637],\n",
       "       [3.        , 2.09051789],\n",
       "       [2.        , 6.11054426],\n",
       "       [3.        , 2.03422247],\n",
       "       [3.        , 5.96438707],\n",
       "       [3.        , 6.41181374],\n",
       "       [1.        , 4.04909637],\n",
       "       [0.        , 3.39637586],\n",
       "       [4.        , 1.35557393],\n",
       "       [4.        , 5.90622877],\n",
       "       [3.        , 4.38390869],\n",
       "       [4.        , 3.19888666],\n",
       "       [0.        , 5.28740753],\n",
       "       [3.        , 4.28600509]])"
      ]
     },
     "execution_count": 440,
     "metadata": {},
     "output_type": "execute_result"
    }
   ],
   "source": [
    "e2"
   ]
  },
  {
   "cell_type": "code",
   "execution_count": 438,
   "metadata": {},
   "outputs": [
    {
     "data": {
      "text/plain": [
       "array([   0.        ,  847.        ,  163.44163182,    0.        ,\n",
       "          0.        ,    0.        ,  540.        , 1664.07612   ,\n",
       "          0.        ,    0.        ,   10.36152303,   71.97402582,\n",
       "        209.        ,    0.        ,   63.92034894,    0.        ,\n",
       "          0.        ,    4.9619466 ,    0.        ,   11.14640643,\n",
       "         44.2520364 ])"
      ]
     },
     "execution_count": 438,
     "metadata": {},
     "output_type": "execute_result"
    }
   ],
   "source": [
    "enroll_current = shape(current_ps_distance, df_prim_enroll)            \n",
    "enroll_current"
   ]
  },
  {
   "cell_type": "code",
   "execution_count": null,
   "metadata": {},
   "outputs": [],
   "source": []
  },
  {
   "cell_type": "code",
   "execution_count": null,
   "metadata": {},
   "outputs": [],
   "source": []
  },
  {
   "cell_type": "code",
   "execution_count": null,
   "metadata": {},
   "outputs": [],
   "source": []
  },
  {
   "cell_type": "code",
   "execution_count": null,
   "metadata": {},
   "outputs": [],
   "source": []
  },
  {
   "cell_type": "code",
   "execution_count": null,
   "metadata": {},
   "outputs": [],
   "source": []
  },
  {
   "cell_type": "code",
   "execution_count": null,
   "metadata": {},
   "outputs": [],
   "source": []
  },
  {
   "cell_type": "code",
   "execution_count": null,
   "metadata": {},
   "outputs": [],
   "source": []
  },
  {
   "cell_type": "code",
   "execution_count": null,
   "metadata": {},
   "outputs": [],
   "source": []
  },
  {
   "cell_type": "code",
   "execution_count": null,
   "metadata": {},
   "outputs": [],
   "source": [
    "##### NEED TO UPDATE SECONDARY ENROLLMENT NOW. \n",
    "feeder = {} # empty dictionary for list of ps, closest ss and distance in km.\n",
    "d = haversine_vector(df_prim_loc, new_loc, Unit.KILOMETERS, comb=True)\n",
    "current_ps_distance = df_prim['nearest_lwr_sec'].to_numpy() # existing distance to secondary school\n",
    "ee_old  = ee_old_constant\n",
    "eei = 0 # expected enrollment increase\n",
    "\n",
    "for ss in range(0, proposed_schools): # for each secondary school\n",
    "    for ps in range(0, len(d[ss])): # for each distance from a secondary school to a primary school                         \n",
    "        # Case 0\n",
    "        # if the distance is less than 5km & the distance is less than the current distance to old secondary school\n",
    "        if (d[ss][ps] < 5) & (d[ss][ps] < current_ps_distance[ps]):\n",
    "            if ps not in feeder: # if primary school not in feeder dict, add.\n",
    "                feeder[ps] = [int(ss), d[ss][ps], float(shape(d[ss][ps], df_prim_enroll[ps]))] # dict = {primary school: [feeder secondary school, distance of ps to ss]}\n",
    "            else: # if ps already a key in feeder, replace with min [feeder secondary school, distance of ps to ss]\n",
    "                if feeder[ps][1] < d[ss][ps]:\n",
    "                    feeder[ps] = [int(ss), d[ss][ps], float(shape(d[ss][ps], df_prim_enroll[ps]))]\n",
    "           \n",
    "            # Current estimated enrollment feeding into current SS\n",
    "            enroll_current = shape(current_ps_distance[ps], df_prim_enroll[ps])            \n",
    "            df_sec_enroll_new[closest_sec_index[ps]] -= enroll_current\n",
    "            ee_old -= enroll_current\n",
    "            \n",
    "eei = sum([feeder[i][2] for i in feeder])\n",
    "b_result = eei + ee_old\n",
    "b_result"
   ]
  },
  {
   "cell_type": "code",
   "execution_count": null,
   "metadata": {},
   "outputs": [],
   "source": []
  },
  {
   "cell_type": "code",
   "execution_count": null,
   "metadata": {},
   "outputs": [],
   "source": []
  },
  {
   "cell_type": "code",
   "execution_count": null,
   "metadata": {},
   "outputs": [],
   "source": []
  },
  {
   "cell_type": "code",
   "execution_count": 437,
   "metadata": {},
   "outputs": [],
   "source": [
    "df_sec_enroll_new = df_sec_enroll"
   ]
  },
  {
   "cell_type": "code",
   "execution_count": null,
   "metadata": {},
   "outputs": [],
   "source": []
  },
  {
   "cell_type": "code",
   "execution_count": 435,
   "metadata": {},
   "outputs": [
    {
     "data": {
      "text/plain": [
       "array([-1108.99646894,  2636.        ])"
      ]
     },
     "execution_count": 435,
     "metadata": {},
     "output_type": "execute_result"
    }
   ],
   "source": [
    "df_sec_enroll_new"
   ]
  },
  {
   "cell_type": "code",
   "execution_count": null,
   "metadata": {},
   "outputs": [],
   "source": [
    "df_sec_enroll_new[closest_sec_index[ps]] -= distance_current\n"
   ]
  },
  {
   "cell_type": "code",
   "execution_count": null,
   "metadata": {},
   "outputs": [],
   "source": []
  },
  {
   "cell_type": "code",
   "execution_count": null,
   "metadata": {},
   "outputs": [],
   "source": []
  },
  {
   "cell_type": "code",
   "execution_count": null,
   "metadata": {},
   "outputs": [],
   "source": []
  },
  {
   "cell_type": "code",
   "execution_count": 431,
   "metadata": {},
   "outputs": [
    {
     "data": {
      "text/plain": [
       "35786.26988045307"
      ]
     },
     "execution_count": 431,
     "metadata": {},
     "output_type": "execute_result"
    }
   ],
   "source": [
    "np.sum(shape(np.min(d, axis=0), df_prim_enroll))"
   ]
  },
  {
   "cell_type": "code",
   "execution_count": 412,
   "metadata": {},
   "outputs": [
    {
     "name": "stdout",
     "output_type": "stream",
     "text": [
      "False\n",
      "False\n",
      "False\n",
      "False\n",
      "False\n",
      "False\n",
      "False\n",
      "True\n",
      "False\n",
      "False\n",
      "False\n",
      "False\n",
      "False\n",
      "False\n",
      "True\n",
      "False\n",
      "False\n",
      "False\n",
      "False\n",
      "False\n",
      "False\n"
     ]
    }
   ],
   "source": [
    "for ps in d[0]:\n",
    "    print((ps < 5))"
   ]
  },
  {
   "cell_type": "code",
   "execution_count": null,
   "metadata": {},
   "outputs": [],
   "source": [
    "##### NEED TO UPDATE SECONDARY ENROLLMENT NOW. \n",
    "feeder = {} # empty dictionary for list of ps, closest ss and distance in km.\n",
    "d = haversine_vector(df_prim_loc, new_loc, Unit.KILOMETERS, comb=True)\n",
    "current_ps_distance = df_prim['nearest_lwr_sec'].to_numpy() # existing distance to secondary school\n",
    "ee_old  = ee_old_constant\n",
    "eei = 0 # expected enrollment increase\n",
    "\n",
    "\n",
    "\n",
    "\n"
   ]
  },
  {
   "cell_type": "code",
   "execution_count": 441,
   "metadata": {},
   "outputs": [
    {
     "data": {
      "text/plain": [
       "7428.906676830401"
      ]
     },
     "execution_count": 441,
     "metadata": {},
     "output_type": "execute_result"
    }
   ],
   "source": [
    "##### NEED TO UPDATE SECONDARY ENROLLMENT NOW. \n",
    "feeder = {} # empty dictionary for list of ps, closest ss and distance in km.\n",
    "d = haversine_vector(df_prim_loc, new_loc, Unit.KILOMETERS, comb=True)\n",
    "current_ps_distance = df_prim['nearest_lwr_sec'].to_numpy() # existing distance to secondary school\n",
    "ee_old  = ee_old_constant\n",
    "eei = 0 # expected enrollment increase\n",
    "\n",
    "for ss in range(0, proposed_schools): # for each secondary school\n",
    "    for ps in range(0, len(d[ss])): # for each distance from a secondary school to a primary school                         \n",
    "        # Case 0\n",
    "        # if the distance is less than 5km & the distance is less than the curre'nt distance to old secondary school\n",
    "        if (d[ss][ps] < 5) & (d[ss][ps] < current_ps_distance[ps]):\n",
    "            if ps not in feeder: # if primary school not in feeder dict, add.\n",
    "                feeder[ps] = [int(ss), d[ss][ps], float(shape(d[ss][ps], df_prim_enroll[ps]))] # dict = {primary school: [feeder secondary school, distance of ps to ss]}\n",
    "            else: # if ps already a key in feeder, replace with min [feeder secondary school, distance of ps to ss]\n",
    "                if feeder[ps][1] < d[ss][ps]:\n",
    "                    feeder[ps] = [int(ss), d[ss][ps], float(shape(d[ss][ps], df_prim_enroll[ps]))]\n",
    "           \n",
    "            # Current estimated enrollment feeding into current SS\n",
    "            enroll_current = shape(current_ps_distance[ps], df_prim_enroll[ps])            \n",
    "            df_sec_enroll_new[closest_sec_index[ps]] -= distance_current\n",
    "            ee_old -= distance_current\n",
    "            \n",
    "eei = sum([feeder[i][2] for i in feeder])\n",
    "b_result = eei + ee_old\n",
    "b_result"
   ]
  },
  {
   "cell_type": "code",
   "execution_count": 439,
   "metadata": {},
   "outputs": [
    {
     "data": {
      "text/plain": [
       "4173.906676830401"
      ]
     },
     "execution_count": 439,
     "metadata": {},
     "output_type": "execute_result"
    }
   ],
   "source": [
    "eei"
   ]
  },
  {
   "cell_type": "code",
   "execution_count": null,
   "metadata": {},
   "outputs": [],
   "source": []
  },
  {
   "cell_type": "code",
   "execution_count": null,
   "metadata": {},
   "outputs": [],
   "source": []
  },
  {
   "cell_type": "code",
   "execution_count": 326,
   "metadata": {},
   "outputs": [],
   "source": [
    "feeder_np = np.column_stack((list(feeder.keys()), list(feeder.values())))"
   ]
  },
  {
   "cell_type": "code",
   "execution_count": 335,
   "metadata": {},
   "outputs": [],
   "source": [
    "enrollment_per_new_school = np.bincount(feeder_np[:,1].astype(int), weights=feeder_np[:,3])"
   ]
  },
  {
   "cell_type": "code",
   "execution_count": 354,
   "metadata": {},
   "outputs": [],
   "source": [
    "new_sec = pd.DataFrame({'lat': new_loc[:,0], 'lon': new_loc[:,1], 'expected_enrollment': enrollment_per_new_school})"
   ]
  },
  {
   "cell_type": "code",
   "execution_count": 355,
   "metadata": {},
   "outputs": [
    {
     "data": {
      "text/html": [
       "<div>\n",
       "<style scoped>\n",
       "    .dataframe tbody tr th:only-of-type {\n",
       "        vertical-align: middle;\n",
       "    }\n",
       "\n",
       "    .dataframe tbody tr th {\n",
       "        vertical-align: top;\n",
       "    }\n",
       "\n",
       "    .dataframe thead th {\n",
       "        text-align: right;\n",
       "    }\n",
       "</style>\n",
       "<table border=\"1\" class=\"dataframe\">\n",
       "  <thead>\n",
       "    <tr style=\"text-align: right;\">\n",
       "      <th></th>\n",
       "      <th>lat</th>\n",
       "      <th>lon</th>\n",
       "      <th>expected_enrollment</th>\n",
       "    </tr>\n",
       "  </thead>\n",
       "  <tbody>\n",
       "    <tr>\n",
       "      <th>0</th>\n",
       "      <td>10.909923</td>\n",
       "      <td>36.730739</td>\n",
       "      <td>3107.977358</td>\n",
       "    </tr>\n",
       "    <tr>\n",
       "      <th>1</th>\n",
       "      <td>10.799913</td>\n",
       "      <td>36.849523</td>\n",
       "      <td>1065.929318</td>\n",
       "    </tr>\n",
       "    <tr>\n",
       "      <th>2</th>\n",
       "      <td>10.847240</td>\n",
       "      <td>36.689343</td>\n",
       "      <td>0.000000</td>\n",
       "    </tr>\n",
       "    <tr>\n",
       "      <th>3</th>\n",
       "      <td>10.876092</td>\n",
       "      <td>36.846076</td>\n",
       "      <td>1530.603743</td>\n",
       "    </tr>\n",
       "    <tr>\n",
       "      <th>4</th>\n",
       "      <td>10.796511</td>\n",
       "      <td>36.942944</td>\n",
       "      <td>30067.241565</td>\n",
       "    </tr>\n",
       "  </tbody>\n",
       "</table>\n",
       "</div>"
      ],
      "text/plain": [
       "         lat        lon  expected_enrollment\n",
       "0  10.909923  36.730739          3107.977358\n",
       "1  10.799913  36.849523          1065.929318\n",
       "2  10.847240  36.689343             0.000000\n",
       "3  10.876092  36.846076          1530.603743\n",
       "4  10.796511  36.942944         30067.241565"
      ]
     },
     "execution_count": 355,
     "metadata": {},
     "output_type": "execute_result"
    }
   ],
   "source": [
    "new_sec"
   ]
  },
  {
   "cell_type": "code",
   "execution_count": 368,
   "metadata": {},
   "outputs": [],
   "source": [
    "df_sec_loc2 = np.vstack((df_sec_loc, new_loc))"
   ]
  },
  {
   "cell_type": "code",
   "execution_count": 369,
   "metadata": {},
   "outputs": [
    {
     "data": {
      "text/plain": [
       "array([ 9.99306962,  9.2906639 ,  4.32832206,  5.91696689,  9.11916044,\n",
       "        9.02530384,  1.73032317,  3.33592388,  5.22039308,  9.8150422 ,\n",
       "        7.32832395,  4.00496738,  0.756862  ,  7.40811787,  4.05068789,\n",
       "        7.99240123, 13.48862825,  8.08828689,  5.29026977,  7.34061462,\n",
       "        9.33020509])"
      ]
     },
     "execution_count": 369,
     "metadata": {},
     "output_type": "execute_result"
    }
   ],
   "source": [
    "np.min(haversine_vector(df_prim_loc, df_sec_loc, Unit.KILOMETERS, comb=True), axis=0)"
   ]
  },
  {
   "cell_type": "code",
   "execution_count": 371,
   "metadata": {},
   "outputs": [],
   "source": [
    "current_dist2 = np.min(haversine_vector(df_prim_loc, df_sec_loc2, Unit.KILOMETERS, comb=True), axis=0)"
   ]
  },
  {
   "cell_type": "code",
   "execution_count": 383,
   "metadata": {},
   "outputs": [
    {
     "data": {
      "text/plain": [
       "70.20135097949004"
      ]
     },
     "execution_count": 383,
     "metadata": {},
     "output_type": "execute_result"
    }
   ],
   "source": [
    "np.sum(current_dist2)"
   ]
  },
  {
   "cell_type": "code",
   "execution_count": 392,
   "metadata": {},
   "outputs": [],
   "source": [
    "np.sum(current_ps_distance)\n",
    "proposed_schools=5"
   ]
  },
  {
   "cell_type": "code",
   "execution_count": 393,
   "metadata": {},
   "outputs": [
    {
     "data": {
      "text/plain": [
       "3255.0"
      ]
     },
     "execution_count": 393,
     "metadata": {},
     "output_type": "execute_result"
    }
   ],
   "source": [
    "expected_enrollment2(df_prim_loc, df_sec_loc2, df_prim_enroll, current_dist2)"
   ]
  },
  {
   "cell_type": "code",
   "execution_count": 394,
   "metadata": {},
   "outputs": [
    {
     "data": {
      "text/plain": [
       "array([[10.9263, 36.7197],\n",
       "       [10.8584, 36.8983]])"
      ]
     },
     "execution_count": 394,
     "metadata": {},
     "output_type": "execute_result"
    }
   ],
   "source": [
    "df_sec_loc"
   ]
  },
  {
   "cell_type": "code",
   "execution_count": 395,
   "metadata": {},
   "outputs": [],
   "source": [
    "proposed_schools= 2"
   ]
  },
  {
   "cell_type": "code",
   "execution_count": 396,
   "metadata": {},
   "outputs": [
    {
     "data": {
      "text/plain": [
       "3255.0000000319624"
      ]
     },
     "execution_count": 396,
     "metadata": {},
     "output_type": "execute_result"
    }
   ],
   "source": [
    "expected_enrollment2(df_prim_loc, df_sec_loc, df_prim_enroll, current_ps_distance)"
   ]
  },
  {
   "cell_type": "code",
   "execution_count": 381,
   "metadata": {},
   "outputs": [
    {
     "data": {
      "text/plain": [
       "array([[10.9263, 36.7197],\n",
       "       [10.8584, 36.8983]])"
      ]
     },
     "execution_count": 381,
     "metadata": {},
     "output_type": "execute_result"
    }
   ],
   "source": [
    "df_sec_loc"
   ]
  },
  {
   "cell_type": "code",
   "execution_count": null,
   "metadata": {},
   "outputs": [],
   "source": []
  },
  {
   "cell_type": "code",
   "execution_count": 203,
   "metadata": {},
   "outputs": [
    {
     "ename": "TypeError",
     "evalue": "argument of type 'numpy.float64' is not iterable",
     "output_type": "error",
     "traceback": [
      "\u001b[1;31m---------------------------------------------------------------------------\u001b[0m",
      "\u001b[1;31mTypeError\u001b[0m                                 Traceback (most recent call last)",
      "\u001b[1;32m<ipython-input-203-928a95ae2ad1>\u001b[0m in \u001b[0;36m<module>\u001b[1;34m\u001b[0m\n\u001b[0;32m     12\u001b[0m                 \u001b[0mfeeder\u001b[0m \u001b[1;33m=\u001b[0m \u001b[0mnp\u001b[0m\u001b[1;33m.\u001b[0m\u001b[0marray\u001b[0m\u001b[1;33m(\u001b[0m\u001b[1;33m[\u001b[0m\u001b[0mps\u001b[0m\u001b[1;33m,\u001b[0m \u001b[0mss\u001b[0m\u001b[1;33m,\u001b[0m \u001b[0md\u001b[0m\u001b[1;33m[\u001b[0m\u001b[0mss\u001b[0m\u001b[1;33m]\u001b[0m\u001b[1;33m[\u001b[0m\u001b[0mps\u001b[0m\u001b[1;33m]\u001b[0m\u001b[1;33m,\u001b[0m \u001b[0mshape\u001b[0m\u001b[1;33m(\u001b[0m\u001b[0md\u001b[0m\u001b[1;33m[\u001b[0m\u001b[0mss\u001b[0m\u001b[1;33m]\u001b[0m\u001b[1;33m[\u001b[0m\u001b[0mps\u001b[0m\u001b[1;33m]\u001b[0m\u001b[1;33m,\u001b[0m \u001b[0mdf_prim_enroll\u001b[0m\u001b[1;33m[\u001b[0m\u001b[0mps\u001b[0m\u001b[1;33m]\u001b[0m\u001b[1;33m)\u001b[0m\u001b[1;33m]\u001b[0m\u001b[1;33m)\u001b[0m\u001b[1;33m\u001b[0m\u001b[1;33m\u001b[0m\u001b[0m\n\u001b[0;32m     13\u001b[0m             \u001b[1;32melse\u001b[0m\u001b[1;33m:\u001b[0m\u001b[1;33m\u001b[0m\u001b[1;33m\u001b[0m\u001b[0m\n\u001b[1;32m---> 14\u001b[1;33m                 \u001b[1;32mif\u001b[0m \u001b[0mps\u001b[0m \u001b[1;32min\u001b[0m \u001b[0mfeeder\u001b[0m\u001b[1;33m[\u001b[0m\u001b[1;36m0\u001b[0m\u001b[1;33m]\u001b[0m\u001b[1;33m:\u001b[0m\u001b[1;33m\u001b[0m\u001b[1;33m\u001b[0m\u001b[0m\n\u001b[0m\u001b[0;32m     15\u001b[0m                     \u001b[0mprint\u001b[0m\u001b[1;33m(\u001b[0m\u001b[1;34m'Yess'\u001b[0m\u001b[1;33m)\u001b[0m\u001b[1;33m\u001b[0m\u001b[1;33m\u001b[0m\u001b[0m\n\u001b[0;32m     16\u001b[0m \u001b[1;31m#                 print(ps)\u001b[0m\u001b[1;33m\u001b[0m\u001b[1;33m\u001b[0m\u001b[1;33m\u001b[0m\u001b[0m\n",
      "\u001b[1;31mTypeError\u001b[0m: argument of type 'numpy.float64' is not iterable"
     ]
    }
   ],
   "source": [
    "# ##### NEED TO UPDATE SECONDARY ENROLLMENT NOW. \n",
    "#  # empty dictionary for list of ps, closest ss and distance in km.\n",
    "# feeder = np.array([[]])\n",
    "# d = haversine_vector(df_prim_loc, new_loc, Unit.KILOMETERS, comb=True)\n",
    "\n",
    "# for ss in range(0, proposed_schools): # for each secondary school\n",
    "#     for ps in range(0, len(d[ss])): # for each distance from a secondary school to a primary school                         \n",
    "#         # Case 0\n",
    "#         # if the distance is less than 5km & the distance is less than the current distance to old secondary school\n",
    "#         if (d[ss][ps] < 5) & (d[ss][ps] < current_ps_distance[ps]):\n",
    "#             if feeder.size ==0: # if primary school not in feeder dict, add.\n",
    "#                 feeder = np.array([ps, ss, d[ss][ps], shape(d[ss][ps], df_prim_enroll[ps])])\n",
    "#             else:\n",
    "#                 if ps in feeder[0]:\n",
    "#                     print('Yess')\n",
    "# #                 print(ps)\n",
    "# #                 print(np.where(feeder[0:,]))\n",
    "# #                 feeder = np.vstack((feeder, np.array([ps, ss, d[ss][ps], shape(d[ss][ps], df_prim_enroll[ps])])))\n",
    "# #             else: # if ps already a key in feeder, replace with min [feeder secondary school, distance of ps to ss]\n",
    "# #                 print(feeder)\n",
    "# #                 if feeder[ps][1] < d[ss][ps]:\n",
    "# #                     feeder[ps] = [ss, d[ss][ps], shape(d[ss][ps], df_prim_enroll[ps])]\n",
    "                \n",
    "\n",
    "# print(feeder)\n",
    "                \n",
    "# #                 print(shape(d[ss][ps], df_prim_enroll[ps]))\n",
    "# #                 feeder[ps] = [ss, d[ss][ps], ] # dict = {primary school: [feeder secondary school, distance of ps to ss]}\n",
    "\n",
    "\n",
    "# #             # case 1\n",
    "            \n",
    "# #             # Current estimated enrollment feeding into current SS\n",
    "# #             enroll_current = shape(current_ps_distance[ps], df_prim_enroll[ps])\n",
    "# #             print(ps, enroll_current)\n",
    "            \n",
    "# #             df_sec_enroll_new[closest_sec_index[ps]] -= distance_current"
   ]
  },
  {
   "cell_type": "code",
   "execution_count": 201,
   "metadata": {},
   "outputs": [
    {
     "data": {
      "text/plain": [
       "array([   7.        ,    0.        ,    1.92227637, 3000.        ])"
      ]
     },
     "execution_count": 201,
     "metadata": {},
     "output_type": "execute_result"
    }
   ],
   "source": [
    "feeder"
   ]
  },
  {
   "cell_type": "code",
   "execution_count": 197,
   "metadata": {},
   "outputs": [
    {
     "data": {
      "text/plain": [
       "array([10.7806  , 10.9001  , 10.8721  , 10.8919  , 10.8062  , 10.8557  ,\n",
       "       10.8478  , 10.8963  , 10.8578  , 10.8416  , 10.8647  , 10.894407,\n",
       "       10.851659, 10.7929  , 10.9266  , 10.794   , 10.7436  , 10.9151  ,\n",
       "       10.8173  , 10.8841  , 10.9124  ])"
      ]
     },
     "execution_count": 197,
     "metadata": {},
     "output_type": "execute_result"
    }
   ],
   "source": [
    "df_prim_loc[:,0]"
   ]
  },
  {
   "cell_type": "code",
   "execution_count": 150,
   "metadata": {},
   "outputs": [
    {
     "data": {
      "text/plain": [
       "0.0"
      ]
     },
     "execution_count": 150,
     "metadata": {},
     "output_type": "execute_result"
    }
   ],
   "source": [
    "feeder[1]"
   ]
  },
  {
   "cell_type": "code",
   "execution_count": 135,
   "metadata": {},
   "outputs": [
    {
     "data": {
      "text/plain": [
       "array([   7.        ,    0.        ,    1.92227637, 3000.        ])"
      ]
     },
     "execution_count": 135,
     "metadata": {},
     "output_type": "execute_result"
    }
   ],
   "source": [
    "feeder"
   ]
  },
  {
   "cell_type": "code",
   "execution_count": null,
   "metadata": {},
   "outputs": [],
   "source": []
  },
  {
   "cell_type": "code",
   "execution_count": 102,
   "metadata": {},
   "outputs": [
    {
     "data": {
      "text/plain": [
       "array(1664.07612)"
      ]
     },
     "execution_count": 102,
     "metadata": {},
     "output_type": "execute_result"
    }
   ],
   "source": [
    "shape(current_ps_distance[7], df_prim_enroll[7])"
   ]
  },
  {
   "cell_type": "code",
   "execution_count": 96,
   "metadata": {},
   "outputs": [
    {
     "data": {
      "text/plain": [
       "{7: [0, 1.9222763677711714],\n",
       " 14: [0, 3.3963758641441464],\n",
       " 4: [1, 1.8441030438431887],\n",
       " 13: [1, 4.0490963699599964],\n",
       " 3: [3, 2.0765315221154688],\n",
       " 5: [3, 4.018035921545232],\n",
       " 8: [3, 2.090517888038546],\n",
       " 10: [3, 2.0342224679006433],\n",
       " 17: [3, 4.383908692872233],\n",
       " 0: [4, 1.773724490539356],\n",
       " 15: [4, 1.3555739327589111],\n",
       " 18: [4, 3.198886661188972]}"
      ]
     },
     "execution_count": 96,
     "metadata": {},
     "output_type": "execute_result"
    }
   ],
   "source": [
    "feeder"
   ]
  },
  {
   "cell_type": "code",
   "execution_count": 84,
   "metadata": {},
   "outputs": [
    {
     "data": {
      "text/plain": [
       "array([2636.,  619., 2636., 2636., 2636., 2636., 2636.,  619., 2636.,\n",
       "        619., 2636., 2636., 2636., 2636.,  619., 2636., 2636., 2636.,\n",
       "       2636.,  619., 2636.])"
      ]
     },
     "execution_count": 84,
     "metadata": {},
     "output_type": "execute_result"
    }
   ],
   "source": [
    "df_sec_enroll[closest_sec_index]"
   ]
  },
  {
   "cell_type": "code",
   "execution_count": 74,
   "metadata": {},
   "outputs": [
    {
     "data": {
      "text/plain": [
       "{7: [0, 1.9222763677711714],\n",
       " 14: [0, 3.3963758641441464],\n",
       " 4: [1, 1.8441030438431887],\n",
       " 13: [1, 4.0490963699599964],\n",
       " 3: [3, 2.0765315221154688],\n",
       " 5: [3, 4.018035921545232],\n",
       " 8: [3, 2.090517888038546],\n",
       " 10: [3, 2.0342224679006433],\n",
       " 17: [3, 4.383908692872233],\n",
       " 0: [4, 1.773724490539356],\n",
       " 15: [4, 1.3555739327589111],\n",
       " 18: [4, 3.198886661188972]}"
      ]
     },
     "execution_count": 74,
     "metadata": {},
     "output_type": "execute_result"
    }
   ],
   "source": [
    "feeder"
   ]
  },
  {
   "cell_type": "code",
   "execution_count": 57,
   "metadata": {},
   "outputs": [],
   "source": [
    "\n",
    "dist = np.array(list(feeder.values()))[:,1]\n",
    "shapedx = shape(dist, df_prim_enroll[keys])"
   ]
  },
  {
   "cell_type": "code",
   "execution_count": 58,
   "metadata": {},
   "outputs": [],
   "source": [
    "new_enroll_per_school = np.bincount(ss, weights=np.rint(shapedx))"
   ]
  },
  {
   "cell_type": "code",
   "execution_count": 64,
   "metadata": {},
   "outputs": [
    {
     "data": {
      "text/plain": [
       "35771.0"
      ]
     },
     "execution_count": 64,
     "metadata": {},
     "output_type": "execute_result"
    }
   ],
   "source": [
    "np.sum(new_enroll_per_school)"
   ]
  },
  {
   "cell_type": "code",
   "execution_count": 65,
   "metadata": {},
   "outputs": [
    {
     "data": {
      "text/plain": [
       "array([-1108.99646894,  2620.67653037])"
      ]
     },
     "execution_count": 65,
     "metadata": {},
     "output_type": "execute_result"
    }
   ],
   "source": [
    "df_sec_enroll_new"
   ]
  },
  {
   "cell_type": "code",
   "execution_count": 63,
   "metadata": {},
   "outputs": [
    {
     "data": {
      "text/plain": [
       "-35104.83089447431"
      ]
     },
     "execution_count": 63,
     "metadata": {},
     "output_type": "execute_result"
    }
   ],
   "source": [
    "es.result[1]"
   ]
  },
  {
   "cell_type": "code",
   "execution_count": null,
   "metadata": {},
   "outputs": [],
   "source": []
  },
  {
   "cell_type": "code",
   "execution_count": null,
   "metadata": {},
   "outputs": [],
   "source": [
    "np.min(d, axis=0)"
   ]
  },
  {
   "cell_type": "code",
   "execution_count": null,
   "metadata": {},
   "outputs": [],
   "source": [
    "np.bincount()"
   ]
  },
  {
   "cell_type": "code",
   "execution_count": null,
   "metadata": {},
   "outputs": [],
   "source": [
    "keys = np.array(list(feeder.keys()))\n",
    "ss = np.array(list(feeder.values()))[:,0]\n",
    "dist = np.array(list(feeder.values()))[:,1]\n",
    "shapedx = shape(keys, dist)"
   ]
  },
  {
   "cell_type": "code",
   "execution_count": null,
   "metadata": {},
   "outputs": [],
   "source": [
    "shapedx"
   ]
  },
  {
   "cell_type": "code",
   "execution_count": null,
   "metadata": {},
   "outputs": [],
   "source": [
    "list(feeder.values())"
   ]
  },
  {
   "cell_type": "code",
   "execution_count": null,
   "metadata": {},
   "outputs": [],
   "source": []
  },
  {
   "cell_type": "code",
   "execution_count": null,
   "metadata": {},
   "outputs": [],
   "source": [
    "np.sum(df_sec_enroll_new)"
   ]
  },
  {
   "cell_type": "code",
   "execution_count": null,
   "metadata": {},
   "outputs": [],
   "source": [
    "feeder"
   ]
  },
  {
   "cell_type": "code",
   "execution_count": null,
   "metadata": {},
   "outputs": [],
   "source": [
    "ee_old_constant = np.sum(df_sec_enroll)\n",
    "current_ps_distance = df_prim['nearest_lwr_sec'].to_numpy() # existing distance to secondary school\n",
    "def expected_enrollment2(prim_loc, x, prim_enroll, current_dist):\n",
    "    ee_old  = ee_old_constant\n",
    "    feeder = {} # empty dictionary for list of ps, closest ss and distance in km.\n",
    "    eei = 0 # expected enrollment increase\n",
    "    d = haversine_vector(prim_loc, x, Unit.KILOMETERS, comb=True) # primary schools distance to secondary schools\n",
    "    \n",
    "    for ss in range(0, proposed_schools): # for each secondary school\n",
    "        for ps in range(0, len(d[ss])): # for each distance from a secondary school to a primary school                         \n",
    "            # Case 0\n",
    "            # if the distance is less than 5km & the distance is less than the current distance to old secondary school\n",
    "            if (d[ss][ps] < 5) & (d[ss][ps] < current_dist[ps]):\n",
    "                if ps not in feeder: # if primary school not in feeder dict, add.\n",
    "                    feeder[ps] = [ss, d[ss][ps]] # dict = {primary school: [feeder secondary school, distance of ps to ss]}\n",
    "                else: # if ps already a key in feeder, replace with min [feeder secondary school, distance of ps to ss]\n",
    "                    if feeder[ps][1] < d[ss][ps]:\n",
    "                        feeder[ps] = [ss, d[ss][ps]]\n",
    "                        \n",
    "                # case 1\n",
    "                ee_old -= shape(current_dist[ps], prim_enroll[ps]) # remove old secondary students within catchment.\n",
    "                \n",
    "    # eei is only the final min schools being added.\n",
    "    closest_ss_dist = np.array([row[1] for row in list(feeder.values())])\n",
    "    ps_enroll = prim_enroll[list(feeder.keys())]\n",
    "    eei = np.sum(shape(closest_ss_dist, ps_enroll))\n",
    "    return eei + ee_old # for overall expected enrollment. "
   ]
  },
  {
   "cell_type": "code",
   "execution_count": null,
   "metadata": {},
   "outputs": [],
   "source": []
  },
  {
   "cell_type": "code",
   "execution_count": 362,
   "metadata": {},
   "outputs": [
    {
     "data": {
      "text/plain": [
       "array([ 9.99306962,  9.2906639 ,  4.32832206,  5.91696689,  9.11916044,\n",
       "        9.02530384,  1.73032317,  3.33592388,  5.22039308,  9.8150422 ,\n",
       "        7.32832395,  4.00496738,  0.756862  ,  7.40811787,  4.05068789,\n",
       "        7.99240123, 13.48862825,  8.08828689,  5.29026977,  7.34061462,\n",
       "        9.33020509])"
      ]
     },
     "execution_count": 362,
     "metadata": {},
     "output_type": "execute_result"
    }
   ],
   "source": []
  },
  {
   "cell_type": "code",
   "execution_count": 363,
   "metadata": {},
   "outputs": [
    {
     "data": {
      "text/plain": [
       "array([[10.9263, 36.7197],\n",
       "       [10.8584, 36.8983]])"
      ]
     },
     "execution_count": 363,
     "metadata": {},
     "output_type": "execute_result"
    }
   ],
   "source": []
  },
  {
   "cell_type": "code",
   "execution_count": null,
   "metadata": {},
   "outputs": [],
   "source": []
  },
  {
   "cell_type": "code",
   "execution_count": null,
   "metadata": {},
   "outputs": [],
   "source": []
  },
  {
   "cell_type": "code",
   "execution_count": null,
   "metadata": {},
   "outputs": [],
   "source": []
  },
  {
   "cell_type": "code",
   "execution_count": null,
   "metadata": {},
   "outputs": [],
   "source": []
  },
  {
   "cell_type": "code",
   "execution_count": null,
   "metadata": {},
   "outputs": [],
   "source": []
  },
  {
   "cell_type": "code",
   "execution_count": null,
   "metadata": {},
   "outputs": [],
   "source": []
  },
  {
   "cell_type": "code",
   "execution_count": null,
   "metadata": {},
   "outputs": [],
   "source": []
  },
  {
   "cell_type": "code",
   "execution_count": null,
   "metadata": {},
   "outputs": [],
   "source": [
    "closest_school"
   ]
  },
  {
   "cell_type": "code",
   "execution_count": null,
   "metadata": {},
   "outputs": [],
   "source": []
  },
  {
   "cell_type": "markdown",
   "metadata": {},
   "source": [
    "## CMA"
   ]
  },
  {
   "cell_type": "code",
   "execution_count": null,
   "metadata": {},
   "outputs": [],
   "source": []
  },
  {
   "cell_type": "code",
   "execution_count": null,
   "metadata": {},
   "outputs": [],
   "source": [
    "fcma = []\n",
    "\n",
    "for i in range(4):\n",
    "    for j in sigmas:\n",
    "        es = cma.CMAEvolutionStrategy(create_random_sp('region'), sigma0=j,\n",
    "                                  inopts={'bounds': boundsxy,'seed':1234})\n",
    "        es.optimize(f2, iterations=maxits / es.popsize)\n",
    "        fcma.append((es.result[1], es.result[0], j))\n",
    "        \n",
    "fcma_s = sorted(fcma, key=lambda t: t[0])[:4]"
   ]
  },
  {
   "cell_type": "code",
   "execution_count": null,
   "metadata": {},
   "outputs": [],
   "source": [
    "fig, ((ax0, ax1), (ax2, ax3)) = plt.subplots(2, 2, figsize=(15,15))\n",
    "fig.suptitle('CMA f(1). 4 Outputs with Different Starting Points')\n",
    "\n",
    "for i in range(4):\n",
    "    ax = 'ax'+str(i)\n",
    "    eval(ax).scatter(df_prim_loc[:, 1], df_prim_loc[:, 0], s=df_prim_enroll/100, label=\"Prim\") # s gives size\n",
    "    if(len(df_sec) != 0): eval(ax).scatter(df_sec_loc[:, 1], df_sec_loc[:, 0], s=df_sec_enroll/100, label=\"Secondary\") # s gives size\n",
    "    eval(ax).scatter(fcma_s[i][1][1::2], fcma_s[i][1][::2], s = 35, marker=\"o\", label=\"New Secondary\") # stars for supermarkets\n",
    "    eval(ax).set_title('Max: ' + str(np.round(fcma_s[i][0],0))+ ' . Sigma: ' + str(fcma_s[i][2]), fontstyle='italic')\n",
    "\n",
    "for ax in fig.get_axes():\n",
    "    ax.label_outer()"
   ]
  },
  {
   "cell_type": "code",
   "execution_count": null,
   "metadata": {},
   "outputs": [],
   "source": []
  },
  {
   "cell_type": "code",
   "execution_count": null,
   "metadata": {},
   "outputs": [],
   "source": []
  },
  {
   "cell_type": "code",
   "execution_count": null,
   "metadata": {},
   "outputs": [],
   "source": []
  },
  {
   "cell_type": "code",
   "execution_count": null,
   "metadata": {},
   "outputs": [],
   "source": []
  },
  {
   "cell_type": "code",
   "execution_count": null,
   "metadata": {},
   "outputs": [],
   "source": []
  },
  {
   "cell_type": "code",
   "execution_count": null,
   "metadata": {},
   "outputs": [],
   "source": []
  },
  {
   "cell_type": "code",
   "execution_count": null,
   "metadata": {},
   "outputs": [],
   "source": []
  },
  {
   "cell_type": "code",
   "execution_count": null,
   "metadata": {},
   "outputs": [],
   "source": []
  },
  {
   "cell_type": "code",
   "execution_count": null,
   "metadata": {},
   "outputs": [],
   "source": []
  },
  {
   "cell_type": "code",
   "execution_count": null,
   "metadata": {},
   "outputs": [],
   "source": []
  },
  {
   "cell_type": "code",
   "execution_count": null,
   "metadata": {},
   "outputs": [],
   "source": []
  },
  {
   "cell_type": "code",
   "execution_count": null,
   "metadata": {},
   "outputs": [],
   "source": []
  },
  {
   "cell_type": "code",
   "execution_count": null,
   "metadata": {},
   "outputs": [],
   "source": []
  },
  {
   "cell_type": "code",
   "execution_count": null,
   "metadata": {},
   "outputs": [],
   "source": []
  },
  {
   "cell_type": "code",
   "execution_count": null,
   "metadata": {},
   "outputs": [],
   "source": []
  },
  {
   "cell_type": "code",
   "execution_count": null,
   "metadata": {},
   "outputs": [],
   "source": []
  },
  {
   "cell_type": "code",
   "execution_count": null,
   "metadata": {},
   "outputs": [],
   "source": []
  },
  {
   "cell_type": "code",
   "execution_count": null,
   "metadata": {},
   "outputs": [],
   "source": []
  },
  {
   "cell_type": "code",
   "execution_count": null,
   "metadata": {},
   "outputs": [],
   "source": []
  },
  {
   "cell_type": "code",
   "execution_count": null,
   "metadata": {},
   "outputs": [],
   "source": []
  },
  {
   "cell_type": "code",
   "execution_count": null,
   "metadata": {},
   "outputs": [],
   "source": [
    "# Sample 5 coordinates. \n",
    "x = create_random_sp('woreda')\n",
    "x = x.reshape(proposed_schools,2)"
   ]
  },
  {
   "cell_type": "code",
   "execution_count": null,
   "metadata": {},
   "outputs": [],
   "source": []
  },
  {
   "cell_type": "markdown",
   "metadata": {},
   "source": [
    "#####  Glossary\n",
    "* ps = primary school\n",
    "* ss = secondary school\n",
    "* ee = expected enrollment\n",
    "* eei = expected enrollment increase\n",
    "* ee_old = current secondary enrollment\n",
    "* current_ps_distance = exisitng distance to from primary school to secondary school\n"
   ]
  },
  {
   "cell_type": "code",
   "execution_count": null,
   "metadata": {},
   "outputs": [],
   "source": [
    "eei = 0 \n",
    "ee_old = np.sum(df_sec_enroll)\n"
   ]
  },
  {
   "cell_type": "code",
   "execution_count": null,
   "metadata": {},
   "outputs": [],
   "source": [
    "min_distance = np.min(haversine_vector(df_prim_loc, x, Unit.KILOMETERS, comb=True), axis=0) # minimum distance \n",
    "less_than = np.where(min_distance < current_ps_distance)\n",
    "eei = np.sum(shape(min_distance[less_than], df_prim_enroll[less_than]))\n",
    "eei"
   ]
  },
  {
   "cell_type": "code",
   "execution_count": null,
   "metadata": {},
   "outputs": [],
   "source": [
    "old_within_range = (min_distance > current_ps_distance) & (current_ps_distance < 5)\n",
    "ee_old -= np.sum(shape(min_distance[old_within_range], df_prim_enroll[old_within_range]))\n",
    "ee_old"
   ]
  },
  {
   "cell_type": "code",
   "execution_count": null,
   "metadata": {},
   "outputs": [],
   "source": [
    "ee[:, np.any(ee ==True, axis = 0)]"
   ]
  },
  {
   "cell_type": "code",
   "execution_count": null,
   "metadata": {},
   "outputs": [],
   "source": [
    "d[np.any(ee==True)]"
   ]
  },
  {
   "cell_type": "code",
   "execution_count": null,
   "metadata": {},
   "outputs": [],
   "source": [
    "np.unique(np.where(ee), return_inverse=True, axis=0)"
   ]
  },
  {
   "cell_type": "code",
   "execution_count": null,
   "metadata": {},
   "outputs": [],
   "source": [
    "print(current_ps_distance)"
   ]
  },
  {
   "cell_type": "code",
   "execution_count": null,
   "metadata": {},
   "outputs": [],
   "source": [
    "d = haversine_vector(df_prim_loc, x, Unit.KILOMETERS, comb=True) # single loop over primary schools with dist to secondary\n",
    "# feeder_dist = [[] for _ in range(proposed_schools)]\n",
    "# feeder_ps =[[] for _ in range(proposed_schools)]\n",
    "feeder = {}\n",
    "eei = 0\n",
    "ee_old = np.sum(df_sec_enroll)\n",
    "for ss in range(0, proposed_schools):\n",
    "    for ps in range(0, len(d[ss])):\n",
    "        # if distance is < 5 and < current distance to primary school.\n",
    "        if (d[ss][ps] < 5) & (d[ss][ps] < current_ps_distance[ps]):\n",
    "            if len(feeder) == 0:\n",
    "                feeder[ps] = [ss, d[ss][ps]] # keys are schools dist to closest school. \n",
    "            else:\n",
    "                if ps not in feeder: # stops double counting\n",
    "                    feeder[ps] = [ss, d[ss][ps]]\n",
    "                else:\n",
    "#                     # case zero, if ps_n < ps_n+1, replace school in feeder.\n",
    "                    if feeder[ps][1] < d[ss][ps]: \n",
    "                        feeder[ps] = [ss, d[ss][ps]]\n",
    "                        \n",
    "# eei is only the final min schools being added.\n",
    "closest_ss_dist = np.array([row[1] for row in list(feeder.values())])\n",
    "ps_enroll = df_prim_enroll[list(feeder.keys())]\n",
    "eei = np.sum(shape(closest_ss_dist, ps_enroll))\n",
    "eei"
   ]
  },
  {
   "cell_type": "code",
   "execution_count": null,
   "metadata": {},
   "outputs": [],
   "source": [
    "d = haversine_vector(df_prim_loc, x, Unit.KILOMETERS, comb=True) # single loop over primary schools with dist to secondary\n",
    "feeder = {}\n",
    "eei = 0\n",
    "ee_old = np.sum(df_sec_enroll)\n",
    "ee_old"
   ]
  },
  {
   "cell_type": "code",
   "execution_count": null,
   "metadata": {},
   "outputs": [],
   "source": [
    "for ss in range(0, proposed_schools): # for each secondary school\n",
    "    for ps in range(0, len(d[ss])): # for each distance from a secondary school to a primary school\n",
    "        \n",
    "        # Case 0\n",
    "        \n",
    "        # if the distance is less than 5km & the distance is less than the current distance to old secondary school\n",
    "        if (d[ss][ps] < 5) & (d[ss][ps] < current_ps_distance[ps]):\n",
    "            if ps not in feeder: # if primary school not in feeder dict, add.\n",
    "                feeder[ps] = [ss, d[ss][ps]] # dict = {primary school: [feeder secondary school, distance of ps to ss]}\n",
    "            else: # if ps already a key in feeder, replace with min [feeder secondary school, distance of ps to ss]\n",
    "                if feeder[ps][1] < d[ss][ps]:\n",
    "                    feeder[ps] = [ss, d[ss][ps]]\n",
    "        \n",
    "        # Case 1. \n",
    "        # if ps distance is less than 5 but ps distance is > \n",
    "        elif (current_ps_distance[ps] < 5) & (d[ss][ps] < current_ps_distance[ps]):\n",
    "            ee_old -= shape(current_ps_distance[ps], df_prim_enroll[ps])\n",
    "\n",
    "# eei is only the final min schools being added.\n",
    "closest_ss_dist = np.array([row[1] for row in list(feeder.values())])\n",
    "ps_enroll = df_prim_enroll[list(feeder.keys())]\n",
    "eei = np.sum(shape(closest_ss_dist, ps_enroll))\n",
    "ee = eei + ee_old\n",
    "\n",
    "print(round(ee,0), round(eei,0), round(ee_old,0))"
   ]
  },
  {
   "cell_type": "code",
   "execution_count": null,
   "metadata": {},
   "outputs": [],
   "source": [
    "def expected_enrollment2()\n",
    "\n"
   ]
  },
  {
   "cell_type": "code",
   "execution_count": null,
   "metadata": {},
   "outputs": [],
   "source": []
  },
  {
   "cell_type": "code",
   "execution_count": null,
   "metadata": {},
   "outputs": [],
   "source": [
    "d[:, np.all(d < 5, axis = 0)]"
   ]
  },
  {
   "cell_type": "code",
   "execution_count": null,
   "metadata": {},
   "outputs": [],
   "source": [
    "np.array([i < 5 for i in d])"
   ]
  },
  {
   "cell_type": "code",
   "execution_count": null,
   "metadata": {},
   "outputs": [],
   "source": [
    "d[(d<5)]"
   ]
  },
  {
   "cell_type": "code",
   "execution_count": null,
   "metadata": {},
   "outputs": [],
   "source": [
    "d[(d[:,0] < 5)]"
   ]
  },
  {
   "cell_type": "code",
   "execution_count": null,
   "metadata": {},
   "outputs": [],
   "source": [
    "tt = np.argwhere(d < 5)\n",
    "tt"
   ]
  },
  {
   "cell_type": "code",
   "execution_count": null,
   "metadata": {},
   "outputs": [],
   "source": []
  },
  {
   "cell_type": "code",
   "execution_count": null,
   "metadata": {},
   "outputs": [],
   "source": []
  },
  {
   "cell_type": "code",
   "execution_count": null,
   "metadata": {},
   "outputs": [],
   "source": []
  },
  {
   "cell_type": "code",
   "execution_count": null,
   "metadata": {},
   "outputs": [],
   "source": [
    "np.unique(tt[:,1], return_inverse=True)"
   ]
  },
  {
   "cell_type": "code",
   "execution_count": null,
   "metadata": {},
   "outputs": [],
   "source": [
    "\n",
    "np.argwhere(tt[:,1])\n",
    "# np.unique(tt[:,0], return_inverse=True)\n",
    "# for i in tt:\n",
    "#     print(np.unique(i))"
   ]
  },
  {
   "cell_type": "code",
   "execution_count": null,
   "metadata": {},
   "outputs": [],
   "source": [
    "rr = [i for i in d < 5]\n",
    "rr = np.array(rr)\n",
    "[d[i] for i in rr]"
   ]
  },
  {
   "cell_type": "code",
   "execution_count": null,
   "metadata": {},
   "outputs": [],
   "source": [
    "a[:, np.all(a < 10, axis = 0)]"
   ]
  },
  {
   "cell_type": "code",
   "execution_count": null,
   "metadata": {},
   "outputs": [],
   "source": [
    "d[:, np.all( d < 12, axis=0)]"
   ]
  },
  {
   "cell_type": "code",
   "execution_count": null,
   "metadata": {},
   "outputs": [],
   "source": [
    "np.all(d<=5, axis=0)"
   ]
  },
  {
   "cell_type": "code",
   "execution_count": null,
   "metadata": {},
   "outputs": [],
   "source": [
    "(d[:,np.any(d<5, axis=0)])"
   ]
  },
  {
   "cell_type": "code",
   "execution_count": null,
   "metadata": {},
   "outputs": [],
   "source": [
    "np.all(d>5, axis=0)"
   ]
  },
  {
   "cell_type": "code",
   "execution_count": null,
   "metadata": {},
   "outputs": [],
   "source": [
    "d = haversine_vector(df_prim_loc, x, Unit.KILOMETERS, comb=True)\n",
    "print(d[:, np.all(d < 2, axis = 0)])\n",
    "\n",
    "# np.where(d < 5)\n",
    "\n",
    "# df_prim_enroll[np.where(d < 5)]\n",
    "# df_prim_enroll[rr]\n",
    "# np.sum(shape(d[rr], "
   ]
  },
  {
   "cell_type": "markdown",
   "metadata": {},
   "source": [
    "# "
   ]
  },
  {
   "cell_type": "code",
   "execution_count": null,
   "metadata": {},
   "outputs": [],
   "source": []
  },
  {
   "cell_type": "code",
   "execution_count": null,
   "metadata": {},
   "outputs": [],
   "source": []
  },
  {
   "cell_type": "code",
   "execution_count": null,
   "metadata": {},
   "outputs": [],
   "source": [
    "ee_old = np.sum(df_sec_enroll)\n",
    "ee_old"
   ]
  },
  {
   "cell_type": "code",
   "execution_count": null,
   "metadata": {},
   "outputs": [],
   "source": []
  },
  {
   "cell_type": "code",
   "execution_count": null,
   "metadata": {},
   "outputs": [],
   "source": [
    "expected_enroll2(df_prim_loc, df_sec_loc, df_prim_loc)"
   ]
  },
  {
   "cell_type": "code",
   "execution_count": null,
   "metadata": {},
   "outputs": [],
   "source": [
    "ee_old"
   ]
  },
  {
   "cell_type": "code",
   "execution_count": null,
   "metadata": {},
   "outputs": [],
   "source": []
  },
  {
   "cell_type": "code",
   "execution_count": null,
   "metadata": {},
   "outputs": [],
   "source": [
    "sigmas = (0.01, 0.05, 0.1, 0.12, 0.14, 0.16, 0.18, 0.2, 0.22, 0.24)\n",
    "maxits = 1000"
   ]
  },
  {
   "cell_type": "code",
   "execution_count": null,
   "metadata": {},
   "outputs": [],
   "source": [
    "rr = create_random_sp('woreda')\n",
    "list(rr)"
   ]
  },
  {
   "cell_type": "code",
   "execution_count": null,
   "metadata": {},
   "outputs": [],
   "source": [
    "es = cma.CMAEvolutionStrategy(list(rr), sigma0=0.01, inopts={'bounds': boundsxy,'seed':1234})\n",
    "# es.optimize(f2, iterations=maxits / es.popsize)"
   ]
  },
  {
   "cell_type": "code",
   "execution_count": null,
   "metadata": {},
   "outputs": [],
   "source": [
    "fcma = []\n",
    "\n",
    "for i in range(4):\n",
    "    for j in sigmas:\n",
    "        es = cma.CMAEvolutionStrategy(create_random_sp('woreda'), sigma0=j, inopts={'bounds': boundsxy,'seed':1234})\n",
    "        es.optimize(f2, iterations=maxits / es.popsize)\n",
    "        fcma.append((es.result[1], es.result[0], j))\n",
    "        \n",
    "fcma_s = sorted(fcma, key=lambda t: t[0])[:4]"
   ]
  },
  {
   "cell_type": "code",
   "execution_count": null,
   "metadata": {},
   "outputs": [],
   "source": []
  },
  {
   "cell_type": "code",
   "execution_count": null,
   "metadata": {},
   "outputs": [],
   "source": [
    "new_less_old"
   ]
  },
  {
   "cell_type": "code",
   "execution_count": null,
   "metadata": {},
   "outputs": [],
   "source": [
    "np.where(new_less_old, ())\\\n",
    "                        ee)"
   ]
  },
  {
   "cell_type": "code",
   "execution_count": null,
   "metadata": {},
   "outputs": [],
   "source": [
    "EEI = 0 # expected enrollment increase\n",
    "rr = (min_distance < current_ps_distance)\n",
    "EEI += np.sum(shape(min_distance[rr], df_prim_enroll[rr]))"
   ]
  },
  {
   "cell_type": "code",
   "execution_count": null,
   "metadata": {},
   "outputs": [],
   "source": [
    "current_ps_distance = df_prim['nearest_lwr_sec'].to_numpy() # existing distance to secondary school"
   ]
  },
  {
   "cell_type": "code",
   "execution_count": null,
   "metadata": {},
   "outputs": [],
   "source": [
    "def expected_enroll2(prim_loc, x, prim_enroll, ps_dist_current):\n",
    "    min_distance = np.min(haversine_vector(df_prim_loc, x, Unit.KILOMETERS, comb=True), axis=0) # minimum distance \n",
    "    rr = (min_distance < ps_dist_current)\n",
    "    EEI = np.sum(shape(min_distance[rr], prim_enroll[rr]))\n",
    "    return EEI"
   ]
  },
  {
   "cell_type": "code",
   "execution_count": null,
   "metadata": {},
   "outputs": [],
   "source": [
    "f2(x)"
   ]
  },
  {
   "cell_type": "code",
   "execution_count": null,
   "metadata": {},
   "outputs": [],
   "source": [
    "# EEI= 0\n",
    "\n",
    "# for i in range(0, len(distance)):\n",
    "#     for j in range(0, len(distance[i])):\n",
    "#         if ((distance[i][j] < current_ps_distance[j]) & (distance[i][j] < 5)):\n",
    "#             print(i, j, distance[i][j])\n",
    "# #             feeder[i] = distance[i][j]\n",
    "            \n",
    "# feeder\n",
    "            "
   ]
  },
  {
   "cell_type": "code",
   "execution_count": null,
   "metadata": {},
   "outputs": [],
   "source": []
  },
  {
   "cell_type": "code",
   "execution_count": null,
   "metadata": {},
   "outputs": [],
   "source": []
  }
 ],
 "metadata": {
  "kernelspec": {
   "display_name": "Python 3",
   "language": "python",
   "name": "python3"
  },
  "language_info": {
   "codemirror_mode": {
    "name": "ipython",
    "version": 3
   },
   "file_extension": ".py",
   "mimetype": "text/x-python",
   "name": "python",
   "nbconvert_exporter": "python",
   "pygments_lexer": "ipython3",
   "version": "3.8.5"
  }
 },
 "nbformat": 4,
 "nbformat_minor": 4
}
