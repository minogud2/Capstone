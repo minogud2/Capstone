{
 "cells": [
  {
   "cell_type": "code",
   "execution_count": 1,
   "metadata": {},
   "outputs": [],
   "source": [
    "import pandas as pd\n",
    "import numpy as np\n",
    "from haversine import haversine, haversine_vector, Unit\n",
    "import geopandas as gpd\n",
    "import matplotlib.pyplot as plt\n",
    "import cma"
   ]
  },
  {
   "cell_type": "code",
   "execution_count": 2,
   "metadata": {},
   "outputs": [],
   "source": [
    "# To supress the scientific notation for easier reading.\n",
    "np.set_printoptions(suppress=True)"
   ]
  },
  {
   "cell_type": "markdown",
   "metadata": {},
   "source": [
    "# Test Development\n",
    "\n",
    "In developing the code, three main tests have been completed within one region: Amhara. The first at a very micro level with a custom dummy dataset with only two primary schools and 2 proposed secondary schools. The second is for one woreda/district with 21 primary schools and two secondary schools, whereby 5 secondary schools are proposed. The final test was a region wide test with 1765 primary schools and 1658 secondary schools, with 5 new secondary schools proposed."
   ]
  },
  {
   "cell_type": "code",
   "execution_count": 3,
   "metadata": {},
   "outputs": [],
   "source": [
    "# Specify which test to perform\n",
    "declare_test = 2 # micro test"
   ]
  },
  {
   "cell_type": "code",
   "execution_count": 4,
   "metadata": {},
   "outputs": [],
   "source": [
    "# Declare key variables according to the test being performed.\n",
    "region = 'Amhara' # Test Amhara region\n",
    "woreda = 'ET030908'\n",
    "\n",
    "if declare_test == 1: # for micro test\n",
    "    # read in the prepared dataset. Evaluate point data to make it readible by geopandas\n",
    "    df = pd.read_csv('data/test_dataset2.csv', converters={'point': pd.eval})\n",
    "    proposed_schools= 2\n",
    "    gdf_woreda = gpd.read_file('eth_shape_files/json/eth_admin3v2.json')\n",
    "    gdf_woreda_shp = gdf_woreda.loc[gdf_woreda['ADM3_PCODE']==woreda]['geometry'].reset_index(drop=True)\n",
    "    df = df.loc[df['ADM3_PCODE'] == woreda]\n",
    "    bounds = gdf_woreda_shp.bounds\n",
    "elif declare_test == 2:\n",
    "    df = pd.read_csv('data/test_dataset.csv', converters={'point': pd.eval})\n",
    "    proposed_schools= 5\n",
    "    gdf_woreda = gpd.read_file('eth_shape_files/json/eth_admin3v2.json')\n",
    "    gdf_woreda_shp = gdf_woreda.loc[gdf_woreda['ADM3_PCODE']==woreda]['geometry'].reset_index(drop=True)\n",
    "    df = df.loc[df['ADM3_PCODE'] == woreda]\n",
    "    bounds = gdf_woreda_shp.bounds\n",
    "else:\n",
    "    proposed_schools= 5\n",
    "    df = pd.read_csv('data/clean_dataset.csv', converters={'point': pd.eval})\n",
    "    # limit geojson to only selected region\n",
    "    # limit clean dataset to only selected region\n",
    "    gdf_region = gpd.read_file('eth_shape_files/json//eth_admin1v2.json') # read in geojson\n",
    "    gdf_region_shp = gdf_region.loc[gdf_region['ADM1_EN']==region]['geometry'].reset_index(drop=True)\n",
    "    df = df.loc[df['region'] == region]\n",
    "    bounds = gdf_region_shp.bounds "
   ]
  },
  {
   "cell_type": "markdown",
   "metadata": {},
   "source": [
    "## Data Preparation"
   ]
  },
  {
   "cell_type": "code",
   "execution_count": 6,
   "metadata": {},
   "outputs": [
    {
     "data": {
      "text/plain": [
       "array([[10.71371939, 36.68932805, 10.71371939, 36.68932805, 10.71371939,\n",
       "        36.68932805, 10.71371939, 36.68932805, 10.71371939, 36.68932805],\n",
       "       [10.96477258, 36.96973029, 10.96477258, 36.96973029, 10.96477258,\n",
       "        36.96973029, 10.96477258, 36.96973029, 10.96477258, 36.96973029]])"
      ]
     },
     "execution_count": 6,
     "metadata": {},
     "output_type": "execute_result"
    }
   ],
   "source": [
    "# Establish boundaries based on the bounds of region or woreda.\n",
    "# Latitude is the Y axis, longitude is the X axis.\n",
    "\n",
    "lat_bounds = bounds[['miny','maxy']].to_numpy(dtype=float)[0]\n",
    "lon_bounds = bounds[['minx','maxx']].to_numpy(dtype=float)[0]\n",
    "bounds = np.array([[lat_bounds[0], lon_bounds[0]], [lat_bounds[1], lon_bounds[1]]])\n",
    "# array - [[lower lat bounds, lower lon bounds],[upper lat bounds, upper lon bounds]]\n",
    "# CMA expects a list of size 2 for bounds\n",
    "x1y1 = np.repeat([bounds[0,:]],proposed_schools, axis=0).flatten()\n",
    "x2y2 = np.repeat([bounds[1,:]],proposed_schools, axis=0).flatten()\n",
    "boundsxy = np.array([x1y1,x2y2])\n",
    "boundsxy"
   ]
  },
  {
   "cell_type": "code",
   "execution_count": 7,
   "metadata": {},
   "outputs": [],
   "source": [
    "# Create subset arrays required as input for enrollment function.\n",
    "# 1. Primary school enrollment data\n",
    "# 2. Primary school location data: lat lon point data. \n",
    "# 3. Secondary schoool location data: lat lon point data. \n",
    "# 4. Secondary school enrollment data. Potentially required for calibration function.\n",
    "\n",
    "df_prim = df.loc[ (df['gr_offer'] == 'G.1-8') | (df['gr_offer'] == 'G.5-8')]\n",
    "df_prim_enroll = df_prim['grade5_8'].reset_index(drop=True).to_numpy(dtype=float)\n",
    "df_prim_loc = df_prim['point'].reset_index(drop=True).to_numpy()\n",
    "df_prim_loc = np.array([np.array(i) for i in df_prim_loc], dtype=float)\n",
    "\n",
    "df_sec = df.loc[ (df['gr_offer'] == 'G. 9-10') | (df['gr_offer'] == 'G. 9-12')]\n",
    "df_sec_loc = df_sec['point'].reset_index(drop=True).to_numpy()\n",
    "df_sec_enroll = df_sec['grade9_10'].reset_index(drop=True).to_numpy(dtype=float)\n",
    "df_sec_loc = np.array([np.array(i) for i in df_sec_loc], dtype=float)"
   ]
  },
  {
   "cell_type": "code",
   "execution_count": 8,
   "metadata": {},
   "outputs": [
    {
     "data": {
      "text/plain": [
       "7"
      ]
     },
     "execution_count": 8,
     "metadata": {},
     "output_type": "execute_result"
    }
   ],
   "source": [
    "total_sec = len(df_sec_enroll)+ proposed_schools\n",
    "total_sec"
   ]
  },
  {
   "cell_type": "markdown",
   "metadata": {},
   "source": [
    "## Key functions"
   ]
  },
  {
   "cell_type": "code",
   "execution_count": 9,
   "metadata": {},
   "outputs": [],
   "source": [
    "def check_woreda(vec):\n",
    "    # lat = y, x=lon\n",
    "    vec = gpd.points_from_xy(vec[:, 1], vec[:, 0])\n",
    "    return vec.within(gdf_woreda_shp[0]).all()\n",
    "            \n",
    "def check_region(vec):\n",
    "    # lat = y, x=lon\n",
    "    vec = gpd.points_from_xy(vec[:, 1], vec[:, 0])\n",
    "    return vec.within(gdf_region_shp[0]).all()"
   ]
  },
  {
   "cell_type": "code",
   "execution_count": 10,
   "metadata": {},
   "outputs": [],
   "source": [
    "def shape(distance, enrollment):\n",
    "    min_walk = 2 # distance not a factor issuing enrollment until 2km\n",
    "    max_walk = 5 # distance greater than 5km assumes zero enrollment\n",
    "    answer = np.where(distance<min_walk, enrollment,\n",
    "             np.where(distance>max_walk, 0,\n",
    "                     enrollment*(1-(distance-min_walk)/(max_walk-min_walk)))\n",
    "            )\n",
    "    return answer"
   ]
  },
  {
   "cell_type": "code",
   "execution_count": 11,
   "metadata": {},
   "outputs": [],
   "source": [
    "def expected_enroll(prim_loc, x, prim_enroll):\n",
    "    distance = haversine_vector(prim_loc, x, Unit.KILOMETERS, comb=True)\n",
    "    min_d = np.min(distance, axis=0) # array with minimum distance from each primacy school to every secondary.\n",
    "    shaped_enroll = shape(min_d, prim_enroll)\n",
    "    return np.sum(shaped_enroll)"
   ]
  },
  {
   "cell_type": "code",
   "execution_count": 12,
   "metadata": {},
   "outputs": [],
   "source": [
    "# The Objective Function with the shape function included.\n",
    "def f(x):\n",
    "    x = np.append(df_sec_loc, x).reshape(total_sec,2) #  add new schools to existing and reshape\n",
    "    test_case = expected_enroll(df_prim_loc, x, df_prim_enroll)\n",
    "    return test_case"
   ]
  },
  {
   "cell_type": "code",
   "execution_count": 23,
   "metadata": {},
   "outputs": [],
   "source": [
    "# Create random points within regional or district boundaries boundaries.\n",
    "\n",
    "def create_random_sp(sp_type):\n",
    "    if sp_type == 'region':\n",
    "        shape_file = gdf_region_shp[0]\n",
    "    else:\n",
    "        shape_file = gdf_woreda_shp[0]\n",
    "    sp_in_bounds = False\n",
    "    while sp_in_bounds == False:\n",
    "        sp1 = np.random.uniform(low=lat_bounds[0], high=lat_bounds[1], size=proposed_schools)\n",
    "        sp2 = np.random.uniform(low=lon_bounds[0], high=lon_bounds[1], size=proposed_schools)\n",
    "        sp = np.vstack((sp1, sp2)).T\n",
    "        sp_points = gpd.points_from_xy(sp[:, 1], sp[:, 0])\n",
    "        if sp_points.within(shape_file).all():\n",
    "            sp_in_bounds = True\n",
    "            return sp.flatten()"
   ]
  },
  {
   "cell_type": "code",
   "execution_count": null,
   "metadata": {},
   "outputs": [],
   "source": [
    "gdf_woreda_shp[0]"
   ]
  },
  {
   "cell_type": "code",
   "execution_count": null,
   "metadata": {},
   "outputs": [],
   "source": [
    "sp_points.within(shape_file).all()"
   ]
  },
  {
   "cell_type": "markdown",
   "metadata": {},
   "source": [
    "## Random Search"
   ]
  },
  {
   "cell_type": "code",
   "execution_count": null,
   "metadata": {},
   "outputs": [],
   "source": [
    "def random_search(f, n, test_type):\n",
    "    x = [create_random_sp(test_type) for _ in range(n)] \n",
    "    fx = [(f(xi), xi) for xi in x]\n",
    "    best_f, best_solution = max(fx, key=lambda x:x[0])\n",
    "    return best_f, best_solution"
   ]
  },
  {
   "cell_type": "code",
   "execution_count": null,
   "metadata": {},
   "outputs": [],
   "source": [
    "%time fx = [random_search(f, 1000, 'woreda') for _ in range(4)]"
   ]
  },
  {
   "cell_type": "code",
   "execution_count": 17,
   "metadata": {
    "scrolled": true
   },
   "outputs": [
    {
     "data": {
      "text/plain": [
       "array([6.4200536 , 0.97208858, 4.32832206, 5.29183205, 9.11916044,\n",
       "       5.27713026, 1.73032317, 3.33592388, 5.22039308, 9.74686057,\n",
       "       4.88778134, 4.00496738, 0.756862  , 7.40811787, 4.05068789,\n",
       "       7.28259465, 9.52187629, 4.88278866, 5.29026977, 4.59711784,\n",
       "       2.82367034])"
      ]
     },
     "execution_count": 17,
     "metadata": {},
     "output_type": "execute_result"
    }
   ],
   "source": []
  },
  {
   "cell_type": "code",
   "execution_count": 145,
   "metadata": {},
   "outputs": [
    {
     "data": {
      "text/plain": [
       "array([10.89509746, 36.83795863, 10.90310309, 36.85796824, 10.84827089,\n",
       "       36.77392375, 10.73741988, 36.90180524, 10.7663454 , 36.90314876])"
      ]
     },
     "execution_count": 145,
     "metadata": {},
     "output_type": "execute_result"
    }
   ],
   "source": []
  },
  {
   "cell_type": "code",
   "execution_count": 191,
   "metadata": {},
   "outputs": [],
   "source": [
    "x = create_random_sp('woreda')\n",
    "x = x.reshape(proposed_schools,2)"
   ]
  },
  {
   "cell_type": "code",
   "execution_count": 376,
   "metadata": {},
   "outputs": [],
   "source": [
    "EEI = 0\n",
    "current_ps_distance = df_prim['nearest_lwr_sec'].to_numpy()\n",
    "distance = haversine_vector(df_prim_loc, x, Unit.KILOMETERS, comb=True)\n",
    "ff = (distance < 5) & (distance < current_ps_distance) # < 5km and < other secondary schools.\n",
    "dd = np.concatenate([df_prim_enroll[i] for i in ff]) \n",
    "EEI += np.sum(shape(distance[ff], dd)) # add enrollment to expected enrollment increase."
   ]
  },
  {
   "cell_type": "code",
   "execution_count": 387,
   "metadata": {},
   "outputs": [
    {
     "name": "stdout",
     "output_type": "stream",
     "text": [
      "14.50699770804724\n",
      "11.35584917135505\n",
      "15.704716729603387\n",
      "11.409989801118783\n",
      "2.4761731018760984\n",
      "6.351289851296947\n",
      "9.767600263475675\n",
      "14.841820841074307\n",
      "7.771842573671798\n",
      "8.789239053577836\n",
      "7.628409503785916\n",
      "14.113840932263892\n",
      "11.152259726017087\n",
      "8.035558591056743\n",
      "15.474500092397834\n",
      "12.924634499668567\n",
      "15.02759222592423\n",
      "13.640977870626068\n",
      "12.206195300885357\n",
      "10.510131602986617\n",
      "12.84027801444574\n",
      "19.99084181998597\n",
      "4.674353203934396\n",
      "16.872083654649543\n",
      "8.815000490428602\n",
      "8.510352635276016\n",
      "3.844415592789101\n",
      "11.637803071663791\n",
      "7.672433323121746\n",
      "7.5864734429575105\n",
      "4.590122840740848\n",
      "5.4979838116576\n",
      "13.174649269714424\n",
      "12.949787686517626\n",
      "13.812519440097535\n",
      "7.601152606569728\n",
      "18.030516345860708\n",
      "21.658469457944456\n",
      "9.680201241329234\n",
      "16.25285308369192\n",
      "2.621515364012487\n",
      "7.909573555018298\n",
      "22.21930594569133\n",
      "9.214285658373733\n",
      "20.841125185923627\n",
      "13.372177749784155\n",
      "9.876662639253915\n",
      "7.709110781490203\n",
      "15.177466529702576\n",
      "7.494365601288641\n",
      "11.441950547817338\n",
      "0.8234100362967812\n",
      "9.66479663072288\n",
      "17.569897597637194\n",
      "16.586003250218933\n",
      "15.735354792269712\n",
      "10.231478311229528\n",
      "20.44204321959473\n",
      "23.092744162724113\n",
      "14.39738853498705\n",
      "19.14373254989512\n",
      "6.016228782606166\n",
      "12.62557987853123\n",
      "24.452541186716445\n",
      "3.94630307659526\n",
      "18.320582846713904\n",
      "9.470828218646046\n",
      "14.81861860859408\n",
      "9.000158722120458\n",
      "14.861160514976353\n",
      "7.156182993148422\n",
      "11.118682510972675\n",
      "10.165110418824547\n",
      "9.137719493148484\n",
      "13.614002463847\n",
      "15.750806741558705\n",
      "19.079780307149722\n",
      "2.241855406060655\n",
      "22.376668467379535\n",
      "26.9460433297889\n",
      "8.255489368415738\n",
      "20.042892731040876\n",
      "4.850273902622006\n",
      "6.291290720318328\n",
      "10.336301127332497\n",
      "11.956023792865585\n",
      "11.637358474748737\n",
      "9.586430394655865\n",
      "2.086485123629823\n",
      "6.888267314614734\n",
      "5.951216276741865\n",
      "17.68223162883324\n",
      "5.79471764929345\n",
      "12.450731815454981\n",
      "6.9632740455014845\n",
      "10.987531045346222\n",
      "7.182909148547457\n",
      "3.867234204563913\n",
      "17.05714335000915\n",
      "8.597804674170227\n",
      "11.591918729882776\n",
      "12.1603640805666\n",
      "7.720689072922085\n",
      "12.462766529700307\n",
      "12.060911314688893\n"
     ]
    }
   ],
   "source": [
    "for i in distance:\n",
    "    for j in range(0, len(i)):\n",
    "        print(i[j])"
   ]
  },
  {
   "cell_type": "code",
   "execution_count": null,
   "metadata": {},
   "outputs": [],
   "source": []
  },
  {
   "cell_type": "code",
   "execution_count": null,
   "metadata": {},
   "outputs": [],
   "source": []
  },
  {
   "cell_type": "code",
   "execution_count": 381,
   "metadata": {},
   "outputs": [
    {
     "data": {
      "text/plain": [
       "array([4, 9], dtype=int64)"
      ]
     },
     "execution_count": 381,
     "metadata": {},
     "output_type": "execute_result"
    }
   ],
   "source": [
    "u,c = np.unique(np.where(ff)[1], return_counts=True)\n",
    "dup = u[c > 1]\n",
    "dup"
   ]
  },
  {
   "cell_type": "code",
   "execution_count": 383,
   "metadata": {},
   "outputs": [
    {
     "data": {
      "text/plain": [
       "(array([0, 1, 1, 1, 2, 3, 4, 4], dtype=int64),\n",
       " array([ 4,  5,  9, 19,  9, 14,  4, 13], dtype=int64))"
      ]
     },
     "execution_count": 383,
     "metadata": {},
     "output_type": "execute_result"
    }
   ],
   "source": [
    "np.where(ff)"
   ]
  },
  {
   "cell_type": "code",
   "execution_count": 374,
   "metadata": {},
   "outputs": [
    {
     "data": {
      "text/plain": [
       "array([18,  3], dtype=int64)"
      ]
     },
     "execution_count": 374,
     "metadata": {},
     "output_type": "execute_result"
    }
   ],
   "source": [
    "np.bincount(ff[1])"
   ]
  },
  {
   "cell_type": "code",
   "execution_count": 350,
   "metadata": {},
   "outputs": [
    {
     "data": {
      "text/plain": [
       "array([[14.50699771, 11.35584917, 15.70471673, 11.4099898 ,  2.4761731 ,\n",
       "         6.35128985,  9.76760026, 14.84182084,  7.77184257,  8.78923905,\n",
       "         7.6284095 , 14.11384093, 11.15225973,  8.03555859, 15.47450009,\n",
       "        12.9246345 , 15.02759223, 13.64097787, 12.2061953 , 10.5101316 ,\n",
       "        12.84027801],\n",
       "       [19.99084182,  4.6743532 , 16.87208365,  8.81500049,  8.51035264,\n",
       "         3.84441559, 11.63780307,  7.67243332,  7.58647344,  4.59012284,\n",
       "         5.49798381, 13.17464927, 12.94978769, 13.81251944,  7.60115261,\n",
       "        18.03051635, 21.65846946,  9.68020124, 16.25285308,  2.62151536,\n",
       "         7.90957356],\n",
       "       [22.21930595,  9.21428566, 20.84112519, 13.37217775,  9.87666264,\n",
       "         7.70911078, 15.17746653,  7.4943656 , 11.44195055,  0.82341004,\n",
       "         9.66479663, 17.5698976 , 16.58600325, 15.73535479, 10.23147831,\n",
       "        20.44204322, 23.09274416, 14.39738853, 19.14373255,  6.01622878,\n",
       "        12.62557988],\n",
       "       [24.45254119,  3.94630308, 18.32058285,  9.47082822, 14.81861861,\n",
       "         9.00015872, 14.86116051,  7.15618299, 11.11868251, 10.16511042,\n",
       "         9.13771949, 13.61400246, 15.75080674, 19.07978031,  2.24185541,\n",
       "        22.37666847, 26.94604333,  8.25548937, 20.04289273,  4.8502739 ,\n",
       "         6.29129072],\n",
       "       [10.33630113, 11.95602379, 11.63735847,  9.58643039,  2.08648512,\n",
       "         6.88826731,  5.95121628, 17.68223163,  5.79471765, 12.45073182,\n",
       "         6.96327405, 10.98753105,  7.18290915,  3.8672342 , 17.05714335,\n",
       "         8.59780467, 11.59191873, 12.16036408,  7.72068907, 12.46276653,\n",
       "        12.06091131]])"
      ]
     },
     "execution_count": 350,
     "metadata": {},
     "output_type": "execute_result"
    }
   ],
   "source": [
    "haversine_vector(df_prim_loc, x, Unit.KILOMETERS, comb=True)"
   ]
  },
  {
   "cell_type": "code",
   "execution_count": 356,
   "metadata": {},
   "outputs": [
    {
     "data": {
      "text/plain": [
       "array([10.33630113,  3.94630308, 11.63735847,  8.81500049,  2.08648512,\n",
       "        3.84441559,  5.95121628,  7.15618299,  5.79471765,  0.82341004,\n",
       "        5.49798381, 10.98753105,  7.18290915,  3.8672342 ,  2.24185541,\n",
       "        8.59780467, 11.59191873,  8.25548937,  7.72068907,  2.62151536,\n",
       "        6.29129072])"
      ]
     },
     "execution_count": 356,
     "metadata": {},
     "output_type": "execute_result"
    }
   ],
   "source": [
    "np.min(distance, axis=0)"
   ]
  },
  {
   "cell_type": "code",
   "execution_count": null,
   "metadata": {},
   "outputs": [],
   "source": []
  },
  {
   "cell_type": "code",
   "execution_count": null,
   "metadata": {},
   "outputs": [],
   "source": []
  },
  {
   "cell_type": "code",
   "execution_count": null,
   "metadata": {},
   "outputs": [],
   "source": []
  },
  {
   "cell_type": "code",
   "execution_count": null,
   "metadata": {},
   "outputs": [],
   "source": []
  },
  {
   "cell_type": "code",
   "execution_count": null,
   "metadata": {},
   "outputs": [],
   "source": []
  },
  {
   "cell_type": "code",
   "execution_count": 292,
   "metadata": {},
   "outputs": [
    {
     "data": {
      "text/plain": [
       "array([2.4761731 , 3.84441559, 4.59012284, 2.62151536, 0.82341004,\n",
       "       2.24185541, 2.08648512, 3.8672342 ])"
      ]
     },
     "execution_count": 292,
     "metadata": {},
     "output_type": "execute_result"
    }
   ],
   "source": [
    "np.min([distance[ff]], axis=0)"
   ]
  },
  {
   "cell_type": "code",
   "execution_count": 307,
   "metadata": {},
   "outputs": [
    {
     "data": {
      "text/plain": [
       "array([[False, False, False, False,  True, False, False, False, False,\n",
       "        False, False, False, False, False, False, False, False, False,\n",
       "        False, False, False],\n",
       "       [False, False, False, False, False,  True, False, False, False,\n",
       "         True, False, False, False, False, False, False, False, False,\n",
       "        False,  True, False],\n",
       "       [False, False, False, False, False, False, False, False, False,\n",
       "         True, False, False, False, False, False, False, False, False,\n",
       "        False, False, False],\n",
       "       [False, False, False, False, False, False, False, False, False,\n",
       "        False, False, False, False, False,  True, False, False, False,\n",
       "        False, False, False],\n",
       "       [False, False, False, False,  True, False, False, False, False,\n",
       "        False, False, False, False,  True, False, False, False, False,\n",
       "        False, False, False]])"
      ]
     },
     "execution_count": 307,
     "metadata": {},
     "output_type": "execute_result"
    }
   ],
   "source": [
    "ff"
   ]
  },
  {
   "cell_type": "code",
   "execution_count": 339,
   "metadata": {},
   "outputs": [
    {
     "data": {
      "text/plain": [
       "(array([False,  True]), array([0, 4], dtype=int64))"
      ]
     },
     "execution_count": 339,
     "metadata": {},
     "output_type": "execute_result"
    }
   ],
   "source": [
    "np.unique(ff == True, return_index=True)"
   ]
  },
  {
   "cell_type": "code",
   "execution_count": 325,
   "metadata": {},
   "outputs": [
    {
     "ename": "IndexError",
     "evalue": "boolean index did not match indexed array along dimension 0; dimension is 5 but corresponding boolean dimension is 21",
     "output_type": "error",
     "traceback": [
      "\u001b[1;31m---------------------------------------------------------------------------\u001b[0m",
      "\u001b[1;31mIndexError\u001b[0m                                Traceback (most recent call last)",
      "\u001b[1;32m<ipython-input-325-f40d9eada568>\u001b[0m in \u001b[0;36m<module>\u001b[1;34m\u001b[0m\n\u001b[1;32m----> 1\u001b[1;33m \u001b[1;33m[\u001b[0m\u001b[0mff\u001b[0m\u001b[1;33m[\u001b[0m\u001b[0mi\u001b[0m\u001b[1;33m]\u001b[0m \u001b[1;33m==\u001b[0m \u001b[0mff\u001b[0m\u001b[1;33m[\u001b[0m\u001b[0mi\u001b[0m\u001b[1;33m+\u001b[0m\u001b[1;36m1\u001b[0m\u001b[1;33m]\u001b[0m \u001b[1;32mfor\u001b[0m \u001b[0mi\u001b[0m \u001b[1;32min\u001b[0m \u001b[0mff\u001b[0m\u001b[1;33m]\u001b[0m\u001b[1;33m\u001b[0m\u001b[1;33m\u001b[0m\u001b[0m\n\u001b[0m",
      "\u001b[1;32m<ipython-input-325-f40d9eada568>\u001b[0m in \u001b[0;36m<listcomp>\u001b[1;34m(.0)\u001b[0m\n\u001b[1;32m----> 1\u001b[1;33m \u001b[1;33m[\u001b[0m\u001b[0mff\u001b[0m\u001b[1;33m[\u001b[0m\u001b[0mi\u001b[0m\u001b[1;33m]\u001b[0m \u001b[1;33m==\u001b[0m \u001b[0mff\u001b[0m\u001b[1;33m[\u001b[0m\u001b[0mi\u001b[0m\u001b[1;33m+\u001b[0m\u001b[1;36m1\u001b[0m\u001b[1;33m]\u001b[0m \u001b[1;32mfor\u001b[0m \u001b[0mi\u001b[0m \u001b[1;32min\u001b[0m \u001b[0mff\u001b[0m\u001b[1;33m]\u001b[0m\u001b[1;33m\u001b[0m\u001b[1;33m\u001b[0m\u001b[0m\n\u001b[0m",
      "\u001b[1;31mIndexError\u001b[0m: boolean index did not match indexed array along dimension 0; dimension is 5 but corresponding boolean dimension is 21"
     ]
    }
   ],
   "source": [
    "for i in range(proposed_schools):\n",
    "    np."
   ]
  },
  {
   "cell_type": "code",
   "execution_count": 297,
   "metadata": {},
   "outputs": [
    {
     "data": {
      "text/plain": [
       "(array([0, 1, 1, 1, 2, 3, 4, 4], dtype=int64),\n",
       " array([ 4,  5,  9, 19,  9, 14,  4, 13], dtype=int64))"
      ]
     },
     "execution_count": 297,
     "metadata": {},
     "output_type": "execute_result"
    }
   ],
   "source": [
    "Conditional selection of values based on comparison across vectors. \n",
    "    "
   ]
  },
  {
   "cell_type": "code",
   "execution_count": 273,
   "metadata": {},
   "outputs": [
    {
     "data": {
      "text/plain": [
       "(array([0, 1, 1, 1, 2, 3, 4, 4], dtype=int64),\n",
       " array([ 4,  5,  9, 19,  9, 14,  4, 13], dtype=int64))"
      ]
     },
     "execution_count": 273,
     "metadata": {},
     "output_type": "execute_result"
    }
   ],
   "source": [
    "ss = np.where(ff)\n",
    "ss"
   ]
  },
  {
   "cell_type": "code",
   "execution_count": 281,
   "metadata": {},
   "outputs": [
    {
     "data": {
      "text/plain": [
       "(array([ 4,  5,  9, 13, 14, 19], dtype=int64),\n",
       " array([0, 1, 2, 7, 5, 3], dtype=int64),\n",
       " array([2, 1, 2, 1, 1, 1], dtype=int64))"
      ]
     },
     "execution_count": 281,
     "metadata": {},
     "output_type": "execute_result"
    }
   ],
   "source": [
    "np.unique(ss[1], return_inverse=False, return_counts=True, return_index=True)"
   ]
  },
  {
   "cell_type": "code",
   "execution_count": 267,
   "metadata": {},
   "outputs": [
    {
     "data": {
      "text/plain": [
       "array([18,  3], dtype=int64)"
      ]
     },
     "execution_count": 267,
     "metadata": {},
     "output_type": "execute_result"
    }
   ],
   "source": [
    "np.bincount(ff[1])"
   ]
  },
  {
   "cell_type": "code",
   "execution_count": 265,
   "metadata": {},
   "outputs": [
    {
     "data": {
      "text/plain": [
       "array([[False, False, False, False,  True, False, False, False, False,\n",
       "        False, False, False, False, False, False, False, False, False,\n",
       "        False, False, False],\n",
       "       [False, False, False, False, False,  True, False, False, False,\n",
       "         True, False, False, False, False, False, False, False, False,\n",
       "        False,  True, False],\n",
       "       [False, False, False, False, False, False, False, False, False,\n",
       "         True, False, False, False, False, False, False, False, False,\n",
       "        False, False, False],\n",
       "       [False, False, False, False, False, False, False, False, False,\n",
       "        False, False, False, False, False,  True, False, False, False,\n",
       "        False, False, False],\n",
       "       [False, False, False, False,  True, False, False, False, False,\n",
       "        False, False, False, False,  True, False, False, False, False,\n",
       "        False, False, False]])"
      ]
     },
     "execution_count": 265,
     "metadata": {},
     "output_type": "execute_result"
    }
   ],
   "source": [
    "np.unique(ff)"
   ]
  },
  {
   "cell_type": "code",
   "execution_count": 254,
   "metadata": {},
   "outputs": [
    {
     "data": {
      "text/plain": [
       "2767.3808873388402"
      ]
     },
     "execution_count": 254,
     "metadata": {},
     "output_type": "execute_result"
    }
   ],
   "source": [
    "EEI"
   ]
  },
  {
   "cell_type": "code",
   "execution_count": 227,
   "metadata": {},
   "outputs": [
    {
     "ename": "IndexError",
     "evalue": "boolean index did not match indexed array along dimension 0; dimension is 5 but corresponding boolean dimension is 21",
     "output_type": "error",
     "traceback": [
      "\u001b[1;31m---------------------------------------------------------------------------\u001b[0m",
      "\u001b[1;31mIndexError\u001b[0m                                Traceback (most recent call last)",
      "\u001b[1;32m<ipython-input-227-f8b766f1e3d3>\u001b[0m in \u001b[0;36m<module>\u001b[1;34m\u001b[0m\n\u001b[1;32m----> 1\u001b[1;33m \u001b[1;33m[\u001b[0m\u001b[0mdistance\u001b[0m\u001b[1;33m[\u001b[0m\u001b[0mi\u001b[0m\u001b[1;33m]\u001b[0m \u001b[1;32mfor\u001b[0m \u001b[0mi\u001b[0m \u001b[1;32min\u001b[0m \u001b[0mff\u001b[0m\u001b[1;33m]\u001b[0m\u001b[1;33m\u001b[0m\u001b[1;33m\u001b[0m\u001b[0m\n\u001b[0m",
      "\u001b[1;32m<ipython-input-227-f8b766f1e3d3>\u001b[0m in \u001b[0;36m<listcomp>\u001b[1;34m(.0)\u001b[0m\n\u001b[1;32m----> 1\u001b[1;33m \u001b[1;33m[\u001b[0m\u001b[0mdistance\u001b[0m\u001b[1;33m[\u001b[0m\u001b[0mi\u001b[0m\u001b[1;33m]\u001b[0m \u001b[1;32mfor\u001b[0m \u001b[0mi\u001b[0m \u001b[1;32min\u001b[0m \u001b[0mff\u001b[0m\u001b[1;33m]\u001b[0m\u001b[1;33m\u001b[0m\u001b[1;33m\u001b[0m\u001b[0m\n\u001b[0m",
      "\u001b[1;31mIndexError\u001b[0m: boolean index did not match indexed array along dimension 0; dimension is 5 but corresponding boolean dimension is 21"
     ]
    }
   ],
   "source": [
    "[distance[i] for i in ff]"
   ]
  },
  {
   "cell_type": "code",
   "execution_count": 189,
   "metadata": {},
   "outputs": [
    {
     "data": {
      "text/plain": [
       "array([[10.81665275, 36.88701445],\n",
       "       [10.83406083, 36.76029432],\n",
       "       [10.82165553, 36.92905401],\n",
       "       [10.78225412, 36.86877747],\n",
       "       [10.9070319 , 36.76519061]])"
      ]
     },
     "execution_count": 189,
     "metadata": {},
     "output_type": "execute_result"
    }
   ],
   "source": []
  },
  {
   "cell_type": "code",
   "execution_count": 181,
   "metadata": {},
   "outputs": [],
   "source": [
    "ll = [10.9070319 , 36.76519061]"
   ]
  },
  {
   "cell_type": "code",
   "execution_count": 184,
   "metadata": {},
   "outputs": [
    {
     "data": {
      "text/plain": [
       "array([[24.07076218],\n",
       "       [ 3.93164668],\n",
       "       [18.98719204],\n",
       "       [10.07868335],\n",
       "       [13.49111516],\n",
       "       [ 7.93721566],\n",
       "       [14.81324261],\n",
       "       [ 5.08715308],\n",
       "       [10.80486161],\n",
       "       [ 7.60243069],\n",
       "       [ 8.63614735],\n",
       "       [14.50550116],\n",
       "       [15.88200635],\n",
       "       [18.29845013],\n",
       "       [ 2.36086773],\n",
       "       [22.02413793],\n",
       "       [26.21619799],\n",
       "       [ 9.50976878],\n",
       "       [19.88495891],\n",
       "       [ 2.63851422],\n",
       "       [ 7.41693572]])"
      ]
     },
     "execution_count": 184,
     "metadata": {},
     "output_type": "execute_result"
    }
   ],
   "source": [
    "haversine_vector(ll, df_prim_loc, Unit.KILOMETERS, comb=True)"
   ]
  },
  {
   "cell_type": "code",
   "execution_count": 164,
   "metadata": {},
   "outputs": [
    {
     "data": {
      "text/plain": [
       "array([[ 7.41277497],\n",
       "       [13.24229097],\n",
       "       [ 8.12004878],\n",
       "       [ 9.01846775],\n",
       "       [ 5.9165214 ],\n",
       "       [ 8.91690618],\n",
       "       [ 3.46359133],\n",
       "       [20.28516042],\n",
       "       [ 6.06932388],\n",
       "       [15.75621063],\n",
       "       [ 8.08088888],\n",
       "       [ 8.72017463],\n",
       "       [ 4.11585991],\n",
       "       [ 2.64399233],\n",
       "       [18.75245616],\n",
       "       [ 5.40520203],\n",
       "       [ 9.86132162],\n",
       "       [11.59902135],\n",
       "       [ 3.89821598],\n",
       "       [14.68540056],\n",
       "       [12.17668457]])"
      ]
     },
     "execution_count": 164,
     "metadata": {},
     "output_type": "execute_result"
    }
   ],
   "source": [
    "haversine_vector(x, df_prim_loc, Unit.KILOMETERS, comb=True)"
   ]
  },
  {
   "cell_type": "code",
   "execution_count": 160,
   "metadata": {},
   "outputs": [
    {
     "data": {
      "text/plain": [
       "(array([ 6, 12, 13, 18], dtype=int64),)"
      ]
     },
     "execution_count": 160,
     "metadata": {},
     "output_type": "execute_result"
    }
   ],
   "source": [
    "less_than5 = np.where(distance < 5)\n",
    "less_than5"
   ]
  },
  {
   "cell_type": "code",
   "execution_count": null,
   "metadata": {},
   "outputs": [],
   "source": [
    "EEI += np.sum(shape(distance[ff], df_prim_enroll[ff]))"
   ]
  },
  {
   "cell_type": "code",
   "execution_count": null,
   "metadata": {},
   "outputs": [],
   "source": []
  },
  {
   "cell_type": "code",
   "execution_count": null,
   "metadata": {},
   "outputs": [],
   "source": []
  },
  {
   "cell_type": "code",
   "execution_count": null,
   "metadata": {},
   "outputs": [],
   "source": []
  },
  {
   "cell_type": "code",
   "execution_count": null,
   "metadata": {},
   "outputs": [],
   "source": [
    "\n"
   ]
  },
  {
   "cell_type": "code",
   "execution_count": 156,
   "metadata": {},
   "outputs": [],
   "source": [
    "# then i need to find number of primary schools that are \n",
    "\n",
    "# less_than5.flatten() < current_distance\n",
    "# df_prim_enroll[distance.flatten() < current_distance]\n",
    "# np.where(distance > )\n",
    "# np.where(distance < 5)\n",
    "# EEI"
   ]
  },
  {
   "cell_type": "code",
   "execution_count": 125,
   "metadata": {},
   "outputs": [
    {
     "data": {
      "text/plain": [
       "array([1.71112112, 3.26969206, 3.2762255 ])"
      ]
     },
     "execution_count": 125,
     "metadata": {},
     "output_type": "execute_result"
    }
   ],
   "source": [
    "distance[less_than5]"
   ]
  },
  {
   "cell_type": "code",
   "execution_count": 118,
   "metadata": {},
   "outputs": [
    {
     "ename": "SyntaxError",
     "evalue": "invalid syntax (<ipython-input-118-1ad0532a8cd8>, line 1)",
     "output_type": "error",
     "traceback": [
      "\u001b[1;36m  File \u001b[1;32m\"<ipython-input-118-1ad0532a8cd8>\"\u001b[1;36m, line \u001b[1;32m1\u001b[0m\n\u001b[1;33m    np.where(distance[less_than5] < current_distance[less_than5], EEI +=shape(distance[less_than5], df_prim_enroll[less_than5]))\u001b[0m\n\u001b[1;37m                                                                      ^\u001b[0m\n\u001b[1;31mSyntaxError\u001b[0m\u001b[1;31m:\u001b[0m invalid syntax\n"
     ]
    }
   ],
   "source": [
    "np.where(distance[less_than5] < current_distance[less_than5], EEI +="
   ]
  },
  {
   "cell_type": "code",
   "execution_count": 117,
   "metadata": {},
   "outputs": [
    {
     "data": {
      "text/plain": [
       "array([ 208.        , 5767.69313345,   64.35424813])"
      ]
     },
     "execution_count": 117,
     "metadata": {},
     "output_type": "execute_result"
    }
   ],
   "source": []
  },
  {
   "cell_type": "code",
   "execution_count": 112,
   "metadata": {},
   "outputs": [
    {
     "ename": "ValueError",
     "evalue": "The truth value of an array with more than one element is ambiguous. Use a.any() or a.all()",
     "output_type": "error",
     "traceback": [
      "\u001b[1;31m---------------------------------------------------------------------------\u001b[0m",
      "\u001b[1;31mValueError\u001b[0m                                Traceback (most recent call last)",
      "\u001b[1;32m<ipython-input-112-6e81488de9f1>\u001b[0m in \u001b[0;36m<module>\u001b[1;34m\u001b[0m\n\u001b[1;32m----> 1\u001b[1;33m \u001b[1;32mif\u001b[0m \u001b[0mdistance\u001b[0m\u001b[1;33m[\u001b[0m\u001b[0mless_than5\u001b[0m\u001b[1;33m]\u001b[0m \u001b[1;33m<\u001b[0m \u001b[0mcurrent_distance\u001b[0m\u001b[1;33m[\u001b[0m\u001b[0mless_than5\u001b[0m\u001b[1;33m]\u001b[0m\u001b[1;33m:\u001b[0m\u001b[1;33m\u001b[0m\u001b[1;33m\u001b[0m\u001b[0m\n\u001b[0m\u001b[0;32m      2\u001b[0m     \u001b[0mEEI\u001b[0m \u001b[1;33m+=\u001b[0m \u001b[0mshape\u001b[0m\u001b[1;33m(\u001b[0m\u001b[0mdistance\u001b[0m\u001b[1;33m.\u001b[0m\u001b[0mflatten\u001b[0m\u001b[1;33m(\u001b[0m\u001b[1;33m)\u001b[0m\u001b[1;33m[\u001b[0m\u001b[0mless_than5\u001b[0m\u001b[1;33m]\u001b[0m\u001b[1;33m,\u001b[0m \u001b[0mdf_prim_enroll\u001b[0m\u001b[1;33m[\u001b[0m\u001b[0mless_than5\u001b[0m\u001b[1;33m]\u001b[0m\u001b[1;33m)\u001b[0m\u001b[1;33m\u001b[0m\u001b[1;33m\u001b[0m\u001b[0m\n",
      "\u001b[1;31mValueError\u001b[0m: The truth value of an array with more than one element is ambiguous. Use a.any() or a.all()"
     ]
    }
   ],
   "source": []
  },
  {
   "cell_type": "code",
   "execution_count": null,
   "metadata": {},
   "outputs": [],
   "source": []
  },
  {
   "cell_type": "code",
   "execution_count": 92,
   "metadata": {},
   "outputs": [
    {
     "ename": "IndexError",
     "evalue": "index 13 is out of bounds for axis 0 with size 1",
     "output_type": "error",
     "traceback": [
      "\u001b[1;31m---------------------------------------------------------------------------\u001b[0m",
      "\u001b[1;31mIndexError\u001b[0m                                Traceback (most recent call last)",
      "\u001b[1;32m<ipython-input-92-a902ab698b07>\u001b[0m in \u001b[0;36m<module>\u001b[1;34m\u001b[0m\n\u001b[1;32m----> 1\u001b[1;33m \u001b[0mdistance\u001b[0m\u001b[1;33m[\u001b[0m\u001b[0mless_than5\u001b[0m\u001b[1;33m]\u001b[0m\u001b[1;33m\u001b[0m\u001b[1;33m\u001b[0m\u001b[0m\n\u001b[0m",
      "\u001b[1;31mIndexError\u001b[0m: index 13 is out of bounds for axis 0 with size 1"
     ]
    }
   ],
   "source": [
    "distance[less_than5]"
   ]
  },
  {
   "cell_type": "code",
   "execution_count": 91,
   "metadata": {},
   "outputs": [
    {
     "ename": "IndexError",
     "evalue": "index 13 is out of bounds for axis 0 with size 1",
     "output_type": "error",
     "traceback": [
      "\u001b[1;31m---------------------------------------------------------------------------\u001b[0m",
      "\u001b[1;31mIndexError\u001b[0m                                Traceback (most recent call last)",
      "\u001b[1;32m<ipython-input-91-6e81488de9f1>\u001b[0m in \u001b[0;36m<module>\u001b[1;34m\u001b[0m\n\u001b[1;32m----> 1\u001b[1;33m \u001b[1;32mif\u001b[0m \u001b[0mdistance\u001b[0m\u001b[1;33m[\u001b[0m\u001b[0mless_than5\u001b[0m\u001b[1;33m]\u001b[0m \u001b[1;33m<\u001b[0m \u001b[0mcurrent_distance\u001b[0m\u001b[1;33m[\u001b[0m\u001b[0mless_than5\u001b[0m\u001b[1;33m]\u001b[0m\u001b[1;33m:\u001b[0m\u001b[1;33m\u001b[0m\u001b[1;33m\u001b[0m\u001b[0m\n\u001b[0m\u001b[0;32m      2\u001b[0m     \u001b[0mEEI\u001b[0m \u001b[1;33m+=\u001b[0m \u001b[0mshape\u001b[0m\u001b[1;33m(\u001b[0m\u001b[0mdistance\u001b[0m\u001b[1;33m.\u001b[0m\u001b[0mflatten\u001b[0m\u001b[1;33m(\u001b[0m\u001b[1;33m)\u001b[0m\u001b[1;33m[\u001b[0m\u001b[0mless_than5\u001b[0m\u001b[1;33m]\u001b[0m\u001b[1;33m,\u001b[0m \u001b[0mdf_prim_enroll\u001b[0m\u001b[1;33m[\u001b[0m\u001b[0mless_than5\u001b[0m\u001b[1;33m]\u001b[0m\u001b[1;33m)\u001b[0m\u001b[1;33m\u001b[0m\u001b[1;33m\u001b[0m\u001b[0m\n",
      "\u001b[1;31mIndexError\u001b[0m: index 13 is out of bounds for axis 0 with size 1"
     ]
    }
   ],
   "source": []
  },
  {
   "cell_type": "code",
   "execution_count": 84,
   "metadata": {},
   "outputs": [
    {
     "data": {
      "text/plain": [
       "array([1.71112112, 3.26969206, 3.2762255 ])"
      ]
     },
     "execution_count": 84,
     "metadata": {},
     "output_type": "execute_result"
    }
   ],
   "source": [
    "distance.flatten()[less_than5]"
   ]
  },
  {
   "cell_type": "code",
   "execution_count": null,
   "metadata": {},
   "outputs": [],
   "source": []
  },
  {
   "cell_type": "code",
   "execution_count": 41,
   "metadata": {},
   "outputs": [
    {
     "data": {
      "text/plain": [
       "array([[ 5.044768  ],\n",
       "       [15.87673969],\n",
       "       [ 9.16207275],\n",
       "       [11.63796154],\n",
       "       [ 7.40260374],\n",
       "       [11.38018826],\n",
       "       [ 5.86725427],\n",
       "       [22.65573425],\n",
       "       [ 8.73104073],\n",
       "       [17.74857666],\n",
       "       [10.69604236],\n",
       "       [10.84469902],\n",
       "       [ 6.08722119],\n",
       "       [ 1.71112112],\n",
       "       [21.35137037],\n",
       "       [ 3.26969206],\n",
       "       [ 7.18894129],\n",
       "       [14.19118556],\n",
       "       [ 3.2762255 ],\n",
       "       [17.15517878],\n",
       "       [14.83760664]])"
      ]
     },
     "execution_count": 41,
     "metadata": {},
     "output_type": "execute_result"
    }
   ],
   "source": [
    "distance"
   ]
  },
  {
   "cell_type": "code",
   "execution_count": null,
   "metadata": {},
   "outputs": [],
   "source": [
    "EEI = 0\n",
    "current_dist_ss = df['distance'].to_numpy() # existing distance to nearest ss for each ps\n",
    "for i in ss:\n",
    "    # calculate distance from proposed secondary to all primary.\n",
    "    ps_d = haversine_distance(i, ps, Unit.KM, comb=true)\n",
    "    ps_feeder = np.where(ps_d < 5) # vector of ps with distance less than 5km to secondary.\n",
    "    # compare distances to existing secondary schools, if less, then pop.\n",
    "    if ps_d > current_dist_ss:\n",
    "        pop(ps_feeder[i]) # remove school from vector.\n",
    "    else:\n",
    "        # subtract the previous enrollment\n",
    "        EEI += shape(ps_d, ps_enrollment) # add ps enrollment to EEI.\n",
    "        \n",
    "        "
   ]
  },
  {
   "cell_type": "code",
   "execution_count": null,
   "metadata": {},
   "outputs": [],
   "source": []
  },
  {
   "cell_type": "code",
   "execution_count": null,
   "metadata": {},
   "outputs": [],
   "source": []
  },
  {
   "cell_type": "code",
   "execution_count": null,
   "metadata": {},
   "outputs": [],
   "source": []
  },
  {
   "cell_type": "code",
   "execution_count": null,
   "metadata": {},
   "outputs": [],
   "source": [
    "fig, ((ax0, ax1), (ax2, ax3)) = plt.subplots(2, 2, figsize=(15,15))\n",
    "fig.suptitle('Random Search F(2). 4 Outputs with Different Starting Points')\n",
    "\n",
    "for i in range(4):\n",
    "    ax = 'ax'+str(i)\n",
    "    eval(ax).scatter(df_prim_loc[:, 1], df_prim_loc[:, 0], s=df_prim_enroll/100, label=\"Prim\") # s gives size\n",
    "    if(len(df_sec) != 0): eval(ax).scatter(df_sec_loc[:, 1], df_sec_loc[:, 0], s=df_sec_enroll/100, label=\"Secondary\") # s gives size\n",
    "    eval(ax).scatter(fx[i][1][1::2], fx[i][1][::2], s = 35, marker=\"o\", label=\"New Secondary\") # stars for supermarkets\n",
    "    eval(ax).set_title(np.round(fx[i][0],0), fontstyle='italic')\n",
    "\n",
    "for ax in fig.get_axes():\n",
    "    ax.label_outer()"
   ]
  },
  {
   "cell_type": "markdown",
   "metadata": {},
   "source": [
    "## CMA"
   ]
  },
  {
   "cell_type": "code",
   "execution_count": null,
   "metadata": {},
   "outputs": [],
   "source": [
    "sigmas = (0.01, 0.05, 0.1, 0.12, 0.14, 0.16, 0.18, 0.2, 0.22, 0.24)\n",
    "maxits = 10"
   ]
  },
  {
   "cell_type": "code",
   "execution_count": null,
   "metadata": {},
   "outputs": [],
   "source": [
    "fcma = []\n",
    "\n",
    "for i in range(4):\n",
    "    for j in sigmas:\n",
    "        es = cma.CMAEvolutionStrategy(create_random_sp('woreda'), sigma0=j,\n",
    "                                  inopts={'bounds': boundsxy,'seed':1234})\n",
    "        es.optimize(f, iterations=maxits / es.popsize)\n",
    "        fcma.append((es.result[1], es.result[0], j))\n",
    "        \n",
    "fcma_s = sorted(fcma, key=lambda t: t[0])[:4]"
   ]
  },
  {
   "cell_type": "code",
   "execution_count": null,
   "metadata": {},
   "outputs": [],
   "source": [
    "fcma_s"
   ]
  },
  {
   "cell_type": "code",
   "execution_count": null,
   "metadata": {},
   "outputs": [],
   "source": [
    "fig, ((ax0, ax1), (ax2, ax3)) = plt.subplots(2, 2, figsize=(15,15))\n",
    "fig.suptitle('CMA f(1). 4 Outputs with Different Starting Points')\n",
    "\n",
    "for i in range(4):\n",
    "    ax = 'ax'+str(i)\n",
    "    eval(ax).scatter(df_prim_loc[:, 1], df_prim_loc[:, 0], s=df_prim_enroll/100, label=\"Prim\") # s gives size\n",
    "    if(len(df_sec) != 0): eval(ax).scatter(df_sec_loc[:, 1], df_sec_loc[:, 0], s=df_sec_enroll/100, label=\"Secondary\") # s gives size\n",
    "    eval(ax).scatter(fcma_s[i][1][1::2], fcma_s[i][1][::2], s = 35, marker=\"o\", label=\"New Secondary\") # stars for supermarkets\n",
    "    eval(ax).set_title('Max: ' + str(np.round(fcma_s[i][0],0))+ ' . Sigma: ' + str(fcma_s[i][2]), fontstyle='italic')\n",
    "\n",
    "for ax in fig.get_axes():\n",
    "    ax.label_outer()"
   ]
  },
  {
   "cell_type": "code",
   "execution_count": null,
   "metadata": {},
   "outputs": [],
   "source": [
    "fcma2 = []\n",
    "maxits= 10000\n",
    "\n",
    "for i in range(4):\n",
    "    for j in sigmas:\n",
    "        es = cma.CMAEvolutionStrategy(get_random_sp(), sigma0=j,\n",
    "                                  inopts={'bounds': boundsxy,'seed':1234})\n",
    "        es.optimize(f2, iterations=maxits / es.popsize)\n",
    "        fcma2.append((es.result[1], es.result[0], j))\n",
    "        \n",
    "fcma2_s = sorted(fcma2, key=lambda t: t[0])[:4]"
   ]
  },
  {
   "cell_type": "code",
   "execution_count": null,
   "metadata": {},
   "outputs": [],
   "source": [
    "fcma2_s"
   ]
  },
  {
   "cell_type": "code",
   "execution_count": null,
   "metadata": {},
   "outputs": [],
   "source": [
    "fig, ((ax0, ax1), (ax2, ax3)) = plt.subplots(2, 2, figsize=(15,15))\n",
    "fig.suptitle('CMA F(2). 4 Outputs with Different Starting Points')\n",
    "\n",
    "for i in range(4):\n",
    "    ax = 'ax'+str(i)\n",
    "    eval(ax).scatter(df_prim_loc[:, 1], df_prim_loc[:, 0], s=df_prim_enroll/100, label=\"Prim\") # s gives size\n",
    "    if(len(df_sec) != 0): eval(ax).scatter(df_sec_loc[:, 1], df_sec_loc[:, 0], s=df_sec_enroll/100, label=\"Secondary\") # s gives size\n",
    "    eval(ax).scatter(fcma2_s[i][1][1::2], fcma2_s[i][1][::2], s = 35, marker=\"o\", label=\"New Secondary\") # stars for supermarkets\n",
    "    eval(ax).set_title('Max: ' + str(np.round(fcma2_s[i][0],0))+ ' . Sigma: ' + str(fcma2_s[i][2]), fontstyle='italic')\n",
    "\n",
    "for ax in fig.get_axes():\n",
    "    ax.label_outer()"
   ]
  },
  {
   "cell_type": "code",
   "execution_count": null,
   "metadata": {},
   "outputs": [],
   "source": []
  },
  {
   "cell_type": "code",
   "execution_count": null,
   "metadata": {},
   "outputs": [],
   "source": []
  },
  {
   "cell_type": "code",
   "execution_count": null,
   "metadata": {},
   "outputs": [],
   "source": []
  },
  {
   "cell_type": "code",
   "execution_count": null,
   "metadata": {},
   "outputs": [],
   "source": []
  },
  {
   "cell_type": "code",
   "execution_count": null,
   "metadata": {},
   "outputs": [],
   "source": []
  },
  {
   "cell_type": "code",
   "execution_count": null,
   "metadata": {},
   "outputs": [],
   "source": []
  },
  {
   "cell_type": "code",
   "execution_count": null,
   "metadata": {},
   "outputs": [],
   "source": []
  },
  {
   "cell_type": "code",
   "execution_count": null,
   "metadata": {},
   "outputs": [],
   "source": []
  },
  {
   "cell_type": "code",
   "execution_count": null,
   "metadata": {},
   "outputs": [],
   "source": []
  },
  {
   "cell_type": "code",
   "execution_count": null,
   "metadata": {},
   "outputs": [],
   "source": []
  },
  {
   "cell_type": "code",
   "execution_count": null,
   "metadata": {},
   "outputs": [],
   "source": [
    "chosenll = sorted(fcma2, key=lambda t: t[0])[:1]\n",
    "chosenll = chosen[0][1]\n",
    "# chosenll = np.array(np.array_split(chosenll, proposed_schools))"
   ]
  },
  {
   "cell_type": "code",
   "execution_count": null,
   "metadata": {},
   "outputs": [],
   "source": [
    "gdf_woreda_shp[0]"
   ]
  },
  {
   "cell_type": "code",
   "execution_count": null,
   "metadata": {},
   "outputs": [],
   "source": [
    "create_random_sp()"
   ]
  },
  {
   "cell_type": "code",
   "execution_count": null,
   "metadata": {},
   "outputs": [],
   "source": [
    "vec = gpd.points_from_xy(chosenll[:, 1], chosenll[:, 0])\n"
   ]
  },
  {
   "cell_type": "code",
   "execution_count": null,
   "metadata": {},
   "outputs": [],
   "source": [
    "gdf_woreda['geometry'] # check all woredas and return corect. "
   ]
  },
  {
   "cell_type": "code",
   "execution_count": null,
   "metadata": {},
   "outputs": [],
   "source": [
    "chosenll"
   ]
  },
  {
   "cell_type": "code",
   "execution_count": null,
   "metadata": {},
   "outputs": [],
   "source": [
    "gdf_region = gpd.read_file('eth_shape_files/json//eth_admin1v2.json') # read in geojson\n",
    "gdf_region_shp = gdf_region.loc[gdf_region['ADM1_EN']==region]['geometry'].reset_index(drop=True)"
   ]
  },
  {
   "cell_type": "code",
   "execution_count": null,
   "metadata": {},
   "outputs": [],
   "source": [
    "for i in chosenll:\n",
    "    for j in gdf_region:\n",
    "        vec.within(gdf_region['geometry'])\n",
    "        \n",
    "#     for j in gdf_woreda:\n",
    "# for i in gdf_woreda:\n",
    "    \n",
    "\n",
    "# vec.within(gdf_woreda['geometry'])"
   ]
  },
  {
   "cell_type": "code",
   "execution_count": null,
   "metadata": {},
   "outputs": [],
   "source": [
    "check_woreda(chosenll)"
   ]
  },
  {
   "cell_type": "code",
   "execution_count": null,
   "metadata": {},
   "outputs": [],
   "source": []
  },
  {
   "cell_type": "code",
   "execution_count": null,
   "metadata": {},
   "outputs": [],
   "source": [
    "chosenll"
   ]
  },
  {
   "cell_type": "code",
   "execution_count": null,
   "metadata": {},
   "outputs": [],
   "source": [
    "points = []\n",
    "for i in chosenll:\n",
    "    points += gpd.points_from_xy(i[0], i[1])"
   ]
  },
  {
   "cell_type": "code",
   "execution_count": null,
   "metadata": {},
   "outputs": [],
   "source": []
  },
  {
   "cell_type": "code",
   "execution_count": null,
   "metadata": {},
   "outputs": [],
   "source": [
    "chosenll[:1:2]"
   ]
  },
  {
   "cell_type": "code",
   "execution_count": null,
   "metadata": {},
   "outputs": [],
   "source": [
    "dd = [gpd.points_from_xy(i[::2], i[1::2]) for i in chosen]\n",
    "[i.within(gdf_woreda_shp[0]) for i in dd]"
   ]
  },
  {
   "cell_type": "code",
   "execution_count": null,
   "metadata": {},
   "outputs": [],
   "source": []
  },
  {
   "cell_type": "code",
   "execution_count": null,
   "metadata": {},
   "outputs": [],
   "source": []
  },
  {
   "cell_type": "code",
   "execution_count": null,
   "metadata": {},
   "outputs": [],
   "source": [
    "i"
   ]
  },
  {
   "cell_type": "code",
   "execution_count": null,
   "metadata": {},
   "outputs": [],
   "source": [
    "def get_location(vec):\n",
    "    \n",
    "    \n",
    "    region\n",
    "    zone\n",
    "    woreda\n",
    "    \n",
    "    \n",
    "    \n",
    "    return "
   ]
  },
  {
   "cell_type": "code",
   "execution_count": null,
   "metadata": {},
   "outputs": [],
   "source": [
    "def check_woreda(vec):\n",
    "    # lat = y, x=lon\n",
    "    vec = gpd.points_from_xy(vec[:, 1], vec[:, 0])\n",
    "    return vec.within(gdf_woreda_shp[0]).all()\n",
    "            \n",
    "def check_region(vec):\n",
    "    # lat = y, x=lon\n",
    "    vec = gpd.points_from_xy(vec[:, 1], vec[:, 0])\n",
    "    return vec.within(gdf_region_shp[0]).all()"
   ]
  },
  {
   "cell_type": "code",
   "execution_count": null,
   "metadata": {},
   "outputs": [],
   "source": []
  },
  {
   "cell_type": "code",
   "execution_count": null,
   "metadata": {},
   "outputs": [],
   "source": [
    "# function to find region, zone and woreda of new school. "
   ]
  },
  {
   "cell_type": "code",
   "execution_count": null,
   "metadata": {},
   "outputs": [],
   "source": []
  },
  {
   "cell_type": "code",
   "execution_count": null,
   "metadata": {},
   "outputs": [],
   "source": []
  }
 ],
 "metadata": {
  "kernelspec": {
   "display_name": "Python 3",
   "language": "python",
   "name": "python3"
  },
  "language_info": {
   "codemirror_mode": {
    "name": "ipython",
    "version": 3
   },
   "file_extension": ".py",
   "mimetype": "text/x-python",
   "name": "python",
   "nbconvert_exporter": "python",
   "pygments_lexer": "ipython3",
   "version": "3.8.5"
  }
 },
 "nbformat": 4,
 "nbformat_minor": 4
}
