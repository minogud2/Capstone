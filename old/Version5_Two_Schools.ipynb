{
 "cells": [
  {
   "cell_type": "code",
   "execution_count": 1,
   "metadata": {},
   "outputs": [],
   "source": [
    "import pandas as pd\n",
    "import numpy as np\n",
    "from haversine import haversine, haversine_vector, Unit\n",
    "import geopandas as gpd\n",
    "import matplotlib.pyplot as plt\n",
    "import cma"
   ]
  },
  {
   "cell_type": "code",
   "execution_count": 2,
   "metadata": {},
   "outputs": [],
   "source": [
    "# To supress the scientific notation for easier reading.\n",
    "np.set_printoptions(suppress=True)"
   ]
  },
  {
   "cell_type": "markdown",
   "metadata": {},
   "source": [
    "# Test Development\n",
    "\n",
    "In developing the code, three main tests have been completed within one region: Amhara. The first at a very micro level with a custom dummy dataset with only two primary schools and 2 proposed secondary schools. The second is for one woreda/district with 21 primary schools and two secondary schools, whereby 5 secondary schools are proposed. The final test was a region wide test with 1765 primary schools and 1658 secondary schools, with 5 new secondary schools proposed."
   ]
  },
  {
   "cell_type": "code",
   "execution_count": 3,
   "metadata": {},
   "outputs": [],
   "source": [
    "# Specify which test to perform\n",
    "declare_test = 2 # micro test"
   ]
  },
  {
   "cell_type": "code",
   "execution_count": 4,
   "metadata": {},
   "outputs": [],
   "source": [
    "# Declare key variables according to the test being performed.\n",
    "region = 'Amhara' # Test Amhara region\n",
    "woreda = 'ET030908'\n",
    "\n",
    "if declare_test == 1: # for micro test\n",
    "    # read in the prepared dataset. Evaluate point data to make it readible by geopandas\n",
    "    df = pd.read_csv('data/test_dataset2.csv', converters={'point': pd.eval})\n",
    "    proposed_schools= 2\n",
    "    gdf_woreda = gpd.read_file('eth_shape_files/json/eth_admin3v2.json')\n",
    "    gdf_woreda_shp = gdf_woreda.loc[gdf_woreda['ADM3_PCODE']==woreda]['geometry'].reset_index(drop=True)\n",
    "    df = df.loc[df['ADM3_PCODE'] == woreda]\n",
    "    bounds = gdf_woreda_shp.bounds\n",
    "elif declare_test == 2:\n",
    "    df = pd.read_csv('data/test_dataset.csv', converters={'point': pd.eval})\n",
    "    proposed_schools= 5\n",
    "    gdf_woreda = gpd.read_file('eth_shape_files/json/eth_admin3v2.json')\n",
    "    gdf_woreda_shp = gdf_woreda.loc[gdf_woreda['ADM3_PCODE']==woreda]['geometry'].reset_index(drop=True)\n",
    "    df = df.loc[df['ADM3_PCODE'] == woreda]\n",
    "    bounds = gdf_woreda_shp.bounds\n",
    "else:\n",
    "    proposed_schools= 5\n",
    "    df = pd.read_csv('data/clean_dataset.csv', converters={'point': pd.eval})\n",
    "    # limit geojson to only selected region\n",
    "    # limit clean dataset to only selected region\n",
    "    gdf_region = gpd.read_file('eth_shape_files/json//eth_admin1v2.json') # read in geojson\n",
    "    gdf_region_shp = gdf_region.loc[gdf_region['ADM1_EN']==region]['geometry'].reset_index(drop=True)\n",
    "    df = df.loc[df['region'] == region]\n",
    "    bounds = gdf_region_shp.bounds "
   ]
  },
  {
   "cell_type": "markdown",
   "metadata": {},
   "source": [
    "## Data Preparation"
   ]
  },
  {
   "cell_type": "code",
   "execution_count": 5,
   "metadata": {},
   "outputs": [
    {
     "data": {
      "text/plain": [
       "[array([10.71371939, 36.68932805, 10.71371939, 36.68932805]),\n",
       " array([10.96477258, 36.96973029, 10.96477258, 36.96973029])]"
      ]
     },
     "execution_count": 5,
     "metadata": {},
     "output_type": "execute_result"
    }
   ],
   "source": [
    "# Establish boundaries based on the bounds of region or woreda.\n",
    "# Latitude is the Y axis, longitude is the X axis.\n",
    "\n",
    "lat_bounds = bounds[['miny','maxy']].to_numpy(dtype=float)[0]\n",
    "lon_bounds = bounds[['minx','maxx']].to_numpy(dtype=float)[0]\n",
    "bounds = np.array([[lat_bounds[0], lon_bounds[0]], [lat_bounds[1], lon_bounds[1]]])\n",
    "# array - [[lower lat bounds, lower lon bounds],[upper lat bounds, upper lon bounds]]\n",
    "# CMA expects a list of size 2 for bounds\n",
    "x1y1 = np.repeat([bounds[0,:]],proposed_schools, axis=0).flatten()\n",
    "x2y2 = np.repeat([bounds[1,:]],proposed_schools, axis=0).flatten()\n",
    "boundsxy = [x1y1,x2y2]\n",
    "boundsxy"
   ]
  },
  {
   "cell_type": "code",
   "execution_count": 6,
   "metadata": {},
   "outputs": [],
   "source": [
    "# Create subset arrays required as input for enrollment function.\n",
    "# 1. Primary school enrollment data\n",
    "# 2. Primary school location data: lat lon point data. \n",
    "# 3. Secondary schoool location data: lat lon point data. \n",
    "# 4. Secondary school enrollment data. Potentially required for calibration function.\n",
    "\n",
    "df_prim = df.loc[ (df['gr_offer'] == 'G.1-8') | (df['gr_offer'] == 'G.5-8')]\n",
    "df_prim_enroll = df_prim['grade5_8'].reset_index(drop=True).to_numpy(dtype=float)\n",
    "df_prim_loc = df_prim['point'].reset_index(drop=True).to_numpy()\n",
    "df_prim_loc = np.array([np.array(i) for i in df_prim_loc], dtype=float)\n",
    "\n",
    "df_sec = df.loc[ (df['gr_offer'] == 'G. 9-10') | (df['gr_offer'] == 'G. 9-12')]\n",
    "df_sec_loc = df_sec['point'].reset_index(drop=True).to_numpy()\n",
    "df_sec_enroll = df_sec['grade9_10'].reset_index(drop=True).to_numpy(dtype=float)\n",
    "df_sec_loc = np.array([np.array(i) for i in df_sec_loc], dtype=float)"
   ]
  },
  {
   "cell_type": "markdown",
   "metadata": {},
   "source": [
    "## Key functions"
   ]
  },
  {
   "cell_type": "code",
   "execution_count": 7,
   "metadata": {},
   "outputs": [],
   "source": [
    "def check_woreda(vec):\n",
    "    # lat = y, x=lon\n",
    "    vec = gpd.points_from_xy(vec[:, 1], vec[:, 0])\n",
    "    return vec.within(gdf_woreda_shp[0]).all()\n",
    "            \n",
    "def check_region(vec):\n",
    "    # lat = y, x=lon\n",
    "    vec = gpd.points_from_xy(vec[:, 1], vec[:, 0])\n",
    "    return vec.within(gdf_region_shp[0]).all()"
   ]
  },
  {
   "cell_type": "code",
   "execution_count": 118,
   "metadata": {},
   "outputs": [],
   "source": [
    "def shape(distance, enrollment):\n",
    "    min_walk = 2 # distance not a factor issuing enrollment until 2km\n",
    "    max_walk = 5 # distance greater than 5km assumes zero enrollment\n",
    "    answer = np.where(distance<min_walk, enrollment,\n",
    "             np.where(distance>max_walk, 0,\n",
    "                     enrollment*(1-(distance-min_walk)/(max_walk-min_walk)))\n",
    "            )\n",
    "    return answer"
   ]
  },
  {
   "cell_type": "code",
   "execution_count": 119,
   "metadata": {},
   "outputs": [
    {
     "data": {
      "text/plain": [
       "array(86.66666667)"
      ]
     },
     "execution_count": 119,
     "metadata": {},
     "output_type": "execute_result"
    }
   ],
   "source": [
    "shape(2.4, 100)"
   ]
  },
  {
   "cell_type": "code",
   "execution_count": 9,
   "metadata": {},
   "outputs": [],
   "source": [
    "# To be user later on as an alternative method. \n",
    "# def weighted_travel_time(prim_loc, x, prim_enroll, sec_loc):\n",
    "#     x = np.append(sec_loc, x) # The genotype\n",
    "#     x = np.array(np.array_split(x, (len(sec_loc)+proposed_schools)))\n",
    "#     distance = haversine_vector(prim_loc, x, Unit.KILOMETERS, comb=True)\n",
    "#     min_d = np.min(distance, axis=0) # array with minimum distance from each primacy school to every secondary.\n",
    "#     return np.sum(min_d*prim_enroll)"
   ]
  },
  {
   "cell_type": "code",
   "execution_count": 10,
   "metadata": {},
   "outputs": [],
   "source": [
    "def expected_enroll(prim_loc, x, prim_enroll, sec_loc):\n",
    "    \n",
    "#     x = np.append(sec_loc, x) # The genotype\n",
    "#     x = np.array(np.array_split(x, (len(sec_loc)+proposed_schools)))\n",
    "    distance = haversine_vector(prim_loc, x, Unit.KILOMETERS, comb=True)\n",
    "    min_d = np.min(distance, axis=0) # array with minimum distance from each primacy school to every secondary.\n",
    "    shaped_enroll = shape(min_d, prim_enroll)\n",
    "    return np.sum(shaped_enroll)"
   ]
  },
  {
   "cell_type": "code",
   "execution_count": 127,
   "metadata": {},
   "outputs": [
    {
     "data": {
      "text/plain": [
       "30000.0"
      ]
     },
     "execution_count": 127,
     "metadata": {},
     "output_type": "execute_result"
    }
   ],
   "source": [
    "np.sum(df_prim_enroll)"
   ]
  },
  {
   "cell_type": "code",
   "execution_count": 122,
   "metadata": {},
   "outputs": [
    {
     "data": {
      "text/plain": [
       "array([[10.87906874, 36.7459008 ],\n",
       "       [10.85640989, 36.88513192]])"
      ]
     },
     "execution_count": 122,
     "metadata": {},
     "output_type": "execute_result"
    }
   ],
   "source": [
    "x =  get_random_sp()\n",
    "x = np.array(np.array_split(x, (len(df_sec_loc)+proposed_schools)))\n",
    "x"
   ]
  },
  {
   "cell_type": "code",
   "execution_count": 123,
   "metadata": {},
   "outputs": [
    {
     "data": {
      "text/plain": [
       "array([[10.7806, 36.9441],\n",
       "       [10.794 , 36.9308]])"
      ]
     },
     "execution_count": 123,
     "metadata": {},
     "output_type": "execute_result"
    }
   ],
   "source": [
    "df_prim_loc"
   ]
  },
  {
   "cell_type": "code",
   "execution_count": 11,
   "metadata": {},
   "outputs": [],
   "source": [
    "# # The Objective Function\n",
    "# def f(x):\n",
    "\n",
    "#     test_case = expected_enroll(df_prim_loc, x, df_prim_enroll)\n",
    "#     return test_case\n",
    "                    \n",
    "# don't do the rounding here. "
   ]
  },
  {
   "cell_type": "code",
   "execution_count": 12,
   "metadata": {},
   "outputs": [],
   "source": [
    "# The Objective Function with the shape function included.\n",
    "def f2(x):\n",
    "    x = np.append(df_sec_loc, x) # The genotype\n",
    "    x = np.array(np.array_split(x, (len(df_sec_loc)+proposed_schools))) # reshape!\n",
    "    test_case = expected_enroll2(df_prim_loc, x, df_prim_enroll, df_sec_loc)\n",
    "    return test_case"
   ]
  },
  {
   "cell_type": "code",
   "execution_count": 13,
   "metadata": {},
   "outputs": [],
   "source": [
    "# Create starting points within regional box boundaries.\n",
    "\n",
    "def create_random_sp():\n",
    "    sp1 = np.random.uniform(low=lat_bounds[0], high=lat_bounds[1], size=proposed_schools)\n",
    "    sp2 = np.random.uniform(low=lon_bounds[0], high=lon_bounds[1], size=proposed_schools)\n",
    "    sp = np.vstack((sp1, sp2)).T\n",
    "    return sp\n",
    "\n",
    "# create a random starting point within the target region.\n",
    "def get_random_sp():\n",
    "    sp = create_random_sp()\n",
    "    for i in range(0,10000):\n",
    "        if declare_test == 3:\n",
    "            if check_region(sp) == True:\n",
    "                return sp.flatten()\n",
    "                break\n",
    "            else:\n",
    "                sp = create_random_sp()\n",
    "        else:\n",
    "            if check_woreda(sp) == True:\n",
    "                return sp.flatten()\n",
    "                break\n",
    "            else:\n",
    "                sp = create_random_sp()"
   ]
  },
  {
   "cell_type": "markdown",
   "metadata": {},
   "source": [
    "## Random Search"
   ]
  },
  {
   "cell_type": "code",
   "execution_count": 14,
   "metadata": {},
   "outputs": [],
   "source": [
    "def random_search(f, n):\n",
    "    x = [get_random_sp() for _ in range(n)] \n",
    "    fx = [(f(xi), xi) for xi in x]\n",
    "    best_f, best_solution = min(fx, key=lambda x:x[0])\n",
    "    return best_f, best_solution"
   ]
  },
  {
   "cell_type": "code",
   "execution_count": 15,
   "metadata": {},
   "outputs": [],
   "source": [
    "fx = [random_search(f, 10000) for _ in range(4)]"
   ]
  },
  {
   "cell_type": "code",
   "execution_count": 128,
   "metadata": {},
   "outputs": [
    {
     "data": {
      "text/plain": [
       "[(12204.895, array([10.78273461, 36.94598938, 10.78896181, 36.93253535])),\n",
       " (22089.102, array([10.78108612, 36.94311093, 10.7937701 , 36.77857652])),\n",
       " (20285.563, array([10.78746633, 36.94004147, 10.77884434, 36.94098348])),\n",
       " (21736.144, array([10.89867579, 36.88180811, 10.78090569, 36.94439602]))]"
      ]
     },
     "execution_count": 128,
     "metadata": {},
     "output_type": "execute_result"
    }
   ],
   "source": [
    "fx"
   ]
  },
  {
   "cell_type": "code",
   "execution_count": 16,
   "metadata": {},
   "outputs": [
    {
     "data": {
      "image/png": "[encoded data removed]",
      "text/plain": [
       "<Figure size 1080x1080 with 4 Axes>"
      ]
     },
     "metadata": {
      "needs_background": "light"
     },
     "output_type": "display_data"
    }
   ],
   "source": [
    "fig, ((ax0, ax1), (ax2, ax3)) = plt.subplots(2, 2, figsize=(15,15))\n",
    "fig.suptitle('Random Search F(1). 4 Outputs with Different Starting Points')\n",
    "\n",
    "for i in range(4):\n",
    "    ax = 'ax'+str(i)\n",
    "    eval(ax).scatter(df_prim_loc[:, 1], df_prim_loc[:, 0], s=df_prim_enroll/100, label=\"Prim\") # s gives size\n",
    "    if(len(df_sec) != 0): eval(ax).scatter(df_sec_loc[:, 1], df_sec_loc[:, 0], s=df_sec_enroll/100, label=\"Secondary\") # s gives size\n",
    "    eval(ax).scatter(fx[i][1][1::2], fx[i][1][::2], s = 35, marker=\"o\", label=\"New Secondary\") # stars for supermarkets\n",
    "    eval(ax).set_title(np.round(fx[i][0],0), fontstyle='italic')\n",
    "\n",
    "for ax in fig.get_axes():\n",
    "    ax.label_outer()"
   ]
  },
  {
   "cell_type": "code",
   "execution_count": 17,
   "metadata": {},
   "outputs": [],
   "source": [
    "fx2 = [random_search(f2, 10000) for _ in range(4)]"
   ]
  },
  {
   "cell_type": "code",
   "execution_count": 18,
   "metadata": {},
   "outputs": [
    {
     "data": {
      "image/png": "[encoded data removed]",
      "text/plain": [
       "<Figure size 1080x1080 with 4 Axes>"
      ]
     },
     "metadata": {
      "needs_background": "light"
     },
     "output_type": "display_data"
    }
   ],
   "source": [
    "fig, ((ax0, ax1), (ax2, ax3)) = plt.subplots(2, 2, figsize=(15,15))\n",
    "fig.suptitle('Random Search F(2). 4 Outputs with Different Starting Points')\n",
    "\n",
    "for i in range(4):\n",
    "    ax = 'ax'+str(i)\n",
    "    eval(ax).scatter(df_prim_loc[:, 1], df_prim_loc[:, 0], s=df_prim_enroll/100, label=\"Prim\") # s gives size\n",
    "    if(len(df_sec) != 0): eval(ax).scatter(df_sec_loc[:, 1], df_sec_loc[:, 0], s=df_sec_enroll/100, label=\"Secondary\") # s gives size\n",
    "    eval(ax).scatter(fx2[i][1][1::2], fx2[i][1][::2], s = 35, marker=\"o\", label=\"New Secondary\") # stars for supermarkets\n",
    "    eval(ax).set_title(np.round(fx2[i][0],0), fontstyle='italic')\n",
    "\n",
    "for ax in fig.get_axes():\n",
    "    ax.label_outer()"
   ]
  },
  {
   "cell_type": "markdown",
   "metadata": {},
   "source": [
    "## CMA"
   ]
  },
  {
   "cell_type": "code",
   "execution_count": 19,
   "metadata": {},
   "outputs": [],
   "source": [
    "sigmas = (0.01, 0.05, 0.1, 0.12, 0.14, 0.16, 0.18, 0.2, 0.22, 0.24)\n",
    "maxits = 10000"
   ]
  },
  {
   "cell_type": "code",
   "execution_count": 129,
   "metadata": {},
   "outputs": [
    {
     "data": {
      "text/plain": [
       "array([10.8626972 , 36.77992452, 10.80562356, 36.93367708])"
      ]
     },
     "execution_count": 129,
     "metadata": {},
     "output_type": "execute_result"
    }
   ],
   "source": [
    "get_random_sp()"
   ]
  },
  {
   "cell_type": "code",
   "execution_count": 20,
   "metadata": {},
   "outputs": [
    {
     "name": "stdout",
     "output_type": "stream",
     "text": [
      "(4_w,8)-aCMA-ES (mu_w=2.6,w_1=52%) in dimension 4 (seed=1234, Fri Jul  1 09:39:49 2022)\n",
      "Iterat #Fevals   function value  axis ratio  sigma  min&max std  t[m:s]\n",
      "    1      8 7.461673299999999e+04 1.0e+00 1.06e-02  1e-02  1e-02 0:00.0\n",
      "    2     16 5.737463100000000e+04 1.6e+00 1.21e-02  1e-02  1e-02 0:00.0\n",
      "    3     24 4.651914300000000e+04 1.9e+00 1.21e-02  1e-02  1e-02 0:00.0\n",
      "  100    800 2.081022900000000e+04 4.3e+03 6.81e-06  3e-09  1e-05 0:00.3\n",
      "NOTE (module=cma, iteration=106):  \n",
      "condition in coordinate system exceeded 1.3e+08, rescaled to 1.0e+00, \n",
      "condition changed from 1.2e+08 to 1.9e+01\n",
      "  113    904 2.081022800000000e+04 3.5e+00 4.60e-06  8e-10  1e-05 0:00.4\n",
      "(4_w,8)-aCMA-ES (mu_w=2.6,w_1=52%) in dimension 4 (seed=1234, Fri Jul  1 09:39:50 2022)\n",
      "Iterat #Fevals   function value  axis ratio  sigma  min&max std  t[m:s]\n",
      "    1      8 2.821597550000000e+05 1.0e+00 3.94e-02  4e-02  4e-02 0:00.0\n",
      "    2     16 1.613340210000000e+05 1.3e+00 4.14e-02  4e-02  4e-02 0:00.0\n",
      "    3     24 7.765470100000000e+04 1.5e+00 5.06e-02  4e-02  6e-02 0:00.0\n",
      "  100    800 2.081025700000000e+04 6.4e+03 5.75e-05  4e-08  2e-04 0:00.3\n",
      "NOTE (module=cma, iteration=106):  \n",
      "condition in coordinate system exceeded 1.2e+08, rescaled to 1.0e+00, \n",
      "condition changed from 9.7e+07 to 6.6e+01\n",
      "  142   1136 2.081022700000000e+04 2.9e+01 3.97e-06  1e-10  2e-05 0:00.4\n",
      "(4_w,8)-aCMA-ES (mu_w=2.6,w_1=52%) in dimension 4 (seed=1234, Fri Jul  1 09:39:50 2022)\n",
      "Iterat #Fevals   function value  axis ratio  sigma  min&max std  t[m:s]\n",
      "    1      8 1.170244390000000e+05 1.0e+00 8.80e-02  8e-02  9e-02 0:00.0\n",
      "    2     16 1.055565040000000e+05 1.3e+00 8.91e-02  8e-02  9e-02 0:00.0\n",
      "    3     24 8.979232000000001e+04 1.4e+00 9.50e-02  8e-02  1e-01 0:00.0\n",
      "  100    800 2.081026400000000e+04 7.0e+03 1.31e-04  7e-08  4e-04 0:00.3\n",
      "NOTE (module=cma, iteration=107):  \n",
      "condition in coordinate system exceeded 1.2e+08, rescaled to 1.0e+00, \n",
      "condition changed from 1.5e+08 to 4.9e+01\n",
      "  148   1184 2.081022700000000e+04 2.6e+01 6.33e-06  1e-10  2e-05 0:00.5\n",
      "(4_w,8)-aCMA-ES (mu_w=2.6,w_1=52%) in dimension 4 (seed=1234, Fri Jul  1 09:39:51 2022)\n",
      "Iterat #Fevals   function value  axis ratio  sigma  min&max std  t[m:s]\n",
      "    1      8 8.474637000000000e+04 1.0e+00 1.10e-01  1e-01  1e-01 0:00.0\n",
      "    2     16 3.721556900000000e+04 1.3e+00 1.17e-01  1e-01  1e-01 0:00.0\n",
      "    3     24 4.162481300000000e+04 1.6e+00 1.06e-01  9e-02  1e-01 0:00.0\n",
      "  100    800 1.139000000000000e+01 3.0e+00 1.58e-04  2e-06  7e-06 0:00.3\n",
      "  170   1360 1.000000000000000e-03 3.1e+00 1.40e-07  2e-10  5e-10 0:00.5\n",
      "(4_w,8)-aCMA-ES (mu_w=2.6,w_1=52%) in dimension 4 (seed=1234, Fri Jul  1 09:39:52 2022)\n",
      "Iterat #Fevals   function value  axis ratio  sigma  min&max std  t[m:s]\n",
      "    1      8 1.654948390000000e+05 1.0e+00 1.15e-01  1e-01  1e-01 0:00.0\n",
      "    2     16 5.024377500000000e+04 1.3e+00 1.07e-01  9e-02  1e-01 0:00.0\n",
      "    3     24 7.156915600000000e+04 1.6e+00 1.08e-01  9e-02  1e-01 0:00.0\n",
      "  100    800 2.081041500000000e+04 5.4e+03 3.01e-04  2e-07  1e-03 0:00.3\n",
      "NOTE (module=cma, iteration=107):  \n",
      "condition in coordinate system exceeded 1.1e+08, rescaled to 1.0e+00, \n",
      "condition changed from 1.0e+08 to 1.5e+01\n",
      "  152   1216 2.081022700000000e+04 3.3e+01 5.98e-06  1e-10  2e-05 0:00.4\n",
      "(4_w,8)-aCMA-ES (mu_w=2.6,w_1=52%) in dimension 4 (seed=1234, Fri Jul  1 09:39:53 2022)\n",
      "Iterat #Fevals   function value  axis ratio  sigma  min&max std  t[m:s]\n",
      "    1      8 6.804506400000000e+04 1.0e+00 1.22e-01  1e-01  1e-01 0:00.0\n",
      "    2     16 2.682864200000000e+04 1.2e+00 1.10e-01  9e-02  1e-01 0:00.0\n",
      "    3     24 6.750192200000001e+04 1.2e+00 9.51e-02  8e-02  9e-02 0:00.0\n",
      "  100    800 2.140000000000000e-01 3.9e+00 7.30e-06  6e-08  2e-07 0:00.3\n",
      "  135   1080 1.000000000000000e-03 5.4e+00 1.40e-07  3e-10  1e-09 0:00.4\n",
      "(4_w,8)-aCMA-ES (mu_w=2.6,w_1=52%) in dimension 4 (seed=1234, Fri Jul  1 09:39:54 2022)\n",
      "Iterat #Fevals   function value  axis ratio  sigma  min&max std  t[m:s]\n",
      "    1      8 8.260202800000001e+04 1.0e+00 1.62e-01  2e-01  2e-01 0:00.0\n",
      "    2     16 9.599211900000001e+04 1.2e+00 1.48e-01  1e-01  1e-01 0:00.0\n",
      "    3     24 2.822470000000000e+04 1.4e+00 1.32e-01  1e-01  1e-01 0:00.0\n",
      "  100    800 2.081024900000000e+04 6.4e+03 6.42e-05  3e-08  2e-04 0:00.3\n",
      "NOTE (module=cma, iteration=105):  \n",
      "condition in coordinate system exceeded 1.2e+08, rescaled to 1.0e+00, \n",
      "condition changed from 8.4e+07 to 1.7e+00\n",
      "  142   1136 2.081022700000000e+04 1.1e+01 5.29e-06  2e-10  1e-05 0:00.5\n",
      "(4_w,8)-aCMA-ES (mu_w=2.6,w_1=52%) in dimension 4 (seed=1234, Fri Jul  1 09:39:55 2022)\n",
      "Iterat #Fevals   function value  axis ratio  sigma  min&max std  t[m:s]\n",
      "    1      8 1.322654220000000e+05 1.0e+00 1.76e-01  2e-01  2e-01 0:00.0\n",
      "    2     16 1.174597340000000e+05 1.3e+00 1.63e-01  1e-01  2e-01 0:00.0\n",
      "    3     24 9.877728900000000e+04 1.2e+00 1.55e-01  1e-01  2e-01 0:00.0\n",
      "  100    800 3.960000000000000e-01 2.9e+00 1.47e-05  2e-07  5e-07 0:00.3\n",
      "  167   1336 0.000000000000000e+00 2.5e+00 7.41e-08  1e-10  2e-10 0:00.5\n",
      "(4_w,8)-aCMA-ES (mu_w=2.6,w_1=52%) in dimension 4 (seed=1234, Fri Jul  1 09:39:55 2022)\n",
      "Iterat #Fevals   function value  axis ratio  sigma  min&max std  t[m:s]\n",
      "    1      8 3.125803400000000e+04 1.0e+00 1.89e-01  2e-01  2e-01 0:00.0\n",
      "    2     16 1.001299270000000e+05 1.2e+00 1.88e-01  2e-01  2e-01 0:00.0\n",
      "    3     24 1.789413550000000e+05 1.4e+00 1.67e-01  1e-01  2e-01 0:00.0\n",
      "  100    800 2.081217000000000e+04 8.2e+02 7.97e-04  2e-06  1e-03 0:00.2\n",
      "NOTE (module=cma, iteration=124):  \n",
      "condition in coordinate system exceeded 1.0e+08, rescaled to 1.0e+00, \n",
      "condition changed from 1.3e+08 to 1.1e+01\n",
      "  166   1328 2.081022700000000e+04 1.6e+01 5.65e-06  1e-10  8e-06 0:00.4\n",
      "(4_w,8)-aCMA-ES (mu_w=2.6,w_1=52%) in dimension 4 (seed=1234, Fri Jul  1 09:39:56 2022)\n",
      "Iterat #Fevals   function value  axis ratio  sigma  min&max std  t[m:s]\n",
      "    1      8 7.444263900000000e+04 1.0e+00 1.83e-01  2e-01  2e-01 0:00.0\n",
      "    2     16 1.271204140000000e+05 1.2e+00 1.74e-01  2e-01  2e-01 0:00.0\n",
      "    3     24 4.150060600000000e+04 1.5e+00 1.52e-01  1e-01  2e-01 0:00.0\n",
      "  100    800 8.000000000000000e-02 2.6e+00 6.32e-06  7e-08  1e-07 0:00.3\n",
      "  146   1168 1.000000000000000e-03 3.4e+00 1.35e-07  2e-10  5e-10 0:00.4\n",
      "(4_w,8)-aCMA-ES (mu_w=2.6,w_1=52%) in dimension 4 (seed=1234, Fri Jul  1 09:39:57 2022)\n",
      "Iterat #Fevals   function value  axis ratio  sigma  min&max std  t[m:s]\n",
      "    1      8 3.585500620000000e+05 1.0e+00 8.99e-03  8e-03  9e-03 0:00.0\n",
      "    2     16 3.400918530000000e+05 1.2e+00 9.19e-03  8e-03  9e-03 0:00.0\n",
      "    3     24 3.196006150000000e+05 1.2e+00 8.99e-03  8e-03  9e-03 0:00.0\n",
      "  100    800 2.081031500000000e+04 1.1e+03 7.63e-05  1e-07  9e-05 0:00.3\n",
      "NOTE (module=cma, iteration=120):  \n",
      "condition in coordinate system exceeded 1.1e+08, rescaled to 1.0e+00, \n",
      "condition changed from 1.5e+08 to 9.5e+00\n",
      "  139   1112 2.081022800000000e+04 9.5e+00 1.26e-05  6e-10  3e-05 0:00.4\n",
      "(4_w,8)-aCMA-ES (mu_w=2.6,w_1=52%) in dimension 4 (seed=1234, Fri Jul  1 09:39:58 2022)\n",
      "Iterat #Fevals   function value  axis ratio  sigma  min&max std  t[m:s]\n",
      "    1      8 1.381037570000000e+05 1.0e+00 4.42e-02  4e-02  4e-02 0:00.0\n",
      "    2     16 1.337152160000000e+05 1.3e+00 5.33e-02  5e-02  6e-02 0:00.0\n",
      "    3     24 1.283892700000000e+05 1.9e+00 7.08e-02  7e-02  8e-02 0:00.0\n",
      "  100    800 3.010000000000000e-01 3.1e+00 6.59e-06  9e-08  3e-07 0:00.3\n",
      "  167   1336 0.000000000000000e+00 2.9e+00 4.74e-08  7e-11  2e-10 0:00.5\n",
      "(4_w,8)-aCMA-ES (mu_w=2.6,w_1=52%) in dimension 4 (seed=1234, Fri Jul  1 09:39:59 2022)\n",
      "Iterat #Fevals   function value  axis ratio  sigma  min&max std  t[m:s]\n",
      "    1      8 3.050647030000000e+05 1.0e+00 8.60e-02  8e-02  8e-02 0:00.0\n",
      "    2     16 1.099857230000000e+05 1.2e+00 9.09e-02  8e-02  1e-01 0:00.0\n",
      "    3     24 1.561248510000000e+05 1.5e+00 9.31e-02  7e-02  1e-01 0:00.0\n",
      "  100    800 2.081024100000000e+04 1.7e+03 1.86e-05  1e-08  2e-05 0:00.4\n",
      "NOTE (module=cma, iteration=117):  \n",
      "condition in coordinate system exceeded 1.4e+08, rescaled to 1.0e+00, \n",
      "condition changed from 1.2e+08 to 6.4e+00\n",
      "  139   1112 2.081022700000000e+04 7.4e+00 2.68e-06  1e-10  4e-06 0:00.5\n",
      "(4_w,8)-aCMA-ES (mu_w=2.6,w_1=52%) in dimension 4 (seed=1234, Fri Jul  1 09:40:00 2022)\n",
      "Iterat #Fevals   function value  axis ratio  sigma  min&max std  t[m:s]\n",
      "    1      8 4.108319300000000e+04 1.0e+00 1.16e-01  1e-01  1e-01 0:00.0\n"
     ]
    },
    {
     "name": "stdout",
     "output_type": "stream",
     "text": [
      "    2     16 3.870675500000000e+04 1.5e+00 1.12e-01  1e-01  1e-01 0:00.0\n",
      "    3     24 5.013752600000000e+04 1.6e+00 1.04e-01  9e-02  1e-01 0:00.0\n",
      "  100    800 2.081025000000000e+04 1.9e+03 5.86e-05  3e-08  6e-05 0:00.3\n",
      "NOTE (module=cma, iteration=115):  \n",
      "condition in coordinate system exceeded 1.1e+08, rescaled to 1.0e+00, \n",
      "condition changed from 1.3e+08 to 7.0e+00\n",
      "  152   1216 2.081022700000000e+04 2.5e+01 5.88e-06  1e-10  1e-05 0:00.4\n",
      "(4_w,8)-aCMA-ES (mu_w=2.6,w_1=52%) in dimension 4 (seed=1234, Fri Jul  1 09:40:00 2022)\n",
      "Iterat #Fevals   function value  axis ratio  sigma  min&max std  t[m:s]\n",
      "    1      8 7.618372199999999e+04 1.0e+00 1.15e-01  1e-01  1e-01 0:00.0\n",
      "    2     16 7.461502000000000e+04 1.2e+00 1.07e-01  9e-02  1e-01 0:00.0\n",
      "    3     24 7.502224700000000e+04 1.3e+00 1.07e-01  9e-02  1e-01 0:00.0\n",
      "  100    800 2.081024100000000e+04 2.4e+03 1.69e-05  1e-08  2e-05 0:00.3\n",
      "NOTE (module=cma, iteration=111):  \n",
      "condition in coordinate system exceeded 1.1e+08, rescaled to 1.0e+00, \n",
      "condition changed from 7.0e+07 to 1.8e+00\n",
      "  133   1064 2.081022700000000e+04 7.4e+00 2.21e-06  1e-10  5e-06 0:00.4\n",
      "(4_w,8)-aCMA-ES (mu_w=2.6,w_1=52%) in dimension 4 (seed=1234, Fri Jul  1 09:40:01 2022)\n",
      "Iterat #Fevals   function value  axis ratio  sigma  min&max std  t[m:s]\n",
      "    1      8 1.068918860000000e+05 1.0e+00 1.31e-01  1e-01  1e-01 0:00.0\n",
      "    2     16 8.713937699999999e+04 1.2e+00 1.47e-01  1e-01  2e-01 0:00.0\n",
      "    3     24 8.663968300000000e+04 1.9e+00 1.28e-01  1e-01  1e-01 0:00.0\n",
      "  100    800 2.081025100000000e+04 1.5e+03 2.64e-05  2e-08  3e-05 0:00.3\n",
      "NOTE (module=cma, iteration=127):  \n",
      "condition in coordinate system exceeded 1.1e+08, rescaled to 1.0e+00, \n",
      "condition changed from 2.1e+08 to 1.2e+01\n",
      "  133   1064 2.081022700000000e+04 3.5e+00 2.44e-06  2e-10  3e-06 0:00.4\n",
      "(4_w,8)-aCMA-ES (mu_w=2.6,w_1=52%) in dimension 4 (seed=1234, Fri Jul  1 09:40:02 2022)\n",
      "Iterat #Fevals   function value  axis ratio  sigma  min&max std  t[m:s]\n",
      "    1      8 1.010524770000000e+05 1.0e+00 1.48e-01  1e-01  1e-01 0:00.0\n",
      "    2     16 7.270361900000001e+04 1.2e+00 1.47e-01  1e-01  2e-01 0:00.0\n",
      "    3     24 7.109658500000001e+04 1.7e+00 1.45e-01  1e-01  2e-01 0:00.0\n",
      "  100    800 2.081026900000000e+04 2.5e+03 4.24e-05  3e-08  6e-05 0:00.3\n",
      "NOTE (module=cma, iteration=114):  \n",
      "condition in coordinate system exceeded 1.1e+08, rescaled to 1.0e+00, \n",
      "condition changed from 9.2e+07 to 1.5e+01\n",
      "  138   1104 2.081022700000000e+04 6.0e+00 1.58e-06  9e-11  2e-06 0:00.4\n",
      "(4_w,8)-aCMA-ES (mu_w=2.6,w_1=52%) in dimension 4 (seed=1234, Fri Jul  1 09:40:02 2022)\n",
      "Iterat #Fevals   function value  axis ratio  sigma  min&max std  t[m:s]\n",
      "    1      8 8.741402400000000e+04 1.0e+00 1.67e-01  2e-01  2e-01 0:00.0\n",
      "    2     16 5.782703600000000e+04 1.3e+00 1.81e-01  2e-01  2e-01 0:00.0\n",
      "    3     24 1.033902770000000e+05 1.7e+00 1.47e-01  1e-01  2e-01 0:00.0\n",
      "  100    800 2.081025400000000e+04 4.0e+03 9.34e-05  6e-08  3e-04 0:00.3\n",
      "NOTE (module=cma, iteration=111):  \n",
      "condition in coordinate system exceeded 1.7e+08, rescaled to 1.0e+00, \n",
      "condition changed from 1.2e+08 to 1.0e+01\n",
      "  155   1240 2.081022700000000e+04 4.6e+01 1.12e-05  1e-10  5e-05 0:00.5\n",
      "(4_w,8)-aCMA-ES (mu_w=2.6,w_1=52%) in dimension 4 (seed=1234, Fri Jul  1 09:40:03 2022)\n",
      "Iterat #Fevals   function value  axis ratio  sigma  min&max std  t[m:s]\n",
      "    1      8 1.135921450000000e+05 1.0e+00 1.98e-01  2e-01  2e-01 0:00.0\n",
      "    2     16 3.799332600000000e+04 1.2e+00 2.07e-01  2e-01  2e-01 0:00.0\n",
      "    3     24 1.020354660000000e+05 1.5e+00 1.91e-01  2e-01  2e-01 0:00.0\n",
      "  100    800 2.081030500000000e+04 5.6e+03 2.38e-04  1e-07  5e-04 0:00.3\n",
      "NOTE (module=cma, iteration=106):  \n",
      "condition in coordinate system exceeded 1.0e+08, rescaled to 1.0e+00, \n",
      "condition changed from 1.0e+08 to 2.3e+01\n",
      "  143   1144 2.081022800000000e+04 3.0e+01 2.03e-05  4e-10  9e-05 0:00.4\n",
      "(4_w,8)-aCMA-ES (mu_w=2.6,w_1=52%) in dimension 4 (seed=1234, Fri Jul  1 09:40:04 2022)\n",
      "Iterat #Fevals   function value  axis ratio  sigma  min&max std  t[m:s]\n",
      "    1      8 8.288216099999999e+04 1.0e+00 2.08e-01  2e-01  2e-01 0:00.0\n",
      "    2     16 1.099175250000000e+05 1.3e+00 1.99e-01  2e-01  2e-01 0:00.0\n",
      "    3     24 8.430356200000001e+04 1.4e+00 2.27e-01  2e-01  2e-01 0:00.0\n",
      "  100    800 2.081057300000000e+04 1.2e+03 3.26e-04  6e-07  5e-04 0:00.3\n",
      "NOTE (module=cma, iteration=123):  \n",
      "condition in coordinate system exceeded 1.2e+08, rescaled to 1.0e+00, \n",
      "condition changed from 1.4e+08 to 1.3e+01\n",
      "  156   1248 2.081022700000000e+04 2.5e+01 5.62e-06  2e-10  9e-06 0:00.5\n",
      "(4_w,8)-aCMA-ES (mu_w=2.6,w_1=52%) in dimension 4 (seed=1234, Fri Jul  1 09:40:05 2022)\n",
      "Iterat #Fevals   function value  axis ratio  sigma  min&max std  t[m:s]\n",
      "    1      8 2.549082390000000e+05 1.0e+00 7.94e-03  7e-03  8e-03 0:00.0\n",
      "    2     16 2.268900300000000e+05 1.2e+00 9.29e-03  9e-03  1e-02 0:00.0\n",
      "    3     24 1.716201480000000e+05 1.8e+00 1.42e-02  1e-02  2e-02 0:00.0\n",
      "  100    800 2.081025900000000e+04 1.6e+03 3.30e-05  3e-08  4e-05 0:00.3\n",
      "NOTE (module=cma, iteration=132):  \n",
      "condition in coordinate system exceeded 1.0e+08, rescaled to 1.0e+00, \n",
      "condition changed from 1.6e+08 to 1.3e+01\n",
      "  141   1128 2.081022700000000e+04 3.0e+00 1.47e-06  1e-10  1e-06 0:00.4\n",
      "(4_w,8)-aCMA-ES (mu_w=2.6,w_1=52%) in dimension 4 (seed=1234, Fri Jul  1 09:40:05 2022)\n",
      "Iterat #Fevals   function value  axis ratio  sigma  min&max std  t[m:s]\n",
      "    1      8 3.320951110000000e+05 1.0e+00 4.03e-02  4e-02  4e-02 0:00.0\n",
      "    2     16 2.555921960000000e+05 1.3e+00 3.88e-02  3e-02  4e-02 0:00.0\n",
      "    3     24 1.873579360000000e+05 1.2e+00 6.46e-02  5e-02  7e-02 0:00.0\n",
      "  100    800 8.620000000000000e-01 3.3e+00 1.78e-05  3e-07  7e-07 0:00.3\n",
      "  170   1360 1.000000000000000e-03 3.9e+00 1.36e-07  2e-10  5e-10 0:00.5\n",
      "(4_w,8)-aCMA-ES (mu_w=2.6,w_1=52%) in dimension 4 (seed=1234, Fri Jul  1 09:40:06 2022)\n",
      "Iterat #Fevals   function value  axis ratio  sigma  min&max std  t[m:s]\n",
      "    1      8 2.191787560000000e+05 1.0e+00 7.88e-02  7e-02  8e-02 0:00.0\n",
      "    2     16 1.194874740000000e+05 1.3e+00 7.41e-02  6e-02  7e-02 0:00.0\n",
      "    3     24 4.980568200000000e+04 1.3e+00 8.78e-02  7e-02  9e-02 0:00.0\n",
      "  100    800 2.081025000000000e+04 6.2e+03 1.03e-04  5e-08  2e-04 0:00.3\n",
      "NOTE (module=cma, iteration=108):  \n",
      "condition in coordinate system exceeded 1.0e+08, rescaled to 1.0e+00, \n",
      "condition changed from 1.9e+08 to 6.9e+01\n",
      "  150   1200 2.081022700000000e+04 4.8e+01 7.43e-06  2e-10  2e-05 0:00.4\n",
      "(4_w,8)-aCMA-ES (mu_w=2.6,w_1=52%) in dimension 4 (seed=1234, Fri Jul  1 09:40:07 2022)\n",
      "Iterat #Fevals   function value  axis ratio  sigma  min&max std  t[m:s]\n",
      "    1      8 1.132935850000000e+05 1.0e+00 1.07e-01  1e-01  1e-01 0:00.0\n",
      "    2     16 4.458202700000000e+04 1.2e+00 9.88e-02  8e-02  1e-01 0:00.0\n",
      "    3     24 6.751774200000000e+04 1.3e+00 9.46e-02  8e-02  9e-02 0:00.0\n",
      "  100    800 2.081023900000000e+04 2.6e+03 2.17e-05  1e-08  3e-05 0:00.3\n",
      "NOTE (module=cma, iteration=114):  \n",
      "condition in coordinate system exceeded 1.6e+08, rescaled to 1.0e+00, \n",
      "condition changed from 1.2e+08 to 2.4e+01\n",
      "  135   1080 2.081022700000000e+04 7.5e+00 2.85e-06  2e-10  6e-06 0:00.4\n",
      "(4_w,8)-aCMA-ES (mu_w=2.6,w_1=52%) in dimension 4 (seed=1234, Fri Jul  1 09:40:08 2022)\n",
      "Iterat #Fevals   function value  axis ratio  sigma  min&max std  t[m:s]\n",
      "    1      8 8.002438800000001e+04 1.0e+00 1.26e-01  1e-01  1e-01 0:00.0\n",
      "    2     16 1.333785590000000e+05 1.2e+00 1.40e-01  1e-01  2e-01 0:00.0\n",
      "    3     24 6.335347200000000e+04 1.6e+00 1.97e-01  2e-01  2e-01 0:00.0\n",
      "  100    800 2.081023900000000e+04 1.7e+03 2.08e-05  2e-08  2e-05 0:00.4\n",
      "NOTE (module=cma, iteration=113):  \n",
      "condition in coordinate system exceeded 1.2e+08, rescaled to 1.0e+00, \n",
      "condition changed from 1.3e+08 to 5.4e+01\n",
      "  140   1120 2.081022700000000e+04 1.2e+01 3.80e-06  1e-10  7e-06 0:00.5\n",
      "(4_w,8)-aCMA-ES (mu_w=2.6,w_1=52%) in dimension 4 (seed=1234, Fri Jul  1 09:40:09 2022)\n",
      "Iterat #Fevals   function value  axis ratio  sigma  min&max std  t[m:s]\n",
      "    1      8 9.093146000000001e+04 1.0e+00 1.35e-01  1e-01  1e-01 0:00.0\n",
      "    2     16 7.773709200000000e+04 1.3e+00 1.41e-01  1e-01  2e-01 0:00.0\n",
      "    3     24 7.872860300000000e+04 1.6e+00 1.38e-01  1e-01  1e-01 0:00.0\n",
      "  100    800 2.081063800000000e+04 9.0e+03 5.43e-04  3e-07  2e-03 0:00.3\n",
      "NOTE (module=cma, iteration=106):  \n",
      "condition in coordinate system exceeded 1.4e+08, rescaled to 1.0e+00, \n",
      "condition changed from 1.5e+08 to 2.0e+02\n"
     ]
    },
    {
     "name": "stdout",
     "output_type": "stream",
     "text": [
      "  166   1328 2.081022700000000e+04 2.6e+02 2.70e-05  2e-10  3e-04 0:00.5\n",
      "(4_w,8)-aCMA-ES (mu_w=2.6,w_1=52%) in dimension 4 (seed=1234, Fri Jul  1 09:40:10 2022)\n",
      "Iterat #Fevals   function value  axis ratio  sigma  min&max std  t[m:s]\n",
      "    1      8 6.182713700000000e+04 1.0e+00 1.38e-01  1e-01  1e-01 0:00.0\n",
      "    2     16 8.583162800000000e+04 1.2e+00 1.39e-01  1e-01  2e-01 0:00.0\n",
      "    3     24 3.636634100000000e+04 1.7e+00 1.66e-01  1e-01  2e-01 0:00.0\n",
      "  100    800 2.272000000000000e+00 2.4e+00 3.74e-05  7e-07  2e-06 0:00.3\n",
      "  173   1384 0.000000000000000e+00 5.0e+00 5.16e-08  4e-11  2e-10 0:00.6\n",
      "(4_w,8)-aCMA-ES (mu_w=2.6,w_1=52%) in dimension 4 (seed=1234, Fri Jul  1 09:40:11 2022)\n",
      "Iterat #Fevals   function value  axis ratio  sigma  min&max std  t[m:s]\n",
      "    1      8 7.769043200000000e+04 1.0e+00 1.64e-01  2e-01  2e-01 0:00.0\n",
      "    2     16 7.904448699999999e+04 1.2e+00 1.49e-01  1e-01  2e-01 0:00.0\n",
      "    3     24 1.104779200000000e+05 1.5e+00 1.42e-01  1e-01  2e-01 0:00.0\n",
      "  100    800 2.081023900000000e+04 6.5e+03 5.24e-05  2e-08  1e-04 0:00.2\n",
      "NOTE (module=cma, iteration=106):  \n",
      "condition in coordinate system exceeded 1.3e+08, rescaled to 1.0e+00, \n",
      "condition changed from 9.4e+07 to 1.9e+01\n",
      "  137   1096 2.081022700000000e+04 1.4e+01 3.38e-06  2e-10  9e-06 0:00.3\n",
      "(4_w,8)-aCMA-ES (mu_w=2.6,w_1=52%) in dimension 4 (seed=1234, Fri Jul  1 09:40:11 2022)\n",
      "Iterat #Fevals   function value  axis ratio  sigma  min&max std  t[m:s]\n",
      "    1      8 4.794992800000000e+04 1.0e+00 2.12e-01  2e-01  2e-01 0:00.0\n",
      "    2     16 6.026881600000000e+04 1.3e+00 1.79e-01  1e-01  2e-01 0:00.0\n",
      "    3     24 1.178325380000000e+05 1.6e+00 1.61e-01  1e-01  2e-01 0:00.0\n",
      "  100    800 2.081039100000000e+04 5.1e+03 2.01e-04  1e-07  6e-04 0:00.3\n",
      "NOTE (module=cma, iteration=111):  \n",
      "condition in coordinate system exceeded 1.1e+08, rescaled to 1.0e+00, \n",
      "condition changed from 1.3e+08 to 6.7e+00\n",
      "  152   1216 2.081022700000000e+04 6.6e+01 1.07e-05  2e-10  6e-05 0:00.5\n",
      "(4_w,8)-aCMA-ES (mu_w=2.6,w_1=52%) in dimension 4 (seed=1234, Fri Jul  1 09:40:12 2022)\n",
      "Iterat #Fevals   function value  axis ratio  sigma  min&max std  t[m:s]\n",
      "    1      8 6.583018300000000e+04 1.0e+00 1.82e-01  2e-01  2e-01 0:00.0\n",
      "    2     16 6.856270400000000e+04 1.2e+00 1.72e-01  2e-01  2e-01 0:00.0\n",
      "    3     24 9.650979900000000e+04 1.4e+00 1.40e-01  1e-01  1e-01 0:00.0\n",
      "  100    800 2.081024800000000e+04 2.2e+03 2.61e-05  2e-08  3e-05 0:00.3\n",
      "NOTE (module=cma, iteration=118):  \n",
      "condition in coordinate system exceeded 1.2e+08, rescaled to 1.0e+00, \n",
      "condition changed from 1.0e+08 to 3.0e+00\n",
      "  143   1144 2.081022700000000e+04 5.8e+00 3.37e-06  1e-10  4e-06 0:00.4\n",
      "(4_w,8)-aCMA-ES (mu_w=2.6,w_1=52%) in dimension 4 (seed=1234, Fri Jul  1 09:40:13 2022)\n",
      "Iterat #Fevals   function value  axis ratio  sigma  min&max std  t[m:s]\n",
      "    1      8 3.126508530000000e+05 1.0e+00 7.94e-03  7e-03  8e-03 0:00.0\n",
      "    2     16 2.917211810000000e+05 1.2e+00 7.80e-03  7e-03  8e-03 0:00.0\n",
      "    3     24 2.593026190000000e+05 1.2e+00 9.87e-03  8e-03  1e-02 0:00.0\n",
      "  100    800 2.081023600000000e+04 5.8e+02 9.79e-06  2e-08  8e-06 0:00.3\n",
      "  133   1064 2.081022700000000e+04 9.1e+03 1.28e-06  2e-10  1e-06 0:00.4\n",
      "(4_w,8)-aCMA-ES (mu_w=2.6,w_1=52%) in dimension 4 (seed=1234, Fri Jul  1 09:40:14 2022)\n",
      "Iterat #Fevals   function value  axis ratio  sigma  min&max std  t[m:s]\n",
      "    1      8 2.779893470000000e+05 1.0e+00 3.82e-02  3e-02  4e-02 0:00.0\n",
      "    2     16 1.655637170000000e+05 1.2e+00 4.01e-02  4e-02  4e-02 0:00.0\n",
      "    3     24 7.896518500000000e+04 1.5e+00 5.86e-02  5e-02  6e-02 0:00.0\n",
      "NOTE (module=cma, iteration=98):  \n",
      "condition in coordinate system exceeded 1.3e+08, rescaled to 1.0e+00, \n",
      "condition changed from 2.1e+08 to 2.6e+02\n",
      "  100    800 2.081029900000000e+04 1.3e+01 3.19e-04  2e-07  2e-03 0:00.3\n",
      "  155   1240 2.081022700000000e+04 7.7e+01 1.44e-05  2e-10  1e-04 0:00.4\n",
      "(4_w,8)-aCMA-ES (mu_w=2.6,w_1=52%) in dimension 4 (seed=1234, Fri Jul  1 09:40:15 2022)\n",
      "Iterat #Fevals   function value  axis ratio  sigma  min&max std  t[m:s]\n",
      "    1      8 5.427020700000000e+04 1.0e+00 8.99e-02  8e-02  9e-02 0:00.0\n",
      "    2     16 2.790135900000000e+04 1.2e+00 9.04e-02  8e-02  1e-01 0:00.0\n",
      "    3     24 4.841540800000000e+04 1.4e+00 7.96e-02  6e-02  8e-02 0:00.0\n",
      "  100    800 2.081023400000000e+04 3.1e+03 1.76e-05  1e-08  3e-05 0:00.3\n",
      "NOTE (module=cma, iteration=114):  \n",
      "condition in coordinate system exceeded 1.1e+08, rescaled to 1.0e+00, \n",
      "condition changed from 1.2e+08 to 4.7e+01\n",
      "  138   1104 2.081022700000000e+04 7.6e+00 2.31e-06  1e-10  4e-06 0:00.4\n",
      "(4_w,8)-aCMA-ES (mu_w=2.6,w_1=52%) in dimension 4 (seed=1234, Fri Jul  1 09:40:15 2022)\n",
      "Iterat #Fevals   function value  axis ratio  sigma  min&max std  t[m:s]\n",
      "    1      8 9.080691000000000e+04 1.0e+00 1.00e-01  9e-02  1e-01 0:00.0\n",
      "    2     16 8.511507000000001e+04 1.3e+00 8.91e-02  8e-02  9e-02 0:00.0\n",
      "    3     24 5.838831200000000e+04 1.4e+00 8.46e-02  7e-02  8e-02 0:00.0\n",
      "  100    800 2.081023000000000e+04 5.8e+03 1.27e-05  5e-09  3e-05 0:00.4\n",
      "NOTE (module=cma, iteration=110):  \n",
      "condition in coordinate system exceeded 1.0e+08, rescaled to 1.0e+00, \n",
      "condition changed from 9.5e+07 to 2.6e+00\n",
      "  137   1096 2.081022700000000e+04 6.6e+00 1.23e-06  6e-11  3e-06 0:00.5\n",
      "(4_w,8)-aCMA-ES (mu_w=2.6,w_1=52%) in dimension 4 (seed=1234, Fri Jul  1 09:40:16 2022)\n",
      "Iterat #Fevals   function value  axis ratio  sigma  min&max std  t[m:s]\n",
      "    1      8 6.672565300000001e+04 1.0e+00 1.35e-01  1e-01  1e-01 0:00.0\n",
      "    2     16 2.417492000000000e+04 1.4e+00 1.19e-01  9e-02  1e-01 0:00.0\n",
      "    3     24 1.392694620000000e+05 1.7e+00 1.04e-01  8e-02  1e-01 0:00.0\n",
      "  100    800 2.081025200000000e+04 3.4e+03 1.00e-04  5e-08  2e-04 0:00.4\n",
      "NOTE (module=cma, iteration=111):  \n",
      "condition in coordinate system exceeded 1.1e+08, rescaled to 1.0e+00, \n",
      "condition changed from 1.2e+08 to 5.5e+00\n",
      "  136   1088 2.081022800000000e+04 9.2e+00 8.25e-06  5e-10  1e-05 0:00.5\n",
      "(4_w,8)-aCMA-ES (mu_w=2.6,w_1=52%) in dimension 4 (seed=1234, Fri Jul  1 09:40:17 2022)\n",
      "Iterat #Fevals   function value  axis ratio  sigma  min&max std  t[m:s]\n",
      "    1      8 7.643101100000000e+04 1.0e+00 1.46e-01  1e-01  1e-01 0:00.0\n",
      "    2     16 8.298068799999999e+04 1.3e+00 1.60e-01  1e-01  2e-01 0:00.0\n",
      "    3     24 2.399356100000000e+04 1.5e+00 1.58e-01  1e-01  2e-01 0:00.0\n",
      "  100    800 2.081039100000000e+04 2.3e+03 1.62e-04  2e-07  3e-04 0:00.4\n",
      "NOTE (module=cma, iteration=121):  \n",
      "condition in coordinate system exceeded 1.1e+08, rescaled to 1.0e+00, \n",
      "condition changed from 1.4e+08 to 2.5e+01\n",
      "  150   1200 2.081022700000000e+04 2.5e+01 3.87e-06  1e-10  1e-05 0:00.5\n",
      "(4_w,8)-aCMA-ES (mu_w=2.6,w_1=52%) in dimension 4 (seed=1234, Fri Jul  1 09:40:18 2022)\n",
      "Iterat #Fevals   function value  axis ratio  sigma  min&max std  t[m:s]\n",
      "    1      8 1.331063170000000e+05 1.0e+00 1.58e-01  2e-01  2e-01 0:00.0\n",
      "    2     16 9.684338099999999e+04 1.2e+00 1.50e-01  1e-01  1e-01 0:00.0\n",
      "    3     24 8.747119800000000e+04 1.4e+00 1.19e-01  9e-02  1e-01 0:00.0\n",
      "  100    800 2.081023700000000e+04 5.7e+03 4.40e-05  2e-08  1e-04 0:00.3\n",
      "NOTE (module=cma, iteration=106):  \n",
      "condition in coordinate system exceeded 1.6e+08, rescaled to 1.0e+00, \n",
      "condition changed from 9.8e+07 to 5.3e+00\n",
      "  133   1064 2.081022700000000e+04 1.0e+01 2.70e-06  1e-10  9e-06 0:00.4\n",
      "(4_w,8)-aCMA-ES (mu_w=2.6,w_1=52%) in dimension 4 (seed=1234, Fri Jul  1 09:40:19 2022)\n",
      "Iterat #Fevals   function value  axis ratio  sigma  min&max std  t[m:s]\n",
      "    1      8 1.018322460000000e+05 1.0e+00 1.53e-01  1e-01  1e-01 0:00.0\n",
      "    2     16 8.009407399999999e+04 1.2e+00 1.41e-01  1e-01  1e-01 0:00.0\n",
      "    3     24 9.271632600000000e+04 1.6e+00 1.35e-01  1e-01  1e-01 0:00.0\n",
      "  100    800 8.300000000000000e-02 2.0e+00 4.17e-06  5e-08  9e-08 0:00.3\n",
      "  156   1248 0.000000000000000e+00 4.1e+00 4.72e-08  5e-11  2e-10 0:00.4\n",
      "(4_w,8)-aCMA-ES (mu_w=2.6,w_1=52%) in dimension 4 (seed=1234, Fri Jul  1 09:40:20 2022)\n",
      "Iterat #Fevals   function value  axis ratio  sigma  min&max std  t[m:s]\n",
      "    1      8 7.112379100000000e+04 1.0e+00 1.91e-01  2e-01  2e-01 0:00.0\n",
      "    2     16 1.572153890000000e+05 1.3e+00 1.84e-01  2e-01  2e-01 0:00.0\n",
      "    3     24 1.191887440000000e+05 1.6e+00 1.61e-01  1e-01  2e-01 0:00.0\n",
      "  100    800 2.081026300000000e+04 2.2e+03 5.67e-05  3e-08  7e-05 0:00.4\n",
      "NOTE (module=cma, iteration=114):  \n",
      "condition in coordinate system exceeded 1.0e+08, rescaled to 1.0e+00, \n",
      "condition changed from 1.0e+08 to 1.5e+01\n"
     ]
    },
    {
     "name": "stdout",
     "output_type": "stream",
     "text": [
      "  145   1160 2.081022700000000e+04 9.0e+00 5.11e-06  2e-10  9e-06 0:00.5\n",
      "(4_w,8)-aCMA-ES (mu_w=2.6,w_1=52%) in dimension 4 (seed=1234, Fri Jul  1 09:40:20 2022)\n",
      "Iterat #Fevals   function value  axis ratio  sigma  min&max std  t[m:s]\n",
      "    1      8 1.393625560000000e+05 1.0e+00 1.84e-01  2e-01  2e-01 0:00.0\n",
      "    2     16 1.461504470000000e+05 1.2e+00 1.58e-01  1e-01  2e-01 0:00.0\n",
      "    3     24 1.058206440000000e+05 1.6e+00 1.69e-01  1e-01  2e-01 0:00.0\n",
      "  100    800 2.081100000000000e+04 1.0e+03 7.59e-04  1e-06  9e-04 0:00.4\n",
      "NOTE (module=cma, iteration=128):  \n",
      "condition in coordinate system exceeded 1.1e+08, rescaled to 1.0e+00, \n",
      "condition changed from 1.6e+08 to 8.2e+00\n",
      "  177   1416 2.081022700000000e+04 4.9e+01 2.50e-05  2e-10  7e-05 0:00.6\n"
     ]
    }
   ],
   "source": [
    "fcma = []\n",
    "\n",
    "for i in range(4):\n",
    "    for j in sigmas:\n",
    "        es = cma.CMAEvolutionStrategy(get_random_sp(), sigma0=j,\n",
    "                                  inopts={'bounds': boundsxy,'seed':1234})\n",
    "        es.optimize(f, iterations=maxits / es.popsize)\n",
    "        fcma.append((es.result[1], es.result[0], j))\n",
    "        \n",
    "fcma_s = sorted(fcma, key=lambda t: t[0])[:4]"
   ]
  },
  {
   "cell_type": "code",
   "execution_count": 21,
   "metadata": {},
   "outputs": [
    {
     "data": {
      "text/plain": [
       "[(0.0, array([10.7806, 36.9441, 10.794 , 36.9308]), 0.12),\n",
       " (0.0, array([10.7806, 36.9441, 10.794 , 36.9308]), 0.2),\n",
       " (0.0, array([10.794 , 36.9308, 10.7806, 36.9441]), 0.24),\n",
       " (0.0, array([10.794 , 36.9308, 10.7806, 36.9441]), 0.05)]"
      ]
     },
     "execution_count": 21,
     "metadata": {},
     "output_type": "execute_result"
    }
   ],
   "source": [
    "fcma_s"
   ]
  },
  {
   "cell_type": "code",
   "execution_count": 22,
   "metadata": {},
   "outputs": [
    {
     "data": {
      "image/png": "[encoded data removed]",
      "text/plain": [
       "<Figure size 1080x1080 with 4 Axes>"
      ]
     },
     "metadata": {
      "needs_background": "light"
     },
     "output_type": "display_data"
    }
   ],
   "source": [
    "fig, ((ax0, ax1), (ax2, ax3)) = plt.subplots(2, 2, figsize=(15,15))\n",
    "fig.suptitle('CMA f(1). 4 Outputs with Different Starting Points')\n",
    "\n",
    "for i in range(4):\n",
    "    ax = 'ax'+str(i)\n",
    "    eval(ax).scatter(df_prim_loc[:, 1], df_prim_loc[:, 0], s=df_prim_enroll/100, label=\"Prim\") # s gives size\n",
    "    if(len(df_sec) != 0): eval(ax).scatter(df_sec_loc[:, 1], df_sec_loc[:, 0], s=df_sec_enroll/100, label=\"Secondary\") # s gives size\n",
    "    eval(ax).scatter(fcma_s[i][1][1::2], fcma_s[i][1][::2], s = 35, marker=\"o\", label=\"New Secondary\") # stars for supermarkets\n",
    "    eval(ax).set_title('Max: ' + str(np.round(fcma_s[i][0],0))+ ' . Sigma: ' + str(fcma_s[i][2]), fontstyle='italic')\n",
    "\n",
    "for ax in fig.get_axes():\n",
    "    ax.label_outer()"
   ]
  },
  {
   "cell_type": "code",
   "execution_count": 130,
   "metadata": {},
   "outputs": [
    {
     "data": {
      "text/plain": [
       "array([10.91022766, 36.863956  , 10.8897969 , 36.82775777])"
      ]
     },
     "execution_count": 130,
     "metadata": {},
     "output_type": "execute_result"
    }
   ],
   "source": [
    "get_random_sp()"
   ]
  },
  {
   "cell_type": "code",
   "execution_count": 23,
   "metadata": {},
   "outputs": [
    {
     "name": "stdout",
     "output_type": "stream",
     "text": [
      "(4_w,8)-aCMA-ES (mu_w=2.6,w_1=52%) in dimension 4 (seed=1234, Fri Jul  1 09:40:22 2022)\n",
      "Iterat #Fevals   function value  axis ratio  sigma  min&max std  t[m:s]\n",
      "    1      8 -1.235200000000000e+04 1.0e+00 1.11e-02  1e-02  1e-02 0:00.0\n",
      "    2     16 -2.633400000000000e+04 1.3e+00 1.44e-02  1e-02  2e-02 0:00.0\n",
      "    3     24 -3.000000000000000e+04 1.4e+00 2.01e-02  2e-02  2e-02 0:00.0\n",
      "   15    120 -3.000000000000000e+04 2.9e+00 1.45e-02  7e-03  2e-02 0:00.1\n",
      "(4_w,8)-aCMA-ES (mu_w=2.6,w_1=52%) in dimension 4 (seed=1234, Fri Jul  1 09:40:23 2022)\n",
      "Iterat #Fevals   function value  axis ratio  sigma  min&max std  t[m:s]\n",
      "    1      8 -3.000000000000000e+04 1.0e+00 4.40e-02  4e-02  4e-02 0:00.0\n",
      "    2     16 -2.570400000000000e+04 1.3e+00 4.45e-02  4e-02  5e-02 0:00.0\n",
      "    3     24 -2.691900000000000e+04 1.5e+00 4.56e-02  3e-02  5e-02 0:00.0\n",
      "   23    184 -3.000000000000000e+04 3.1e+00 3.08e-02  1e-02  2e-02 0:00.1\n",
      "(4_w,8)-aCMA-ES (mu_w=2.6,w_1=52%) in dimension 4 (seed=1234, Fri Jul  1 09:40:23 2022)\n",
      "Iterat #Fevals   function value  axis ratio  sigma  min&max std  t[m:s]\n",
      "    1      8 -6.254000000000000e+03 1.0e+00 9.63e-02  9e-02  1e-01 0:00.0\n",
      "    2     16 -2.989200000000000e+04 1.2e+00 9.52e-02  9e-02  1e-01 0:00.0\n",
      "    3     24 -4.908000000000000e+03 1.3e+00 8.82e-02  7e-02  1e-01 0:00.0\n",
      "   19    152 -3.000000000000000e+04 5.1e+00 2.18e-02  5e-03  2e-02 0:00.1\n",
      "(4_w,8)-aCMA-ES (mu_w=2.6,w_1=52%) in dimension 4 (seed=1234, Fri Jul  1 09:40:23 2022)\n",
      "Iterat #Fevals   function value  axis ratio  sigma  min&max std  t[m:s]\n",
      "    1      8 -0.000000000000000e+00 1.0e+00 1.21e-01  1e-01  1e-01 0:00.0\n",
      "(4_w,8)-aCMA-ES (mu_w=2.6,w_1=52%) in dimension 4 (seed=1234, Fri Jul  1 09:40:23 2022)\n",
      "Iterat #Fevals   function value  axis ratio  sigma  min&max std  t[m:s]\n",
      "    1      8 -1.609000000000000e+04 1.0e+00 1.32e-01  1e-01  1e-01 0:00.0\n",
      "    2     16 -0.000000000000000e+00 1.2e+00 1.31e-01  1e-01  1e-01 0:00.0\n",
      "    3     24 -0.000000000000000e+00 1.4e+00 1.35e-01  1e-01  2e-01 0:00.0\n",
      "(4_w,8)-aCMA-ES (mu_w=2.6,w_1=52%) in dimension 4 (seed=1234, Fri Jul  1 09:40:23 2022)\n",
      "Iterat #Fevals   function value  axis ratio  sigma  min&max std  t[m:s]\n",
      "    1      8 -2.291000000000000e+03 1.0e+00 1.51e-01  1e-01  2e-01 0:00.0\n",
      "    2     16 -0.000000000000000e+00 1.2e+00 1.49e-01  1e-01  2e-01 0:00.0\n",
      "    3     24 -0.000000000000000e+00 1.4e+00 1.55e-01  1e-01  2e-01 0:00.0\n",
      "(4_w,8)-aCMA-ES (mu_w=2.6,w_1=52%) in dimension 4 (seed=1234, Fri Jul  1 09:40:23 2022)\n",
      "Iterat #Fevals   function value  axis ratio  sigma  min&max std  t[m:s]\n",
      "    1      8 -1.160000000000000e+04 1.0e+00 1.69e-01  2e-01  2e-01 0:00.0\n",
      "    2     16 -0.000000000000000e+00 1.2e+00 1.68e-01  2e-01  2e-01 0:00.0\n",
      "    3     24 -0.000000000000000e+00 1.4e+00 1.74e-01  2e-01  2e-01 0:00.0\n",
      "(4_w,8)-aCMA-ES (mu_w=2.6,w_1=52%) in dimension 4 (seed=1234, Fri Jul  1 09:40:23 2022)\n",
      "Iterat #Fevals   function value  axis ratio  sigma  min&max std  t[m:s]\n",
      "    1      8 -2.422700000000000e+04 1.0e+00 1.88e-01  2e-01  2e-01 0:00.0\n",
      "    2     16 -0.000000000000000e+00 1.2e+00 1.87e-01  2e-01  2e-01 0:00.0\n",
      "    3     24 -0.000000000000000e+00 1.4e+00 1.93e-01  2e-01  2e-01 0:00.0\n",
      "(4_w,8)-aCMA-ES (mu_w=2.6,w_1=52%) in dimension 4 (seed=1234, Fri Jul  1 09:40:23 2022)\n",
      "Iterat #Fevals   function value  axis ratio  sigma  min&max std  t[m:s]\n",
      "    1      8 -2.992400000000000e+04 1.0e+00 2.07e-01  2e-01  2e-01 0:00.0\n",
      "    2     16 -0.000000000000000e+00 1.2e+00 2.05e-01  2e-01  2e-01 0:00.0\n",
      "    3     24 -0.000000000000000e+00 1.4e+00 2.13e-01  2e-01  3e-01 0:00.0\n",
      "(4_w,8)-aCMA-ES (mu_w=2.6,w_1=52%) in dimension 4 (seed=1234, Fri Jul  1 09:40:23 2022)\n",
      "Iterat #Fevals   function value  axis ratio  sigma  min&max std  t[m:s]\n",
      "    1      8 -2.605400000000000e+04 1.0e+00 2.26e-01  2e-01  2e-01 0:00.0\n",
      "    2     16 -0.000000000000000e+00 1.2e+00 2.24e-01  2e-01  2e-01 0:00.0\n",
      "    3     24 -0.000000000000000e+00 1.4e+00 2.32e-01  2e-01  3e-01 0:00.0\n",
      "(4_w,8)-aCMA-ES (mu_w=2.6,w_1=52%) in dimension 4 (seed=1234, Fri Jul  1 09:40:23 2022)\n",
      "Iterat #Fevals   function value  axis ratio  sigma  min&max std  t[m:s]\n",
      "    1      8 -0.000000000000000e+00 1.0e+00 1.01e-02  9e-03  1e-02 0:00.0\n",
      "(4_w,8)-aCMA-ES (mu_w=2.6,w_1=52%) in dimension 4 (seed=1234, Fri Jul  1 09:40:23 2022)\n",
      "Iterat #Fevals   function value  axis ratio  sigma  min&max std  t[m:s]\n",
      "    1      8 -0.000000000000000e+00 1.0e+00 5.06e-02  5e-02  6e-02 0:00.0\n",
      "(4_w,8)-aCMA-ES (mu_w=2.6,w_1=52%) in dimension 4 (seed=1234, Fri Jul  1 09:40:23 2022)\n",
      "Iterat #Fevals   function value  axis ratio  sigma  min&max std  t[m:s]\n",
      "    1      8 -0.000000000000000e+00 1.0e+00 1.01e-01  9e-02  1e-01 0:00.0\n",
      "(4_w,8)-aCMA-ES (mu_w=2.6,w_1=52%) in dimension 4 (seed=1234, Fri Jul  1 09:40:23 2022)\n",
      "Iterat #Fevals   function value  axis ratio  sigma  min&max std  t[m:s]\n",
      "    1      8 -3.700000000000000e+03 1.0e+00 1.13e-01  1e-01  1e-01 0:00.0\n",
      "    2     16 -0.000000000000000e+00 1.2e+00 1.12e-01  1e-01  1e-01 0:00.0\n",
      "    3     24 -0.000000000000000e+00 1.4e+00 1.16e-01  1e-01  1e-01 0:00.0\n",
      "(4_w,8)-aCMA-ES (mu_w=2.6,w_1=52%) in dimension 4 (seed=1234, Fri Jul  1 09:40:23 2022)\n",
      "Iterat #Fevals   function value  axis ratio  sigma  min&max std  t[m:s]\n",
      "    1      8 -0.000000000000000e+00 1.0e+00 1.42e-01  1e-01  2e-01 0:00.0\n",
      "(4_w,8)-aCMA-ES (mu_w=2.6,w_1=52%) in dimension 4 (seed=1234, Fri Jul  1 09:40:24 2022)\n",
      "Iterat #Fevals   function value  axis ratio  sigma  min&max std  t[m:s]\n",
      "    1      8 -2.770400000000000e+04 1.0e+00 1.51e-01  1e-01  2e-01 0:00.0\n",
      "    2     16 -0.000000000000000e+00 1.2e+00 1.49e-01  1e-01  2e-01 0:00.0\n",
      "    3     24 -0.000000000000000e+00 1.4e+00 1.55e-01  1e-01  2e-01 0:00.0\n",
      "(4_w,8)-aCMA-ES (mu_w=2.6,w_1=52%) in dimension 4 (seed=1234, Fri Jul  1 09:40:24 2022)\n",
      "Iterat #Fevals   function value  axis ratio  sigma  min&max std  t[m:s]\n",
      "    1      8 -1.160000000000000e+04 1.0e+00 1.69e-01  2e-01  2e-01 0:00.0\n",
      "    2     16 -0.000000000000000e+00 1.2e+00 1.68e-01  2e-01  2e-01 0:00.0\n",
      "    3     24 -0.000000000000000e+00 1.4e+00 1.74e-01  2e-01  2e-01 0:00.0\n",
      "(4_w,8)-aCMA-ES (mu_w=2.6,w_1=52%) in dimension 4 (seed=1234, Fri Jul  1 09:40:24 2022)\n",
      "Iterat #Fevals   function value  axis ratio  sigma  min&max std  t[m:s]\n",
      "    1      8 -2.422700000000000e+04 1.0e+00 1.88e-01  2e-01  2e-01 0:00.0\n",
      "    2     16 -0.000000000000000e+00 1.2e+00 1.87e-01  2e-01  2e-01 0:00.0\n",
      "    3     24 -0.000000000000000e+00 1.4e+00 1.93e-01  2e-01  2e-01 0:00.0\n",
      "(4_w,8)-aCMA-ES (mu_w=2.6,w_1=52%) in dimension 4 (seed=1234, Fri Jul  1 09:40:24 2022)\n",
      "Iterat #Fevals   function value  axis ratio  sigma  min&max std  t[m:s]\n",
      "    1      8 -2.992400000000000e+04 1.0e+00 2.07e-01  2e-01  2e-01 0:00.0\n",
      "    2     16 -0.000000000000000e+00 1.2e+00 2.05e-01  2e-01  2e-01 0:00.0\n",
      "    3     24 -0.000000000000000e+00 1.4e+00 2.13e-01  2e-01  3e-01 0:00.0\n",
      "(4_w,8)-aCMA-ES (mu_w=2.6,w_1=52%) in dimension 4 (seed=1234, Fri Jul  1 09:40:24 2022)\n",
      "Iterat #Fevals   function value  axis ratio  sigma  min&max std  t[m:s]\n",
      "    1      8 -2.605400000000000e+04 1.0e+00 2.26e-01  2e-01  2e-01 0:00.0\n",
      "    2     16 -0.000000000000000e+00 1.2e+00 2.24e-01  2e-01  2e-01 0:00.0\n",
      "    3     24 -0.000000000000000e+00 1.4e+00 2.32e-01  2e-01  3e-01 0:00.0\n",
      "(4_w,8)-aCMA-ES (mu_w=2.6,w_1=52%) in dimension 4 (seed=1234, Fri Jul  1 09:40:24 2022)\n",
      "Iterat #Fevals   function value  axis ratio  sigma  min&max std  t[m:s]\n",
      "    1      8 -0.000000000000000e+00 1.0e+00 1.01e-02  9e-03  1e-02 0:00.0\n",
      "(4_w,8)-aCMA-ES (mu_w=2.6,w_1=52%) in dimension 4 (seed=1234, Fri Jul  1 09:40:24 2022)\n",
      "Iterat #Fevals   function value  axis ratio  sigma  min&max std  t[m:s]\n",
      "    1      8 -0.000000000000000e+00 1.0e+00 5.06e-02  5e-02  6e-02 0:00.0\n",
      "(4_w,8)-aCMA-ES (mu_w=2.6,w_1=52%) in dimension 4 (seed=1234, Fri Jul  1 09:40:24 2022)\n",
      "Iterat #Fevals   function value  axis ratio  sigma  min&max std  t[m:s]\n",
      "    1      8 -0.000000000000000e+00 1.0e+00 1.01e-01  9e-02  1e-01 0:00.0\n",
      "(4_w,8)-aCMA-ES (mu_w=2.6,w_1=52%) in dimension 4 (seed=1234, Fri Jul  1 09:40:24 2022)\n",
      "Iterat #Fevals   function value  axis ratio  sigma  min&max std  t[m:s]\n",
      "    1      8 -3.700000000000000e+03 1.0e+00 1.13e-01  1e-01  1e-01 0:00.0\n",
      "    2     16 -0.000000000000000e+00 1.2e+00 1.12e-01  1e-01  1e-01 0:00.0\n",
      "    3     24 -0.000000000000000e+00 1.4e+00 1.16e-01  1e-01  1e-01 0:00.0\n"
     ]
    },
    {
     "name": "stdout",
     "output_type": "stream",
     "text": [
      "(4_w,8)-aCMA-ES (mu_w=2.6,w_1=52%) in dimension 4 (seed=1234, Fri Jul  1 09:40:24 2022)\n",
      "Iterat #Fevals   function value  axis ratio  sigma  min&max std  t[m:s]\n",
      "    1      8 -0.000000000000000e+00 1.0e+00 1.42e-01  1e-01  2e-01 0:00.0\n",
      "(4_w,8)-aCMA-ES (mu_w=2.6,w_1=52%) in dimension 4 (seed=1234, Fri Jul  1 09:40:24 2022)\n",
      "Iterat #Fevals   function value  axis ratio  sigma  min&max std  t[m:s]\n",
      "    1      8 -2.770400000000000e+04 1.0e+00 1.51e-01  1e-01  2e-01 0:00.0\n",
      "    2     16 -0.000000000000000e+00 1.2e+00 1.49e-01  1e-01  2e-01 0:00.0\n",
      "    3     24 -0.000000000000000e+00 1.4e+00 1.55e-01  1e-01  2e-01 0:00.0\n",
      "(4_w,8)-aCMA-ES (mu_w=2.6,w_1=52%) in dimension 4 (seed=1234, Fri Jul  1 09:40:24 2022)\n",
      "Iterat #Fevals   function value  axis ratio  sigma  min&max std  t[m:s]\n",
      "    1      8 -1.160000000000000e+04 1.0e+00 1.69e-01  2e-01  2e-01 0:00.0\n",
      "    2     16 -0.000000000000000e+00 1.2e+00 1.68e-01  2e-01  2e-01 0:00.0\n",
      "    3     24 -0.000000000000000e+00 1.4e+00 1.74e-01  2e-01  2e-01 0:00.0\n",
      "(4_w,8)-aCMA-ES (mu_w=2.6,w_1=52%) in dimension 4 (seed=1234, Fri Jul  1 09:40:24 2022)\n",
      "Iterat #Fevals   function value  axis ratio  sigma  min&max std  t[m:s]\n",
      "    1      8 -2.422700000000000e+04 1.0e+00 1.88e-01  2e-01  2e-01 0:00.0\n",
      "    2     16 -0.000000000000000e+00 1.2e+00 1.87e-01  2e-01  2e-01 0:00.0\n",
      "    3     24 -0.000000000000000e+00 1.4e+00 1.93e-01  2e-01  2e-01 0:00.0\n",
      "(4_w,8)-aCMA-ES (mu_w=2.6,w_1=52%) in dimension 4 (seed=1234, Fri Jul  1 09:40:24 2022)\n",
      "Iterat #Fevals   function value  axis ratio  sigma  min&max std  t[m:s]\n",
      "    1      8 -2.992400000000000e+04 1.0e+00 2.07e-01  2e-01  2e-01 0:00.0\n",
      "    2     16 -0.000000000000000e+00 1.2e+00 2.05e-01  2e-01  2e-01 0:00.0\n",
      "    3     24 -0.000000000000000e+00 1.4e+00 2.13e-01  2e-01  3e-01 0:00.0\n",
      "(4_w,8)-aCMA-ES (mu_w=2.6,w_1=52%) in dimension 4 (seed=1234, Fri Jul  1 09:40:24 2022)\n",
      "Iterat #Fevals   function value  axis ratio  sigma  min&max std  t[m:s]\n",
      "    1      8 -2.605400000000000e+04 1.0e+00 2.26e-01  2e-01  2e-01 0:00.0\n",
      "    2     16 -0.000000000000000e+00 1.2e+00 2.24e-01  2e-01  2e-01 0:00.0\n",
      "    3     24 -0.000000000000000e+00 1.4e+00 2.32e-01  2e-01  3e-01 0:00.0\n",
      "(4_w,8)-aCMA-ES (mu_w=2.6,w_1=52%) in dimension 4 (seed=1234, Fri Jul  1 09:40:24 2022)\n",
      "Iterat #Fevals   function value  axis ratio  sigma  min&max std  t[m:s]\n",
      "    1      8 -0.000000000000000e+00 1.0e+00 1.01e-02  9e-03  1e-02 0:00.0\n",
      "(4_w,8)-aCMA-ES (mu_w=2.6,w_1=52%) in dimension 4 (seed=1234, Fri Jul  1 09:40:24 2022)\n",
      "Iterat #Fevals   function value  axis ratio  sigma  min&max std  t[m:s]\n",
      "    1      8 -0.000000000000000e+00 1.0e+00 5.06e-02  5e-02  6e-02 0:00.0\n",
      "(4_w,8)-aCMA-ES (mu_w=2.6,w_1=52%) in dimension 4 (seed=1234, Fri Jul  1 09:40:24 2022)\n",
      "Iterat #Fevals   function value  axis ratio  sigma  min&max std  t[m:s]\n",
      "    1      8 -0.000000000000000e+00 1.0e+00 1.01e-01  9e-02  1e-01 0:00.0\n",
      "(4_w,8)-aCMA-ES (mu_w=2.6,w_1=52%) in dimension 4 (seed=1234, Fri Jul  1 09:40:24 2022)\n",
      "Iterat #Fevals   function value  axis ratio  sigma  min&max std  t[m:s]\n",
      "    1      8 -3.700000000000000e+03 1.0e+00 1.13e-01  1e-01  1e-01 0:00.0\n",
      "    2     16 -0.000000000000000e+00 1.2e+00 1.12e-01  1e-01  1e-01 0:00.0\n",
      "    3     24 -0.000000000000000e+00 1.4e+00 1.16e-01  1e-01  1e-01 0:00.0\n",
      "(4_w,8)-aCMA-ES (mu_w=2.6,w_1=52%) in dimension 4 (seed=1234, Fri Jul  1 09:40:24 2022)\n",
      "Iterat #Fevals   function value  axis ratio  sigma  min&max std  t[m:s]\n",
      "    1      8 -0.000000000000000e+00 1.0e+00 1.42e-01  1e-01  2e-01 0:00.0\n",
      "(4_w,8)-aCMA-ES (mu_w=2.6,w_1=52%) in dimension 4 (seed=1234, Fri Jul  1 09:40:24 2022)\n",
      "Iterat #Fevals   function value  axis ratio  sigma  min&max std  t[m:s]\n",
      "    1      8 -2.770400000000000e+04 1.0e+00 1.51e-01  1e-01  2e-01 0:00.0\n",
      "    2     16 -0.000000000000000e+00 1.2e+00 1.49e-01  1e-01  2e-01 0:00.0\n",
      "    3     24 -0.000000000000000e+00 1.4e+00 1.55e-01  1e-01  2e-01 0:00.0\n",
      "(4_w,8)-aCMA-ES (mu_w=2.6,w_1=52%) in dimension 4 (seed=1234, Fri Jul  1 09:40:24 2022)\n",
      "Iterat #Fevals   function value  axis ratio  sigma  min&max std  t[m:s]\n",
      "    1      8 -1.160000000000000e+04 1.0e+00 1.69e-01  2e-01  2e-01 0:00.0\n",
      "    2     16 -0.000000000000000e+00 1.2e+00 1.68e-01  2e-01  2e-01 0:00.0\n",
      "    3     24 -0.000000000000000e+00 1.4e+00 1.74e-01  2e-01  2e-01 0:00.0\n",
      "(4_w,8)-aCMA-ES (mu_w=2.6,w_1=52%) in dimension 4 (seed=1234, Fri Jul  1 09:40:24 2022)\n",
      "Iterat #Fevals   function value  axis ratio  sigma  min&max std  t[m:s]\n",
      "    1      8 -2.422700000000000e+04 1.0e+00 1.88e-01  2e-01  2e-01 0:00.0\n",
      "    2     16 -0.000000000000000e+00 1.2e+00 1.87e-01  2e-01  2e-01 0:00.0\n",
      "    3     24 -0.000000000000000e+00 1.4e+00 1.93e-01  2e-01  2e-01 0:00.0\n",
      "(4_w,8)-aCMA-ES (mu_w=2.6,w_1=52%) in dimension 4 (seed=1234, Fri Jul  1 09:40:25 2022)\n",
      "Iterat #Fevals   function value  axis ratio  sigma  min&max std  t[m:s]\n",
      "    1      8 -2.992400000000000e+04 1.0e+00 2.07e-01  2e-01  2e-01 0:00.0\n",
      "    2     16 -0.000000000000000e+00 1.2e+00 2.05e-01  2e-01  2e-01 0:00.0\n",
      "    3     24 -0.000000000000000e+00 1.4e+00 2.13e-01  2e-01  3e-01 0:00.0\n",
      "(4_w,8)-aCMA-ES (mu_w=2.6,w_1=52%) in dimension 4 (seed=1234, Fri Jul  1 09:40:25 2022)\n",
      "Iterat #Fevals   function value  axis ratio  sigma  min&max std  t[m:s]\n",
      "    1      8 -2.605400000000000e+04 1.0e+00 2.26e-01  2e-01  2e-01 0:00.0\n",
      "    2     16 -0.000000000000000e+00 1.2e+00 2.24e-01  2e-01  2e-01 0:00.0\n",
      "    3     24 -0.000000000000000e+00 1.4e+00 2.32e-01  2e-01  3e-01 0:00.0\n"
     ]
    }
   ],
   "source": [
    "fcma2 = []\n",
    "maxits= 10000\n",
    "\n",
    "for i in range(4):\n",
    "    for j in sigmas:\n",
    "        es = cma.CMAEvolutionStrategy(get_random_sp(), sigma0=j,\n",
    "                                  inopts={'bounds': boundsxy,'seed':1234})\n",
    "        es.optimize(f2, iterations=maxits / es.popsize)\n",
    "        fcma2.append((es.result[1], es.result[0], j))\n",
    "        \n",
    "fcma2_s = sorted(fcma2, key=lambda t: t[0])[:4]"
   ]
  },
  {
   "cell_type": "code",
   "execution_count": 126,
   "metadata": {},
   "outputs": [
    {
     "data": {
      "text/plain": [
       "[(-30000.0, array([10.83427142, 36.80880804, 10.78217603, 36.92868157]), 0.01),\n",
       " (-30000.0, array([10.7934656 , 36.94494873, 10.84998881, 36.86300068]), 0.05),\n",
       " (-30000.0, array([10.7939191 , 36.93870372, 10.8452119 , 36.7258147 ]), 0.1),\n",
       " (-29924.0, array([10.77592491, 36.9287141 , 10.96223831, 36.68969039]), 0.22)]"
      ]
     },
     "execution_count": 126,
     "metadata": {},
     "output_type": "execute_result"
    }
   ],
   "source": [
    "fcma2_s"
   ]
  },
  {
   "cell_type": "code",
   "execution_count": 24,
   "metadata": {},
   "outputs": [
    {
     "data": {
      "image/png": "[encoded data removed]",
      "text/plain": [
       "<Figure size 1080x1080 with 4 Axes>"
      ]
     },
     "metadata": {
      "needs_background": "light"
     },
     "output_type": "display_data"
    }
   ],
   "source": [
    "fig, ((ax0, ax1), (ax2, ax3)) = plt.subplots(2, 2, figsize=(15,15))\n",
    "fig.suptitle('CMA F(2). 4 Outputs with Different Starting Points')\n",
    "\n",
    "for i in range(4):\n",
    "    ax = 'ax'+str(i)\n",
    "    eval(ax).scatter(df_prim_loc[:, 1], df_prim_loc[:, 0], s=df_prim_enroll/100, label=\"Prim\") # s gives size\n",
    "    if(len(df_sec) != 0): eval(ax).scatter(df_sec_loc[:, 1], df_sec_loc[:, 0], s=df_sec_enroll/100, label=\"Secondary\") # s gives size\n",
    "    eval(ax).scatter(fcma2_s[i][1][1::2], fcma2_s[i][1][::2], s = 35, marker=\"o\", label=\"New Secondary\") # stars for supermarkets\n",
    "    eval(ax).set_title('Max: ' + str(np.round(fcma2_s[i][0],0))+ ' . Sigma: ' + str(fcma2_s[i][2]), fontstyle='italic')\n",
    "\n",
    "for ax in fig.get_axes():\n",
    "    ax.label_outer()"
   ]
  },
  {
   "cell_type": "code",
   "execution_count": null,
   "metadata": {},
   "outputs": [],
   "source": []
  },
  {
   "cell_type": "code",
   "execution_count": null,
   "metadata": {},
   "outputs": [],
   "source": []
  },
  {
   "cell_type": "code",
   "execution_count": null,
   "metadata": {},
   "outputs": [],
   "source": []
  },
  {
   "cell_type": "code",
   "execution_count": null,
   "metadata": {},
   "outputs": [],
   "source": []
  },
  {
   "cell_type": "code",
   "execution_count": null,
   "metadata": {},
   "outputs": [],
   "source": []
  },
  {
   "cell_type": "code",
   "execution_count": null,
   "metadata": {},
   "outputs": [],
   "source": []
  },
  {
   "cell_type": "code",
   "execution_count": null,
   "metadata": {},
   "outputs": [],
   "source": []
  },
  {
   "cell_type": "code",
   "execution_count": null,
   "metadata": {},
   "outputs": [],
   "source": []
  },
  {
   "cell_type": "code",
   "execution_count": null,
   "metadata": {},
   "outputs": [],
   "source": []
  },
  {
   "cell_type": "code",
   "execution_count": null,
   "metadata": {},
   "outputs": [],
   "source": []
  },
  {
   "cell_type": "code",
   "execution_count": 100,
   "metadata": {},
   "outputs": [],
   "source": [
    "chosenll = sorted(fcma2, key=lambda t: t[0])[:1]\n",
    "chosenll = chosen[0][1]\n",
    "chosenll = np.array(np.array_split(chosenll, proposed_schools))"
   ]
  },
  {
   "cell_type": "code",
   "execution_count": 45,
   "metadata": {},
   "outputs": [
    {
     "data": {
      "image/svg+xml": [
       "<svg xmlns=\"http://www.w3.org/2000/svg\" xmlns:xlink=\"http://www.w3.org/1999/xlink\" width=\"100.0\" height=\"100.0\" viewBox=\"36.67811195832005 10.702503304320066 0.3028344213599752 0.2734853643599884\" preserveAspectRatio=\"xMinYMin meet\"><g transform=\"matrix(1,0,0,-1,0,21.67849197300012)\"><path fill-rule=\"evenodd\" fill=\"#66cc99\" stroke=\"#555555\" stroke-width=\"0.006056688427199503\" opacity=\"0.6\" d=\"M 36.96544107700004,10.87340077500005 L 36.964661224000054,10.873415893000072 L 36.96465826300005,10.873415950000037 L 36.96464537600008,10.873416200000065 L 36.96393214200003,10.873430026000051 L 36.96330224400003,10.87425083000005 L 36.962552122000034,10.875228294000067 L 36.96218063200007,10.875815269000043 L 36.961255874000074,10.877276436000045 L 36.95957095400007,10.87954918500003 L 36.95898673500005,10.880279891000043 L 36.95698422100003,10.88278450000007 L 36.95611061500006,10.883161332000043 L 36.95499555200007,10.883464806000063 L 36.954206612000064,10.883715051000024 L 36.953370937000045,10.883980118000068 L 36.95215852200005,10.884366635000049 L 36.95024307500006,10.884951734000026 L 36.949419671000044,10.885075971000049 L 36.94796634200003,10.885295248000034 L 36.94711505200007,10.885330257000021 L 36.94646579700003,10.885356956000066 L 36.945668855000065,10.885136383000031 L 36.944366294000076,10.884553691000065 L 36.94349579000004,10.884476112000073 L 36.94328703000008,10.88475864000003 L 36.94283253400005,10.885930504000044 L 36.94215131400006,10.886475989000076 L 36.94219666600003,10.886918727000022 L 36.942649739000046,10.887502531000052 L 36.942640218000065,10.888889558000074 L 36.94229262400006,10.890178655000057 L 36.94180643000004,10.890510208000023 L 36.941704506000065,10.891430814000046 L 36.94160005600003,10.892374220000022 L 36.940385708000065,10.893035695000037 L 36.939658214000076,10.893269960000055 L 36.93960554700004,10.893891405000034 L 36.94003250500003,10.895137870000042 L 36.93916095600008,10.895591565000075 L 36.93910746500006,10.896332579000045 L 36.93898385500006,10.896714393000025 L 36.93970197800007,10.897843240000043 L 36.93978872200006,10.899302657000021 L 36.93903487700004,10.899847640000075 L 36.939077342000076,10.90070887500002 L 36.93895257600008,10.901258088000077 L 36.93885283000003,10.90168789300003 L 36.93836265700003,10.902593376000027 L 36.937561233000054,10.90301845700003 L 36.93606093600005,10.90303226900005 L 36.93487617100004,10.90290470900004 L 36.93332484200005,10.90330080700005 L 36.932941536000044,10.903298221000057 L 36.93181210300003,10.903616472000067 L 36.93070844500005,10.903927459000045 L 36.92991023600007,10.903886194000052 L 36.92902152600004,10.903995113000065 L 36.92787597900008,10.904135507000035 L 36.92711590400006,10.905023417000052 L 36.925692181000045,10.905013779000058 L 36.92469633400003,10.90500703400005 L 36.92387410900005,10.90524629500004 L 36.92324983300006,10.905427953000071 L 36.92212628000004,10.905754892000061 L 36.92106166900004,10.90574766900005 L 36.920055742000045,10.904966975000036 L 36.91956951800006,10.904589616000067 L 36.91901550100005,10.904221706000044 L 36.91848975400006,10.903872566000075 L 36.91785945400005,10.903453993000028 L 36.91686986800005,10.90369137500005 L 36.91592048800004,10.903919109000071 L 36.91610772400003,10.904829151000058 L 36.91573180000006,10.905300128000022 L 36.91514141600004,10.90603978400003 L 36.91474077500004,10.906541725000068 L 36.91352732400003,10.907059588000038 L 36.912165024000046,10.908102560000032 L 36.91154034700003,10.908812875000024 L 36.910994276000054,10.909433810000053 L 36.91030810400008,10.910672700000077 L 36.90919475800007,10.910712929000056 L 36.90806082700004,10.910756110000023 L 36.90706485100003,10.910794035000038 L 36.90638736600005,10.91078940400007 L 36.90618710200005,10.911744627000076 L 36.90521356900007,10.912551070000063 L 36.90515747000006,10.913650767000036 L 36.90491081700003,10.914318693000041 L 36.90340831000003,10.914643211000055 L 36.902873311000064,10.91502218100004 L 36.902772836000054,10.915547617000072 L 36.90175088900003,10.916353713000035 L 36.90089776700006,10.916620717000058 L 36.89995633500007,10.91691535700005 L 36.89830930900007,10.91714319600004 L 36.89639427100008,10.91763224400006 L 36.894843353000056,10.917956383000046 L 36.894124747000035,10.918395929000042 L 36.89314219800008,10.918996917000072 L 36.89251489900005,10.91964133700003 L 36.89133850800005,10.92084982800003 L 36.890418003000036,10.921605138000075 L 36.889671485000065,10.922217677000049 L 36.88856389100005,10.923126485000068 L 36.88714171600003,10.924038057000075 L 36.886570635000055,10.92440410100005 L 36.88593178700006,10.92474461200004 L 36.88506468600008,10.925206782000032 L 36.882069046000026,10.924516443000073 L 36.88087952800004,10.924523873000055 L 36.87960529000003,10.924531829000045 L 36.878439222000054,10.924539110000069 L 36.87081375200006,10.92498830900007 L 36.870334220000075,10.92620646100005 L 36.870025138000074,10.926991616000066 L 36.86955712200006,10.928376833000073 L 36.86928354100007,10.929186561000051 L 36.86780836400004,10.929606834000026 L 36.86736820900006,10.93024944800004 L 36.866881197000055,10.930676505000065 L 36.86447536900005,10.928722655000058 L 36.863724095000066,10.928721905000032 L 36.86319513900003,10.928721377000045 L 36.862420256000064,10.928720600000077 L 36.86207988700005,10.928720258000055 L 36.86162969000003,10.92871980600006 L 36.860883992000026,10.928719055000045 L 36.86048275500008,10.928718650000064 L 36.85924447000008,10.927741565000076 L 36.858893755000054,10.927595518000032 L 36.85714577500005,10.928396350000071 L 36.85545777200008,10.92912490200007 L 36.853601912000045,10.929925898000022 L 36.85136773800008,10.931034158000045 L 36.85056498100005,10.931531115000041 L 36.85039677000003,10.928097867000076 L 36.843683344000056,10.932929017000049 L 36.83623062500004,10.935698053000067 L 36.83486519200005,10.937123204000045 L 36.81699949100005,10.93869400400007 L 36.809881388000065,10.94199080900006 L 36.809991414000024,10.942704848000062 L 36.80942171300006,10.944698923000033 L 36.80881659900007,10.946412168000052 L 36.80633802300008,10.944402515000036 L 36.805538642000045,10.944516337000039 L 36.80488356200004,10.944750759000044 L 36.803932657000075,10.945724364000057 L 36.80005098300006,10.947071419000054 L 36.79912813800007,10.947519116000024 L 36.797866001000045,10.94803610200006 L 36.796627880000074,10.948577167000053 L 36.79493443200005,10.948517108000033 L 36.794119341000055,10.94748295200003 L 36.793516185000044,10.947239461000038 L 36.79289042700003,10.946780586000045 L 36.791920600000026,10.947036616000048 L 36.79086212800007,10.942927863000023 L 36.790289561000066,10.941823718000023 L 36.78982187100007,10.941305297000042 L 36.78949793600003,10.94113874900006 L 36.789334351000036,10.940997204000041 L 36.78914897800007,10.940905783000062 L 36.78659615500004,10.939646806000042 L 36.782043703000056,10.94009203500002 L 36.778143302000046,10.940709328000025 L 36.77798150900003,10.940668860000073 L 36.77558314100003,10.940068954000026 L 36.77180140200005,10.940997894000077 L 36.76961480700004,10.942177568000034 L 36.76699481400004,10.943067101000054 L 36.76403483900003,10.943895267000073 L 36.760301936000076,10.944978906000074 L 36.75956083300008,10.94527621800006 L 36.75532640000006,10.946974922000038 L 36.74923795700005,10.945734457000071 L 36.74368588300007,10.943971772000054 L 36.74260170500003,10.946546290000072 L 36.741859515000044,10.948692909000044 L 36.74208770700005,10.950511934000076 L 36.74414723500007,10.95334882800006 L 36.74249207300005,10.95462784800003 L 36.73993048500006,10.954178455000033 L 36.73841099600003,10.953521559000023 L 36.736550187000034,10.95001656900007 L 36.72783299400004,10.956278879000024 L 36.72385115600008,10.95441852700003 L 36.721797268000046,10.95341108100007 L 36.71602388500003,10.955280856000059 L 36.71224080500008,10.95635244500005 L 36.70942446000004,10.957574716000067 L 36.70932215600004,10.958291301000031 L 36.70965428400007,10.959154622000028 L 36.71037025000004,10.960451239000065 L 36.710752616000036,10.96107581800004 L 36.71107629000005,10.963039020000053 L 36.705063480000035,10.964548061000073 L 36.70312588000007,10.964772579000055 L 36.701827827000045,10.964237013000059 L 36.70162197800005,10.963446000000033 L 36.70144742600007,10.962775253000075 L 36.70078802000006,10.960426934000054 L 36.69998713700005,10.957599316000028 L 36.69899380500004,10.954626776000055 L 36.69833811900003,10.951800254000034 L 36.69971450000003,10.94903688200003 L 36.69996457600007,10.947986653000044 L 36.70207746900007,10.943841934000034 L 36.70438771700003,10.939196525000057 L 36.70630543900006,10.935241577000056 L 36.70635787200007,10.934715912000058 L 36.706359011000075,10.93470353400005 L 36.70654489100008,10.934735585000055 L 36.706587237000065,10.934742888000073 L 36.70670562600003,10.934090207000054 L 36.706589431000054,10.933467628000074 L 36.70666342200008,10.931710666000072 L 36.70681648800007,10.930683607000049 L 36.706903949000036,10.92874740600007 L 36.70696262200005,10.927408785000068 L 36.70769332200007,10.925202421000051 L 36.70796422600006,10.924582745000066 L 36.707543420000036,10.92266664400006 L 36.70716715100008,10.921253025000055 L 36.707183927000074,10.920643400000074 L 36.70779536600003,10.91978715600004 L 36.70843448000005,10.918476793000025 L 36.70882578900006,10.917929751000031 L 36.709457745000066,10.917551893000052 L 36.709703525000066,10.917051584000035 L 36.71026289900004,10.916673180000032 L 36.71048411800007,10.916220510000073 L 36.71104184200004,10.916057299000045 L 36.71138329200005,10.915701175000038 L 36.711890872000026,10.914186564000033 L 36.71249412100008,10.91308254300003 L 36.712749700000074,10.91261479700006 L 36.71254751200007,10.91058077300005 L 36.71262630800004,10.90976835600003 L 36.712556721000055,10.907795102000023 L 36.71242710800004,10.905761620000021 L 36.712366779000035,10.904159071000038 L 36.71232534200004,10.903250108000066 L 36.71227018500008,10.899387919000048 L 36.71221021800005,10.897737548000066 L 36.71204855000008,10.896732039000028 L 36.71211829900005,10.89645766500007 L 36.71216079200008,10.89629050700006 L 36.711608590000026,10.89573641000004 L 36.71062204000003,10.895035599000039 L 36.70899184000007,10.893086556000071 L 36.707911652000064,10.891978536000067 L 36.70752266200003,10.891479530000026 L 36.707480420000024,10.891425340000069 L 36.70661485000005,10.890725424000038 L 36.70446761900007,10.888377956000056 L 36.70319742000004,10.886814179000055 L 36.70154293600007,10.884888846000024 L 36.70033663500004,10.882883174000028 L 36.69934942200007,10.882277981000072 L 36.69826875600006,10.881241672000044 L 36.69750036500005,10.880494646000045 L 36.69603469400005,10.879192415000034 L 36.69507334600007,10.878372201000047 L 36.693675065000036,10.876173782000023 L 36.692937322000034,10.874590070000067 L 36.69215451700006,10.872575609000023 L 36.69191611800005,10.872119496000039 L 36.691245759000026,10.869639604000042 L 36.69077650300005,10.86811530500006 L 36.69052318100006,10.867292424000027 L 36.689919506000024,10.86594724400004 L 36.689650622000045,10.864717717000076 L 36.689461325000025,10.86385210700007 L 36.68932804800005,10.863242663000051 L 36.689898217000064,10.862512658000071 L 36.69101198800007,10.862377555000023 L 36.691986873000076,10.861428409000041 L 36.69255544400005,10.860470065000072 L 36.69250441400004,10.859692044000042 L 36.69306808600004,10.858739806000074 L 36.69416829600004,10.857217709000054 L 36.69532494300006,10.855938882000032 L 36.695385447000035,10.855918829000075 L 36.69539430900005,10.855915888000027 L 36.695471128000065,10.855889922000074 L 36.695498490000034,10.855879978000075 L 36.69589756500005,10.855676405000054 L 36.69657922600004,10.855107629000031 L 36.69757333800004,10.85374444000007 L 36.69766070800006,10.852868018000038 L 36.699171238000076,10.851456566000024 L 36.700126444000034,10.849909439000044 L 36.700402197000074,10.848644174000071 L 36.702423691000035,10.847475960000054 L 36.70411949600003,10.846495943000036 L 36.70514019900003,10.845869888000038 L 36.705606688000046,10.844964712000035 L 36.70619338000006,10.844156078000026 L 36.70661221700004,10.843154898000023 L 36.70643420700003,10.841121059000045 L 36.706273735000025,10.839960136000059 L 36.706307577000075,10.838693056000068 L 36.70595091400003,10.835205913000038 L 36.70591875000008,10.833182416000056 L 36.705899299000066,10.83195881100005 L 36.704810993000024,10.831604602000027 L 36.70275934000006,10.830830379000076 L 36.70217354300007,10.830717158000027 L 36.70066078800005,10.830400559000054 L 36.73128720500006,10.80258612700004 L 36.798199510000074,10.781072178000045 L 36.835076419000075,10.765072505000035 L 36.85561378700004,10.733651881000071 L 36.87800098500003,10.713719394000066 L 36.936223486000074,10.724774289000038 L 36.937354017000075,10.725666658000023 L 36.93814714600006,10.726389380000057 L 36.93932478000005,10.727014774000054 L 36.93929603300006,10.72703658200004 L 36.940015654000035,10.727902306000033 L 36.94078186300004,10.729031410000061 L 36.94246108700003,10.731039469000052 L 36.942625185000054,10.731805854000072 L 36.94256954100007,10.732881686000042 L 36.942998189000036,10.733865060000028 L 36.94385969500007,10.735210030000076 L 36.94496222400005,10.736676172000045 L 36.94510287400004,10.737334780000026 L 36.94553347400006,10.738031178000028 L 36.94620202300007,10.73930312300007 L 36.94627214800005,10.739662321000026 L 36.94612139600008,10.740498371000058 L 36.94594645900003,10.741334261000077 L 36.94618505500006,10.741814150000039 L 36.94649167600005,10.74296412600006 L 36.94641629800003,10.743382151000048 L 36.94626845200003,10.743787739000027 L 36.94635361400003,10.744395208000071 L 36.94645302600003,10.745104318000074 L 36.946709019000025,10.746588778000046 L 36.94742611500004,10.747837129000061 L 36.948099858000035,10.748343809000062 L 36.948118710000074,10.749133149000045 L 36.94768049700008,10.749560735000045 L 36.94738730300003,10.75000123600006 L 36.94656182700004,10.750474090000068 L 36.94663082000005,10.751000689000023 L 36.94689312000003,10.751552483000069 L 36.94700757000004,10.752509864000046 L 36.94757860300007,10.753900745000067 L 36.948699489000035,10.75623992800007 L 36.949340824000046,10.75796609200006 L 36.94933617800007,10.758127670000022 L 36.94930920400003,10.759066002000054 L 36.94932595200004,10.760166232000074 L 36.94982913800004,10.76086311000006 L 36.950574980000056,10.761442014000068 L 36.95078811700006,10.762113060000047 L 36.95068750100006,10.76268637000004 L 36.95036808900005,10.76342564500004 L 36.95005212600006,10.763639907000027 L 36.94974326100004,10.763494885000057 L 36.94945223600007,10.763612539000064 L 36.94884454500004,10.764062918000036 L 36.948188483000024,10.76451297500006 L 36.94779893700007,10.764893047000044 L 36.94724204000005,10.764985024000055 L 36.94651536300006,10.76514762100004 L 36.94598313500006,10.76516801200006 L 36.94530466500004,10.765354842000022 L 36.94484175000008,10.765854001000037 L 36.944475735000026,10.766329886000051 L 36.94434848700007,10.767261749000056 L 36.944836818000056,10.767786113000057 L 36.945020801000055,10.76798367200007 L 36.945234252000034,10.768606892000037 L 36.945231060000026,10.76907772900006 L 36.94522598300006,10.769826530000046 L 36.94533701800003,10.771286116000056 L 36.94547532000007,10.77229148500004 L 36.94554341700007,10.772949614000026 L 36.94561273000005,10.773428386000035 L 36.94582456200004,10.774290750000034 L 36.94610878900005,10.775177510000049 L 36.945812724000064,10.776036507000072 L 36.946220150000045,10.77658926600003 L 36.946433444000036,10.77723640000005 L 36.94674153500006,10.778171150000048 L 36.94719441900003,10.779154690000041 L 36.94730975600004,10.779980542000033 L 36.94704046700008,10.780457068000032 L 36.94676906900003,10.781244482000034 L 36.946620222000035,10.781793553000057 L 36.94630272000006,10.782245844000045 L 36.94598489200007,10.782745961000046 L 36.94582590700003,10.783335977000036 L 36.94627913200003,10.783835615000044 L 36.947072251000066,10.784582259000047 L 36.94716623800008,10.784989446000054 L 36.94703670700005,10.786256112000046 L 36.94676319200005,10.78735441300006 L 36.94620170600007,10.788115985000047 L 36.94619829800007,10.788618189000033 L 36.94646061700007,10.789169988000026 L 36.94641956800007,10.789394432000051 L 36.94636013600007,10.78971937800003 L 36.94587429000006,10.790027055000053 L 36.94514771300004,10.790165724000076 L 36.944973857000036,10.790834205000067 L 36.94525776300003,10.791768795000053 L 36.94508390500005,10.792437276000044 L 36.94469236300006,10.793104309000057 L 36.94388606200005,10.794294726000032 L 36.94334825400006,10.79512819300004 L 36.94246799500007,10.796521393000035 L 36.941832290000036,10.797521614000061 L 36.94156199500003,10.798141617000056 L 36.94090274600006,10.799046014000055 L 36.94021734900008,10.800237221000032 L 36.93907531900004,10.80099490400005 L 36.938030033000075,10.801753226000073 L 36.937905260000036,10.80231440600005 L 36.93763266600007,10.80326920400006 L 36.93682679600005,10.804387848000033 L 36.93645924200007,10.805078940000044 L 36.93488973700005,10.806335313000034 L 36.93482966600004,10.806383399000026 L 36.93444004200006,10.806763440000054 L 36.93346908900003,10.807259170000066 L 36.93353813500005,10.807773811000061 L 36.93382610000003,10.808110552000073 L 36.93420460200008,10.809356681000054 L 36.93451495700003,10.809956641000042 L 36.93465730600008,10.810364153000023 L 36.93576914600004,10.810491163000052 L 36.93637581400003,10.810208232000036 L 36.937199031000034,10.810094154000069 L 36.937704534000034,10.81045626100007 L 36.93919718800004,10.811494587000027 L 36.93923579800003,10.811543478000033 L 36.939093005000075,10.811957664000033 L 36.93795501300008,10.815656954000076 L 36.937826388000076,10.816780118000054 L 36.93726955600005,10.816848144000062 L 36.93651872300006,10.816986618000044 L 36.93521105600007,10.81719311300003 L 36.933905682000045,10.817064801000072 L 36.93305743800005,10.817298276000031 L 36.93172607400004,10.817432850000046 L 36.931432776000065,10.817873318000068 L 36.93120425300003,10.819450196000048 L 36.93084854700004,10.821935001000043 L 36.930384358000026,10.82260151500003 L 36.930439877000026,10.822678482000072 L 36.931199079000066,10.82373099800003 L 36.93213712900007,10.824514534000059 L 36.93283484800003,10.825069262000056 L 36.933941332000074,10.825985457000058 L 36.93514409000005,10.826974040000039 L 36.936066639000046,10.82776096200007 L 36.93627445000004,10.827938220000021 L 36.93728337700003,10.828973331000043 L 36.93768756600008,10.83000439500006 L 36.93833742000004,10.830487049000055 L 36.93879351100003,10.83100427900007 L 36.939777777000074,10.832110966000073 L 36.93980260600006,10.832146660000035 L 36.940500357000076,10.832701377000035 L 36.941438869000024,10.833425108000029 L 36.94295525700005,10.834547299000064 L 36.943505756000036,10.835411929000031 L 36.943623769000055,10.835843194000063 L 36.944094680000035,10.837735656000063 L 36.94525109500006,10.83843691900006 L 36.945874668000044,10.83923028700002 L 36.946837241000026,10.839978083000062 L 36.94796825800006,10.840858535000052 L 36.94975546300003,10.841705744000024 L 36.94996721700005,10.841806124000072 L 36.95006618800005,10.841853040000046 L 36.94935438600004,10.843354979000026 L 36.94923033400005,10.843808548000027 L 36.94849677600007,10.844951606000052 L 36.94844187100006,10.845907861000057 L 36.94809903500004,10.84651542100005 L 36.94710196900007,10.847274070000026 L 36.94711653200005,10.848685180000075 L 36.94743321000004,10.849055431000068 L 36.947692560000064,10.84935865500006 L 36.94768997500006,10.849737480000044 L 36.94768880700008,10.849908686000049 L 36.94884217600003,10.851064317000066 L 36.950112844000046,10.852758828000049 L 36.952033045000064,10.85499575700004 L 36.95357254800007,10.856297442000027 L 36.95535244200005,10.857827916000076 L 36.95677101100006,10.859128785000053 L 36.95934807700007,10.860843905000024 L 36.96266663800003,10.86381949500003 L 36.96473540300008,10.865579044000071 L 36.966877097000065,10.86729123300006 L 36.96973029000003,10.86754925300005 L 36.96970994900005,10.867640115000029 L 36.96837295500006,10.868954045000066 L 36.968118435000065,10.869204173000071 L 36.967193010000074,10.870113622000076 L 36.966988954000044,10.870314152000049 L 36.96692320600005,10.870378765000055 L 36.966466033000074,10.870828041000038 L 36.96675888000004,10.871735401000024 L 36.96544107700004,10.87340077500005 z\" /></g></svg>"
      ],
      "text/plain": [
       "<shapely.geometry.polygon.Polygon at 0x28a27c94cd0>"
      ]
     },
     "execution_count": 45,
     "metadata": {},
     "output_type": "execute_result"
    }
   ],
   "source": [
    "gdf_woreda_shp[0]"
   ]
  },
  {
   "cell_type": "code",
   "execution_count": 92,
   "metadata": {},
   "outputs": [
    {
     "data": {
      "text/plain": [
       "array([[10.93441251, 36.78691049],\n",
       "       [10.77713938, 36.74052634]])"
      ]
     },
     "execution_count": 92,
     "metadata": {},
     "output_type": "execute_result"
    }
   ],
   "source": [
    "create_random_sp()"
   ]
  },
  {
   "cell_type": "code",
   "execution_count": 103,
   "metadata": {},
   "outputs": [
    {
     "data": {
      "text/plain": [
       "array([ True,  True])"
      ]
     },
     "execution_count": 103,
     "metadata": {},
     "output_type": "execute_result"
    }
   ],
   "source": [
    "vec = gpd.points_from_xy(chosenll[:, 1], chosenll[:, 0])\n"
   ]
  },
  {
   "cell_type": "code",
   "execution_count": 109,
   "metadata": {},
   "outputs": [
    {
     "data": {
      "text/plain": [
       "0      POLYGON ((42.79826 6.19605, 42.79808 6.19716, ...\n",
       "1      POLYGON ((40.03742 13.56128, 40.03662 13.56091...\n",
       "2      POLYGON ((37.39245 10.04636, 37.38730 10.04654...\n",
       "3      POLYGON ((42.13371 9.32294, 42.13364 9.32295, ...\n",
       "4      POLYGON ((37.43783 9.61581, 37.43800 9.61585, ...\n",
       "                             ...                        \n",
       "976    POLYGON ((37.53042 7.18994, 37.53009 7.19078, ...\n",
       "977    POLYGON ((37.19295 6.44607, 37.19248 6.44601, ...\n",
       "978    POLYGON ((38.93829 12.83392, 38.93804 12.83599...\n",
       "979    POLYGON ((36.49363 10.70226, 36.49455 10.70188...\n",
       "980    POLYGON ((39.09979 8.17049, 39.09723 8.17023, ...\n",
       "Name: geometry, Length: 981, dtype: geometry"
      ]
     },
     "execution_count": 109,
     "metadata": {},
     "output_type": "execute_result"
    }
   ],
   "source": [
    "gdf_woreda['geometry'] # check all woredas and return corect. "
   ]
  },
  {
   "cell_type": "code",
   "execution_count": 113,
   "metadata": {},
   "outputs": [
    {
     "data": {
      "text/plain": [
       "array([[10.83427142, 36.80880804],\n",
       "       [10.78217603, 36.92868157]])"
      ]
     },
     "execution_count": 113,
     "metadata": {},
     "output_type": "execute_result"
    }
   ],
   "source": [
    "chosenll"
   ]
  },
  {
   "cell_type": "code",
   "execution_count": null,
   "metadata": {},
   "outputs": [],
   "source": [
    "gdf_region = gpd.read_file('eth_shape_files/json//eth_admin1v2.json') # read in geojson\n",
    "gdf_region_shp = gdf_region.loc[gdf_region['ADM1_EN']==region]['geometry'].reset_index(drop=True)"
   ]
  },
  {
   "cell_type": "code",
   "execution_count": 114,
   "metadata": {},
   "outputs": [
    {
     "ename": "NameError",
     "evalue": "name 'gdf_region' is not defined",
     "output_type": "error",
     "traceback": [
      "\u001b[1;31m---------------------------------------------------------------------------\u001b[0m",
      "\u001b[1;31mNameError\u001b[0m                                 Traceback (most recent call last)",
      "\u001b[1;32m<ipython-input-114-6e703784fac6>\u001b[0m in \u001b[0;36m<module>\u001b[1;34m\u001b[0m\n\u001b[0;32m      1\u001b[0m \u001b[1;32mfor\u001b[0m \u001b[0mi\u001b[0m \u001b[1;32min\u001b[0m \u001b[0mchosenll\u001b[0m\u001b[1;33m:\u001b[0m\u001b[1;33m\u001b[0m\u001b[1;33m\u001b[0m\u001b[0m\n\u001b[1;32m----> 2\u001b[1;33m     \u001b[1;32mfor\u001b[0m \u001b[0mj\u001b[0m \u001b[1;32min\u001b[0m \u001b[0mgdf_region\u001b[0m\u001b[1;33m:\u001b[0m\u001b[1;33m\u001b[0m\u001b[1;33m\u001b[0m\u001b[0m\n\u001b[0m\u001b[0;32m      3\u001b[0m         \u001b[0mvec\u001b[0m\u001b[1;33m.\u001b[0m\u001b[0mwithin\u001b[0m\u001b[1;33m(\u001b[0m\u001b[0mgdf_region\u001b[0m\u001b[1;33m[\u001b[0m\u001b[1;34m'geometry'\u001b[0m\u001b[1;33m]\u001b[0m\u001b[1;33m)\u001b[0m\u001b[1;33m\u001b[0m\u001b[1;33m\u001b[0m\u001b[0m\n\u001b[0;32m      4\u001b[0m \u001b[1;33m\u001b[0m\u001b[0m\n\u001b[0;32m      5\u001b[0m \u001b[1;31m#     for j in gdf_woreda:\u001b[0m\u001b[1;33m\u001b[0m\u001b[1;33m\u001b[0m\u001b[1;33m\u001b[0m\u001b[0m\n",
      "\u001b[1;31mNameError\u001b[0m: name 'gdf_region' is not defined"
     ]
    }
   ],
   "source": [
    "for i in chosenll:\n",
    "    for j in gdf_region:\n",
    "        vec.within(gdf_region['geometry'])\n",
    "        \n",
    "#     for j in gdf_woreda:\n",
    "# for i in gdf_woreda:\n",
    "    \n",
    "\n",
    "# vec.within(gdf_woreda['geometry'])"
   ]
  },
  {
   "cell_type": "code",
   "execution_count": 99,
   "metadata": {},
   "outputs": [
    {
     "data": {
      "text/plain": [
       "True"
      ]
     },
     "execution_count": 99,
     "metadata": {},
     "output_type": "execute_result"
    }
   ],
   "source": [
    "check_woreda(chosenll)"
   ]
  },
  {
   "cell_type": "code",
   "execution_count": 87,
   "metadata": {},
   "outputs": [
    {
     "data": {
      "text/plain": [
       "array([10.83427142, 36.80880804])"
      ]
     },
     "execution_count": 87,
     "metadata": {},
     "output_type": "execute_result"
    }
   ],
   "source": []
  },
  {
   "cell_type": "code",
   "execution_count": 80,
   "metadata": {},
   "outputs": [
    {
     "data": {
      "text/plain": [
       "[array([10.83427142, 36.80880804]), array([10.78217603, 36.92868157])]"
      ]
     },
     "execution_count": 80,
     "metadata": {},
     "output_type": "execute_result"
    }
   ],
   "source": [
    "chosenll"
   ]
  },
  {
   "cell_type": "code",
   "execution_count": 77,
   "metadata": {},
   "outputs": [
    {
     "ename": "TypeError",
     "evalue": "len() of unsized object",
     "output_type": "error",
     "traceback": [
      "\u001b[1;31m---------------------------------------------------------------------------\u001b[0m",
      "\u001b[1;31mTypeError\u001b[0m                                 Traceback (most recent call last)",
      "\u001b[1;32m<ipython-input-77-176278f5ef3f>\u001b[0m in \u001b[0;36m<module>\u001b[1;34m\u001b[0m\n\u001b[0;32m      1\u001b[0m \u001b[0mpoints\u001b[0m \u001b[1;33m=\u001b[0m \u001b[1;33m[\u001b[0m\u001b[1;33m]\u001b[0m\u001b[1;33m\u001b[0m\u001b[1;33m\u001b[0m\u001b[0m\n\u001b[0;32m      2\u001b[0m \u001b[1;32mfor\u001b[0m \u001b[0mi\u001b[0m \u001b[1;32min\u001b[0m \u001b[0mchosenll\u001b[0m\u001b[1;33m:\u001b[0m\u001b[1;33m\u001b[0m\u001b[1;33m\u001b[0m\u001b[0m\n\u001b[1;32m----> 3\u001b[1;33m     \u001b[0mpoints\u001b[0m \u001b[1;33m+=\u001b[0m \u001b[0mgpd\u001b[0m\u001b[1;33m.\u001b[0m\u001b[0mpoints_from_xy\u001b[0m\u001b[1;33m(\u001b[0m\u001b[0mi\u001b[0m\u001b[1;33m[\u001b[0m\u001b[1;36m0\u001b[0m\u001b[1;33m]\u001b[0m\u001b[1;33m,\u001b[0m \u001b[0mi\u001b[0m\u001b[1;33m[\u001b[0m\u001b[1;36m1\u001b[0m\u001b[1;33m]\u001b[0m\u001b[1;33m)\u001b[0m\u001b[1;33m\u001b[0m\u001b[1;33m\u001b[0m\u001b[0m\n\u001b[0m",
      "\u001b[1;32mc:\\users\\darra\\appdata\\local\\programs\\python\\python38\\lib\\site-packages\\geopandas\\array.py\u001b[0m in \u001b[0;36mpoints_from_xy\u001b[1;34m(x, y, z, crs)\u001b[0m\n\u001b[0;32m    251\u001b[0m     \u001b[0moutput\u001b[0m \u001b[1;33m:\u001b[0m \u001b[0mGeometryArray\u001b[0m\u001b[1;33m\u001b[0m\u001b[1;33m\u001b[0m\u001b[0m\n\u001b[0;32m    252\u001b[0m     \"\"\"\n\u001b[1;32m--> 253\u001b[1;33m     \u001b[1;32mreturn\u001b[0m \u001b[0mGeometryArray\u001b[0m\u001b[1;33m(\u001b[0m\u001b[0mvectorized\u001b[0m\u001b[1;33m.\u001b[0m\u001b[0mpoints_from_xy\u001b[0m\u001b[1;33m(\u001b[0m\u001b[0mx\u001b[0m\u001b[1;33m,\u001b[0m \u001b[0my\u001b[0m\u001b[1;33m,\u001b[0m \u001b[0mz\u001b[0m\u001b[1;33m)\u001b[0m\u001b[1;33m,\u001b[0m \u001b[0mcrs\u001b[0m\u001b[1;33m=\u001b[0m\u001b[0mcrs\u001b[0m\u001b[1;33m)\u001b[0m\u001b[1;33m\u001b[0m\u001b[1;33m\u001b[0m\u001b[0m\n\u001b[0m\u001b[0;32m    254\u001b[0m \u001b[1;33m\u001b[0m\u001b[0m\n\u001b[0;32m    255\u001b[0m \u001b[1;33m\u001b[0m\u001b[0m\n",
      "\u001b[1;32mc:\\users\\darra\\appdata\\local\\programs\\python\\python38\\lib\\site-packages\\geopandas\\_vectorized.py\u001b[0m in \u001b[0;36mpoints_from_xy\u001b[1;34m(x, y, z)\u001b[0m\n\u001b[0;32m    243\u001b[0m         \u001b[1;32mreturn\u001b[0m \u001b[0mpygeos\u001b[0m\u001b[1;33m.\u001b[0m\u001b[0mpoints\u001b[0m\u001b[1;33m(\u001b[0m\u001b[0mx\u001b[0m\u001b[1;33m,\u001b[0m \u001b[0my\u001b[0m\u001b[1;33m,\u001b[0m \u001b[0mz\u001b[0m\u001b[1;33m)\u001b[0m\u001b[1;33m\u001b[0m\u001b[1;33m\u001b[0m\u001b[0m\n\u001b[0;32m    244\u001b[0m     \u001b[1;32melse\u001b[0m\u001b[1;33m:\u001b[0m\u001b[1;33m\u001b[0m\u001b[1;33m\u001b[0m\u001b[0m\n\u001b[1;32m--> 245\u001b[1;33m         \u001b[0mout\u001b[0m \u001b[1;33m=\u001b[0m \u001b[0m_points_from_xy\u001b[0m\u001b[1;33m(\u001b[0m\u001b[0mx\u001b[0m\u001b[1;33m,\u001b[0m \u001b[0my\u001b[0m\u001b[1;33m,\u001b[0m \u001b[0mz\u001b[0m\u001b[1;33m)\u001b[0m\u001b[1;33m\u001b[0m\u001b[1;33m\u001b[0m\u001b[0m\n\u001b[0m\u001b[0;32m    246\u001b[0m         \u001b[0maout\u001b[0m \u001b[1;33m=\u001b[0m \u001b[0mnp\u001b[0m\u001b[1;33m.\u001b[0m\u001b[0mempty\u001b[0m\u001b[1;33m(\u001b[0m\u001b[0mlen\u001b[0m\u001b[1;33m(\u001b[0m\u001b[0mx\u001b[0m\u001b[1;33m)\u001b[0m\u001b[1;33m,\u001b[0m \u001b[0mdtype\u001b[0m\u001b[1;33m=\u001b[0m\u001b[0mobject\u001b[0m\u001b[1;33m)\u001b[0m\u001b[1;33m\u001b[0m\u001b[1;33m\u001b[0m\u001b[0m\n\u001b[0;32m    247\u001b[0m         \u001b[0maout\u001b[0m\u001b[1;33m[\u001b[0m\u001b[1;33m:\u001b[0m\u001b[1;33m]\u001b[0m \u001b[1;33m=\u001b[0m \u001b[0mout\u001b[0m\u001b[1;33m\u001b[0m\u001b[1;33m\u001b[0m\u001b[0m\n",
      "\u001b[1;32mc:\\users\\darra\\appdata\\local\\programs\\python\\python38\\lib\\site-packages\\geopandas\\_vectorized.py\u001b[0m in \u001b[0;36m_points_from_xy\u001b[1;34m(x, y, z)\u001b[0m\n\u001b[0;32m    222\u001b[0m \u001b[1;32mdef\u001b[0m \u001b[0m_points_from_xy\u001b[0m\u001b[1;33m(\u001b[0m\u001b[0mx\u001b[0m\u001b[1;33m,\u001b[0m \u001b[0my\u001b[0m\u001b[1;33m,\u001b[0m \u001b[0mz\u001b[0m\u001b[1;33m=\u001b[0m\u001b[1;32mNone\u001b[0m\u001b[1;33m)\u001b[0m\u001b[1;33m:\u001b[0m\u001b[1;33m\u001b[0m\u001b[1;33m\u001b[0m\u001b[0m\n\u001b[0;32m    223\u001b[0m     \u001b[1;31m# helper method for shapely-based function\u001b[0m\u001b[1;33m\u001b[0m\u001b[1;33m\u001b[0m\u001b[1;33m\u001b[0m\u001b[0m\n\u001b[1;32m--> 224\u001b[1;33m     \u001b[1;32mif\u001b[0m \u001b[1;32mnot\u001b[0m \u001b[0mlen\u001b[0m\u001b[1;33m(\u001b[0m\u001b[0mx\u001b[0m\u001b[1;33m)\u001b[0m \u001b[1;33m==\u001b[0m \u001b[0mlen\u001b[0m\u001b[1;33m(\u001b[0m\u001b[0my\u001b[0m\u001b[1;33m)\u001b[0m\u001b[1;33m:\u001b[0m\u001b[1;33m\u001b[0m\u001b[1;33m\u001b[0m\u001b[0m\n\u001b[0m\u001b[0;32m    225\u001b[0m         \u001b[1;32mraise\u001b[0m \u001b[0mValueError\u001b[0m\u001b[1;33m(\u001b[0m\u001b[1;34m\"x and y arrays must be equal length.\"\u001b[0m\u001b[1;33m)\u001b[0m\u001b[1;33m\u001b[0m\u001b[1;33m\u001b[0m\u001b[0m\n\u001b[0;32m    226\u001b[0m     \u001b[1;32mif\u001b[0m \u001b[0mz\u001b[0m \u001b[1;32mis\u001b[0m \u001b[1;32mnot\u001b[0m \u001b[1;32mNone\u001b[0m\u001b[1;33m:\u001b[0m\u001b[1;33m\u001b[0m\u001b[1;33m\u001b[0m\u001b[0m\n",
      "\u001b[1;31mTypeError\u001b[0m: len() of unsized object"
     ]
    }
   ],
   "source": [
    "points = []\n",
    "for i in chosenll:\n",
    "    points += gpd.points_from_xy(i[0], i[1])"
   ]
  },
  {
   "cell_type": "code",
   "execution_count": 68,
   "metadata": {},
   "outputs": [
    {
     "data": {
      "text/plain": [
       "[array([10.83427142, 36.80880804]), array([10.78217603, 36.92868157])]"
      ]
     },
     "execution_count": 68,
     "metadata": {},
     "output_type": "execute_result"
    }
   ],
   "source": []
  },
  {
   "cell_type": "code",
   "execution_count": 60,
   "metadata": {},
   "outputs": [
    {
     "data": {
      "text/plain": [
       "array([10.83427142])"
      ]
     },
     "execution_count": 60,
     "metadata": {},
     "output_type": "execute_result"
    }
   ],
   "source": [
    "chosenll[:1:2]"
   ]
  },
  {
   "cell_type": "code",
   "execution_count": 47,
   "metadata": {},
   "outputs": [
    {
     "data": {
      "text/plain": [
       "[False]"
      ]
     },
     "execution_count": 47,
     "metadata": {},
     "output_type": "execute_result"
    }
   ],
   "source": [
    "dd = [gpd.points_from_xy(i[::2], i[1::2]) for i in chosen]\n",
    "[i.within(gdf_woreda_shp[0]) for i in dd]"
   ]
  },
  {
   "cell_type": "code",
   "execution_count": 65,
   "metadata": {},
   "outputs": [
    {
     "data": {
      "text/plain": [
       "[array([10.83427142, 36.80880804]), array([10.78217603, 36.92868157])]"
      ]
     },
     "execution_count": 65,
     "metadata": {},
     "output_type": "execute_result"
    }
   ],
   "source": []
  },
  {
   "cell_type": "code",
   "execution_count": null,
   "metadata": {},
   "outputs": [],
   "source": []
  },
  {
   "cell_type": "code",
   "execution_count": 48,
   "metadata": {},
   "outputs": [
    {
     "data": {
      "text/plain": [
       "3"
      ]
     },
     "execution_count": 48,
     "metadata": {},
     "output_type": "execute_result"
    }
   ],
   "source": [
    "i"
   ]
  },
  {
   "cell_type": "code",
   "execution_count": 36,
   "metadata": {},
   "outputs": [
    {
     "data": {
      "text/plain": [
       "array([10.83427142, 10.78217603])"
      ]
     },
     "execution_count": 36,
     "metadata": {},
     "output_type": "execute_result"
    }
   ],
   "source": [
    "def get_location(vec):\n",
    "    \n",
    "    \n",
    "    region\n",
    "    zone\n",
    "    woreda\n",
    "    \n",
    "    \n",
    "    \n",
    "    return "
   ]
  },
  {
   "cell_type": "code",
   "execution_count": null,
   "metadata": {},
   "outputs": [],
   "source": [
    "def check_woreda(vec):\n",
    "    # lat = y, x=lon\n",
    "    vec = gpd.points_from_xy(vec[:, 1], vec[:, 0])\n",
    "    return vec.within(gdf_woreda_shp[0]).all()\n",
    "            \n",
    "def check_region(vec):\n",
    "    # lat = y, x=lon\n",
    "    vec = gpd.points_from_xy(vec[:, 1], vec[:, 0])\n",
    "    return vec.within(gdf_region_shp[0]).all()"
   ]
  },
  {
   "cell_type": "code",
   "execution_count": null,
   "metadata": {},
   "outputs": [],
   "source": []
  },
  {
   "cell_type": "code",
   "execution_count": null,
   "metadata": {},
   "outputs": [],
   "source": [
    "# function to find region, zone and woreda of new school. "
   ]
  },
  {
   "cell_type": "code",
   "execution_count": 39,
   "metadata": {},
   "outputs": [
    {
     "data": {
      "text/html": [
       "<div>\n",
       "<style scoped>\n",
       "    .dataframe tbody tr th:only-of-type {\n",
       "        vertical-align: middle;\n",
       "    }\n",
       "\n",
       "    .dataframe tbody tr th {\n",
       "        vertical-align: top;\n",
       "    }\n",
       "\n",
       "    .dataframe thead th {\n",
       "        text-align: right;\n",
       "    }\n",
       "</style>\n",
       "<table border=\"1\" class=\"dataframe\">\n",
       "  <thead>\n",
       "    <tr style=\"text-align: right;\">\n",
       "      <th></th>\n",
       "      <th>region</th>\n",
       "      <th>zone</th>\n",
       "      <th>woreda</th>\n",
       "      <th>school_name</th>\n",
       "      <th>school_code</th>\n",
       "      <th>geometry</th>\n",
       "      <th>lat</th>\n",
       "      <th>lon</th>\n",
       "      <th>gr_offer</th>\n",
       "      <th>urban_rural</th>\n",
       "      <th>...</th>\n",
       "      <th>ADM3_PCODE</th>\n",
       "      <th>ADM0_EN</th>\n",
       "      <th>ADM1_EN</th>\n",
       "      <th>ADM2_EN</th>\n",
       "      <th>ADM3_EN</th>\n",
       "      <th>point</th>\n",
       "      <th>nearest_up_prim</th>\n",
       "      <th>nearest_sch_code</th>\n",
       "      <th>nearest_lwr_sec</th>\n",
       "      <th>nearest_up_sec</th>\n",
       "    </tr>\n",
       "  </thead>\n",
       "  <tbody>\n",
       "    <tr>\n",
       "      <th>0</th>\n",
       "      <td>Amhara</td>\n",
       "      <td>Agew awi</td>\n",
       "      <td>Ankesha</td>\n",
       "      <td>Buya</td>\n",
       "      <td>S0309030802</td>\n",
       "      <td>POINT (36.9441 10.7806)</td>\n",
       "      <td>10.7806</td>\n",
       "      <td>36.9441</td>\n",
       "      <td>G.1-8</td>\n",
       "      <td>1</td>\n",
       "      <td>...</td>\n",
       "      <td>ET030908</td>\n",
       "      <td>Ethiopia</td>\n",
       "      <td>Amhara</td>\n",
       "      <td>Awi</td>\n",
       "      <td>Ayehu Guwagusa</td>\n",
       "      <td>[10.7806, 36.9441]</td>\n",
       "      <td>NaN</td>\n",
       "      <td>S0309071703</td>\n",
       "      <td>6.420054</td>\n",
       "      <td>NaN</td>\n",
       "    </tr>\n",
       "    <tr>\n",
       "      <th>1</th>\n",
       "      <td>Amhara</td>\n",
       "      <td>Agew awi</td>\n",
       "      <td>Ankesha</td>\n",
       "      <td>Bosena Goashita</td>\n",
       "      <td>S0309031322</td>\n",
       "      <td>POINT (36.9308 10.794)</td>\n",
       "      <td>10.7940</td>\n",
       "      <td>36.9308</td>\n",
       "      <td>G.1-8</td>\n",
       "      <td>1</td>\n",
       "      <td>...</td>\n",
       "      <td>ET030908</td>\n",
       "      <td>Ethiopia</td>\n",
       "      <td>Amhara</td>\n",
       "      <td>Awi</td>\n",
       "      <td>Ayehu Guwagusa</td>\n",
       "      <td>[10.794, 36.9308]</td>\n",
       "      <td>NaN</td>\n",
       "      <td>S0309071703</td>\n",
       "      <td>7.282595</td>\n",
       "      <td>NaN</td>\n",
       "    </tr>\n",
       "  </tbody>\n",
       "</table>\n",
       "<p>2 rows × 38 columns</p>\n",
       "</div>"
      ],
      "text/plain": [
       "   region      zone   woreda      school_name  school_code  \\\n",
       "0  Amhara  Agew awi  Ankesha             Buya  S0309030802   \n",
       "1  Amhara  Agew awi  Ankesha  Bosena Goashita  S0309031322   \n",
       "\n",
       "                  geometry      lat      lon gr_offer  urban_rural  ...  \\\n",
       "0  POINT (36.9441 10.7806)  10.7806  36.9441    G.1-8            1  ...   \n",
       "1   POINT (36.9308 10.794)  10.7940  36.9308    G.1-8            1  ...   \n",
       "\n",
       "   ADM3_PCODE   ADM0_EN  ADM1_EN  ADM2_EN         ADM3_EN               point  \\\n",
       "0    ET030908  Ethiopia   Amhara      Awi  Ayehu Guwagusa  [10.7806, 36.9441]   \n",
       "1    ET030908  Ethiopia   Amhara      Awi  Ayehu Guwagusa   [10.794, 36.9308]   \n",
       "\n",
       "   nearest_up_prim  nearest_sch_code  nearest_lwr_sec  nearest_up_sec  \n",
       "0              NaN       S0309071703         6.420054             NaN  \n",
       "1              NaN       S0309071703         7.282595             NaN  \n",
       "\n",
       "[2 rows x 38 columns]"
      ]
     },
     "execution_count": 39,
     "metadata": {},
     "output_type": "execute_result"
    }
   ],
   "source": []
  },
  {
   "cell_type": "code",
   "execution_count": null,
   "metadata": {},
   "outputs": [],
   "source": []
  }
 ],
 "metadata": {
  "kernelspec": {
   "display_name": "Python 3",
   "language": "python",
   "name": "python3"
  },
  "language_info": {
   "codemirror_mode": {
    "name": "ipython",
    "version": 3
   },
   "file_extension": ".py",
   "mimetype": "text/x-python",
   "name": "python",
   "nbconvert_exporter": "python",
   "pygments_lexer": "ipython3",
   "version": "3.8.5"
  }
 },
 "nbformat": 4,
 "nbformat_minor": 4
}
