{
 "cells": [
  {
   "cell_type": "code",
   "execution_count": 1,
   "metadata": {},
   "outputs": [],
   "source": [
    "import pandas as pd\n",
    "import numpy as np\n",
    "from haversine import haversine, haversine_vector, Unit\n",
    "import geopandas as gpd\n",
    "import matplotlib.pyplot as plt\n",
    "import cma"
   ]
  },
  {
   "cell_type": "markdown",
   "metadata": {},
   "source": [
    "### 1. Data Preparation\n",
    "\n",
    "In this section, the cleaned dataset in csv format is read into pandas. The geojson shape files are also read into geopandas. A specific region is selected and multiple arrays are created in numpy to benefit from vectorisation. The datasets are split into primary and secondary enrollment and location (lat/lon) data - i.e. 4 arrays in total. \n"
   ]
  },
  {
   "cell_type": "code",
   "execution_count": 457,
   "metadata": {},
   "outputs": [],
   "source": [
    "# read in the prepared dataset. Evaluate point data to make it readible by geopandas\n",
    "df = pd.read_csv('data/test_dataset2.csv', converters={'point': pd.eval})"
   ]
  },
  {
   "cell_type": "code",
   "execution_count": 458,
   "metadata": {},
   "outputs": [],
   "source": [
    "# Filter to only one region, and read in geojson file.\n",
    "region = 'Amhara' # Test Amhara region\n",
    "woreda = 'ET030908'\n",
    "gdf_region = gpd.read_file('eth_shape_files/json//eth_admin1v2.json') # read in geojson\n",
    "gdf_woreda = gpd.read_file('eth_shape_files/json/eth_admin3v2.json')\n",
    "# limit geojson to only selected region\n",
    "gdf_region_shp = gdf_region.loc[gdf_region['ADM1_EN']==region]['geometry'].reset_index(drop=True)\n",
    "gdf_woreda_shp = gdf_woreda.loc[gdf_woreda['ADM3_PCODE']==woreda]['geometry'].reset_index(drop=True)\n",
    "# limit clean dataset to only selected region\n",
    "df = df.loc[df['region'] == region]"
   ]
  },
  {
   "cell_type": "code",
   "execution_count": 459,
   "metadata": {},
   "outputs": [
    {
     "data": {
      "text/plain": [
       "G.1-8    2\n",
       "Name: gr_offer, dtype: int64"
      ]
     },
     "execution_count": 459,
     "metadata": {},
     "output_type": "execute_result"
    }
   ],
   "source": [
    "df['gr_offer'].value_counts()"
   ]
  },
  {
   "cell_type": "code",
   "execution_count": 460,
   "metadata": {},
   "outputs": [],
   "source": [
    "# Create subset arrays required as input for enrollment function.\n",
    "# 1. Primary school enrollment data\n",
    "# 2. Primary school location data: lat lon point data. \n",
    "# 3. Secondary schoool location data: lat lon point data. \n",
    "# 4. Secondary school enrollment data. Potentially required for calibration function.\n",
    "\n",
    "df_prim = df.loc[ (df['gr_offer'] == 'G.1-8') | (df['gr_offer'] == 'G.5-8')]\n",
    "# df_sec = df.loc[ (df['gr_offer'] == 'G. 9-10') | (df['gr_offer'] == 'G. 9-12')]\n",
    "df_prim_enroll = df_prim['grade5_8'].reset_index(drop=True).to_numpy()\n",
    "df_prim_loc = df_prim['point'].reset_index(drop=True).to_numpy()\n",
    "# df_sec_loc = df_sec['point'].reset_index(drop=True).to_numpy()\n",
    "# df_sec_enroll = df_sec['grade9_10'].reset_index(drop=True).to_numpy()\n",
    "df_prim_loc = np.array([np.array(i) for i in df_prim_loc])\n",
    "# df_sec_loc = np.array([np.array(i) for i in df_sec_loc])"
   ]
  },
  {
   "cell_type": "markdown",
   "metadata": {},
   "source": [
    "### 2. Create helper functions\n",
    "\n",
    "##### 1. Shape Function. \n",
    "This function estimates the secondary level enrollment based on how close the primary school is to the secondary school. If the school is within 2km, an estimated 30 minutes for children, the full enrollment is possible. Therefore full enrollment is returned. If enrollment is greater than 5km, then zero enrollment is expected as it is a walk of 75 minutes each way. The school is too far and low enrollment is expected. Between 2km-5km, a minmax scaling is used to aassume a linear dropoff in enrollment.\n",
    "\n",
    "Assumption here is : \n",
    "1km represents approximately 15 minutes’ walk for children, 2km: 30mins, 3km: 45 mins etc. (SRJIE ARTICLE)"
   ]
  },
  {
   "cell_type": "code",
   "execution_count": 461,
   "metadata": {},
   "outputs": [],
   "source": [
    "def shape(distance, enrollment):\n",
    "    min_walk = 2 # distance not a factor issuing enrollment until 2km\n",
    "    max_walk = 5 # distance greater than 5km assumes zero enrollment\n",
    "    return np.rint(np.where(distance<min_walk, enrollment,\n",
    "             np.where(distance>max_walk, 0,\n",
    "                     enrollment*(1-(distance-min_walk)/(max_walk-min_walk)))\n",
    "            ))"
   ]
  },
  {
   "cell_type": "markdown",
   "metadata": {},
   "source": [
    "##### 2. Check Region Function. \n",
    "\n",
    "A function that takes as input a vector of [lat,lon] points and checks to see if it's within the region being proposed. This is necessary because CMA will propose solutions within a box boundary and some of the locations will not be within the region. Since the solutions proposed are at a regional basis, this is a necessary operation.\n"
   ]
  },
  {
   "cell_type": "code",
   "execution_count": 462,
   "metadata": {},
   "outputs": [],
   "source": [
    "def check_woreda(vec):\n",
    "    # lat = y, x=lon\n",
    "    vec = gpd.points_from_xy(vec[:, 1], vec[:, 0])\n",
    "    return vec.within(gdf_woreda_shp[0]).all()\n",
    "            \n",
    "def check_region(vec):\n",
    "    # lat = y, x=lon\n",
    "    vec = gpd.points_from_xy(vec[:, 1], vec[:, 0])\n",
    "    return vec.within(gdf_region_shp[0]).all()"
   ]
  },
  {
   "cell_type": "markdown",
   "metadata": {},
   "source": [
    "##### 3. Expected Enrollment Function\n",
    "\n",
    "This function estimates the enrollment by calculating the distance of a proposed solution of new secondary schools to primary schools. If the primary school is within an adequate distance, determined by the shape function, then the enrollment is added to the expected enrollment. \n"
   ]
  },
  {
   "cell_type": "code",
   "execution_count": 463,
   "metadata": {},
   "outputs": [],
   "source": [
    "# cross check lat lon. "
   ]
  },
  {
   "cell_type": "code",
   "execution_count": 578,
   "metadata": {},
   "outputs": [
    {
     "data": {
      "text/plain": [
       "array([1.31660356, 0.76441914])"
      ]
     },
     "execution_count": 578,
     "metadata": {},
     "output_type": "execute_result"
    }
   ],
   "source": [
    "distance"
   ]
  },
  {
   "cell_type": "code",
   "execution_count": 584,
   "metadata": {},
   "outputs": [
    {
     "data": {
      "text/plain": [
       "33976.26264865565"
      ]
     },
     "execution_count": 584,
     "metadata": {},
     "output_type": "execute_result"
    }
   ],
   "source": []
  },
  {
   "cell_type": "code",
   "execution_count": 593,
   "metadata": {},
   "outputs": [
    {
     "data": {
      "text/plain": [
       "33976.26264865565"
      ]
     },
     "execution_count": 593,
     "metadata": {},
     "output_type": "execute_result"
    }
   ],
   "source": []
  },
  {
   "cell_type": "code",
   "execution_count": 649,
   "metadata": {},
   "outputs": [],
   "source": [
    "def expected_enrollment(prim_loc, prim_enroll, x):\n",
    "    if check_woreda(x):\n",
    "        # Check if all new locations are within the region, if not penalise with 0 enrollment\n",
    "    #     x = np.append(sec_loc, x) # add proposed locations to current list of secondary schools\n",
    "        distance = haversine_vector(prim_loc,x, Unit.KILOMETERS)\n",
    "        enrollment2 = prim_enroll*.79901 # by enrollment proportion\n",
    "        enrollment3 = shape(distance,enrollment2)\n",
    "        return np.sum(enrollment3)\n",
    "    else:\n",
    "        return 0 # penalising all falling outside regional parameters."
   ]
  },
  {
   "cell_type": "markdown",
   "metadata": {},
   "source": [
    "#### 4. Objective Function F(x)"
   ]
  },
  {
   "cell_type": "code",
   "execution_count": 650,
   "metadata": {},
   "outputs": [],
   "source": [
    "# The Objective Function\n",
    "proposed_schools = 2\n",
    "def f(x):\n",
    "    \"\"\" The objective function which takes as input a 1d array.Every two elements \n",
    "    represent the lat/lon of a point in a given area. A locations variable is created\n",
    "    which splits the points into pairs. The expected_enrollment function is then run \n",
    "    on this (5,2) list to return the total expected enrollment for the five locations.\n",
    "    \"\"\"\n",
    "    locations = np.array(np.array_split(x, proposed_schools)) # change flatten split.\n",
    "    test_case = expected_enrollment(df_prim_loc, df_prim_enroll, locations)\n",
    "    return test_case*-1 # inverse of f(x) is needed as looking to maximise\n"
   ]
  },
  {
   "cell_type": "markdown",
   "metadata": {},
   "source": [
    "### 3. Prepare CMA"
   ]
  },
  {
   "cell_type": "markdown",
   "metadata": {},
   "source": [
    "#### 3.1. Create box boundaries"
   ]
  },
  {
   "cell_type": "code",
   "execution_count": 651,
   "metadata": {},
   "outputs": [
    {
     "data": {
      "text/html": [
       "<div>\n",
       "<style scoped>\n",
       "    .dataframe tbody tr th:only-of-type {\n",
       "        vertical-align: middle;\n",
       "    }\n",
       "\n",
       "    .dataframe tbody tr th {\n",
       "        vertical-align: top;\n",
       "    }\n",
       "\n",
       "    .dataframe thead th {\n",
       "        text-align: right;\n",
       "    }\n",
       "</style>\n",
       "<table border=\"1\" class=\"dataframe\">\n",
       "  <thead>\n",
       "    <tr style=\"text-align: right;\">\n",
       "      <th></th>\n",
       "      <th>minx</th>\n",
       "      <th>miny</th>\n",
       "      <th>maxx</th>\n",
       "      <th>maxy</th>\n",
       "    </tr>\n",
       "  </thead>\n",
       "  <tbody>\n",
       "    <tr>\n",
       "      <th>0</th>\n",
       "      <td>36.689328</td>\n",
       "      <td>10.713719</td>\n",
       "      <td>36.96973</td>\n",
       "      <td>10.964773</td>\n",
       "    </tr>\n",
       "  </tbody>\n",
       "</table>\n",
       "</div>"
      ],
      "text/plain": [
       "        minx       miny      maxx       maxy\n",
       "0  36.689328  10.713719  36.96973  10.964773"
      ]
     },
     "execution_count": 651,
     "metadata": {},
     "output_type": "execute_result"
    }
   ],
   "source": [
    "bounds = gdf_woreda_shp.bounds\n",
    "bounds"
   ]
  },
  {
   "cell_type": "code",
   "execution_count": null,
   "metadata": {},
   "outputs": [],
   "source": []
  },
  {
   "cell_type": "code",
   "execution_count": 652,
   "metadata": {},
   "outputs": [
    {
     "data": {
      "text/plain": [
       "array([[10.71371939, 36.68932805],\n",
       "       [10.96477258, 36.96973029]])"
      ]
     },
     "execution_count": 652,
     "metadata": {},
     "output_type": "execute_result"
    }
   ],
   "source": [
    "# Establish boundaries for CMA\n",
    "# Latitude is the Y axis, longitude is the X axis.\n",
    "bounds = gdf_woreda_shp.bounds\n",
    "# bounds = gdf_region_shp.bounds\n",
    "lat_bounds = bounds[['miny','maxy']].to_numpy()[0]\n",
    "lon_bounds = bounds[['minx','maxx']].to_numpy()[0]\n",
    "bounds = np.array([[lat_bounds[0], lon_bounds[0]], [lat_bounds[1], lon_bounds[1]]])\n",
    "bounds # array - [[lower lat bounds, lower lon bounds],[upper lat bounds, upper lon bounds]]"
   ]
  },
  {
   "cell_type": "code",
   "execution_count": 653,
   "metadata": {},
   "outputs": [
    {
     "data": {
      "text/plain": [
       "[array([10.71371939, 36.68932805, 10.71371939, 36.68932805]),\n",
       " array([10.96477258, 36.96973029, 10.96477258, 36.96973029])]"
      ]
     },
     "execution_count": 653,
     "metadata": {},
     "output_type": "execute_result"
    }
   ],
   "source": [
    "# CMA expects a list of size 2 for bounds\n",
    "x1y1 = np.repeat([bounds[0,:]],proposed_schools, axis=0).flatten()\n",
    "x2y2 = np.repeat([bounds[1,:]],proposed_schools, axis=0).flatten()\n",
    "boundsxy = [x1y1,x2y2]\n",
    "boundsxy"
   ]
  },
  {
   "cell_type": "markdown",
   "metadata": {},
   "source": [
    "#### 3.2. Create starting point for CMA"
   ]
  },
  {
   "cell_type": "code",
   "execution_count": 654,
   "metadata": {},
   "outputs": [],
   "source": [
    "# Create starting points within regional box boundaries.\n",
    "\n",
    "def create_random_sp():\n",
    "    sp1 = np.random.uniform(low=lat_bounds[0], high=lat_bounds[1], size=2)\n",
    "    sp2 = np.random.uniform(low=lon_bounds[0], high=lon_bounds[1], size=2)\n",
    "    sp = np.vstack((sp1, sp2)).T\n",
    "    return sp"
   ]
  },
  {
   "cell_type": "code",
   "execution_count": 655,
   "metadata": {},
   "outputs": [],
   "source": [
    "# create a random starting point within the target region.\n",
    "def get_random_sp():\n",
    "    sp = create_random_sp()\n",
    "    for i in range(0,10000):\n",
    "        if check_woreda(sp) == True:\n",
    "            sp = sp.flatten()\n",
    "            return sp\n",
    "            break\n",
    "        else:\n",
    "            sp = create_random_sp()"
   ]
  },
  {
   "cell_type": "code",
   "execution_count": 656,
   "metadata": {},
   "outputs": [
    {
     "data": {
      "text/plain": [
       "array([10.87073529, 36.80804115, 10.75442487, 36.90650876])"
      ]
     },
     "execution_count": 656,
     "metadata": {},
     "output_type": "execute_result"
    }
   ],
   "source": [
    "# it is latitude then longitude.\n",
    "# haversine is also latitude then longitude.\n",
    "get_random_sp()"
   ]
  },
  {
   "cell_type": "code",
   "execution_count": 657,
   "metadata": {},
   "outputs": [
    {
     "data": {
      "text/plain": [
       "[array([10.71371939, 36.68932805, 10.71371939, 36.68932805]),\n",
       " array([10.96477258, 36.96973029, 10.96477258, 36.96973029])]"
      ]
     },
     "execution_count": 657,
     "metadata": {},
     "output_type": "execute_result"
    }
   ],
   "source": [
    "boundsxy"
   ]
  },
  {
   "cell_type": "markdown",
   "metadata": {},
   "source": [
    "#### 3.3. Run CMA"
   ]
  },
  {
   "cell_type": "code",
   "execution_count": 658,
   "metadata": {},
   "outputs": [
    {
     "name": "stdout",
     "output_type": "stream",
     "text": [
      "(4_w,8)-aCMA-ES (mu_w=2.6,w_1=52%) in dimension 4 (seed=1234, Fri Jun 24 16:11:10 2022)\n"
     ]
    },
    {
     "ename": "TypeError",
     "evalue": "only size-1 arrays can be converted to Python scalars",
     "output_type": "error",
     "traceback": [
      "\u001b[1;31m---------------------------------------------------------------------------\u001b[0m",
      "\u001b[1;31mTypeError\u001b[0m                                 Traceback (most recent call last)",
      "\u001b[1;32m<ipython-input-658-aa1d3aa0613e>\u001b[0m in \u001b[0;36m<module>\u001b[1;34m\u001b[0m\n\u001b[0;32m      4\u001b[0m es = cma.CMAEvolutionStrategy(get_random_sp(), sigma0=0.2,\n\u001b[0;32m      5\u001b[0m                           inopts={'bounds': boundsxy,'seed':1234})\n\u001b[1;32m----> 6\u001b[1;33m \u001b[0mes\u001b[0m\u001b[1;33m.\u001b[0m\u001b[0moptimize\u001b[0m\u001b[1;33m(\u001b[0m\u001b[0mf\u001b[0m\u001b[1;33m,\u001b[0m \u001b[0miterations\u001b[0m\u001b[1;33m=\u001b[0m\u001b[0mmin_its\u001b[0m \u001b[1;33m/\u001b[0m \u001b[0mes\u001b[0m\u001b[1;33m.\u001b[0m\u001b[0mpopsize\u001b[0m\u001b[1;33m,\u001b[0m \u001b[0mmin_iterations\u001b[0m\u001b[1;33m=\u001b[0m\u001b[1;36m1000\u001b[0m\u001b[1;33m)\u001b[0m\u001b[1;33m\u001b[0m\u001b[1;33m\u001b[0m\u001b[0m\n\u001b[0m",
      "\u001b[1;32mc:\\users\\darra\\appdata\\local\\programs\\python\\python38\\lib\\site-packages\\cma\\interfaces.py\u001b[0m in \u001b[0;36moptimize\u001b[1;34m(self, objective_fct, maxfun, iterations, min_iterations, args, verb_disp, callback, n_jobs, **kwargs)\u001b[0m\n\u001b[0;32m    206\u001b[0m                 \u001b[0mX\u001b[0m \u001b[1;33m=\u001b[0m \u001b[0mself\u001b[0m\u001b[1;33m.\u001b[0m\u001b[0mask\u001b[0m\u001b[1;33m(\u001b[0m\u001b[1;33m)\u001b[0m  \u001b[1;31m# deliver candidate solutions\u001b[0m\u001b[1;33m\u001b[0m\u001b[1;33m\u001b[0m\u001b[0m\n\u001b[0;32m    207\u001b[0m                 \u001b[1;31m# fitvals = [objective_fct(x, *args) for x in X]\u001b[0m\u001b[1;33m\u001b[0m\u001b[1;33m\u001b[0m\u001b[1;33m\u001b[0m\u001b[0m\n\u001b[1;32m--> 208\u001b[1;33m                 \u001b[0mfitvals\u001b[0m \u001b[1;33m=\u001b[0m \u001b[0meval_all\u001b[0m\u001b[1;33m(\u001b[0m\u001b[0mX\u001b[0m\u001b[1;33m,\u001b[0m \u001b[0margs\u001b[0m\u001b[1;33m=\u001b[0m\u001b[0margs\u001b[0m\u001b[1;33m)\u001b[0m\u001b[1;33m\u001b[0m\u001b[1;33m\u001b[0m\u001b[0m\n\u001b[0m\u001b[0;32m    209\u001b[0m                 \u001b[0mcevals\u001b[0m \u001b[1;33m+=\u001b[0m \u001b[0mlen\u001b[0m\u001b[1;33m(\u001b[0m\u001b[0mfitvals\u001b[0m\u001b[1;33m)\u001b[0m\u001b[1;33m\u001b[0m\u001b[1;33m\u001b[0m\u001b[0m\n\u001b[0;32m    210\u001b[0m                 \u001b[0mself\u001b[0m\u001b[1;33m.\u001b[0m\u001b[0mtell\u001b[0m\u001b[1;33m(\u001b[0m\u001b[0mX\u001b[0m\u001b[1;33m,\u001b[0m \u001b[0mfitvals\u001b[0m\u001b[1;33m)\u001b[0m  \u001b[1;31m# all the work is done here\u001b[0m\u001b[1;33m\u001b[0m\u001b[1;33m\u001b[0m\u001b[0m\n",
      "\u001b[1;32mc:\\users\\darra\\appdata\\local\\programs\\python\\python38\\lib\\site-packages\\cma\\optimization_tools.py\u001b[0m in \u001b[0;36m__call__\u001b[1;34m(self, solutions, fitness_function, args, timeout)\u001b[0m\n\u001b[0;32m    280\u001b[0m                              \" passed in `__init__` or `__call__`\")\n\u001b[0;32m    281\u001b[0m         \u001b[1;32mif\u001b[0m \u001b[1;32mnot\u001b[0m \u001b[0mself\u001b[0m\u001b[1;33m.\u001b[0m\u001b[0mpool\u001b[0m\u001b[1;33m:\u001b[0m\u001b[1;33m\u001b[0m\u001b[1;33m\u001b[0m\u001b[0m\n\u001b[1;32m--> 282\u001b[1;33m             \u001b[1;32mreturn\u001b[0m \u001b[1;33m[\u001b[0m\u001b[0mfitness_function\u001b[0m\u001b[1;33m(\u001b[0m\u001b[0mx\u001b[0m\u001b[1;33m,\u001b[0m \u001b[1;33m*\u001b[0m\u001b[0margs\u001b[0m\u001b[1;33m)\u001b[0m \u001b[1;32mfor\u001b[0m \u001b[0mx\u001b[0m \u001b[1;32min\u001b[0m \u001b[0msolutions\u001b[0m\u001b[1;33m]\u001b[0m\u001b[1;33m\u001b[0m\u001b[1;33m\u001b[0m\u001b[0m\n\u001b[0m\u001b[0;32m    283\u001b[0m         warning_str = (\"`fitness_function` must be a function, not a\"\n\u001b[0;32m    284\u001b[0m                        \u001b[1;34m\" `lambda` or an instancemethod, in order to work with\"\u001b[0m\u001b[1;33m\u001b[0m\u001b[1;33m\u001b[0m\u001b[0m\n",
      "\u001b[1;32mc:\\users\\darra\\appdata\\local\\programs\\python\\python38\\lib\\site-packages\\cma\\optimization_tools.py\u001b[0m in \u001b[0;36m<listcomp>\u001b[1;34m(.0)\u001b[0m\n\u001b[0;32m    280\u001b[0m                              \" passed in `__init__` or `__call__`\")\n\u001b[0;32m    281\u001b[0m         \u001b[1;32mif\u001b[0m \u001b[1;32mnot\u001b[0m \u001b[0mself\u001b[0m\u001b[1;33m.\u001b[0m\u001b[0mpool\u001b[0m\u001b[1;33m:\u001b[0m\u001b[1;33m\u001b[0m\u001b[1;33m\u001b[0m\u001b[0m\n\u001b[1;32m--> 282\u001b[1;33m             \u001b[1;32mreturn\u001b[0m \u001b[1;33m[\u001b[0m\u001b[0mfitness_function\u001b[0m\u001b[1;33m(\u001b[0m\u001b[0mx\u001b[0m\u001b[1;33m,\u001b[0m \u001b[1;33m*\u001b[0m\u001b[0margs\u001b[0m\u001b[1;33m)\u001b[0m \u001b[1;32mfor\u001b[0m \u001b[0mx\u001b[0m \u001b[1;32min\u001b[0m \u001b[0msolutions\u001b[0m\u001b[1;33m]\u001b[0m\u001b[1;33m\u001b[0m\u001b[1;33m\u001b[0m\u001b[0m\n\u001b[0m\u001b[0;32m    283\u001b[0m         warning_str = (\"`fitness_function` must be a function, not a\"\n\u001b[0;32m    284\u001b[0m                        \u001b[1;34m\" `lambda` or an instancemethod, in order to work with\"\u001b[0m\u001b[1;33m\u001b[0m\u001b[1;33m\u001b[0m\u001b[0m\n",
      "\u001b[1;32m<ipython-input-650-0c9528a2a892>\u001b[0m in \u001b[0;36mf\u001b[1;34m(x)\u001b[0m\n\u001b[0;32m      8\u001b[0m     \"\"\"\n\u001b[0;32m      9\u001b[0m     \u001b[0mlocations\u001b[0m \u001b[1;33m=\u001b[0m \u001b[0mnp\u001b[0m\u001b[1;33m.\u001b[0m\u001b[0marray\u001b[0m\u001b[1;33m(\u001b[0m\u001b[0mnp\u001b[0m\u001b[1;33m.\u001b[0m\u001b[0marray_split\u001b[0m\u001b[1;33m(\u001b[0m\u001b[0mx\u001b[0m\u001b[1;33m,\u001b[0m \u001b[0mproposed_schools\u001b[0m\u001b[1;33m)\u001b[0m\u001b[1;33m)\u001b[0m\u001b[1;33m\u001b[0m\u001b[1;33m\u001b[0m\u001b[0m\n\u001b[1;32m---> 10\u001b[1;33m     \u001b[0mtest_case\u001b[0m \u001b[1;33m=\u001b[0m \u001b[0mexpected_enrollment\u001b[0m\u001b[1;33m(\u001b[0m\u001b[0mdf_prim_loc\u001b[0m\u001b[1;33m,\u001b[0m \u001b[0mdf_prim_enroll\u001b[0m\u001b[1;33m,\u001b[0m \u001b[0mlocations\u001b[0m\u001b[1;33m)\u001b[0m\u001b[1;33m\u001b[0m\u001b[1;33m\u001b[0m\u001b[0m\n\u001b[0m\u001b[0;32m     11\u001b[0m     \u001b[1;32mreturn\u001b[0m \u001b[0mtest_case\u001b[0m\u001b[1;33m*\u001b[0m\u001b[1;33m-\u001b[0m\u001b[1;36m1\u001b[0m \u001b[1;31m# inverse of f(x) is needed as looking to maximise\u001b[0m\u001b[1;33m\u001b[0m\u001b[1;33m\u001b[0m\u001b[0m\n",
      "\u001b[1;32m<ipython-input-649-0de7ad98086b>\u001b[0m in \u001b[0;36mexpected_enrollment\u001b[1;34m(prim_loc, prim_enroll, x)\u001b[0m\n\u001b[0;32m      5\u001b[0m         \u001b[0mdistance\u001b[0m \u001b[1;33m=\u001b[0m \u001b[0mhaversine_vector\u001b[0m\u001b[1;33m(\u001b[0m\u001b[0mprim_loc\u001b[0m\u001b[1;33m,\u001b[0m\u001b[0mx\u001b[0m\u001b[1;33m,\u001b[0m \u001b[0mUnit\u001b[0m\u001b[1;33m.\u001b[0m\u001b[0mKILOMETERS\u001b[0m\u001b[1;33m)\u001b[0m\u001b[1;33m\u001b[0m\u001b[1;33m\u001b[0m\u001b[0m\n\u001b[0;32m      6\u001b[0m         \u001b[0menrollment2\u001b[0m \u001b[1;33m=\u001b[0m \u001b[0mprim_enroll\u001b[0m\u001b[1;33m*\u001b[0m\u001b[1;36m.79901\u001b[0m \u001b[1;31m# by enrollment proportion\u001b[0m\u001b[1;33m\u001b[0m\u001b[1;33m\u001b[0m\u001b[0m\n\u001b[1;32m----> 7\u001b[1;33m         \u001b[0menrollment3\u001b[0m \u001b[1;33m=\u001b[0m \u001b[0mint\u001b[0m\u001b[1;33m(\u001b[0m\u001b[0mshape\u001b[0m\u001b[1;33m(\u001b[0m\u001b[0mdistance\u001b[0m\u001b[1;33m,\u001b[0m\u001b[0menrollment2\u001b[0m\u001b[1;33m)\u001b[0m\u001b[1;33m)\u001b[0m\u001b[1;33m\u001b[0m\u001b[1;33m\u001b[0m\u001b[0m\n\u001b[0m\u001b[0;32m      8\u001b[0m         \u001b[1;32mreturn\u001b[0m \u001b[0mnp\u001b[0m\u001b[1;33m.\u001b[0m\u001b[0mprod\u001b[0m\u001b[1;33m(\u001b[0m\u001b[0menrollment3\u001b[0m\u001b[1;33m*\u001b[0m\u001b[0mdistance\u001b[0m\u001b[1;33m)\u001b[0m\u001b[1;33m\u001b[0m\u001b[1;33m\u001b[0m\u001b[0m\n\u001b[0;32m      9\u001b[0m     \u001b[1;32melse\u001b[0m\u001b[1;33m:\u001b[0m\u001b[1;33m\u001b[0m\u001b[1;33m\u001b[0m\u001b[0m\n",
      "\u001b[1;31mTypeError\u001b[0m: only size-1 arrays can be converted to Python scalars"
     ]
    }
   ],
   "source": [
    "sigma= (10.964773 - 10.713719)/4 # sigma should be 1/4th of the search domain width.\n",
    "maxits=  10000\n",
    "min_its = 10000\n",
    "es = cma.CMAEvolutionStrategy(get_random_sp(), sigma0=0.2,\n",
    "                          inopts={'bounds': boundsxy,'seed':1234})\n",
    "es.optimize(f, iterations=min_its / es.popsize, min_iterations=1000)"
   ]
  },
  {
   "cell_type": "code",
   "execution_count": 522,
   "metadata": {},
   "outputs": [],
   "source": [
    "# all solutions nearby are zero. min iterations forced to keep geenration "
   ]
  },
  {
   "cell_type": "code",
   "execution_count": 642,
   "metadata": {},
   "outputs": [
    {
     "name": "stdout",
     "output_type": "stream",
     "text": [
      "termination on tolfun=1e-11\n",
      "termination on tolfunhist=1e-12\n",
      "termination on tolstagnation=198\n",
      "termination on noeffectaxis=None\n",
      "termination on tolflatfitness=1\n",
      "final/bestever f-value = 0.000000e+00 -3.303865e+08\n",
      "incumbent solution: [10.955843916774858, 36.92065995525288, 10.941232781573715, 36.90373758784544]\n",
      "std deviation: [1.1405334946221727e-05, 2.0635960453167767e-05, 4.475477529441544e-05, 6.485707254027547e-06]\n"
     ]
    },
    {
     "data": {
      "text/plain": [
       "CMAEvolutionStrategyResult(xbest=array([10.74936588, 36.93239622, 10.770435  , 36.90706893]), fbest=-330386459.63344103, evals_best=106, evaluations=8000, iterations=1000, xfavorite=array([10.95584392, 36.92065996, 10.94123278, 36.90373759]), stds=array([1.14053349e-05, 2.06359605e-05, 4.47547753e-05, 6.48570725e-06]), stop={'tolfun': 1e-11, 'tolfunhist': 1e-12, 'tolstagnation': 198, 'noeffectaxis': None, 'tolflatfitness': 1})"
      ]
     },
     "execution_count": 642,
     "metadata": {},
     "output_type": "execute_result"
    }
   ],
   "source": [
    "es.result_pretty()"
   ]
  },
  {
   "cell_type": "code",
   "execution_count": 524,
   "metadata": {},
   "outputs": [
    {
     "name": "stdout",
     "output_type": "stream",
     "text": [
      "Help on CMAEvolutionStrategyResult in module cma.evolution_strategy object:\n",
      "\n",
      "class CMAEvolutionStrategyResult(CMAEvolutionStrategyResult)\n",
      " |  CMAEvolutionStrategyResult(xbest, fbest, evals_best, evaluations, iterations, xfavorite, stds, stop)\n",
      " |  \n",
      " |  A results tuple from `CMAEvolutionStrategy` property ``result``.\n",
      " |  \n",
      " |  This tuple contains in the given position and as attribute\n",
      " |  \n",
      " |  - 0 ``xbest`` best solution evaluated\n",
      " |  - 1 ``fbest`` objective function value of best solution\n",
      " |  - 2 ``evals_best`` evaluation count when ``xbest`` was evaluated\n",
      " |  - 3 ``evaluations`` evaluations overall done\n",
      " |  - 4 ``iterations``\n",
      " |  - 5 ``xfavorite`` distribution mean in \"phenotype\" space, to be\n",
      " |    considered as current best estimate of the optimum\n",
      " |  - 6 ``stds`` effective standard deviations, can be used to\n",
      " |    compute a lower bound on the expected coordinate-wise distance\n",
      " |    to the true optimum, which is (very) approximately stds[i] *\n",
      " |    dimension**0.5 / min(mueff, dimension) / 1.5 / 5 ~ std_i *\n",
      " |    dimension**0.5 / min(popsize / 2, dimension) / 5, where\n",
      " |    dimension = CMAEvolutionStrategy.N and mueff =\n",
      " |    CMAEvolutionStrategy.sp.weights.mueff ~ 0.3 * popsize.\n",
      " |  - 7 ``stop`` termination conditions in a dictionary\n",
      " |  \n",
      " |  The penalized best solution of the last completed iteration can be\n",
      " |  accessed via attribute ``pop_sorted[0]`` of `CMAEvolutionStrategy`\n",
      " |  and the respective objective function value via ``fit.fit[0]``.\n",
      " |  \n",
      " |  Details:\n",
      " |  \n",
      " |  - This class is of purely declarative nature and for providing\n",
      " |    this docstring. It does not provide any further functionality.\n",
      " |  - ``list(fit.fit).find(0)`` is the index of the first sampled\n",
      " |    solution of the last completed iteration in ``pop_sorted``.\n",
      " |  \n",
      " |  Method resolution order:\n",
      " |      CMAEvolutionStrategyResult\n",
      " |      CMAEvolutionStrategyResult\n",
      " |      builtins.tuple\n",
      " |      builtins.object\n",
      " |  \n",
      " |  Data descriptors defined here:\n",
      " |  \n",
      " |  __dict__\n",
      " |      dictionary for instance variables (if defined)\n",
      " |  \n",
      " |  ----------------------------------------------------------------------\n",
      " |  Methods inherited from CMAEvolutionStrategyResult:\n",
      " |  \n",
      " |  __getnewargs__(self)\n",
      " |      Return self as a plain tuple.  Used by copy and pickle.\n",
      " |  \n",
      " |  __repr__(self)\n",
      " |      Return a nicely formatted representation string\n",
      " |  \n",
      " |  _asdict(self)\n",
      " |      Return a new dict which maps field names to their values.\n",
      " |  \n",
      " |  _replace(self, /, **kwds)\n",
      " |      Return a new CMAEvolutionStrategyResult object replacing specified fields with new values\n",
      " |  \n",
      " |  ----------------------------------------------------------------------\n",
      " |  Class methods inherited from CMAEvolutionStrategyResult:\n",
      " |  \n",
      " |  _make(iterable) from builtins.type\n",
      " |      Make a new CMAEvolutionStrategyResult object from a sequence or iterable\n",
      " |  \n",
      " |  ----------------------------------------------------------------------\n",
      " |  Static methods inherited from CMAEvolutionStrategyResult:\n",
      " |  \n",
      " |  __new__(_cls, xbest, fbest, evals_best, evaluations, iterations, xfavorite, stds, stop)\n",
      " |      Create new instance of CMAEvolutionStrategyResult(xbest, fbest, evals_best, evaluations, iterations, xfavorite, stds, stop)\n",
      " |  \n",
      " |  ----------------------------------------------------------------------\n",
      " |  Data descriptors inherited from CMAEvolutionStrategyResult:\n",
      " |  \n",
      " |  xbest\n",
      " |      Alias for field number 0\n",
      " |  \n",
      " |  fbest\n",
      " |      Alias for field number 1\n",
      " |  \n",
      " |  evals_best\n",
      " |      Alias for field number 2\n",
      " |  \n",
      " |  evaluations\n",
      " |      Alias for field number 3\n",
      " |  \n",
      " |  iterations\n",
      " |      Alias for field number 4\n",
      " |  \n",
      " |  xfavorite\n",
      " |      Alias for field number 5\n",
      " |  \n",
      " |  stds\n",
      " |      Alias for field number 6\n",
      " |  \n",
      " |  stop\n",
      " |      Alias for field number 7\n",
      " |  \n",
      " |  ----------------------------------------------------------------------\n",
      " |  Data and other attributes inherited from CMAEvolutionStrategyResult:\n",
      " |  \n",
      " |  _field_defaults = {}\n",
      " |  \n",
      " |  _fields = ('xbest', 'fbest', 'evals_best', 'evaluations', 'iterations'...\n",
      " |  \n",
      " |  _fields_defaults = {}\n",
      " |  \n",
      " |  ----------------------------------------------------------------------\n",
      " |  Methods inherited from builtins.tuple:\n",
      " |  \n",
      " |  __add__(self, value, /)\n",
      " |      Return self+value.\n",
      " |  \n",
      " |  __contains__(self, key, /)\n",
      " |      Return key in self.\n",
      " |  \n",
      " |  __eq__(self, value, /)\n",
      " |      Return self==value.\n",
      " |  \n",
      " |  __ge__(self, value, /)\n",
      " |      Return self>=value.\n",
      " |  \n",
      " |  __getattribute__(self, name, /)\n",
      " |      Return getattr(self, name).\n",
      " |  \n",
      " |  __getitem__(self, key, /)\n",
      " |      Return self[key].\n",
      " |  \n",
      " |  __gt__(self, value, /)\n",
      " |      Return self>value.\n",
      " |  \n",
      " |  __hash__(self, /)\n",
      " |      Return hash(self).\n",
      " |  \n",
      " |  __iter__(self, /)\n",
      " |      Implement iter(self).\n",
      " |  \n",
      " |  __le__(self, value, /)\n",
      " |      Return self<=value.\n",
      " |  \n",
      " |  __len__(self, /)\n",
      " |      Return len(self).\n",
      " |  \n",
      " |  __lt__(self, value, /)\n",
      " |      Return self<value.\n",
      " |  \n",
      " |  __mul__(self, value, /)\n",
      " |      Return self*value.\n",
      " |  \n",
      " |  __ne__(self, value, /)\n",
      " |      Return self!=value.\n",
      " |  \n",
      " |  __rmul__(self, value, /)\n",
      " |      Return value*self.\n",
      " |  \n",
      " |  count(self, value, /)\n",
      " |      Return number of occurrences of value.\n",
      " |  \n",
      " |  index(self, value, start=0, stop=9223372036854775807, /)\n",
      " |      Return first index of value.\n",
      " |      \n",
      " |      Raises ValueError if the value is not present.\n",
      "\n"
     ]
    }
   ],
   "source": [
    "help(es.result)"
   ]
  },
  {
   "cell_type": "code",
   "execution_count": 214,
   "metadata": {},
   "outputs": [
    {
     "name": "stdout",
     "output_type": "stream",
     "text": [
      "Help on package cma:\n",
      "\n",
      "NAME\n",
      "    cma\n",
      "\n",
      "DESCRIPTION\n",
      "    Package `cma` implements the CMA-ES (Covariance Matrix Adaptation\n",
      "    Evolution Strategy).\n",
      "    \n",
      "    CMA-ES is a stochastic optimizer for robust non-linear non-convex\n",
      "    derivative- and function-value-free numerical optimization.\n",
      "    \n",
      "    This implementation can be used with Python versions >= 2.7, namely,\n",
      "    it was tested with 2.7, 3.5, 3.6, 3.7, 3.8.\n",
      "    \n",
      "    CMA-ES searches for a minimizer (a solution x in :math:`R^n`) of an\n",
      "    objective function f (cost function), such that f(x) is minimal.\n",
      "    Regarding f, only a passably reliable ranking of the candidate\n",
      "    solutions in each iteration is necessary. Neither the function values\n",
      "    itself, nor the gradient of f need to be available or do matter (like\n",
      "    in the downhill simplex Nelder-Mead algorithm). Some termination\n",
      "    criteria however depend on actual f-values.\n",
      "    \n",
      "    The `cma` module provides two independent implementations of the\n",
      "    CMA-ES algorithm in the classes `cma.CMAEvolutionStrategy` and\n",
      "    `cma.purecma.CMAES`.\n",
      "    \n",
      "    In each implementation two interfaces are provided:\n",
      "    \n",
      "    - functions `fmin` and `purecma.fmin`:\n",
      "        run a complete minimization of the passed objective function with\n",
      "        CMA-ES. `fmin` also provides optional restarts and noise handling.\n",
      "    \n",
      "    - class `CMAEvolutionStrategy` and `purecma.CMAES`:\n",
      "        allow for minimization such that the control of the iteration\n",
      "        loop remains with the user.\n",
      "    \n",
      "    The `cma` package root provides shortcuts to these and other classes and\n",
      "    functions.\n",
      "    \n",
      "    Used external packages are `numpy` (only `purecma` does not depend on\n",
      "    `numpy`) and `matplotlib.pyplot` (for `plot` etc., optional but highly\n",
      "    recommended).\n",
      "    \n",
      "    Install\n",
      "    =======\n",
      "    To use the module, the folder ``cma`` only needs to be visible in the\n",
      "    python path, e.g. in the current working directory.\n",
      "    \n",
      "    To install the module from pipy, type::\n",
      "    \n",
      "        pip install cma\n",
      "    \n",
      "    from the command line.\n",
      "    \n",
      "    To install the module from a ``cma`` folder::\n",
      "    \n",
      "        pip install -e cma\n",
      "    \n",
      "    To upgrade the currently installed version use additionally the ``-U``\n",
      "    option.\n",
      "    \n",
      "    Testing\n",
      "    =======\n",
      "    From the system shell::\n",
      "    \n",
      "        python -m cma.test -h\n",
      "        python -m cma.test\n",
      "        python -c \"import cma.test; cma.test.main()\"  # the same\n",
      "    \n",
      "    or from any (i)python shell::\n",
      "    \n",
      "        import cma.test\n",
      "        cma.test.main()\n",
      "    \n",
      "    should run without complaints in about between 20 and 100 seconds.\n",
      "    \n",
      "    Example\n",
      "    =======\n",
      "    From a python shell::\n",
      "    \n",
      "        import cma\n",
      "        help(cma)  # \"this\" help message, use cma? in ipython\n",
      "        help(cma.fmin)\n",
      "        help(cma.CMAEvolutionStrategy)\n",
      "        help(cma.CMAOptions)\n",
      "        cma.CMAOptions('tol')  # display 'tolerance' termination options\n",
      "        cma.CMAOptions('verb') # display verbosity options\n",
      "        res = cma.fmin(cma.ff.tablet, 15 * [1], 1)\n",
      "        es = cma.CMAEvolutionStrategy(15 * [1], 1).optimize(cma.ff.tablet)\n",
      "        help(es.result)\n",
      "        res[0], es.result[0]  # best evaluated solution\n",
      "        res[5], es.result[5]  # mean solution, presumably better with noise\n",
      "    \n",
      "    :See also: `fmin` (), `CMAOptions`, `CMAEvolutionStrategy`\n",
      "    \n",
      "    :Author: Nikolaus Hansen, 2008-\n",
      "    :Author: Petr Baudis, 2014\n",
      "    :Author: Youhei Akimoto, 2017-\n",
      "    \n",
      "    :License: BSD 3-Clause, see LICENSE file.\n",
      "\n",
      "PACKAGE CONTENTS\n",
      "    Untitled-2\n",
      "    bbob\n",
      "    bbobbenchmarks\n",
      "    constraints_handler\n",
      "    constraints_handler-changes\n",
      "    constraints_handler2\n",
      "    evolution_strategy\n",
      "    experimentation\n",
      "    fitness_functions\n",
      "    fitness_functions2\n",
      "    fitness_models\n",
      "    fitness_transformations\n",
      "    fukumoto\n",
      "    interfaces\n",
      "    logger\n",
      "    optimization_tools\n",
      "    purecma\n",
      "    recombination_weights\n",
      "    restricted_gaussian_sampler\n",
      "    s\n",
      "    sampler\n",
      "    sigma_adaptation\n",
      "    test\n",
      "    transformations\n",
      "    utilities (package)\n",
      "    wrapper\n",
      "\n",
      "DATA\n",
      "    ___author__ = 'Nikolaus Hansen and Petr Baudis and Youhei Akimoto'\n",
      "    __license__ = 'BSD 3-clause'\n",
      "    ff = <cma.fitness_functions.FitnessFunctions object>\n",
      "    test = 'type \"import cma.test\" to access the `test` module of `cma`'\n",
      "\n",
      "VERSION\n",
      "    3.1.0\n",
      "\n",
      "FILE\n",
      "    c:\\users\\darra\\appdata\\local\\programs\\python\\python38\\lib\\site-packages\\cma\\__init__.py\n",
      "\n",
      "\n"
     ]
    }
   ],
   "source": [
    "help(cma)"
   ]
  },
  {
   "cell_type": "code",
   "execution_count": 617,
   "metadata": {},
   "outputs": [
    {
     "data": {
      "text/plain": [
       "-10000"
      ]
     },
     "execution_count": 617,
     "metadata": {},
     "output_type": "execute_result"
    }
   ],
   "source": [
    "es.result[1]"
   ]
  },
  {
   "cell_type": "code",
   "execution_count": 251,
   "metadata": {},
   "outputs": [
    {
     "data": {
      "text/html": [
       "<div>\n",
       "<style scoped>\n",
       "    .dataframe tbody tr th:only-of-type {\n",
       "        vertical-align: middle;\n",
       "    }\n",
       "\n",
       "    .dataframe tbody tr th {\n",
       "        vertical-align: top;\n",
       "    }\n",
       "\n",
       "    .dataframe thead th {\n",
       "        text-align: right;\n",
       "    }\n",
       "</style>\n",
       "<table border=\"1\" class=\"dataframe\">\n",
       "  <thead>\n",
       "    <tr style=\"text-align: right;\">\n",
       "      <th></th>\n",
       "      <th>minx</th>\n",
       "      <th>miny</th>\n",
       "      <th>maxx</th>\n",
       "      <th>maxy</th>\n",
       "    </tr>\n",
       "  </thead>\n",
       "  <tbody>\n",
       "    <tr>\n",
       "      <th>0</th>\n",
       "      <td>36.689328</td>\n",
       "      <td>10.713719</td>\n",
       "      <td>36.96973</td>\n",
       "      <td>10.964773</td>\n",
       "    </tr>\n",
       "  </tbody>\n",
       "</table>\n",
       "</div>"
      ],
      "text/plain": [
       "        minx       miny      maxx       maxy\n",
       "0  36.689328  10.713719  36.96973  10.964773"
      ]
     },
     "execution_count": 251,
     "metadata": {},
     "output_type": "execute_result"
    }
   ],
   "source": [
    "bounds"
   ]
  },
  {
   "cell_type": "code",
   "execution_count": 221,
   "metadata": {},
   "outputs": [
    {
     "data": {
      "text/plain": [
       "0.06276349999999997"
      ]
     },
     "execution_count": 221,
     "metadata": {},
     "output_type": "execute_result"
    }
   ],
   "source": []
  },
  {
   "cell_type": "code",
   "execution_count": 220,
   "metadata": {},
   "outputs": [
    {
     "data": {
      "text/plain": [
       "-0.28040199999999516"
      ]
     },
     "execution_count": 220,
     "metadata": {},
     "output_type": "execute_result"
    }
   ],
   "source": [
    "36.689328 - 36.96973"
   ]
  },
  {
   "cell_type": "code",
   "execution_count": 197,
   "metadata": {},
   "outputs": [
    {
     "data": {
      "text/plain": [
       "array([10.77928904, 36.93026041, 10.88441627, 36.76206976])"
      ]
     },
     "execution_count": 197,
     "metadata": {},
     "output_type": "execute_result"
    }
   ],
   "source": [
    "es.result[0]"
   ]
  },
  {
   "cell_type": "code",
   "execution_count": 198,
   "metadata": {
    "scrolled": true
   },
   "outputs": [],
   "source": [
    "# Run CMA 5 times and keep track of output in dataframe.\n",
    "\n",
    "# import time\n",
    "# maxits=  100000\n",
    "# cma_list = [[],[]]\n",
    "# start_time2 = time.time()\n",
    "\n",
    "# # Create an empty dataframe to store results\n",
    "# data = {'Algorithm':[],'min': [], 'mean': [], 'stddev': [],'time':[]}\n",
    "# df = pd.DataFrame(data)\n",
    "\n",
    "# for seed in range(5):\n",
    "#     es = cma.CMAEvolutionStrategy(get_random_sp(), sigma0=0.15,\n",
    "#                               inopts={'bounds': boundsxy,'seed':1234})\n",
    "#     es.optimize(f, iterations=maxits / es.popsize, min_iterations=1000)\n",
    "#     best_solution_found = np.stack(np.array_split(es.result[0], 5),axis=0)\n",
    "#     cma_list[0].append(es.result[1])\n",
    "#     cma_list[1].append(best_solution_found)\n",
    "    \n",
    "# #End time of CMA\n",
    "# cma_time = time.time() - start_time2\n",
    "# cma_time\n",
    "\n",
    "# CMA_append = ['CMA', int(min(cma_list[0])), int(np.mean(cma_list[0])),\n",
    "#              int(np.std(cma_list[0])), cma_time]\n",
    "# df.loc[len(df)] = CMA_append"
   ]
  },
  {
   "cell_type": "code",
   "execution_count": 199,
   "metadata": {},
   "outputs": [
    {
     "data": {
      "text/plain": [
       "-23970.0"
      ]
     },
     "execution_count": 199,
     "metadata": {},
     "output_type": "execute_result"
    }
   ],
   "source": [
    "es.result[1]"
   ]
  },
  {
   "cell_type": "code",
   "execution_count": 200,
   "metadata": {},
   "outputs": [
    {
     "data": {
      "text/plain": [
       "array([ True,  True])"
      ]
     },
     "execution_count": 200,
     "metadata": {},
     "output_type": "execute_result"
    }
   ],
   "source": [
    "# Cross check to ensure all locations within boundary.\n",
    "vec = np.array(np.array_split(es.result[0].flatten(),2))\n",
    "vec = gpd.points_from_xy(vec[:, 1], vec[:, 0])\n",
    "# vec.within(gdf_region_shp[0])\n",
    "vec.within(gdf_woreda_shp[0])"
   ]
  },
  {
   "cell_type": "code",
   "execution_count": 201,
   "metadata": {},
   "outputs": [
    {
     "data": {
      "image/svg+xml": [
       "<svg xmlns=\"http://www.w3.org/2000/svg\" xmlns:xlink=\"http://www.w3.org/1999/xlink\" width=\"100.0\" height=\"100.0\" viewBox=\"36.67811195832005 10.702503304320066 0.3028344213599752 0.2734853643599884\" preserveAspectRatio=\"xMinYMin meet\"><g transform=\"matrix(1,0,0,-1,0,21.67849197300012)\"><path fill-rule=\"evenodd\" fill=\"#66cc99\" stroke=\"#555555\" stroke-width=\"0.006056688427199503\" opacity=\"0.6\" d=\"M 36.96544107700004,10.87340077500005 L 36.964661224000054,10.873415893000072 L 36.96465826300005,10.873415950000037 L 36.96464537600008,10.873416200000065 L 36.96393214200003,10.873430026000051 L 36.96330224400003,10.87425083000005 L 36.962552122000034,10.875228294000067 L 36.96218063200007,10.875815269000043 L 36.961255874000074,10.877276436000045 L 36.95957095400007,10.87954918500003 L 36.95898673500005,10.880279891000043 L 36.95698422100003,10.88278450000007 L 36.95611061500006,10.883161332000043 L 36.95499555200007,10.883464806000063 L 36.954206612000064,10.883715051000024 L 36.953370937000045,10.883980118000068 L 36.95215852200005,10.884366635000049 L 36.95024307500006,10.884951734000026 L 36.949419671000044,10.885075971000049 L 36.94796634200003,10.885295248000034 L 36.94711505200007,10.885330257000021 L 36.94646579700003,10.885356956000066 L 36.945668855000065,10.885136383000031 L 36.944366294000076,10.884553691000065 L 36.94349579000004,10.884476112000073 L 36.94328703000008,10.88475864000003 L 36.94283253400005,10.885930504000044 L 36.94215131400006,10.886475989000076 L 36.94219666600003,10.886918727000022 L 36.942649739000046,10.887502531000052 L 36.942640218000065,10.888889558000074 L 36.94229262400006,10.890178655000057 L 36.94180643000004,10.890510208000023 L 36.941704506000065,10.891430814000046 L 36.94160005600003,10.892374220000022 L 36.940385708000065,10.893035695000037 L 36.939658214000076,10.893269960000055 L 36.93960554700004,10.893891405000034 L 36.94003250500003,10.895137870000042 L 36.93916095600008,10.895591565000075 L 36.93910746500006,10.896332579000045 L 36.93898385500006,10.896714393000025 L 36.93970197800007,10.897843240000043 L 36.93978872200006,10.899302657000021 L 36.93903487700004,10.899847640000075 L 36.939077342000076,10.90070887500002 L 36.93895257600008,10.901258088000077 L 36.93885283000003,10.90168789300003 L 36.93836265700003,10.902593376000027 L 36.937561233000054,10.90301845700003 L 36.93606093600005,10.90303226900005 L 36.93487617100004,10.90290470900004 L 36.93332484200005,10.90330080700005 L 36.932941536000044,10.903298221000057 L 36.93181210300003,10.903616472000067 L 36.93070844500005,10.903927459000045 L 36.92991023600007,10.903886194000052 L 36.92902152600004,10.903995113000065 L 36.92787597900008,10.904135507000035 L 36.92711590400006,10.905023417000052 L 36.925692181000045,10.905013779000058 L 36.92469633400003,10.90500703400005 L 36.92387410900005,10.90524629500004 L 36.92324983300006,10.905427953000071 L 36.92212628000004,10.905754892000061 L 36.92106166900004,10.90574766900005 L 36.920055742000045,10.904966975000036 L 36.91956951800006,10.904589616000067 L 36.91901550100005,10.904221706000044 L 36.91848975400006,10.903872566000075 L 36.91785945400005,10.903453993000028 L 36.91686986800005,10.90369137500005 L 36.91592048800004,10.903919109000071 L 36.91610772400003,10.904829151000058 L 36.91573180000006,10.905300128000022 L 36.91514141600004,10.90603978400003 L 36.91474077500004,10.906541725000068 L 36.91352732400003,10.907059588000038 L 36.912165024000046,10.908102560000032 L 36.91154034700003,10.908812875000024 L 36.910994276000054,10.909433810000053 L 36.91030810400008,10.910672700000077 L 36.90919475800007,10.910712929000056 L 36.90806082700004,10.910756110000023 L 36.90706485100003,10.910794035000038 L 36.90638736600005,10.91078940400007 L 36.90618710200005,10.911744627000076 L 36.90521356900007,10.912551070000063 L 36.90515747000006,10.913650767000036 L 36.90491081700003,10.914318693000041 L 36.90340831000003,10.914643211000055 L 36.902873311000064,10.91502218100004 L 36.902772836000054,10.915547617000072 L 36.90175088900003,10.916353713000035 L 36.90089776700006,10.916620717000058 L 36.89995633500007,10.91691535700005 L 36.89830930900007,10.91714319600004 L 36.89639427100008,10.91763224400006 L 36.894843353000056,10.917956383000046 L 36.894124747000035,10.918395929000042 L 36.89314219800008,10.918996917000072 L 36.89251489900005,10.91964133700003 L 36.89133850800005,10.92084982800003 L 36.890418003000036,10.921605138000075 L 36.889671485000065,10.922217677000049 L 36.88856389100005,10.923126485000068 L 36.88714171600003,10.924038057000075 L 36.886570635000055,10.92440410100005 L 36.88593178700006,10.92474461200004 L 36.88506468600008,10.925206782000032 L 36.882069046000026,10.924516443000073 L 36.88087952800004,10.924523873000055 L 36.87960529000003,10.924531829000045 L 36.878439222000054,10.924539110000069 L 36.87081375200006,10.92498830900007 L 36.870334220000075,10.92620646100005 L 36.870025138000074,10.926991616000066 L 36.86955712200006,10.928376833000073 L 36.86928354100007,10.929186561000051 L 36.86780836400004,10.929606834000026 L 36.86736820900006,10.93024944800004 L 36.866881197000055,10.930676505000065 L 36.86447536900005,10.928722655000058 L 36.863724095000066,10.928721905000032 L 36.86319513900003,10.928721377000045 L 36.862420256000064,10.928720600000077 L 36.86207988700005,10.928720258000055 L 36.86162969000003,10.92871980600006 L 36.860883992000026,10.928719055000045 L 36.86048275500008,10.928718650000064 L 36.85924447000008,10.927741565000076 L 36.858893755000054,10.927595518000032 L 36.85714577500005,10.928396350000071 L 36.85545777200008,10.92912490200007 L 36.853601912000045,10.929925898000022 L 36.85136773800008,10.931034158000045 L 36.85056498100005,10.931531115000041 L 36.85039677000003,10.928097867000076 L 36.843683344000056,10.932929017000049 L 36.83623062500004,10.935698053000067 L 36.83486519200005,10.937123204000045 L 36.81699949100005,10.93869400400007 L 36.809881388000065,10.94199080900006 L 36.809991414000024,10.942704848000062 L 36.80942171300006,10.944698923000033 L 36.80881659900007,10.946412168000052 L 36.80633802300008,10.944402515000036 L 36.805538642000045,10.944516337000039 L 36.80488356200004,10.944750759000044 L 36.803932657000075,10.945724364000057 L 36.80005098300006,10.947071419000054 L 36.79912813800007,10.947519116000024 L 36.797866001000045,10.94803610200006 L 36.796627880000074,10.948577167000053 L 36.79493443200005,10.948517108000033 L 36.794119341000055,10.94748295200003 L 36.793516185000044,10.947239461000038 L 36.79289042700003,10.946780586000045 L 36.791920600000026,10.947036616000048 L 36.79086212800007,10.942927863000023 L 36.790289561000066,10.941823718000023 L 36.78982187100007,10.941305297000042 L 36.78949793600003,10.94113874900006 L 36.789334351000036,10.940997204000041 L 36.78914897800007,10.940905783000062 L 36.78659615500004,10.939646806000042 L 36.782043703000056,10.94009203500002 L 36.778143302000046,10.940709328000025 L 36.77798150900003,10.940668860000073 L 36.77558314100003,10.940068954000026 L 36.77180140200005,10.940997894000077 L 36.76961480700004,10.942177568000034 L 36.76699481400004,10.943067101000054 L 36.76403483900003,10.943895267000073 L 36.760301936000076,10.944978906000074 L 36.75956083300008,10.94527621800006 L 36.75532640000006,10.946974922000038 L 36.74923795700005,10.945734457000071 L 36.74368588300007,10.943971772000054 L 36.74260170500003,10.946546290000072 L 36.741859515000044,10.948692909000044 L 36.74208770700005,10.950511934000076 L 36.74414723500007,10.95334882800006 L 36.74249207300005,10.95462784800003 L 36.73993048500006,10.954178455000033 L 36.73841099600003,10.953521559000023 L 36.736550187000034,10.95001656900007 L 36.72783299400004,10.956278879000024 L 36.72385115600008,10.95441852700003 L 36.721797268000046,10.95341108100007 L 36.71602388500003,10.955280856000059 L 36.71224080500008,10.95635244500005 L 36.70942446000004,10.957574716000067 L 36.70932215600004,10.958291301000031 L 36.70965428400007,10.959154622000028 L 36.71037025000004,10.960451239000065 L 36.710752616000036,10.96107581800004 L 36.71107629000005,10.963039020000053 L 36.705063480000035,10.964548061000073 L 36.70312588000007,10.964772579000055 L 36.701827827000045,10.964237013000059 L 36.70162197800005,10.963446000000033 L 36.70144742600007,10.962775253000075 L 36.70078802000006,10.960426934000054 L 36.69998713700005,10.957599316000028 L 36.69899380500004,10.954626776000055 L 36.69833811900003,10.951800254000034 L 36.69971450000003,10.94903688200003 L 36.69996457600007,10.947986653000044 L 36.70207746900007,10.943841934000034 L 36.70438771700003,10.939196525000057 L 36.70630543900006,10.935241577000056 L 36.70635787200007,10.934715912000058 L 36.706359011000075,10.93470353400005 L 36.70654489100008,10.934735585000055 L 36.706587237000065,10.934742888000073 L 36.70670562600003,10.934090207000054 L 36.706589431000054,10.933467628000074 L 36.70666342200008,10.931710666000072 L 36.70681648800007,10.930683607000049 L 36.706903949000036,10.92874740600007 L 36.70696262200005,10.927408785000068 L 36.70769332200007,10.925202421000051 L 36.70796422600006,10.924582745000066 L 36.707543420000036,10.92266664400006 L 36.70716715100008,10.921253025000055 L 36.707183927000074,10.920643400000074 L 36.70779536600003,10.91978715600004 L 36.70843448000005,10.918476793000025 L 36.70882578900006,10.917929751000031 L 36.709457745000066,10.917551893000052 L 36.709703525000066,10.917051584000035 L 36.71026289900004,10.916673180000032 L 36.71048411800007,10.916220510000073 L 36.71104184200004,10.916057299000045 L 36.71138329200005,10.915701175000038 L 36.711890872000026,10.914186564000033 L 36.71249412100008,10.91308254300003 L 36.712749700000074,10.91261479700006 L 36.71254751200007,10.91058077300005 L 36.71262630800004,10.90976835600003 L 36.712556721000055,10.907795102000023 L 36.71242710800004,10.905761620000021 L 36.712366779000035,10.904159071000038 L 36.71232534200004,10.903250108000066 L 36.71227018500008,10.899387919000048 L 36.71221021800005,10.897737548000066 L 36.71204855000008,10.896732039000028 L 36.71211829900005,10.89645766500007 L 36.71216079200008,10.89629050700006 L 36.711608590000026,10.89573641000004 L 36.71062204000003,10.895035599000039 L 36.70899184000007,10.893086556000071 L 36.707911652000064,10.891978536000067 L 36.70752266200003,10.891479530000026 L 36.707480420000024,10.891425340000069 L 36.70661485000005,10.890725424000038 L 36.70446761900007,10.888377956000056 L 36.70319742000004,10.886814179000055 L 36.70154293600007,10.884888846000024 L 36.70033663500004,10.882883174000028 L 36.69934942200007,10.882277981000072 L 36.69826875600006,10.881241672000044 L 36.69750036500005,10.880494646000045 L 36.69603469400005,10.879192415000034 L 36.69507334600007,10.878372201000047 L 36.693675065000036,10.876173782000023 L 36.692937322000034,10.874590070000067 L 36.69215451700006,10.872575609000023 L 36.69191611800005,10.872119496000039 L 36.691245759000026,10.869639604000042 L 36.69077650300005,10.86811530500006 L 36.69052318100006,10.867292424000027 L 36.689919506000024,10.86594724400004 L 36.689650622000045,10.864717717000076 L 36.689461325000025,10.86385210700007 L 36.68932804800005,10.863242663000051 L 36.689898217000064,10.862512658000071 L 36.69101198800007,10.862377555000023 L 36.691986873000076,10.861428409000041 L 36.69255544400005,10.860470065000072 L 36.69250441400004,10.859692044000042 L 36.69306808600004,10.858739806000074 L 36.69416829600004,10.857217709000054 L 36.69532494300006,10.855938882000032 L 36.695385447000035,10.855918829000075 L 36.69539430900005,10.855915888000027 L 36.695471128000065,10.855889922000074 L 36.695498490000034,10.855879978000075 L 36.69589756500005,10.855676405000054 L 36.69657922600004,10.855107629000031 L 36.69757333800004,10.85374444000007 L 36.69766070800006,10.852868018000038 L 36.699171238000076,10.851456566000024 L 36.700126444000034,10.849909439000044 L 36.700402197000074,10.848644174000071 L 36.702423691000035,10.847475960000054 L 36.70411949600003,10.846495943000036 L 36.70514019900003,10.845869888000038 L 36.705606688000046,10.844964712000035 L 36.70619338000006,10.844156078000026 L 36.70661221700004,10.843154898000023 L 36.70643420700003,10.841121059000045 L 36.706273735000025,10.839960136000059 L 36.706307577000075,10.838693056000068 L 36.70595091400003,10.835205913000038 L 36.70591875000008,10.833182416000056 L 36.705899299000066,10.83195881100005 L 36.704810993000024,10.831604602000027 L 36.70275934000006,10.830830379000076 L 36.70217354300007,10.830717158000027 L 36.70066078800005,10.830400559000054 L 36.73128720500006,10.80258612700004 L 36.798199510000074,10.781072178000045 L 36.835076419000075,10.765072505000035 L 36.85561378700004,10.733651881000071 L 36.87800098500003,10.713719394000066 L 36.936223486000074,10.724774289000038 L 36.937354017000075,10.725666658000023 L 36.93814714600006,10.726389380000057 L 36.93932478000005,10.727014774000054 L 36.93929603300006,10.72703658200004 L 36.940015654000035,10.727902306000033 L 36.94078186300004,10.729031410000061 L 36.94246108700003,10.731039469000052 L 36.942625185000054,10.731805854000072 L 36.94256954100007,10.732881686000042 L 36.942998189000036,10.733865060000028 L 36.94385969500007,10.735210030000076 L 36.94496222400005,10.736676172000045 L 36.94510287400004,10.737334780000026 L 36.94553347400006,10.738031178000028 L 36.94620202300007,10.73930312300007 L 36.94627214800005,10.739662321000026 L 36.94612139600008,10.740498371000058 L 36.94594645900003,10.741334261000077 L 36.94618505500006,10.741814150000039 L 36.94649167600005,10.74296412600006 L 36.94641629800003,10.743382151000048 L 36.94626845200003,10.743787739000027 L 36.94635361400003,10.744395208000071 L 36.94645302600003,10.745104318000074 L 36.946709019000025,10.746588778000046 L 36.94742611500004,10.747837129000061 L 36.948099858000035,10.748343809000062 L 36.948118710000074,10.749133149000045 L 36.94768049700008,10.749560735000045 L 36.94738730300003,10.75000123600006 L 36.94656182700004,10.750474090000068 L 36.94663082000005,10.751000689000023 L 36.94689312000003,10.751552483000069 L 36.94700757000004,10.752509864000046 L 36.94757860300007,10.753900745000067 L 36.948699489000035,10.75623992800007 L 36.949340824000046,10.75796609200006 L 36.94933617800007,10.758127670000022 L 36.94930920400003,10.759066002000054 L 36.94932595200004,10.760166232000074 L 36.94982913800004,10.76086311000006 L 36.950574980000056,10.761442014000068 L 36.95078811700006,10.762113060000047 L 36.95068750100006,10.76268637000004 L 36.95036808900005,10.76342564500004 L 36.95005212600006,10.763639907000027 L 36.94974326100004,10.763494885000057 L 36.94945223600007,10.763612539000064 L 36.94884454500004,10.764062918000036 L 36.948188483000024,10.76451297500006 L 36.94779893700007,10.764893047000044 L 36.94724204000005,10.764985024000055 L 36.94651536300006,10.76514762100004 L 36.94598313500006,10.76516801200006 L 36.94530466500004,10.765354842000022 L 36.94484175000008,10.765854001000037 L 36.944475735000026,10.766329886000051 L 36.94434848700007,10.767261749000056 L 36.944836818000056,10.767786113000057 L 36.945020801000055,10.76798367200007 L 36.945234252000034,10.768606892000037 L 36.945231060000026,10.76907772900006 L 36.94522598300006,10.769826530000046 L 36.94533701800003,10.771286116000056 L 36.94547532000007,10.77229148500004 L 36.94554341700007,10.772949614000026 L 36.94561273000005,10.773428386000035 L 36.94582456200004,10.774290750000034 L 36.94610878900005,10.775177510000049 L 36.945812724000064,10.776036507000072 L 36.946220150000045,10.77658926600003 L 36.946433444000036,10.77723640000005 L 36.94674153500006,10.778171150000048 L 36.94719441900003,10.779154690000041 L 36.94730975600004,10.779980542000033 L 36.94704046700008,10.780457068000032 L 36.94676906900003,10.781244482000034 L 36.946620222000035,10.781793553000057 L 36.94630272000006,10.782245844000045 L 36.94598489200007,10.782745961000046 L 36.94582590700003,10.783335977000036 L 36.94627913200003,10.783835615000044 L 36.947072251000066,10.784582259000047 L 36.94716623800008,10.784989446000054 L 36.94703670700005,10.786256112000046 L 36.94676319200005,10.78735441300006 L 36.94620170600007,10.788115985000047 L 36.94619829800007,10.788618189000033 L 36.94646061700007,10.789169988000026 L 36.94641956800007,10.789394432000051 L 36.94636013600007,10.78971937800003 L 36.94587429000006,10.790027055000053 L 36.94514771300004,10.790165724000076 L 36.944973857000036,10.790834205000067 L 36.94525776300003,10.791768795000053 L 36.94508390500005,10.792437276000044 L 36.94469236300006,10.793104309000057 L 36.94388606200005,10.794294726000032 L 36.94334825400006,10.79512819300004 L 36.94246799500007,10.796521393000035 L 36.941832290000036,10.797521614000061 L 36.94156199500003,10.798141617000056 L 36.94090274600006,10.799046014000055 L 36.94021734900008,10.800237221000032 L 36.93907531900004,10.80099490400005 L 36.938030033000075,10.801753226000073 L 36.937905260000036,10.80231440600005 L 36.93763266600007,10.80326920400006 L 36.93682679600005,10.804387848000033 L 36.93645924200007,10.805078940000044 L 36.93488973700005,10.806335313000034 L 36.93482966600004,10.806383399000026 L 36.93444004200006,10.806763440000054 L 36.93346908900003,10.807259170000066 L 36.93353813500005,10.807773811000061 L 36.93382610000003,10.808110552000073 L 36.93420460200008,10.809356681000054 L 36.93451495700003,10.809956641000042 L 36.93465730600008,10.810364153000023 L 36.93576914600004,10.810491163000052 L 36.93637581400003,10.810208232000036 L 36.937199031000034,10.810094154000069 L 36.937704534000034,10.81045626100007 L 36.93919718800004,10.811494587000027 L 36.93923579800003,10.811543478000033 L 36.939093005000075,10.811957664000033 L 36.93795501300008,10.815656954000076 L 36.937826388000076,10.816780118000054 L 36.93726955600005,10.816848144000062 L 36.93651872300006,10.816986618000044 L 36.93521105600007,10.81719311300003 L 36.933905682000045,10.817064801000072 L 36.93305743800005,10.817298276000031 L 36.93172607400004,10.817432850000046 L 36.931432776000065,10.817873318000068 L 36.93120425300003,10.819450196000048 L 36.93084854700004,10.821935001000043 L 36.930384358000026,10.82260151500003 L 36.930439877000026,10.822678482000072 L 36.931199079000066,10.82373099800003 L 36.93213712900007,10.824514534000059 L 36.93283484800003,10.825069262000056 L 36.933941332000074,10.825985457000058 L 36.93514409000005,10.826974040000039 L 36.936066639000046,10.82776096200007 L 36.93627445000004,10.827938220000021 L 36.93728337700003,10.828973331000043 L 36.93768756600008,10.83000439500006 L 36.93833742000004,10.830487049000055 L 36.93879351100003,10.83100427900007 L 36.939777777000074,10.832110966000073 L 36.93980260600006,10.832146660000035 L 36.940500357000076,10.832701377000035 L 36.941438869000024,10.833425108000029 L 36.94295525700005,10.834547299000064 L 36.943505756000036,10.835411929000031 L 36.943623769000055,10.835843194000063 L 36.944094680000035,10.837735656000063 L 36.94525109500006,10.83843691900006 L 36.945874668000044,10.83923028700002 L 36.946837241000026,10.839978083000062 L 36.94796825800006,10.840858535000052 L 36.94975546300003,10.841705744000024 L 36.94996721700005,10.841806124000072 L 36.95006618800005,10.841853040000046 L 36.94935438600004,10.843354979000026 L 36.94923033400005,10.843808548000027 L 36.94849677600007,10.844951606000052 L 36.94844187100006,10.845907861000057 L 36.94809903500004,10.84651542100005 L 36.94710196900007,10.847274070000026 L 36.94711653200005,10.848685180000075 L 36.94743321000004,10.849055431000068 L 36.947692560000064,10.84935865500006 L 36.94768997500006,10.849737480000044 L 36.94768880700008,10.849908686000049 L 36.94884217600003,10.851064317000066 L 36.950112844000046,10.852758828000049 L 36.952033045000064,10.85499575700004 L 36.95357254800007,10.856297442000027 L 36.95535244200005,10.857827916000076 L 36.95677101100006,10.859128785000053 L 36.95934807700007,10.860843905000024 L 36.96266663800003,10.86381949500003 L 36.96473540300008,10.865579044000071 L 36.966877097000065,10.86729123300006 L 36.96973029000003,10.86754925300005 L 36.96970994900005,10.867640115000029 L 36.96837295500006,10.868954045000066 L 36.968118435000065,10.869204173000071 L 36.967193010000074,10.870113622000076 L 36.966988954000044,10.870314152000049 L 36.96692320600005,10.870378765000055 L 36.966466033000074,10.870828041000038 L 36.96675888000004,10.871735401000024 L 36.96544107700004,10.87340077500005 z\" /></g></svg>"
      ],
      "text/plain": [
       "<shapely.geometry.polygon.Polygon at 0x176ca3c9a90>"
      ]
     },
     "execution_count": 201,
     "metadata": {},
     "output_type": "execute_result"
    }
   ],
   "source": [
    "gdf_woreda_shp[0]"
   ]
  },
  {
   "cell_type": "markdown",
   "metadata": {},
   "source": [
    "#### 3.4. Visualise Results"
   ]
  },
  {
   "cell_type": "code",
   "execution_count": 643,
   "metadata": {},
   "outputs": [],
   "source": [
    "best_solution = np.array(np.array_split(es.result[0].flatten(), proposed_schools))"
   ]
  },
  {
   "cell_type": "code",
   "execution_count": 644,
   "metadata": {},
   "outputs": [],
   "source": [
    "# formalise the basic problem by filtering the top enrollment. \n",
    "# explain in introduction what someone would do during optimisation and why this is better. "
   ]
  },
  {
   "cell_type": "code",
   "execution_count": 645,
   "metadata": {},
   "outputs": [
    {
     "data": {
      "text/plain": [
       "[array([10.71371939, 36.68932805, 10.71371939, 36.68932805]),\n",
       " array([10.96477258, 36.96973029, 10.96477258, 36.96973029])]"
      ]
     },
     "execution_count": 645,
     "metadata": {},
     "output_type": "execute_result"
    }
   ],
   "source": [
    "boundsxy"
   ]
  },
  {
   "cell_type": "code",
   "execution_count": 647,
   "metadata": {},
   "outputs": [
    {
     "data": {
      "text/plain": [
       "CMAEvolutionStrategyResult(xbest=array([10.74936588, 36.93239622, 10.770435  , 36.90706893]), fbest=-330386459.63344103, evals_best=106, evaluations=8000, iterations=1000, xfavorite=array([10.95584392, 36.92065996, 10.94123278, 36.90373759]), stds=array([1.14053349e-05, 2.06359605e-05, 4.47547753e-05, 6.48570725e-06]), stop={'tolfun': 1e-11, 'tolfunhist': 1e-12, 'tolstagnation': 198, 'noeffectaxis': None, 'tolflatfitness': 1})"
      ]
     },
     "execution_count": 647,
     "metadata": {},
     "output_type": "execute_result"
    }
   ],
   "source": [
    "es.result"
   ]
  },
  {
   "cell_type": "code",
   "execution_count": 646,
   "metadata": {},
   "outputs": [
    {
     "data": {
      "image/png": "[encoded data removed]",
      "text/plain": [
       "<Figure size 1080x720 with 1 Axes>"
      ]
     },
     "metadata": {
      "needs_background": "light"
     },
     "output_type": "display_data"
    }
   ],
   "source": [
    "# it is latitude then longitude.\n",
    "box = np.array([[10.713719, 36.689328], [10.713719, 36.96973],[10.964773, 36.96973], [10.964773, 36.689328], [10.713719, 36.689328]])\n",
    "plt.figure(figsize=(15, 10))\n",
    "plt.plot(box[:,1], box[:,0], '.r-')\n",
    "plt.scatter(df_prim_loc[:, 1], df_prim_loc[:, 0], s=df_prim_enroll/100, label=\"Prim\") # s gives size\n",
    "plt.scatter(best_solution[:, 1], best_solution[:, 0], s = 25, marker=\"o\", label=\"New Secondary\") # stars for supermarkets\n",
    "plt.gca().set_aspect('equal')\n",
    "plt.legend()\n",
    "plt.show()"
   ]
  },
  {
   "cell_type": "code",
   "execution_count": 572,
   "metadata": {},
   "outputs": [
    {
     "data": {
      "text/plain": [
       "array([1.31660356, 0.76441914])"
      ]
     },
     "execution_count": 572,
     "metadata": {},
     "output_type": "execute_result"
    }
   ],
   "source": [
    "distance"
   ]
  },
  {
   "cell_type": "code",
   "execution_count": null,
   "metadata": {},
   "outputs": [],
   "source": []
  },
  {
   "cell_type": "code",
   "execution_count": null,
   "metadata": {},
   "outputs": [],
   "source": [
    "box = [[10.713719, 36.689328], [10.964773]]"
   ]
  },
  {
   "cell_type": "code",
   "execution_count": null,
   "metadata": {},
   "outputs": [],
   "source": [
    "# add some labels and create an even smaller dataset. "
   ]
  },
  {
   "cell_type": "code",
   "execution_count": null,
   "metadata": {},
   "outputs": [],
   "source": [
    "# ff = np.array_split(es.result[0],5)\n",
    "\n",
    "# enrol = 0\n",
    "# for i in ff:\n",
    "#     dist = np.min(haversine_vector(df_prim_loc, i, Unit.KILOMETERS, comb=True))\n",
    "#     enrol_index = np.argmin(haversine_vector(df_prim_loc,i, Unit.KILOMETERS, comb=True))\n",
    "#     enroly = shape(dist, (df_prim_enroll[enrol_index]*.79901))\n",
    "#     enrol += enroly\n",
    "#     print('Distance: ', round(dist,2), '\\n',\n",
    "#           'Index: ', enrol_index,'\\n', \n",
    "#           'Shaped Enrollment: ',int(enroly),'\\n',\n",
    "#           'Accumulative Enrollment: ', int(enrol),'\\n',\n",
    "#           'Coordinates: ', i)"
   ]
  },
  {
   "cell_type": "code",
   "execution_count": null,
   "metadata": {},
   "outputs": [],
   "source": [
    "enrol"
   ]
  },
  {
   "cell_type": "code",
   "execution_count": null,
   "metadata": {},
   "outputs": [],
   "source": [
    "distance"
   ]
  },
  {
   "cell_type": "code",
   "execution_count": 334,
   "metadata": {},
   "outputs": [
    {
     "ename": "NameError",
     "evalue": "name 'prim_loc' is not defined",
     "output_type": "error",
     "traceback": [
      "\u001b[1;31m---------------------------------------------------------------------------\u001b[0m",
      "\u001b[1;31mNameError\u001b[0m                                 Traceback (most recent call last)",
      "\u001b[1;32m<ipython-input-334-d85ee32d67a8>\u001b[0m in \u001b[0;36m<module>\u001b[1;34m\u001b[0m\n\u001b[0;32m      2\u001b[0m \u001b[1;31m# x = np.append(sec_loc, x) # add proposed locations to current list of secondary schools\u001b[0m\u001b[1;33m\u001b[0m\u001b[1;33m\u001b[0m\u001b[1;33m\u001b[0m\u001b[0m\n\u001b[0;32m      3\u001b[0m \u001b[1;31m#     x = np.array(np.array_split(x, (len(df_sec_loc)+proposed_schools)))\u001b[0m\u001b[1;33m\u001b[0m\u001b[1;33m\u001b[0m\u001b[1;33m\u001b[0m\u001b[0m\n\u001b[1;32m----> 4\u001b[1;33m \u001b[0mdistance\u001b[0m \u001b[1;33m=\u001b[0m \u001b[0mnp\u001b[0m\u001b[1;33m.\u001b[0m\u001b[0mmin\u001b[0m\u001b[1;33m(\u001b[0m\u001b[0mhaversine_vector\u001b[0m\u001b[1;33m(\u001b[0m\u001b[0mprim_loc\u001b[0m\u001b[1;33m,\u001b[0m \u001b[0mx\u001b[0m\u001b[1;33m,\u001b[0m \u001b[0mUnit\u001b[0m\u001b[1;33m.\u001b[0m\u001b[0mKILOMETERS\u001b[0m\u001b[1;33m,\u001b[0m \u001b[0mcomb\u001b[0m\u001b[1;33m=\u001b[0m\u001b[1;32mTrue\u001b[0m\u001b[1;33m)\u001b[0m\u001b[1;33m,\u001b[0m \u001b[0maxis\u001b[0m\u001b[1;33m=\u001b[0m\u001b[1;36m0\u001b[0m\u001b[1;33m)\u001b[0m\u001b[1;33m\u001b[0m\u001b[1;33m\u001b[0m\u001b[0m\n\u001b[0m\u001b[0;32m      5\u001b[0m \u001b[1;31m#         enrollment = df_prim_enroll[np.argmin(haversine_vector(df_prim_loc, x, Unit.KILOMETERS, comb=True), axis=0)]\u001b[0m\u001b[1;33m\u001b[0m\u001b[1;33m\u001b[0m\u001b[1;33m\u001b[0m\u001b[0m\n\u001b[0;32m      6\u001b[0m \u001b[0menrollment\u001b[0m \u001b[1;33m=\u001b[0m \u001b[0mprim_enroll\u001b[0m\u001b[1;33m*\u001b[0m\u001b[1;36m.79901\u001b[0m \u001b[1;31m# by enrollment proportion\u001b[0m\u001b[1;33m\u001b[0m\u001b[1;33m\u001b[0m\u001b[0m\n",
      "\u001b[1;31mNameError\u001b[0m: name 'prim_loc' is not defined"
     ]
    }
   ],
   "source": [
    "# Check if all new locations are within the region, if not penalise with 0 enrollment\n",
    "x = np.append(sec_loc, x) # add proposed locations to current list of secondary schools\n",
    "#     x = np.array(np.array_split(x, (len(df_sec_loc)+proposed_schools)))\n",
    "distance = np.min(haversine_vector(prim_loc, x, Unit.KILOMETERS, comb=True), axis=0)\n",
    "#         enrollment = df_prim_enroll[np.argmin(haversine_vector(df_prim_loc, x, Unit.KILOMETERS, comb=True), axis=0)]\n",
    "enrollment = prim_enroll*.79901 # by enrollment proportion\n",
    "expected_enrollment = np.sum(shape(distance,enrollment))\n",
    "\n",
    "return expected_enrollment"
   ]
  },
  {
   "cell_type": "code",
   "execution_count": 366,
   "metadata": {},
   "outputs": [
    {
     "data": {
      "text/plain": [
       "array([21.60823106,  1.08205839])"
      ]
     },
     "execution_count": 366,
     "metadata": {},
     "output_type": "execute_result"
    }
   ],
   "source": [
    "distance = np.min(haversine_vector(ff,df_prim_loc, Unit.KILOMETERS, comb=True), axis=0)\n",
    "distance"
   ]
  },
  {
   "cell_type": "code",
   "execution_count": 368,
   "metadata": {},
   "outputs": [
    {
     "data": {
      "text/plain": [
       "array([[0],\n",
       "       [0]])"
      ]
     },
     "execution_count": 368,
     "metadata": {},
     "output_type": "execute_result"
    }
   ],
   "source": [
    "secondary_enrollment[school_distance]"
   ]
  },
  {
   "cell_type": "code",
   "execution_count": 648,
   "metadata": {},
   "outputs": [
    {
     "data": {
      "text/plain": [
       "330386459.63344103"
      ]
     },
     "execution_count": 648,
     "metadata": {},
     "output_type": "execute_result"
    }
   ],
   "source": [
    "ff = np.array_split(es.result[0],2)\n",
    "# x = np.array(np.array_split(np.append(df_sec_loc, ff),len(df_sec_loc)+5))\n",
    "# secondary_enrollment = np.array([[0],[0]])\n",
    "distance = haversine_vector(df_prim_loc,ff, Unit.KILOMETERS)\n",
    "enrollment2 = df_prim_enroll*.79901 # by enrollment proportion\n",
    "enrollment3 = shape(distance,enrollment2)\n",
    "np.prod(enrollment3*distance)"
   ]
  },
  {
   "cell_type": "code",
   "execution_count": 612,
   "metadata": {},
   "outputs": [
    {
     "data": {
      "text/plain": [
       "array([27.1062364,  1.7591338])"
      ]
     },
     "execution_count": 612,
     "metadata": {},
     "output_type": "execute_result"
    }
   ],
   "source": [
    "distance"
   ]
  },
  {
   "cell_type": "code",
   "execution_count": 422,
   "metadata": {},
   "outputs": [],
   "source": [
    "a = [0,0]"
   ]
  },
  {
   "cell_type": "code",
   "execution_count": 423,
   "metadata": {},
   "outputs": [
    {
     "data": {
      "text/plain": [
       "True"
      ]
     },
     "execution_count": 423,
     "metadata": {},
     "output_type": "execute_result"
    }
   ],
   "source": []
  },
  {
   "cell_type": "code",
   "execution_count": 384,
   "metadata": {},
   "outputs": [
    {
     "data": {
      "text/plain": [
       "array([[    0],\n",
       "       [23970]])"
      ]
     },
     "execution_count": 384,
     "metadata": {},
     "output_type": "execute_result"
    }
   ],
   "source": [
    "\n",
    "secondary_enrollment"
   ]
  },
  {
   "cell_type": "code",
   "execution_count": 374,
   "metadata": {},
   "outputs": [
    {
     "data": {
      "text/plain": [
       "array([    0, 15980,  7990,     0])"
      ]
     },
     "execution_count": 374,
     "metadata": {},
     "output_type": "execute_result"
    }
   ],
   "source": [
    "np.insert(secondary_enrollment, school_distance, enrollment3)"
   ]
  },
  {
   "cell_type": "code",
   "execution_count": 354,
   "metadata": {},
   "outputs": [
    {
     "data": {
      "text/plain": [
       "array([], dtype=[])"
      ]
     },
     "execution_count": 354,
     "metadata": {},
     "output_type": "execute_result"
    }
   ],
   "source": [
    "secondary_enrollment"
   ]
  },
  {
   "cell_type": "code",
   "execution_count": 349,
   "metadata": {},
   "outputs": [
    {
     "data": {
      "text/plain": [
       "array([1, 1], dtype=int64)"
      ]
     },
     "execution_count": 349,
     "metadata": {},
     "output_type": "execute_result"
    }
   ],
   "source": [
    "school_distance"
   ]
  },
  {
   "cell_type": "code",
   "execution_count": 337,
   "metadata": {},
   "outputs": [
    {
     "data": {
      "text/plain": [
       "array([1.08205839, 1.45198759])"
      ]
     },
     "execution_count": 337,
     "metadata": {},
     "output_type": "execute_result"
    }
   ],
   "source": [
    "distance"
   ]
  },
  {
   "cell_type": "code",
   "execution_count": 341,
   "metadata": {},
   "outputs": [
    {
     "data": {
      "text/plain": [
       "array([10.86595482, 36.7470118 , 10.79031634, 36.94355324])"
      ]
     },
     "execution_count": 341,
     "metadata": {},
     "output_type": "execute_result"
    }
   ],
   "source": [
    "es.result[0]"
   ]
  },
  {
   "cell_type": "code",
   "execution_count": 342,
   "metadata": {},
   "outputs": [
    {
     "data": {
      "text/plain": [
       "array([[10.7806, 36.9441],\n",
       "       [10.794 , 36.9308]])"
      ]
     },
     "execution_count": 342,
     "metadata": {},
     "output_type": "execute_result"
    }
   ],
   "source": [
    "df_prim_loc"
   ]
  },
  {
   "cell_type": "code",
   "execution_count": 343,
   "metadata": {},
   "outputs": [
    {
     "data": {
      "text/plain": [
       "array([1.08205839, 1.45198759])"
      ]
     },
     "execution_count": 343,
     "metadata": {},
     "output_type": "execute_result"
    }
   ],
   "source": [
    "distance"
   ]
  },
  {
   "cell_type": "code",
   "execution_count": null,
   "metadata": {},
   "outputs": [],
   "source": []
  },
  {
   "cell_type": "code",
   "execution_count": null,
   "metadata": {},
   "outputs": [],
   "source": []
  },
  {
   "cell_type": "code",
   "execution_count": null,
   "metadata": {},
   "outputs": [],
   "source": []
  },
  {
   "cell_type": "code",
   "execution_count": null,
   "metadata": {},
   "outputs": [],
   "source": []
  },
  {
   "cell_type": "code",
   "execution_count": null,
   "metadata": {},
   "outputs": [],
   "source": [
    "df_prim_enroll"
   ]
  },
  {
   "cell_type": "code",
   "execution_count": null,
   "metadata": {},
   "outputs": [],
   "source": [
    "enrollment3"
   ]
  },
  {
   "cell_type": "code",
   "execution_count": null,
   "metadata": {},
   "outputs": [],
   "source": [
    "np.sum(df_sec_enroll)"
   ]
  },
  {
   "cell_type": "code",
   "execution_count": null,
   "metadata": {},
   "outputs": [],
   "source": [
    "x"
   ]
  },
  {
   "cell_type": "code",
   "execution_count": null,
   "metadata": {},
   "outputs": [],
   "source": [
    "df_sec_loc"
   ]
  },
  {
   "cell_type": "code",
   "execution_count": null,
   "metadata": {},
   "outputs": [],
   "source": [
    "np.sum(enrollment3)"
   ]
  },
  {
   "cell_type": "code",
   "execution_count": null,
   "metadata": {},
   "outputs": [],
   "source": [
    "es.result"
   ]
  },
  {
   "cell_type": "code",
   "execution_count": null,
   "metadata": {},
   "outputs": [],
   "source": []
  },
  {
   "cell_type": "code",
   "execution_count": null,
   "metadata": {},
   "outputs": [],
   "source": [
    "np.sum(enrollment3)- np.sum(df_sec_enroll)"
   ]
  },
  {
   "cell_type": "code",
   "execution_count": null,
   "metadata": {},
   "outputs": [],
   "source": [
    "# add proposed locations to current list of secondary schools\n",
    "enrol = 0\n",
    "# enrollment1 = df_prim_enroll[np.argmin(haversine_vector(df_prim_loc, x, Unit.KILOMETERS, comb=True), axis=0)]\n",
    "enrollment2 = df_prim_enroll*.79901 # by enrollment proportion\n",
    "enrollment3 = shape(distance,enrollment2)\n",
    "enrol = np.sum(enrollment3)\n",
    "print(int(enrol))"
   ]
  },
  {
   "cell_type": "code",
   "execution_count": null,
   "metadata": {},
   "outputs": [],
   "source": [
    "enrollment2"
   ]
  },
  {
   "cell_type": "code",
   "execution_count": null,
   "metadata": {},
   "outputs": [],
   "source": [
    "enrollment2"
   ]
  },
  {
   "cell_type": "code",
   "execution_count": null,
   "metadata": {},
   "outputs": [],
   "source": [
    "enrollment3"
   ]
  },
  {
   "cell_type": "code",
   "execution_count": null,
   "metadata": {},
   "outputs": [],
   "source": [
    "np.sum(df_sec_enroll) - enrol"
   ]
  },
  {
   "cell_type": "code",
   "execution_count": null,
   "metadata": {},
   "outputs": [],
   "source": [
    "# even a smaller function. "
   ]
  },
  {
   "cell_type": "code",
   "execution_count": null,
   "metadata": {},
   "outputs": [],
   "source": [
    "# this is the secondary location that is closest.\n",
    "feeder = np.argmin(haversine_vector(df_prim_loc, x, Unit.KILOMETERS, comb=True), axis=0)\n",
    "feeder"
   ]
  },
  {
   "cell_type": "code",
   "execution_count": null,
   "metadata": {},
   "outputs": [],
   "source": [
    "enrollment1"
   ]
  },
  {
   "cell_type": "code",
   "execution_count": null,
   "metadata": {},
   "outputs": [],
   "source": [
    "# this is the distance\n",
    "dist = np.min(haversine_vector(df_prim_loc, x, Unit.KILOMETERS, comb=True), axis=0)\n",
    "dist"
   ]
  },
  {
   "cell_type": "code",
   "execution_count": null,
   "metadata": {},
   "outputs": [],
   "source": [
    "shape(distance, df_prim_enroll)"
   ]
  },
  {
   "cell_type": "code",
   "execution_count": null,
   "metadata": {},
   "outputs": [],
   "source": [
    "enrolf = 0\n",
    "for i in range(0, len(feeder)):\n",
    "    print(feeder[i], dist[i], shape(dist[i], df_prim_enroll[i]))\n",
    "    enrolf += shape(dist[i], df_prim_enroll[i])"
   ]
  },
  {
   "cell_type": "code",
   "execution_count": null,
   "metadata": {},
   "outputs": [],
   "source": [
    "enrolf"
   ]
  },
  {
   "cell_type": "code",
   "execution_count": null,
   "metadata": {},
   "outputs": [],
   "source": []
  },
  {
   "cell_type": "code",
   "execution_count": null,
   "metadata": {},
   "outputs": [],
   "source": [
    "df_prim_enroll"
   ]
  },
  {
   "cell_type": "code",
   "execution_count": null,
   "metadata": {},
   "outputs": [],
   "source": []
  },
  {
   "cell_type": "code",
   "execution_count": null,
   "metadata": {},
   "outputs": [],
   "source": []
  },
  {
   "cell_type": "code",
   "execution_count": null,
   "metadata": {},
   "outputs": [],
   "source": []
  },
  {
   "cell_type": "code",
   "execution_count": null,
   "metadata": {},
   "outputs": [],
   "source": [
    "df_prim_enroll"
   ]
  },
  {
   "cell_type": "code",
   "execution_count": null,
   "metadata": {},
   "outputs": [],
   "source": [
    "distance"
   ]
  },
  {
   "cell_type": "code",
   "execution_count": null,
   "metadata": {},
   "outputs": [],
   "source": [
    "distance.size"
   ]
  },
  {
   "cell_type": "code",
   "execution_count": null,
   "metadata": {},
   "outputs": [],
   "source": [
    "enrollment1"
   ]
  },
  {
   "cell_type": "code",
   "execution_count": null,
   "metadata": {},
   "outputs": [],
   "source": [
    "round(4.450e+0)"
   ]
  },
  {
   "cell_type": "code",
   "execution_count": null,
   "metadata": {},
   "outputs": [],
   "source": [
    "enrollment"
   ]
  },
  {
   "cell_type": "code",
   "execution_count": null,
   "metadata": {},
   "outputs": [],
   "source": [
    "df_prim_enroll"
   ]
  },
  {
   "cell_type": "code",
   "execution_count": null,
   "metadata": {},
   "outputs": [],
   "source": [
    "print('Distance: ', distance, '\\n',\n",
    "      'Shaped Enrollment: ',np.rint(enrollment),'\\n',\n",
    "      'Accumulative Enrollment: ', enrol,'\\n',\n",
    "      'Coordinates: ', x)"
   ]
  },
  {
   "cell_type": "code",
   "execution_count": null,
   "metadata": {},
   "outputs": [],
   "source": [
    "sum(enrollment)"
   ]
  },
  {
   "cell_type": "code",
   "execution_count": null,
   "metadata": {},
   "outputs": [],
   "source": [
    "# Total new secondary enrolment with new 5 schools\n",
    "abs(sum(df_sec_enroll)+int(enrol))"
   ]
  },
  {
   "cell_type": "code",
   "execution_count": null,
   "metadata": {},
   "outputs": [],
   "source": [
    "sum(df_sec_enroll)"
   ]
  },
  {
   "cell_type": "code",
   "execution_count": null,
   "metadata": {},
   "outputs": [],
   "source": [
    "enrol"
   ]
  },
  {
   "cell_type": "code",
   "execution_count": null,
   "metadata": {},
   "outputs": [],
   "source": [
    "np.sum(df_sec_enroll)"
   ]
  },
  {
   "cell_type": "code",
   "execution_count": null,
   "metadata": {},
   "outputs": [],
   "source": []
  },
  {
   "cell_type": "code",
   "execution_count": null,
   "metadata": {},
   "outputs": [],
   "source": []
  }
 ],
 "metadata": {
  "kernelspec": {
   "display_name": "Python 3",
   "language": "python",
   "name": "python3"
  },
  "language_info": {
   "codemirror_mode": {
    "name": "ipython",
    "version": 3
   },
   "file_extension": ".py",
   "mimetype": "text/x-python",
   "name": "python",
   "nbconvert_exporter": "python",
   "pygments_lexer": "ipython3",
   "version": "3.8.5"
  }
 },
 "nbformat": 4,
 "nbformat_minor": 4
}
